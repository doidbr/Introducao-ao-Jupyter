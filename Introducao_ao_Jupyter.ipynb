{
 "cells": [
  {
   "cell_type": "markdown",
   "metadata": {},
   "source": [
    "#  Python e o Jupyter/IPython Notebook\n",
    "\n",
    "\n",
    "## Contéudo\n",
    "\n",
    "- [Porque Python](#Porque-Python)\n",
    "  - [Documentação](#Documentação)\n",
    "  - [O projeto Jupyter/IPython](#O-projeto-Jupyter/IPython)\n",
    "- [O que você precisa instalar](#O-que-você-precisa-instalar)\n",
    "- [Instalando o Jupyter Notebook](#Instalando-o-Jupyter-Notebook)\n",
    "- [Pré-requisito: Python](#Prerequisito)\n",
    "- [Instalando o Jupyter Notebook usando o Anaconda e conda](#Anaconda)\n",
    "- [Usuários Linux: Instalar o Jupyter com o pip](#pip)\n",
    "- [Verificando Minha Instalação](#Verificando-Minha-Instalação)\n",
    "- [IPython](#IPython)\n",
    "  * [A saída é assíncrona](#A-saída-é-assíncrona)\n",
    "  * [Introspecção](#Introspecção)\n",
    "  * [Completar com Tab](#Completar-com-Tab)\n",
    "  * [Comandos do sistema](#Comandos-do-sistema)\n",
    "  * [Console  Qt](#Console -Qt)\n",
    "- [Jupyter Notebook](#Jupyter-Notebook)\n",
    "  * [Código Remoto](#Código-Remoto)\n",
    "  * [Suporte ao Mathjax](#Suporte-ao-Mathjax)\n",
    "  * [Suporte SymPy](#Suporte-SymPy)\n",
    "  * [Funções mágicas](#Funções-mágicas)\n",
    "  * [LaTeX](#LaTeX)\n",
    "  * [A biblioteca matplotlib2tikz](#A-biblioteca-matplotlib2tikz)\n",
    "  * [Javascript](#Javascript)\n",
    "- [Instalando o kernel do C](#Instalando-o-kernel-do-C)\n",
    "- [Instalando os kernels do Gnuplot e do Scilab](#Instalando-os-kernels-do-Gnuplot-e-do-Scilab)\n",
    "- [Exportando e Convertendo Notebooks](#Exportando-e-Convertendo-Notebooks)\n",
    "- [Pesquisa Reproduzível](#Pesquisa Reproduzível)\n",
    "- [IPython paralelo](#IPython paralelo)\n",
    "- [Células Markdown](#Células-Markdown)\n",
    "- [Links e Referências](#Links-e-Referências)\n",
    "\n",
    "\n",
    "## Porque Python\n",
    "\n",
    "Python é a linguagem de programação de escolha para muitos cientistas em grande medida porque oferece um grande  poder para analisar e modelar dados científicos com relativamente pouca sobrecarga em termos de aprendizagem, instalação ou tempo de desenvolvimento. É uma linguagem que você pode aprender o básico em um fim de semana, e usa-lá pelo resto de sua vida.\n",
    "\n",
    "### Documentação \n",
    "\n",
    "O Python é uma linguagem muito bem documentada e há muitas opções em português: \n",
    "\n",
    "- [Python](https://www.python.org/) página oficial. Aqui ele disponibiliza um shell iterativo no qual voê pode rodar seu códgio sem precisar instalar ele em sua máquina.\n",
    "- [Python Brasil](http://wiki.python.org.br/PythonBrasil)\n",
    "- [Aulas de Introdução à Computação em Python](https://panda.ime.usp.br/aulasPython/static/aulasPython/index.html)\n",
    "- [O livro \"Python para desenvolvedores\"](https://ark4n.wordpress.com/)\n",
    "- [Como Pensar Como um Cientista da Computação](https://panda.ime.usp.br/pensepy/static/pensepy/index.html)\n",
    "- O livro \"Think Python How to Think Like a Computer Scientist\", pode ser baixado aqui [versão em PDF](http://www.greenteapress.com/thinkpython/thinkpython.pdf )\n",
    "- O livro [A byte of Python](https://www.gitbook.com/book/swaroopch/byte-of-python/details) foi traduzido pelo [Rodrigo Amaral](https://ramaral.wordpress.com/2012/08/05/e-book-do-livro-a-byte-of-python-em-portugues/).\n",
    "- O [Python Tutorial](http://docs.python.org/3/tutorial/) é um ótimo lugar para começar a ter uma idéia da linguagem.\n",
    "- [Aprendendo a Programar](http://www.alan-g.me.uk/tutor/port/). Note entretanto que ela usa a versão 2.7 do Python\n",
    "- [The Runestone Interactive tools](http://runestoneinteractive.org/library.html)\n",
    "\n",
    "\n",
    "\n",
    "## O projeto IPython/Jupyter\n",
    "\n",
    "De acordo com o [site do projeto](http://ipython.org/), o IPython/Jupyter é uma aplicação de código aberto (BSD license) que permite criar e compartilhar documentos que contenham um código iterativo, equações e formulas matemáticas renderizadas pelo LaTeX, visualizações de imagens (via scikit) e gráficos (matplotlib) e textos explicativos. Atualmente o Jupyter notebook é um dos principais ambientes para a análise de dados, onde você pode usar não apenas Python, mas várias outras linguagens como você pode ver aqui.\n",
    "\n",
    "O [IPython](http://ipython.org) fornece uma arquitetura rica para uma computação iterativa com:\n",
    "- Um poderoso shell iterativo.\n",
    "- Um kernel para o [Jupyter](https://jupyter.org/).\n",
    "- Um suporte para visualização de dados iterativa e o use de [GUI toolkits](http://ipython.org/ipython-doc/stable/interactive/reference.html#gui-event-loop-support).\n",
    "- etc.\n",
    "\n",
    "O [IPython](http://ipython.org) é um projeto crescente que foi adicionando diversas linguagens o que se tornou o seu conjunto de linguagens componentes. O IPython 3.x foi o último lançamento monolítico do IPython, contendo o servidor notebook, qtconsole, etc. A partir do IPython 4.0, as partes contendo as diversas linguagens do projeto: o formato do notebook, o protocolo da mensagem, o qtconsole, a aplicação web do notebook, etc. mudaram-se para novos projetos sob o nome de [Jupyter](https://jupyter.org/). O IPython ficou focado somente no Python interativo, parte do qual está fornecendo um kernel Python para o Jupyter.\n",
    "\n",
    "Atualmente no [GitHub](https://github.com/) em uma pesquisa rápida pode-se encontrar centenas de notebooks, pois há uma comunidade de usuários muito grande, os quais estão dipostos a compartilhar seu trabalho. Um grande número de pessoas têm disponibilizado muitos Jupyter/IPython Notebooks os quais serviram de apoio na montagem deste. Usei um grande número de material para a construção deste, particularmente destaco os seguintes:\n",
    "\n",
    "\n",
    "* Hans Fangohr [Python for Computational Science and Engineering](http://www.southampton.ac.uk/~fangohr/index.html) Uma execelente página e contém diversos elementos de programção em python e algumas dicas de bibliotecas para cáculo e visualização.\n",
    "* Rob Johansson's [excellent notebooks](http://jrjohansson.github.io/), incluindo [Scientific Computing with Python](https://github.com/jrjohansson/scientific-python-lectures) e [Computational Quantum Physics with QuTiP](https://github.com/jrjohansson/qutip-lectures) lectures;\n",
    "* [XKCD style graphs in matplotlib](http://nbviewer.ipython.org/url/jakevdp.github.com/downloads/notebooks/XKCD_plots.ipynb);\n",
    "* [A collection of Notebooks for using IPython effectively](https://github.com/ipython/ipython/tree/master/examples/notebooks#a-collection-of-notebooks-for-using-ipython-effectively)\n",
    "* [A gallery of interesting IPython Notebooks](https://github.com/ipython/ipython/wiki/A-gallery-of-interesting-IPython-Notebooks)\n",
    "\n",
    "\n",
    "## O que você precisa instalar\n",
    "\n",
    "Existem atualmente duas versões do Python que estão convivendo entre-si: a sintaxe mais antiga Python 2 e a sintaxe mais recente Python 3. Essa esquizofrenia é em grande parte intencional: quando ficou claro que algumas mudanças não compatíveis com a linguagem eram necessárias, a Python dev-team decidiu passar por uma transição de cinco anos (ou assim), durante o qual os novos recursos de linguagem seria introduzida e a versão 2 da linguagem ainda seria ativamente mantida, para fazer essa transição tão fácil quanto possível. \n",
    "\n",
    "Com isso em mente, essas notas assumem que você tem uma distribuição Python que inclui:\n",
    "\n",
    "* [Python](http://www.python.org) versão $\\ge$ 3.5;\n",
    "* [Numpy](http://www.numpy.org), o núcleo de extensões numéricas para álgebra linear e arrays multidimensionais;\n",
    "* [Scipy](http://www.scipy.org), bibliotecas adicionais para programação científica;\n",
    "* [Matplotlib](http://matplotlib.sf.net), excelente traçado e bibliotecas de gráficos;\n",
    "* [Pandas](http://pandas.pydata.org/), é uma biblioteca de código aberto (BSD-licensed), fácil de usar na análise  e estruturas de dados, para a lingugem python.\n",
    "  - [StatsModels](http://www.statsmodels.org/stable/index.html) é um módulo Python que fornece classes e funções para estimativas de muitos modelos estatísticos diferentes, assim como testes estatíscticos e exploração estatística de dados.\n",
    "  - [scikit-learn](http://scikit-learn.org/stable/) é uma ferramente simples e eficiente para mineração e análise de dados em Python. \n",
    "* [Jupyter/IPython](http://ipython.org), com as bibliotecas adicionais necessárias para a interface do notebook. O projeto do IPythone evolui e agor é chamado de [Jupyter](http://jupyter.org)"
   ]
  },
  {
   "cell_type": "markdown",
   "metadata": {},
   "source": [
    "## Instalação do Jupyter Notebook/JupyterLab\n",
    "\n",
    "Para os usuários menos experientes, a página de documentação do [Jupyter Notebook](http://jupyter.org/) recomenda que se faça uso da distribuição [Anaconda](https://www.continuum.io/) para instalar o Python e o Jupyter, por ser fácil de instalar em qualquer que seja seu sistema operacional. Uma outra boa opção que também é fácil de instalar e que  suporta Mac, Windows e Linux, e que tem todos esses pacotes (e muito mais) é a [Entought Python Distribution](https://www.enthought.com/products/epd), também conhecido como EPD, que parece estar mudando seu nome para Enthought Canopy. Enthought é uma empresa comercial que suporta um monte de muito bom trabalho em desenvolvimento e aplicação científica Python. Você pode adquirir uma licença para usar EPD, ou há também uma [versão gratuita](https://www.enthought.com/products/epd/free/) que você pode baixar e instalar. \n",
    "\n",
    "A seguir descrevemos como instalar o jupyter."
   ]
  },
  {
   "cell_type": "markdown",
   "metadata": {},
   "source": [
    "### Via o Anaconda e conda <a name=\"Anaconda\"></a>\n",
    "\n",
    "Para os usuários menos experientes, a página de documentação do [Jupyter Notebook](http://jupyter.org/) recomenda que se faça uso da distribuição [Anaconda](https://www.continuum.io/) para instalar o Python e o Jupyter, por ser fácil de instalar em qualquer que seja seu sistema operacional. Ela instala todas as bibliotecas essenciais.\n",
    "\n",
    "Os usuários de outros sistemas operacionais e também do linux podem optar por uma distribuição do python e suas bibliotecas chamada  [Anaconda](https://www.continuum.io/). A página oficial do Jupyter Notebook recomenda, que se instale o [Anaconda](https://www.continuum.io/downloads). Isso deve-se ao fato de que o [Anaconda](https://www.continuum.io/) convenientemente instala Python, o [Jupyter Notebook](http://jupyter.org/), e outros pacotes comumente usados para computação científica e nas ciências de análise de dados.\n",
    "\n",
    "\n",
    "Use as seguintes etapas de instalação:\n",
    "\n",
    "- Faça o download do Anaconda. Recomenda-se que você baixe a última versão do Python 3 da Anaconda (atualmente Python 3.7).\n",
    "- Instale a versão do Anaconda que você baixou, seguindo as instruções na página de download.\n",
    "- Ao término da etapa anterior, você terá instalado o Jupyter Notebook. Para executar o notebook, digite na linha de comando:\n",
    "\n",
    "```bash\n",
    "> jupyter-notebook\n",
    "```\n",
    "\n",
    "Para abrir o navegador do anaconda digite na linha de comando\n",
    "\n",
    "```bash\n",
    "> anaconda-navigator\n",
    "```\n",
    "\n",
    "O Repositório do anaconda não é muito completo portanto é necessário adicionar o conda-forge, para isso faça, na linha de comando faça:\n",
    "\n",
    "```bash\n",
    "> conda install -c algum-canal nome-do-pacote\n",
    "```\n",
    "\n",
    "Aqui temos alguns sites que detalham como instalar o anaconda\n",
    "\n",
    "- [Como instalar o anaconda](https://programandociencia.com/2015/08/07/instalando-o-anaconda/)\n",
    "- [Como instalar Python e Jupyter Notebook usando Anaconda](https://paulovasconcellos.com.br/como-baixar-anaconda-31fd49c19bd8)\n",
    "- [How to install anaconda on ubuntu 16.04](https://www.digitalocean.com/community/tutorials/how-to-install-the-anaconda-python-distribution-on-ubuntu-16-04)\n",
    "\n",
    "O repositório `conda-forge` é um canal adicional a partir do qual os pacotes do python podem ser instalados via o `conda`. Neste sentido, não é mais especial que o canal padrão, ou qualquer uma das outras centenas (milhares?) De canais para os quais as pessoas postaram pacotes. Você pode adicionar seu próprio canal se você se inscrever em https://anaconda.org e carregar seus próprios pacotes conda.\n",
    "\n",
    "\n",
    "Há duas maneiras de alterar as opções de canais, o  repositório de pacotes python do `conda`. Uma delas é especificar um canal toda vez que você instalar um pacote:\n",
    "\n",
    "```bash\n",
    "conda install -c algum-canal nome-do-pacote\n",
    "```\n",
    "\n",
    "Claro, o pacote tem que existir nesse canal. Se você estiver usando o mesmo canal com frequência, convém adicioná-lo à sua configuração. Você pode escrever\n",
    "\n",
    "```bash\n",
    "conda config --add channels algum-canal\n",
    "```\n",
    "\n",
    "para adicionar o canal `algum-canal` ao topo da lista de configuração `channels`. Isso dá a `algum-canal` a mais alta prioridade (a prioridade determina ([em parte](http://conda.pydata.org/docs/channels.html)) qual canal é selecionado quando mais de um canal tem um pacote em particular). Para adicionar o canal ao final da lista e dar a menor prioridade, digite\n",
    "\n",
    "```bash\n",
    "conda config --append channels algum-canal\n",
    "```\n",
    "\n",
    "Se você gostaria de remover o canal que você adicionou, você pode fazê-lo escrevendo\n",
    "\n",
    "```bash\n",
    "conda config --remove channels algum-canal\n",
    "```\n",
    "\n",
    "Vejo\n",
    "\n",
    "```bash\n",
    "conda config -h\n",
    "```\n",
    "\n",
    "para mais opções.\n",
    "\n",
    "Com tudo isso dito, existem quatro razões principais para usar o canal `conda-forge` em vez do canal` defaults` mantido pelo Anaconda:\n",
    "\n",
    "1. Pacotes em `conda-forge` *podem ser* mais atualizados que os do canal `defaults`\n",
    "1. Existem pacotes no canal `conda-forge` que não estão disponíveis em `defaults`"
   ]
  },
  {
   "cell_type": "markdown",
   "metadata": {},
   "source": [
    "# Usuários experientes: Instalando o Jupyter Notebook \n",
    "\n",
    "A seguir será explicado como instalar o Jupyter Notebook e o kernel do IPython em uma máquina Linux baseada no [Debian](http://www.debian.org/), como [Debian](http://www.debian.org/), [Ubuntu](https://www.ubuntu.com/), [LinuxMint](https://linuxmint.com/), etc.\n",
    "\n",
    "\n",
    "## Pré-requisito: Python <a name=\"Prerequisito\"></a>\n",
    "\n",
    "O IPython/Jupyter executa códigos de muitas linguagens de programação, entretanto, o Python é um requisito necessário (Python 3.5 ou superior, ou Python 2.7) para instalar o Jupyter Notebook. Nas distribuições GNU/Linux baseadas no Debian, assim como o Ubuntu e familia, o Linux Mint, etc, a instalação dos seguintes pacotes é essencial para o desenvolvimento do curso:\n",
    "\n",
    "```bash\n",
    "sudo apt-get update\n",
    "sudo apt-get install -y python3 python3-all python3-pip python3-setuptools python3-markdown \n",
    "sudo apt-get install -y ipython3 ipython3-notebook ipython3-qtconsole python3-all-dev \n",
    "sudo apt-get install -y pandoc pandoc-data python3-pandocfilters python3-sphinx\n",
    "```\n",
    "\n",
    "Eu também gosto de instalar a documentação, exemplos e os pacotes para debugs:\n",
    "\n",
    "```bash\n",
    "sudo apt-get install -y python3-doc python3-examples python3-all-dbg\n",
    "```\n",
    "\n",
    "Aqui vai um rápida descrição das bibliotecas acima:\n",
    "- *python3-setuptools* é pacote que permite emapcotar/instalar um aplicativo/biblioiteca python\n",
    "- *python3-markdown* é a liguagem usada nos IPython/Jupyter notebooks\n",
    "- *python3-pandocfilters* é uma ligação python direta com o conversor de linguagem de marcação o *pandoc*\n",
    "- *python3-sphinx* é um gerador de documentação para os projetos python, usando textos restruturados com liguagens de marcação.\n",
    "\n",
    "\n",
    "**OBS.:** O IPython/Jupyter podem exportar os notebooks no formato pdf, gerando um artigo elegante, entretanto para tal ele usa o LaTeX, logo para quem deseja usar dessa funcionalidade recomenda-se que instale o texlive no Linux, no sistema operacional Windows recomenda-se o [MikTeX](https://miktex.org/) ou o próprio [TeX LIve](https://www.tug.org/texlive/)."
   ]
  },
  {
   "cell_type": "markdown",
   "metadata": {},
   "source": [
    "## PyPi\n",
    "\n",
    "As duas características mais relevantes do Python são a sua capacidade de integração com outras linguagens e seu sistema de pacote maduro que é bem incorporado pelo PyPI [O Índice do Pacote Python](https://pypi.python.org/pypi), um repositório comum Para a maioria dos pacotes do Python. O pacote *python3-pip* é que nos permite termos acesso a esse repositório. Pois nem todos os pacotes Python possuem uma versão no repositório da sua distribuição Linux. \n",
    "\n",
    "Digitando somente `pip` no terminal, \n",
    "```bash\n",
    "> pip3 \n",
    "Usage:   \n",
    "  pip <command> [options]\n",
    "\n",
    "Commands:\n",
    "  install                     Install packages.\n",
    "  download                    Download packages.\n",
    "  uninstall                   Uninstall packages.\n",
    "  freeze                      Output installed packages in requirements format.\n",
    "  list                        List installed packages.\n",
    "  show                        Show information about installed packages.\n",
    "  check                       Verify installed packages have compatible dependencies.\n",
    "  search                      Search PyPI for packages.\n",
    "  wheel                       Build wheels from your requirements.\n",
    "  hash                        Compute hashes of package archives.\n",
    "  completion                  A helper command used for command completion.\n",
    "  help                        Show help for commands.\n",
    "\n",
    "General Options:\n",
    "  -h, --help                  Show help.\n",
    "  --isolated                  Run pip in an isolated mode, ignoring\n",
    "                              environment variables and user configuration.\n",
    "  -v, --verbose               Give more output. Option is additive, and can be\n",
    "                              used up to 3 times.\n",
    "  -V, --version               Show version and exit.\n",
    "  -q, --quiet                 Give less output. Option is additive, and can be\n",
    "                              used up to 3 times (corresponding to WARNING,\n",
    "                              ERROR, and CRITICAL logging levels).\n",
    "  --log <path>                Path to a verbose appending log.\n",
    "  --proxy <proxy>             Specify a proxy in the form\n",
    "                              [user:passwd@]proxy.server:port.\n",
    "  --retries <retries>         Maximum number of retries each connection should\n",
    "                              attempt (default 5 times).\n",
    "  --timeout <sec>             Set the socket timeout (default 15 seconds).\n",
    "  --exists-action <action>    Default action when a path already exists:\n",
    "                              (s)witch, (i)gnore, (w)ipe, (b)ackup, (a)bort.\n",
    "  --trusted-host <hostname>   Mark this host as trusted, even though it does\n",
    "                              not have valid or any HTTPS.\n",
    "  --cert <path>               Path to alternate CA bundle.\n",
    "  --client-cert <path>        Path to SSL client certificate, a single file\n",
    "                              containing the private key and the certificate\n",
    "                              in PEM format.\n",
    "  --cache-dir <dir>           Store the cache data in <dir>.\n",
    "  --no-cache-dir              Disable the cache.\n",
    "  --disable-pip-version-check\n",
    "                              Don't periodically check PyPI to determine\n",
    "                              whether a new version of pip is available for\n",
    "                              download. Implied with --no-index.\n",
    "```\n",
    "\n",
    "Então por exemplo, para pesquisar o pacote `qutitp`\n",
    "\n",
    "```bash\n",
    "> pip3 search qutip\n",
    "qutip (4.2.0)  - QuTiP: The Quantum Toolbox in Python\n",
    "  INSTALLED: 4.2.0 (latest)\n",
    "```\n",
    "Esse como pode-se ver já está instalado, mas o pacote `statsmodel`\n",
    "\n",
    "```bash\n",
    "> pip3 search statsmodel\n",
    "scikits.statsmodels (0.3.1)  - Statistical computations and models for use with SciPy\n",
    "statsmodels (0.8.0)          - Statistical computations and models for Python\n",
    "```\n",
    "Mostra que há dois pocatoes disponíveis os quais não estão instalados. Para instalar use\n",
    "\n",
    "```bash\n",
    "> sudo -H pip3 install statsmodels\n",
    "```\n",
    "e ele irá instalar o pacote para todos os usuários do sistema, a opção `-H` do sudo. Instalar no sistema é algo perigoso que pode quebrar o seu sistema, pois  os sistemas modernos possuem muita dependência com o python. Muito cuidado com esse tipo de instalação.\n",
    "\n",
    "\n",
    "\n",
    "Agora o comando \n",
    "\n",
    "```bash\n",
    "> pip3 install statsmodels\n",
    "```\n",
    "irá instalar o pacote localmente na área do usuário. \n",
    "\n",
    "\n",
    "**OBS:** Na instalação use a opção `-U` ou `--upgrade` para força todos os pacotes a fazerem um *upgrade* para a versão mais nova. \n",
    "\n",
    "Para desinstalar o pacote `statsmodels` proceda da seguinte forma:\n",
    "```bash\n",
    "> sudo -H pip3 uninstall statsmodels\n",
    "ou\n",
    "> pip3 uninstall statsmodels\n",
    "```\n",
    "\n",
    "Tanto na instalação \n",
    "\n",
    "```bash\n",
    "> sudo -H pip3 install statsmodels\n",
    "ou \n",
    "> pip3 install statsmodels\n",
    "```\n",
    "\n",
    "Para obter informações do pacote use a opção `show` \n",
    "```bash\n",
    "> pip3 show qutip\n",
    "Name: qutip\n",
    "Version: 4.2.0\n",
    "Summary: QuTiP: The Quantum Toolbox in Python\n",
    "Home-page: http://qutip.org\n",
    "Author: Alexander Pitchford, Paul D. Nation, Robert J. Johansson, Chris Granade, Arne Grimsmo\n",
    "Author-email: alex.pitchford@gmail.com, nonhermitian@gmail.com, jrjohansson@gmail.com, cgranade@cgranade.com, arne.grimsmo@gmail.com\n",
    "License: BSD\n",
    "Location: /usr/local/lib/python3.5/dist-packages\n",
    "Requires: numpy, scipy, cython\n",
    "```"
   ]
  },
  {
   "cell_type": "markdown",
   "metadata": {},
   "source": [
    "### Usuários Linux: Instalar o Jupyter com o pip <a name=\"pip\"></a>\n",
    "\n",
    "#### Importante\n",
    "\n",
    "A instalação do Jupyter requer Python 3.3 ou superior, ou Python 2.7. IPython 1.x, que incluiu as partes que mais tarde se tornou Jupyter, foi a última versão para suportar Python 3.2 e 2.6.\n",
    "\n",
    "Como um usuário mais experiente do Python, você pode querer instalar o Jupyter usando o gerenciador de pacotes do Python, pip, em vez de Anaconda.\n",
    "\n",
    "Nos ambientes GNU/Linu, primeiro, certifique-se de que você tem o pip mais recente; Versões mais antigas podem ter problemas com algumas dependências:\n",
    "\n",
    "```bash\n",
    "> sudo -H pip3 install --upgrade pip3\n",
    "ou\n",
    "> pip3 install --upgrade pip3\n",
    "```\n",
    "\n",
    "ou\n",
    "\n",
    "```bash\n",
    "> sudo -H pip3 install -U pip3\n",
    "ou \n",
    "> pip3 install -U pip3\n",
    "```\n",
    "\n",
    "Em seguida, instale o Jupyter Notebook usando:\n",
    "\n",
    "```bash\n",
    "> sudo -H pip3 install jupyter\n",
    "ou\n",
    "> pip3 install jupyter\n",
    "```\n",
    "\n",
    "(Use pip se estiver usando o Python 2.)\n",
    "\n",
    "Para instalar algumas extensões do jupyter notebook consulte:\n",
    "\n",
    "- [Jupyter notebook extensions](https://github.com/ipython-contrib/jupyter_contrib_nbextensions)\n",
    "- [Notebook extensions](https://carreau.gitbooks.io/jupyter-book/content/notebook-extensions.html)\n",
    "- [Installing Jupyter Notebook Extensions](https://www.oreilly.com/learning/installing-jupyter-notebook-extensions)\n",
    "- [An easy way to install Jupyter Notebook extensions](http://blog.rtwilson.com/an-easy-way-to-install-jupyter-notebook-extensions/)\n",
    "- [Installing jupyter_contrib_nbextensions](http://jupyter-contrib-nbextensions.readthedocs.io/en/latest/install.html)\n",
    "- [Distributing Jupyter Extensions as Python Packages](http://jupyter-notebook.readthedocs.io/en/latest/examples/Notebook/Distributing%20Jupyter%20Extensions%20as%20Python%20Packages.html)"
   ]
  },
  {
   "cell_type": "markdown",
   "metadata": {},
   "source": [
    "## Bibliotecas essenciais <a name=\"CP1-Bibliotecas\"></a>\n",
    "\n",
    "Bibliotecas científicas que todos devem instalar:\n",
    "\n",
    "```bash\n",
    "sudo apt-get install -y python3-matplotlib python3-numpy python3-numpydoc \n",
    "sudo apt-get install -y python3-pandas python3-pandas-lib python3-mpmath \n",
    "sudo apt-get install -y python3-numexpr python3-scipy python3-sympy\n",
    "sudo apt-get install -y python3-pyfftw python3-opengl python3-seaborn\n",
    "sudo apt-get install -y python3-matplotlib-dbg python3-numpy-dbg python3-numexpr-dbg\n",
    "```\n",
    "seus pacotes para permitir debugs:\n",
    "```bash\n",
    "sudo apt-get install -y python3-matplotlib-dbg python3-numpy-dbg python3-numexpr-dbg\n",
    "```\n",
    "Alguns pacotes úteis para tratar imagens, textos html, etc:\n",
    "\n",
    "```bash\n",
    "sudo apt-get install -y python3-html2text python3-html5lib python3-urllib3 python3-bs4 \n",
    "sudo apt-get install -y python3-pdfrw python3-pil python3-pil.imagetk python3-pilkit\n",
    "sudo apt-get install -y python3-img2pdf python3-skimage-lib python3-sklearn-lib \n",
    "sudo apt-get install -y python3-pil-dbg python3-pil.imagetk-dbg python3-pyfftw-dbg \n",
    "```"
   ]
  },
  {
   "cell_type": "markdown",
   "metadata": {},
   "source": [
    "# Descrição das bibliotecas mais importantes\n",
    "\n",
    "## NumPy <a name=\"CP1-Lib-NumPy\"></a>\n",
    "\n",
    "NumPy, que é a criação de Travis Oliphant, é o verdadeiro laboratório analítico da linguagem Python. Ele fornece ao usuário arrays multidimensionais, juntamente com um grande conjunto de funções para lidar com uma multiplicidade de operações matemáticas sobre matrizes (\"arrays\"). Arrays são blocos de dados dispostos ao longo de múltiplas dimensões, que implementam vetores matemáticos e matrizes. As matrizes são úteis não apenas para armazenar dados, mas também para operações de matriz rápida (vectorization), que são indispensáveis quando você deseja resolver problemas ad hoc de ciência de dados.\n",
    "\n",
    "Site: http://www.numpy.org/\n",
    "Versão atual: 1.9.1\n",
    "\n",
    "> Nota: Como uma convenção amplamente adotada pela comunidade Python, ao importar NumPy, sugere-se que você o alias como np:\n",
    ">\n",
    "> import numpy as np\n",
    ">\n",
    "> Estaremos fazendo isso ao longo deste.\n",
    "\n",
    "## SciPy <a name=\"CP1-Lib-SciPy\"></a>\n",
    "\n",
    "Um projeto original de Travis Oliphant, Pearu Peterson e Eric Jones, SciPy completa as funcionalidades do NumPy, oferecendo uma maior variedade de algoritmos científicos para álgebra linear, matrizes esparsas, processamento de sinais e imagens, otimização, transformada rápida de Fourier e muito mais.\n",
    "\n",
    "Site: http://www.scipy.org/\n",
    "Versão atual: 0.14.0\n",
    "\n",
    "\n",
    "## Matplotlib <a name=\"CP1-Lib-Matplotlib\"></a>\n",
    "\n",
    "Originalmente desenvolvido por John Hunter, matplotlib é a biblioteca que contém todos os blocos de construção que são necessários para criar gráficos de qualidade a partir de arrays e visualizá-los interativamente.\n",
    "\n",
    "Você pode encontrar todas as estruturas de plotagem de tipo MATLAB dentro do módulo pylab.\n",
    "\n",
    "Website: http://matplotlib.org/\n",
    "Versão atual: 1.4.2\n",
    "\n",
    ">Você pode simplesmente importar o que você precisa para suas finalidades de visualização com o seguinte comando:\n",
    ">\n",
    ">import matplotlib.pyplot as plt\n",
    "\n",
    "\n",
    "## SymPy\n",
    "\n",
    "SymPy é uma biblioteca Python para matemática simbólica. Ele pretende tornar-se um sistema completo de álgebra computacional (CAS), mantendo o código o mais simples possível para ser compreensível e facilmente extensível. A SymPy foi escrita inteiramente em Python. Você não precisa instalar o SymPy para iniciar o seu uso. Você pode usar o shell on-line em http://live.sympy.org.\n",
    "\n",
    "Página: http://www.sympy.org/\n",
    "\n",
    "\n",
    "## Pandas <a name=\"CP1-Lib-Pandas\"></a>\n",
    "\n",
    "O pacote pandas lida com tudo o que NumPy e SciPy não pode fazer. Graças às suas estruturas de dados de objetos específicos, DataFrames e Series, pandas permite manipular tabelas complexas de dados de diferentes tipos (que é algo que as matrizes de NumPy não podem fazer) e séries temporais. Graças à criação de Wes McKinney, você será capaz de facilmente e sem problemas carregar dados de uma variedade de fontes. Você pode então cortar, fragmentar, manipular elementos ausentes, adicionar, renomear, agregar, reformular e, finalmente, visualizar esses dados em sua vontade.\n",
    "\n",
    "Website: http://pandas.pydata.org/\n",
    "Versão atual: 0.15.2\n",
    "\n",
    ">Convencionalmente, os pandas são importados como pd:\n",
    ">\n",
    ">import pandas as pd\n",
    "\n",
    "\n",
    "## Beautiful Soup <a name=\"CP1-Lib-BeautifulSoup\"></a>\n",
    "\n",
    "Beautiful Soup, uma criação de Leonard Richardson, é uma ótima ferramenta para tratar dados de arquivos HTML e XML obtidos da Internet. Funciona incrivelmente bem, mesmo no caso das sopas de tags (daí o nome), que são coleções de etiquetas malformadas e contraditórias e incorretas. Depois de escolher o analisador (basicamente, o analisador HTML incluído na biblioteca padrão do Python funciona bem), graças à Beautiful Soup, você pode navegar pelos objetos na página e extrair texto, tabelas e qualquer outra informação que possa ser útil.\n",
    "\n",
    "Site: http://www.crummy.com/software/BeautifulSoup/\n",
    "Versão atual: 4.3.2\n",
    "O pacote python: python3-bs4\n",
    "\n",
    ">Nota: Observe que o módulo importado é denominado bs4.\n",
    "> from bs4 import BeautifulSoup\n",
    "\n",
    "\n",
    "## Scikit-learn <a name=\"CP1-Lib-Scikit-learn\"></a>\n",
    "\n",
    "Iniciado como parte do SciKits (SciPy Toolkits), Scikit-learn é o núcleo das operações de ciência de dados em Python. Ele oferece tudo o que você pode precisar em termos de pré-processamento de dados, aprendizado supervisionado e não supervisionado, seleção de modelos, validação e métricas de erro.  O Scikit-learn começou em 2007 como um projeto Google Summer of Code de David Cournapeau. Desde 2013, foi retomado pelos investigadores do INRA (Instituto Francês de Investigação em Informática e Automação).\n",
    "\n",
    "Website: http://scikit-learn.org/stable/\n",
    "Versão atual: 0.15.2\n",
    "instalar via pip3 e o nome do pacote é: scikit-learn\n",
    "\n",
    "> *Nota*: Observe que o módulo importado é denominado sklearn.\n",
    "\n",
    "\n",
    "\n",
    "## Statsmodels <a name=\"CP1-Lib-Statsmodel\"></a>\n",
    "\n",
    "Anteriormente parte de SciKits, statsmodels foi pensado para ser um complemento para SciPy funções estatísticas. Ele apresenta modelos lineares generalizados, modelos de escolha discreta, análise de séries temporais e uma série de estatísticas descritivas, bem como testes paramétricos e não paramétricos.\n",
    "\n",
    "Site: http://statsmodels.sourceforge.net/\n",
    "Versão atual: 0.6.0\n",
    "Instalação via pip3 e o nome do pacote é:\n",
    "- scikits.statsmodels (0.3.1)  - Statistical computations and models for use with SciPy\n",
    "- statsmodels (0.8.0)          - Statistical computations and models for Python\n",
    "\n",
    "## Seaborn\n",
    "\n",
    "É uma biblioteca para visualização de dados estatísticos, baseada na matplotlib.\n",
    "\n",
    "Site:https://seaborn.pydata.org/\n",
    "Versão atual: 0.8.1\n",
    "Instalada via pip, mas possui um pacote debian\n",
    "\n",
    "\n",
    "## NetworkX <a name=\"CP1-Lib-NetworkX\"></a>\n",
    "\n",
    "Desenvolvido pelo Laboratório Nacional de Los Alamos, NetworkX é um pacote especializado na criação, manipulação, análise e representação gráfica de dados de rede da vida real (pode facilmente operar com gráficos compostos de um milhão de nós e bordas). Além de estruturas de dados especializadas para gráficos e métodos de visualização fina (2D e 3D), ele fornece ao usuário muitas medidas de gráfico padrão e algoritmos, como o caminho mais curto, centralidade, componentes, comunidades, cluster e PageRank. \n",
    "\n",
    "Site: https://networkx.github.io/\n",
    "Versão atul: 1.9.1\n",
    "pacote: python3-networkx\n",
    "\n",
    ">Convencionalmente, o NetworkX é importado como nx:\n",
    ">\n",
    ">import networkx as nx\n",
    "\n",
    "\n",
    "## Bokeh\n",
    "\n",
    "A biblioteca gráfica Bokeh é uma biblioteca de visualização interativa voltada para os navegadores da Web modernos para apresentação. Seu objetivo é fornecer uma construção elegante e concisa de gráficos versáteis e estender esse recurso com interatividade de alto desempenho em conjuntos de dados muito grandes ou de fluxo contínuo. O Bokeh pode ajudar qualquer pessoa que queira criar de forma rápida e fácil gráficos interativos, painéis e aplicativos de dados.\n",
    "\n",
    "\n",
    "Site: <https://bokeh.pydata.org/en/latest/>\n"
   ]
  },
  {
   "cell_type": "markdown",
   "metadata": {
    "lang": "pt"
   },
   "source": [
    "## Exemplos"
   ]
  },
  {
   "cell_type": "code",
   "execution_count": null,
   "metadata": {
    "ExecuteTime": {
     "end_time": "2019-08-12T17:45:50.057094Z",
     "start_time": "2019-08-12T17:45:47.802576Z"
    }
   },
   "outputs": [],
   "source": [
    "# Para instalar um pacote via pip usando o corrente Jupyter kernel faça\n",
    "import sys\n",
    "!{sys.executable} -m pip install numpy"
   ]
  },
  {
   "cell_type": "code",
   "execution_count": null,
   "metadata": {
    "ExecuteTime": {
     "end_time": "2019-08-12T17:45:52.796763Z",
     "start_time": "2019-08-12T17:45:52.684926Z"
    }
   },
   "outputs": [],
   "source": [
    "# Para instalar um pacote conda usando o corrente Jupyter kernel faça\n",
    "import sys\n",
    "!conda install --yes --prefix {sys.prefix} numpy"
   ]
  },
  {
   "cell_type": "code",
   "execution_count": null,
   "metadata": {
    "ExecuteTime": {
     "end_time": "2019-08-12T17:45:57.646764Z",
     "start_time": "2019-08-12T17:45:57.536192Z"
    }
   },
   "outputs": [],
   "source": [
    "!type  python3"
   ]
  },
  {
   "cell_type": "code",
   "execution_count": null,
   "metadata": {
    "ExecuteTime": {
     "end_time": "2019-08-12T11:59:28.662794Z",
     "start_time": "2019-08-12T11:59:28.657708Z"
    }
   },
   "outputs": [],
   "source": [
    "%%writefile install_python.sh\n",
    "#!/bin/sh\n",
    "sudo apt-get update H\n",
    "sudo apt-get install -y python3 python3-doc python3-all python3-pip python3-bs4 python3-all-dev python3-examples ipython3 ipython3-notebook ipython3-qtconsole python3-markdown python3-matplotlib python3-numpy python3-pandas python3-opengl python3-mpmath python3-nltk python3-numexpr python3-pandas-lib python3-html2text python3-html5lib python3-img2pdf python3-magic python3-matplotlib-dbg python3-numpy-dbg python3-numexpr-dbg python3-numpydoc python3-pandocfilters python3-setuptools python3-pdfrw python3-pil python3-pil-dbg python3-pil.imagetk python3-pil.imagetk-dbg python3-pilkit python3-pip python3-pyfftw python3-pyfftw-dbg python3-scipy python3-sympy python3-skimage-lib python3-sklearn-lib python3-seaborn python3-sphinx"
   ]
  },
  {
   "cell_type": "code",
   "execution_count": null,
   "metadata": {
    "ExecuteTime": {
     "end_time": "2019-08-12T11:59:56.647931Z",
     "start_time": "2019-08-12T11:59:56.535589Z"
    }
   },
   "outputs": [],
   "source": [
    "! cat install_python.sh"
   ]
  },
  {
   "cell_type": "markdown",
   "metadata": {},
   "source": [
    "Agora para instalar o script abra um terminal na pasta onde enoctra-se o scpript e digite:\n",
    "```bash\n",
    "sh ./install_python.sh\n",
    "```"
   ]
  },
  {
   "cell_type": "markdown",
   "metadata": {},
   "source": [
    "## Ajustando a configuração do Linux\n",
    "\n",
    "Uma das habilidades do Jupyter Notebook reside no fato de que não é necessário deixar o ambiente para realizar muitas das tarefas do sistema, mesmo a instalação de softwares. Entretanto nesse caso é necessário fazer um pequeno ajuste no sistema. Vamos permitir que o administrador da máquina que é quem está usando ela não precise mais de digitar o seu password ao usar o sudo. Para isso edite o arquivo <span style=\"color:blue\">/etc/sudoers</span>\n",
    "e acrescente uma linha contendo\n",
    "\n",
    "```bash\n",
    "login_do_usuario  ALL=(ALL:ALL) NOPASSWD:ALL\n",
    "```\n",
    "\n",
    "Devendo ficar conforme o exemplo abaixo, no qual o meu login é <span style=\"color:blue\">salviano</span>.\n",
    "\n",
    "[Blog do Da2k](https://blog.da2k.com.br \"Clique e acesse agora!\")\n",
    "<span style=\"color:blue\">Esse é um pequeno texto em *azul*</span>"
   ]
  },
  {
   "cell_type": "code",
   "execution_count": null,
   "metadata": {
    "ExecuteTime": {
     "end_time": "2019-08-12T12:01:54.133226Z",
     "start_time": "2019-08-12T12:01:54.013149Z"
    }
   },
   "outputs": [],
   "source": [
    "!sudo cat /etc/sudoers"
   ]
  },
  {
   "cell_type": "markdown",
   "metadata": {},
   "source": [
    "Para ver o seu login:"
   ]
  },
  {
   "cell_type": "code",
   "execution_count": null,
   "metadata": {
    "ExecuteTime": {
     "end_time": "2019-08-12T12:02:00.460287Z",
     "start_time": "2019-08-12T12:02:00.347144Z"
    },
    "scrolled": true
   },
   "outputs": [],
   "source": [
    "! echo $USER"
   ]
  },
  {
   "cell_type": "markdown",
   "metadata": {},
   "source": [
    "Considerando que o resultado do comando acima, ou seja o login do usuário, seja `pedro`, então para ajustar o arquivo `/etc/sudoers` abra um terminal e digite:\n",
    "```bash\n",
    "sudo sed -i \"/^%sudo/ a\\pedro  ALL=(ALL:ALL) NOPASSWD:ALL\" /etc/sudoers\n",
    "```\n",
    "ou \n",
    "```bash\n",
    "sudo sed -i \"/^%sudo/ a\\ $USER  ALL=(ALL:ALL) NOPASSWD:ALL\" /etc/sudoers\n",
    "```\n",
    "\n",
    "\n",
    "A seguir verifique se o comando rodou corretamente. Para isso abra um terminal e digite:\n",
    "```bash\n",
    "sudo cat /etc/gshadow\n",
    "```\n",
    "\n",
    "Se o comando acima não te pedir a senha e mostar a listagem do arquivo `/etc/gshadow`, então pode continuar e executar a próxima célula."
   ]
  },
  {
   "cell_type": "code",
   "execution_count": null,
   "metadata": {},
   "outputs": [],
   "source": [
    "!sudo -H pip3 install version_information"
   ]
  },
  {
   "cell_type": "markdown",
   "metadata": {},
   "source": [
    "## Verificando a instalação\n",
    "\n",
    "Se você instalou tudo corretamente, então abra um terminal e digite\n",
    "\n",
    "> jupyter-notebook\n",
    "\n",
    "Ele então vai abrir o navegador e você terá o jupyter funcionando.\n",
    "\n",
    "Para verificar a versão atual instalada dos pacotes selecionados, considere por exemplo: o numpy, scipy, matplotlib, sympy, pandas, ipython, jupyter. Digite o comando abaixo na célula do Jupyter"
   ]
  },
  {
   "cell_type": "code",
   "execution_count": null,
   "metadata": {
    "ExecuteTime": {
     "end_time": "2019-08-12T12:02:46.413798Z",
     "start_time": "2019-08-12T12:02:41.612738Z"
    }
   },
   "outputs": [],
   "source": [
    "%load_ext version_information\n",
    "%version_information numpy, scipy, matplotlib, sympy, pandas, ipython, jupyter"
   ]
  },
  {
   "cell_type": "markdown",
   "metadata": {},
   "source": [
    "# Jupyter/IPython\n",
    "\n",
    "**Jupyter/IPython** (Python interativo) é um shell Python aprimorado que fornece um ambiente de desenvolvimento mais robusto e produtivo para os usuários. Existem várias características-chave que o diferenciam do shell padrão do Python.\n",
    "\n",
    "### História\n",
    "\n",
    "No Jupyter/IPython, todas as suas entradas e saídas são salvas. Há duas variáveis chamadas `In` e` Out` que são atribuídas à medida que você trabalha com seus resultados. Todas as saídas são salvas automaticamente em variáveis da forma `_N`, onde `N` é o número do prompt, e as entradas para `_iN`. Isso permite que você recupere rapidamente o resultado de uma computação anterior, referindo-se a seu número, mesmo se você se esqueceu de armazená-lo como uma variável.\n"
   ]
  },
  {
   "cell_type": "code",
   "execution_count": null,
   "metadata": {
    "ExecuteTime": {
     "end_time": "2019-08-12T12:04:06.825773Z",
     "start_time": "2019-08-12T12:04:06.821970Z"
    }
   },
   "outputs": [],
   "source": [
    "from math import sqrt\n",
    "sqrt(11.0)"
   ]
  },
  {
   "cell_type": "markdown",
   "metadata": {},
   "source": [
    "Para referenciar o resultado da célula anterior, faça, adicione um `_`antes do número de saída da célula anteriror. Consiere por que seja a célula 3, assim"
   ]
  },
  {
   "cell_type": "code",
   "execution_count": null,
   "metadata": {
    "ExecuteTime": {
     "end_time": "2019-08-12T12:04:23.137634Z",
     "start_time": "2019-08-12T12:04:23.132455Z"
    }
   },
   "outputs": [],
   "source": [
    "_4 * 2.0"
   ]
  },
  {
   "cell_type": "markdown",
   "metadata": {},
   "source": [
    "Você também pode referenciar a entrada, nesse caso considere a entrada da célula 3 anteriror, e nesse caso observe que ela é uma string, logo"
   ]
  },
  {
   "cell_type": "code",
   "execution_count": null,
   "metadata": {
    "ExecuteTime": {
     "end_time": "2019-08-12T12:04:33.204815Z",
     "start_time": "2019-08-12T12:04:33.197227Z"
    }
   },
   "outputs": [],
   "source": [
    "_i4"
   ]
  },
  {
   "cell_type": "code",
   "execution_count": null,
   "metadata": {
    "ExecuteTime": {
     "end_time": "2019-08-12T12:04:50.702104Z",
     "start_time": "2019-08-12T12:04:50.697119Z"
    }
   },
   "outputs": [],
   "source": [
    "_6 / 4."
   ]
  },
  {
   "cell_type": "code",
   "execution_count": null,
   "metadata": {
    "ExecuteTime": {
     "end_time": "2019-08-12T12:05:33.253901Z",
     "start_time": "2019-08-12T12:05:33.249860Z"
    }
   },
   "outputs": [],
   "source": [
    "import math \n",
    "math.sin(3.0)"
   ]
  },
  {
   "cell_type": "code",
   "execution_count": null,
   "metadata": {
    "ExecuteTime": {
     "end_time": "2019-08-12T12:05:40.403737Z",
     "start_time": "2019-08-12T12:05:40.397629Z"
    }
   },
   "outputs": [],
   "source": [
    "dir(math)"
   ]
  },
  {
   "cell_type": "code",
   "execution_count": null,
   "metadata": {
    "ExecuteTime": {
     "end_time": "2019-08-12T12:05:51.684989Z",
     "start_time": "2019-08-12T12:05:51.674894Z"
    }
   },
   "outputs": [],
   "source": [
    "sqrt(13.0)"
   ]
  },
  {
   "cell_type": "markdown",
   "metadata": {},
   "source": [
    "Os notebooks são iterativos "
   ]
  },
  {
   "cell_type": "code",
   "execution_count": null,
   "metadata": {
    "ExecuteTime": {
     "end_time": "2019-08-12T12:06:00.646228Z",
     "start_time": "2019-08-12T12:05:55.746333Z"
    }
   },
   "outputs": [],
   "source": [
    "a=input(\"Entre com o seu nome\")\n",
    "print(\"O nome entrado foi: \",a)"
   ]
  },
  {
   "cell_type": "markdown",
   "metadata": {},
   "source": [
    "### A saída é assíncrona\n",
    "\n",
    "Toda a saída é exibida de forma assíncrona à medida que é gerada no Kernel. Se você executar a próxima célula, você verá a saída uma peça de cada vez, nem todas no final.\n",
    "\n",
    "[comment]: <> (Esse é um comentário, ele não é mostrado)\n",
    "[comment]: <> (no arquivo de saída)\n",
    "\n",
    "[comment]: <> (Podemos ir mais adiante)\n",
    "\n",
    "[//]: <> (Esse também é um comentário .)\n",
    "\n",
    "[//]: <> ( Para melhorar a compatibilidade da plataforma (e salvar uma digitação), também é possível usar # (que é um alvo de hiperlink legítimo) em vez de <>:)\n",
    "\n",
    "[//]: # (Este pode ser o comentário mais independente da plataforma)\n",
    "\n",
    "[//]: <> ($$ \\int\\limits_{0}^{\\infty} f(x) dx$$)\n",
    "\n",
    "\n",
    "\n",
    "[//]: # (Pode-se usar as tags do HTML tags, como:)\n",
    "\n",
    "<!---\n",
    "O seu comentário vem aqui.\n",
    "---\n",
    "Observe o traço triplo no início. A vantagem é que ele funciona com pandoc \n",
    "ao gerar saída de TeX ou HTML. Mais informações estão disponíveis \n",
    "no grupo pandoc-discuss.\n",
    "-->\n",
    "\n",
    "\n"
   ]
  },
  {
   "cell_type": "code",
   "execution_count": null,
   "metadata": {
    "ExecuteTime": {
     "end_time": "2019-08-12T12:06:07.915379Z",
     "start_time": "2019-08-12T12:06:05.405681Z"
    }
   },
   "outputs": [],
   "source": [
    "import time, sys\n",
    "inicio = 1\n",
    "fim    = 10\n",
    "passo  = 2\n",
    "for i in range(inicio,fim,passo):\n",
    "    print(i)\n",
    "    time.sleep(0.5) # delay"
   ]
  },
  {
   "cell_type": "markdown",
   "metadata": {},
   "source": [
    "### Introspecção\n",
    "\n",
    "Se desejar detalhes sobre as propriedades e funcionalidades de qualquer objeto Python atualmente carregado no Jupyter/IPython, você pode usar o `?` Para revelar quaisquer detalhes disponíveis:\n"
   ]
  },
  {
   "cell_type": "code",
   "execution_count": null,
   "metadata": {},
   "outputs": [],
   "source": [
    "i?"
   ]
  },
  {
   "cell_type": "code",
   "execution_count": null,
   "metadata": {},
   "outputs": [],
   "source": [
    "algum_dic = {}\n",
    "algum_dic?"
   ]
  },
  {
   "cell_type": "markdown",
   "metadata": {},
   "source": [
    "Se estiverem disponível, os detalhes adicionais serão fornecidos com dois pontos de interrogação, incluindo o código-fonte do próprio objeto.\n"
   ]
  },
  {
   "cell_type": "code",
   "execution_count": null,
   "metadata": {
    "ExecuteTime": {
     "end_time": "2019-08-12T12:06:32.413984Z",
     "start_time": "2019-08-12T12:06:32.350629Z"
    }
   },
   "outputs": [],
   "source": [
    "from numpy.linalg import cholesky\n",
    "cholesky??"
   ]
  },
  {
   "cell_type": "markdown",
   "metadata": {},
   "source": [
    "Essa sintaxe também pode ser usada para pesquisar *namespaces* com curingas (\\*)."
   ]
  },
  {
   "cell_type": "code",
   "execution_count": null,
   "metadata": {
    "ExecuteTime": {
     "end_time": "2019-08-12T12:06:57.668033Z",
     "start_time": "2019-08-12T12:06:57.294064Z"
    }
   },
   "outputs": [],
   "source": [
    "%matplotlib inline\n",
    "import pylab as plt\n",
    "plt.*plot*?"
   ]
  },
  {
   "cell_type": "code",
   "execution_count": null,
   "metadata": {
    "ExecuteTime": {
     "end_time": "2019-08-12T12:07:40.561790Z",
     "start_time": "2019-08-12T12:07:40.557600Z"
    }
   },
   "outputs": [],
   "source": [
    "%matplotlib --list"
   ]
  },
  {
   "cell_type": "markdown",
   "metadata": {},
   "source": [
    "As opções de visualização da matplotlib são:\n",
    "\n",
    "'auto', 'gtk', 'gtk3', 'inline', 'nbagg', 'notebook', 'osx', 'qt', 'qt4', 'qt5', 'tk', 'wx'\n",
    "\n",
    "\n",
    "\n",
    "%matplotlib --list\n",
    "   Available matplotlib backends: ['osx', 'qt4', 'qt5', 'gtk3', 'notebook', 'wx', 'qt', 'nbagg',\n",
    "   'gtk', 'tk', 'inline']\n",
    "\n",
    "positional arguments:\n",
    "  gui         Name of the matplotlib backend to use ('agg', 'gtk', 'gtk3',\n",
    "              'inline', 'ipympl', 'nbagg', 'notebook', 'osx', 'qt', 'qt4',\n",
    "              'qt5', 'tk', 'wx'). If given, the corresponding matplotlib\n",
    "              backend is used, otherwise it will be matplotlib's default\n",
    "              (which you can set in your matplotlib config file).\n",
    "\n",
    "optional arguments:"
   ]
  },
  {
   "cell_type": "markdown",
   "metadata": {},
   "source": [
    "### Completar com Tab\n",
    "\n",
    "Como o Jupyter/IPython permitem a introspecção, ele é capaz de dar ao usuário a capacidade de completar comandos que foram parcialmente digitados com um tab. Isso é feito pressionando a tecla `<tab>` em qualquer ponto durante o processo de digitar um comando:"
   ]
  },
  {
   "cell_type": "code",
   "execution_count": null,
   "metadata": {},
   "outputs": [],
   "source": [
    "plt.p"
   ]
  },
  {
   "cell_type": "markdown",
   "metadata": {},
   "source": [
    "Isso pode até ser usado para ajudar com a especificação dos argumentos de algumas funções, o que às vezes pode ser difícil de lembrar:"
   ]
  },
  {
   "cell_type": "code",
   "execution_count": null,
   "metadata": {},
   "outputs": [],
   "source": [
    "plt.hist"
   ]
  },
  {
   "cell_type": "markdown",
   "metadata": {},
   "source": [
    "### Comandos do sistema\n",
    "\n",
    "No Jupyter/IPython, você pode digitar `ls` para ver seus arquivos ou `cd` para alterar diretórios, assim como você faria em um prompt do sistema, mas para isso adicione o caracter `!`:"
   ]
  },
  {
   "cell_type": "code",
   "execution_count": null,
   "metadata": {
    "ExecuteTime": {
     "end_time": "2019-08-12T12:08:53.142095Z",
     "start_time": "2019-08-12T12:08:53.004655Z"
    }
   },
   "outputs": [],
   "source": [
    "!ls /home/$USER/"
   ]
  },
  {
   "cell_type": "markdown",
   "metadata": {},
   "source": [
    "Praticamente qualquer comando do sistema pode ser acessado prepending `!`,  o qual passa qualquer comando subsequente diretamente para o sistema operacional."
   ]
  },
  {
   "cell_type": "code",
   "execution_count": null,
   "metadata": {
    "ExecuteTime": {
     "end_time": "2019-08-12T12:09:05.020203Z",
     "start_time": "2019-08-12T12:08:56.780851Z"
    }
   },
   "outputs": [],
   "source": [
    "!locate python3 | grep pdf"
   ]
  },
  {
   "cell_type": "markdown",
   "metadata": {},
   "source": [
    "Você pode até usar variáveis Python em comandos enviados para o sistema operacional:"
   ]
  },
  {
   "cell_type": "code",
   "execution_count": null,
   "metadata": {},
   "outputs": [],
   "source": [
    "file_type = 'ipynb'\n",
    "!ls ./*$file_type"
   ]
  },
  {
   "cell_type": "markdown",
   "metadata": {},
   "source": [
    "A saída de um comando do sistema usando a sintaxe do ponto de exclamação pode ser atribuída a uma variável Python."
   ]
  },
  {
   "cell_type": "code",
   "execution_count": null,
   "metadata": {
    "ExecuteTime": {
     "end_time": "2019-08-12T12:09:12.300469Z",
     "start_time": "2019-08-12T12:09:12.270422Z"
    }
   },
   "outputs": [],
   "source": [
    "notebooks = !ls ./"
   ]
  },
  {
   "cell_type": "code",
   "execution_count": null,
   "metadata": {
    "ExecuteTime": {
     "end_time": "2019-08-12T12:09:28.293742Z",
     "start_time": "2019-08-12T12:09:28.287028Z"
    }
   },
   "outputs": [],
   "source": [
    "notebooks"
   ]
  },
  {
   "cell_type": "code",
   "execution_count": null,
   "metadata": {
    "ExecuteTime": {
     "end_time": "2019-08-12T12:09:33.051525Z",
     "start_time": "2019-08-12T12:09:33.047564Z"
    }
   },
   "outputs": [],
   "source": [
    "type(notebooks)"
   ]
  },
  {
   "cell_type": "markdown",
   "metadata": {},
   "source": [
    "## Console  Qt \n",
    "\n",
    "Se você digitar no prompt do sistema:\n",
    "\n",
    "```bash\n",
    "> ipython3 qtconsole\n",
    "```\n",
    "\n",
    "ou \n",
    "\n",
    "```bash\n",
    "> jupyter-qtconsole\n",
    "```\n",
    "\n",
    "Em vez de abrir em um terminal, IPython irá iniciar um console gráfico que à primeira vista aparece como um terminal, mas que é, de fato, muito mais capaz do que um terminal somente de texto. Este é um terminal especializado projetado para o trabalho científico interativo, e suporta a edição de multi-linha cheia com realce de cor e calltips gráficos para funções, pode manter múltiplas sessões de IPython abertas simultaneamente em abas, e quando scripts funcionam pode exibir os números diretamente Na área de trabalho.\n",
    "\n",
    "![qtconsole](../Figs/Jupyter_QtConsole.png)"
   ]
  },
  {
   "cell_type": "markdown",
   "metadata": {},
   "source": [
    "# Jupyter Notebook\n",
    "\n",
    "\n",
    "Ao longo do tempo, o projeto IPython cresceu para incluir vários componentes, incluindo:\n",
    "\n",
    "* Um shell interativo\n",
    "* Um protocolo REPL (Ela é uma abreviação para <span style=\"color:blue\">Read, Eval, Print and Loop</span>)\n",
    "* Um documento na forma de caderno de anotações\n",
    "* Uma ferramenta de conversão de documentos do notebook\n",
    "* Uma ferramenta de criação de notebooks baseada na web\n",
    "* Ferramentas para a construção de interface interativa (widgets)\n",
    "* Python paralelo interativo\n",
    "\n",
    "O Jupyter foi originalmente desenvolvido como parte do projeto IPython. O projeto IPython foi usado para fornecer acesso on-line interativo ao Python. Ao longo do tempo, tornou-se útil interagir com outras ferramentas de análise de dados, como R, da mesma maneira. Com esta divisão de Python, a ferramenta cresceu em sua manifestação atual de Jupyter. O IPython ainda é uma ferramenta ativa que está disponível para uso. O próprio nome Jupyter é derivado da combinação de Julia, Python e R.\n",
    "\n",
    "\n",
    "O notebook HTML que faz parte do projeto Jupyter suporta ** visualização de dados interativos ** e fácil de alto desempenho ** computação paralela **.\n",
    "\n",
    "$$ \\psi$$\n",
    "\n"
   ]
  },
  {
   "cell_type": "code",
   "execution_count": null,
   "metadata": {
    "ExecuteTime": {
     "end_time": "2019-08-12T12:14:47.333837Z",
     "start_time": "2019-08-12T12:14:47.064501Z"
    }
   },
   "outputs": [],
   "source": [
    "import matplotlib.pyplot as plt\n",
    "import numpy as np\n",
    "plt.style.use('fivethirtyeight')\n",
    "\n",
    "def f(x):\n",
    "    return (x-3)*(x-5)*(x-7)/100-1\n",
    "#\n",
    "\n",
    "import numpy as np\n",
    "x0 = 0 # origem\n",
    "xf = 10  # fim do intervalo\n",
    "n  = 200 # numero de pontos que se discretiza o intervalo (x0,xf)\n",
    "x = np.linspace(x0, xf, n) # cria vetor igaulmente espaçado\n",
    "y = f(x)\n",
    "plt.plot(x,y)\n",
    "plt.savefig('lixo.svg')"
   ]
  },
  {
   "cell_type": "code",
   "execution_count": null,
   "metadata": {
    "ExecuteTime": {
     "end_time": "2019-08-12T12:16:31.192214Z",
     "start_time": "2019-08-12T12:16:31.076491Z"
    }
   },
   "outputs": [],
   "source": [
    "! ls *.svg"
   ]
  },
  {
   "cell_type": "markdown",
   "metadata": {},
   "source": [
    "![lixo](lixo.svg)"
   ]
  },
  {
   "cell_type": "code",
   "execution_count": null,
   "metadata": {
    "ExecuteTime": {
     "end_time": "2019-08-12T12:17:56.449483Z",
     "start_time": "2019-08-12T12:17:56.217353Z"
    }
   },
   "outputs": [],
   "source": [
    "def g(x):\n",
    "    return x**4 -3*x**2 +4*x -x +2\n",
    "\n",
    "x0 = -3 # origem\n",
    "xf = 3  # fim do intervalo\n",
    "n  = 200 # numero de pontos que se discretiza o intervalo (x0,xf)\n",
    "x = np.linspace(x0, xf, n)\n",
    "y = g(x)\n",
    "plt.plot(x,y)"
   ]
  },
  {
   "cell_type": "markdown",
   "metadata": {},
   "source": [
    "O notebook permite documentar seu fluxo de trabalho usando HTML ou Markdown.\n",
    "\n",
    "O Jupyter Notebook consiste em dois componentes relacionados:\n",
    "\n",
    "* Um formato de documento JSON baseado em Notebook para gravação e distribuição de código Python e texto rico.\n",
    "  - subb1\n",
    "  - sub2\n",
    "* Uma interface de usuário baseada na web para a criação e execução de documentos do notebook.\n",
    "\n",
    "O Notebook pode ser usado iniciando o servidor Notebook com o comando:\n",
    "\n",
    "> $ ipython3 notebook\n",
    "    \n",
    "Isso inicia um **mecanismo IPython**, que é uma instância Python que leva comandos Python através de uma conexão de rede.\n",
    "\n",
    "O **controlador IPython** fornece uma interface para trabalhar com um conjunto de mecanismos, aos quais um ou mais **clientes IPython** podem se conectar.\n",
    "\n",
    "O Notebook dá-lhe tudo o que um navegador lhe dá. Por exemplo, você pode incorporar imagens, vídeos ou sites inteiros."
   ]
  },
  {
   "cell_type": "code",
   "execution_count": null,
   "metadata": {
    "ExecuteTime": {
     "end_time": "2019-08-12T12:18:18.954912Z",
     "start_time": "2019-08-12T12:18:18.917259Z"
    }
   },
   "outputs": [],
   "source": [
    "from IPython.display import HTML\n",
    "HTML(\"<iframe src=http://jupyter.org/ width=700 height=350></iframe>\")"
   ]
  },
  {
   "cell_type": "code",
   "execution_count": null,
   "metadata": {
    "ExecuteTime": {
     "end_time": "2019-08-12T12:18:33.496954Z",
     "start_time": "2019-08-12T12:18:32.878829Z"
    },
    "slideshow": {
     "slide_type": "slide"
    }
   },
   "outputs": [],
   "source": [
    "from IPython.display import YouTubeVideo\n",
    "YouTubeVideo(\"rl5DaFbLc60\")"
   ]
  },
  {
   "cell_type": "markdown",
   "metadata": {},
   "source": [
    "### Código Remoto\n",
    "\n",
    "Use `%load` para adicionar um código remoto"
   ]
  },
  {
   "cell_type": "code",
   "execution_count": null,
   "metadata": {},
   "outputs": [],
   "source": [
    " %load http://matplotlib.org/_downloads/legend.py"
   ]
  },
  {
   "cell_type": "code",
   "execution_count": null,
   "metadata": {
    "ExecuteTime": {
     "end_time": "2019-08-12T18:22:27.327922Z",
     "start_time": "2019-08-12T18:22:26.231275Z"
    }
   },
   "outputs": [],
   "source": [
    "%matplotlib qt5"
   ]
  },
  {
   "cell_type": "code",
   "execution_count": null,
   "metadata": {},
   "outputs": [],
   "source": [
    "%load http://matplotlib.org/mpl_examples/shapes_and_collections/scatter_demo.py"
   ]
  },
  {
   "cell_type": "code",
   "execution_count": null,
   "metadata": {},
   "outputs": [],
   "source": [
    "%load http://matplotlib.org/examples/frontpage/plot_contour.py"
   ]
  },
  {
   "cell_type": "code",
   "execution_count": null,
   "metadata": {
    "ExecuteTime": {
     "end_time": "2019-08-12T12:21:29.656066Z",
     "start_time": "2019-08-12T12:21:29.289118Z"
    }
   },
   "outputs": [],
   "source": [
    "%matplotlib notebook"
   ]
  },
  {
   "cell_type": "code",
   "execution_count": null,
   "metadata": {
    "ExecuteTime": {
     "end_time": "2019-08-12T12:21:32.011472Z",
     "start_time": "2019-08-12T12:21:31.851326Z"
    }
   },
   "outputs": [],
   "source": [
    "# %load http://matplotlib.org/mpl_examples/mplot3d/contour3d_demo3.py\n",
    "from mpl_toolkits.mplot3d import axes3d\n",
    "import matplotlib.pyplot as plt\n",
    "from matplotlib import cm\n",
    "\n",
    "fig = plt.figure()\n",
    "ax = fig.gca(projection='3d')\n",
    "X, Y, Z = axes3d.get_test_data(0.05)\n",
    "ax.plot_surface(X, Y, Z, rstride=8, cstride=8, alpha=0.3)\n",
    "cset = ax.contour(X, Y, Z, zdir='z', offset=-100, cmap=cm.coolwarm)\n",
    "cset = ax.contour(X, Y, Z, zdir='x', offset=-40, cmap=cm.coolwarm)\n",
    "cset = ax.contour(X, Y, Z, zdir='y', offset=40, cmap=cm.coolwarm)\n",
    "\n",
    "ax.set_xlabel('X')\n",
    "ax.set_xlim(-40, 40)\n",
    "ax.set_ylabel('Y')\n",
    "ax.set_ylim(-40, 40)\n",
    "ax.set_zlabel('Z')\n",
    "ax.set_zlim(-100, 100)\n",
    "\n",
    "plt.show()"
   ]
  },
  {
   "cell_type": "code",
   "execution_count": null,
   "metadata": {
    "ExecuteTime": {
     "end_time": "2019-08-12T12:22:34.893524Z",
     "start_time": "2019-08-12T12:22:34.605405Z"
    }
   },
   "outputs": [],
   "source": [
    "# %load http://matplotlib.org/mpl_examples/mplot3d/contour3d_demo3.py\n",
    "# Para fazer o gráfico em uma janela habilite:\n",
    "# %matplotlib qt ou  %matplotlib qt\n",
    "# Os teminais qt permitem interagir com os gráficos rotacionando eles\n",
    "from mpl_toolkits.mplot3d import axes3d\n",
    "import matplotlib.pyplot as plt\n",
    "from matplotlib import cm\n",
    "\n",
    "fig = plt.figure()\n",
    "ax = fig.gca(projection='3d')\n",
    "X, Y, Z = axes3d.get_test_data(0.02)\n",
    "ax.plot_surface(X, Y, Z, rstride=10, cstride=10, alpha=0.3)\n",
    "cset = ax.contour(X, Y, Z, zdir='z', offset=-100, cmap=cm.coolwarm)\n",
    "cset = ax.contour(X, Y, Z, zdir='x', offset=-40, cmap=cm.coolwarm)\n",
    "cset = ax.contour(X, Y, Z, zdir='y', offset=40, cmap=cm.coolwarm)\n",
    "\n",
    "ax.set_xlabel('X')\n",
    "ax.set_xlim(-40, 40)\n",
    "ax.set_ylabel('Y')\n",
    "ax.set_ylim(-40, 40)\n",
    "ax.set_zlabel('Z')\n",
    "ax.set_zlim(-100, 100)\n",
    "\n",
    "plt.show()"
   ]
  },
  {
   "cell_type": "markdown",
   "metadata": {},
   "source": [
    "### Suporte ao Mathjax \n",
    "\n",
    "Mathjax é uma implementação javascript $\\alpha$ do LaTeX que permite que as equações sejam incorporadas em HTML. Por exemplo, esta marcação:\n",
    "\n",
    "    \"\"\"$$ \\int_{a}^{b} f(x)\\, dx \\approx \\frac{1}{2} \\sum_{k=1}^{N} \\left( x_{k} - x_{k-1} \\right) \\left( f(x_{k}) + f(x_{k-1}) \\right). $$\"\"\"\n",
    "    \n",
    "torna-se:\n",
    "\n",
    "$$\n",
    "\\int_{a}^{b} f(x)\\, dx \\approx \\frac{1}{2} \\sum_{k=1}^{N} \\left( x_{k} - x_{k-1} \\right) \\left( f(x_{k}) + f(x_{k-1}) \\right).\n",
    "$$\n",
    "\n",
    "```python\n",
    "print(a)\n",
    "```"
   ]
  },
  {
   "cell_type": "markdown",
   "metadata": {},
   "source": [
    "## Suporte SymPy\n",
    "\n",
    "SymPy é uma biblioteca Python para cálculo simbólico mathematics. Ela suporta:\n",
    "\n",
    "* polinômios\n",
    "* cálculo\n",
    "* resolvendo equações\n",
    "* matemática discreta\n",
    "* matrizes"
   ]
  },
  {
   "cell_type": "code",
   "execution_count": null,
   "metadata": {
    "ExecuteTime": {
     "end_time": "2019-08-12T12:24:13.716851Z",
     "start_time": "2019-08-12T12:24:12.962128Z"
    }
   },
   "outputs": [],
   "source": [
    "from sympy import *\n",
    "init_printing()\n",
    "x, y = symbols(\"x y\")"
   ]
  },
  {
   "cell_type": "code",
   "execution_count": null,
   "metadata": {
    "ExecuteTime": {
     "end_time": "2019-08-12T12:24:16.726442Z",
     "start_time": "2019-08-12T12:24:16.237203Z"
    }
   },
   "outputs": [],
   "source": [
    "eq = ((x+y)**2 * (x+1))\n",
    "eq"
   ]
  },
  {
   "cell_type": "code",
   "execution_count": null,
   "metadata": {
    "ExecuteTime": {
     "end_time": "2019-08-12T12:24:24.122921Z",
     "start_time": "2019-08-12T12:24:23.810220Z"
    }
   },
   "outputs": [],
   "source": [
    "expand(eq)"
   ]
  },
  {
   "cell_type": "code",
   "execution_count": null,
   "metadata": {
    "ExecuteTime": {
     "end_time": "2019-08-12T12:24:38.107594Z",
     "start_time": "2019-08-12T12:24:37.467663Z"
    }
   },
   "outputs": [],
   "source": [
    "(1/cos(x)).series(x, 0, 12)"
   ]
  },
  {
   "cell_type": "code",
   "execution_count": null,
   "metadata": {
    "ExecuteTime": {
     "end_time": "2019-08-12T12:24:48.246791Z",
     "start_time": "2019-08-12T12:24:47.821080Z"
    }
   },
   "outputs": [],
   "source": [
    "limit((sin(x)-x)/x**3, x, 0)"
   ]
  },
  {
   "cell_type": "code",
   "execution_count": null,
   "metadata": {
    "ExecuteTime": {
     "end_time": "2019-08-12T12:24:51.483151Z",
     "start_time": "2019-08-12T12:24:51.144827Z"
    }
   },
   "outputs": [],
   "source": [
    "diff(cos(x**2)**2 / (1+x), x)"
   ]
  },
  {
   "cell_type": "code",
   "execution_count": null,
   "metadata": {
    "ExecuteTime": {
     "end_time": "2019-08-12T12:25:01.475330Z",
     "start_time": "2019-08-12T12:25:01.107793Z"
    }
   },
   "outputs": [],
   "source": [
    "integrate(sin(x),x)"
   ]
  },
  {
   "cell_type": "markdown",
   "metadata": {},
   "source": [
    "### Funções mágicas\n",
    "\n",
    "O IPython tem um conjunto de \"funções mágicas\" predefinidas que você pode chamar com uma sintaxe de estilo de linha de comando. Esses incluem:\n",
    "\n",
    "* `%run`\n",
    "* `%edit`\n",
    "* `%debug`\n",
    "* `%timeit`\n",
    "* `%paste`\n",
    "* `%load_ext`\n",
    "* `%load`\n",
    "* `%%writefile`\n"
   ]
  },
  {
   "cell_type": "code",
   "execution_count": null,
   "metadata": {
    "ExecuteTime": {
     "end_time": "2019-08-12T12:25:43.750785Z",
     "start_time": "2019-08-12T12:25:43.739139Z"
    }
   },
   "outputs": [],
   "source": [
    "%lsmagic"
   ]
  },
  {
   "cell_type": "markdown",
   "metadata": {},
   "source": [
    "## Exemplo: O tutor\n",
    "\n",
    "Para executar o código abaixo você precisa de uuma conexão com a internet, pois ele irá executar o comando abaixo no site [Python Tutor](http://pythontutor.com/). Esse site é muito bom para aqueles que estão aprendendo uma linguagem de programação, pois ele linha por linha o que ocorrer na execução de um código. Usando essa ferramenta é possível visualizar códigos escritos nas seguintes linguagens: Python2, Python3, Java, JavaScript, TypeScript, Ruby, C, and C++.\n",
    "\n",
    "Como exemplo, considere o seguinte código:"
   ]
  },
  {
   "cell_type": "code",
   "execution_count": null,
   "metadata": {
    "ExecuteTime": {
     "end_time": "2019-08-12T12:26:46.207644Z",
     "start_time": "2019-08-12T12:26:46.202789Z"
    },
    "scrolled": true
   },
   "outputs": [],
   "source": [
    "%%tutor\n",
    "inicio=4\n",
    "fim= 13 # ele sempre vai terminar um passo antes, ou seja, em 12\n",
    "passo = 2\n",
    "for i in range(inicio,fim,passo):\n",
    "    print(i)"
   ]
  },
  {
   "cell_type": "markdown",
   "metadata": {},
   "source": [
    "Determinando o tempo de execução do código; O comando magic `timeit` existe tanto na forma de linha como de célula:"
   ]
  },
  {
   "cell_type": "code",
   "execution_count": null,
   "metadata": {
    "ExecuteTime": {
     "end_time": "2019-08-12T12:28:31.220572Z",
     "start_time": "2019-08-12T12:28:21.585185Z"
    }
   },
   "outputs": [],
   "source": [
    "import numpy as np\n",
    "%timeit np.linalg.eigvals(np.random.rand(100,100))"
   ]
  },
  {
   "cell_type": "code",
   "execution_count": null,
   "metadata": {
    "ExecuteTime": {
     "end_time": "2019-08-12T12:28:48.203669Z",
     "start_time": "2019-08-12T12:28:38.790253Z"
    }
   },
   "outputs": [],
   "source": [
    "%%timeit a = np.random.rand(100, 100)\n",
    "np.linalg.eigvals(a)"
   ]
  },
  {
   "cell_type": "markdown",
   "metadata": {},
   "source": [
    "O IPython também cria *aliases* para alguns intérpretes comuns, como bash, ruby, perl, etc.\n",
    "\n",
    "Estes são todos equivalentes a `%%script <nome>`"
   ]
  },
  {
   "cell_type": "code",
   "execution_count": null,
   "metadata": {
    "ExecuteTime": {
     "end_time": "2019-08-12T12:28:54.574524Z",
     "start_time": "2019-08-12T12:28:54.138477Z"
    }
   },
   "outputs": [],
   "source": [
    "%%ruby\n",
    "puts \"Hello from Ruby #{RUBY_VERSION}\""
   ]
  },
  {
   "cell_type": "code",
   "execution_count": null,
   "metadata": {
    "ExecuteTime": {
     "end_time": "2019-08-12T12:28:57.138291Z",
     "start_time": "2019-08-12T12:28:57.120900Z"
    }
   },
   "outputs": [],
   "source": [
    "%%bash\n",
    "echo \"hello from $BASH\""
   ]
  },
  {
   "cell_type": "markdown",
   "metadata": {},
   "source": [
    "IPython tem uma extensão `rmagic` que contém algumas funções mágicas para trabalhar com R via rpy2. Esta extensão pode ser carregada usando a magia `%load_ext` da seguinte forma:\n"
   ]
  },
  {
   "cell_type": "code",
   "execution_count": null,
   "metadata": {
    "ExecuteTime": {
     "end_time": "2019-08-12T12:29:09.969887Z",
     "start_time": "2019-08-12T12:29:09.772499Z"
    }
   },
   "outputs": [],
   "source": [
    "%load_ext rpy2.ipython"
   ]
  },
  {
   "cell_type": "markdown",
   "metadata": {},
   "source": [
    "Se o comando anterior gerar um erro, é provável que você não tenha o módulo `rpy2` instalado. Você pode instalar isso agora, em uma nova célula, usando o seguinte código:\n",
    "\n",
    "> !sudo apt install python3-rpy2\n",
    "\n",
    "Caso não encontre o pacote, vocẽ pode instalar ele usando o seguinte código:\n",
    "\n",
    "> !sudo -H pip3 install rpy2"
   ]
  },
  {
   "cell_type": "markdown",
   "metadata": {},
   "source": [
    "A extensão watermark mostra as configuraçãoes dos sistema e das bibliotecas instaladas. Vejamos o seguinte exemplo:"
   ]
  },
  {
   "cell_type": "code",
   "execution_count": null,
   "metadata": {
    "ExecuteTime": {
     "end_time": "2019-08-12T12:29:22.198842Z",
     "start_time": "2019-08-12T12:29:22.166435Z"
    }
   },
   "outputs": [],
   "source": [
    "%load_ext watermark"
   ]
  },
  {
   "cell_type": "code",
   "execution_count": null,
   "metadata": {},
   "outputs": [],
   "source": [
    "%watermark"
   ]
  },
  {
   "cell_type": "code",
   "execution_count": null,
   "metadata": {},
   "outputs": [],
   "source": [
    "%watermark -t -n -u -z"
   ]
  },
  {
   "cell_type": "code",
   "execution_count": null,
   "metadata": {},
   "outputs": [],
   "source": [
    "%watermark -v -m -p numpy,matplotlib,scipy -g"
   ]
  },
  {
   "cell_type": "code",
   "execution_count": null,
   "metadata": {},
   "outputs": [],
   "source": [
    "%watermark?"
   ]
  },
  {
   "cell_type": "markdown",
   "metadata": {},
   "source": [
    "O comando acima retorna a saída:\n",
    "\n",
    "```\n",
    " %watermark [-a AUTHOR] [-d] [-n] [-t] [-i] [-z] [-u] [-c CUSTOM_TIME]\n",
    "                 [-v] [-p PACKAGES] [-h] [-m] [-g] [-r] [-w] [-iv]\n",
    "\n",
    "IPython magic function to print date/time stamps\n",
    "and various system information.\n",
    "\n",
    "optional arguments:\n",
    "  -a AUTHOR, --author AUTHOR\n",
    "                        prints author name\n",
    "  -d, --date            prints current date as YYYY-mm-dd\n",
    "  -n, --datename        prints date with abbrv. day and month names\n",
    "  -t, --time            prints current time as HH-MM-SS\n",
    "  -i, --iso8601         prints the combined date and time including the time\n",
    "                        zone in the ISO 8601 standard with UTC offset\n",
    "  -z, --timezone        appends the local time zone\n",
    "  -u, --updated         appends a string \"Last updated: \"\n",
    "  -c CUSTOM_TIME, --custom_time CUSTOM_TIME\n",
    "                        prints a valid strftime() string\n",
    "  -v, --python          prints Python and IPython version\n",
    "  -p PACKAGES, --packages PACKAGES\n",
    "                        prints versions of specified Python modules and\n",
    "                        packages\n",
    "  -h, --hostname        prints the host name\n",
    "  -m, --machine         prints system and machine info\n",
    "  -g, --githash         prints current Git commit hash\n",
    "  -r, --gitrepo         prints current Git remote address\n",
    "  -w, --watermark       prints the current version of watermark\n",
    "  -iv, --iversions      prints the name/version of all imported modules\n",
    "File:      /usr/local/lib/python3.5/dist-packages/watermark/watermark.py\n",
    "```"
   ]
  },
  {
   "cell_type": "code",
   "execution_count": null,
   "metadata": {
    "scrolled": true
   },
   "outputs": [],
   "source": [
    "x,y = np.arange(10), np.random.normal(size=10)\n",
    "%R print(lm(rnorm(10)~rnorm(10)))"
   ]
  },
  {
   "cell_type": "markdown",
   "metadata": {},
   "source": [
    "Exemplo de uso do R"
   ]
  },
  {
   "cell_type": "code",
   "execution_count": null,
   "metadata": {},
   "outputs": [],
   "source": [
    "%%R -i x,y -o XYcoef\n",
    "lm.fit <- lm(y~x)\n",
    "par(mfrow=c(2,2))\n",
    "print(summary(lm.fit))\n",
    "plot(lm.fit)\n",
    "XYcoef <- coef(lm.fit)"
   ]
  },
  {
   "cell_type": "code",
   "execution_count": null,
   "metadata": {},
   "outputs": [],
   "source": [
    "XYcoef"
   ]
  },
  {
   "cell_type": "markdown",
   "metadata": {},
   "source": [
    "### LaTeX\n",
    "\n",
    "Aqui mostramos alguns sites que te ajudam a escrever equações no LaTeX\n",
    "\n",
    "- [Mathpix - Convert images to LaTeX:](https://mathpix.com/) faz um OCR de quações retornando um código LaTeX\n",
    "- [Editor de equações LaTeX online: HostMath](http://www.hostmath.com/) Editor de equações LaTeX Online\n",
    "- [Editor de equações LaTeX online: CodeCogs](https://latex.codecogs.com/) Editor de equações LaTeX Online\n",
    "- [Only Math editor](https://latex.codecogs.com/eqneditor/editor.php) Editor de equações LaTeX Online\n",
    "- [LaTeX4technics](https://www.latex4technics.com/)\n",
    "- [Daum Equation Editor Online - Muito fácil](http://s1.daumcdn.net/editor/fp/service_nc/pencil/Pencil_chromestore.html) Editor de equações LaTeX Online\n",
    "- [Criador de tabelas online](https://tablesgenerator.com/) Criador de tabelas LaTeX, HTML, Markdown, etc Online \n",
    "\n",
    "\n",
    "\n",
    "\n",
    "Nos notebooks, além do suporte MathJax, você pode declarar uma célula LaTeX usando o comando magic `%latex`:\n"
   ]
  },
  {
   "cell_type": "code",
   "execution_count": null,
   "metadata": {
    "ExecuteTime": {
     "end_time": "2019-08-12T12:29:38.067740Z",
     "start_time": "2019-08-12T12:29:38.062479Z"
    }
   },
   "outputs": [],
   "source": [
    "%%latex\n",
    "\\begin{align}\n",
    "\\nabla \\times \\vec{\\mathbf{B}} -\\, \\frac1c\\, \\frac{\\partial\\vec{\\mathbf{E}}}{\\partial t} & = \\frac{4\\pi}{c}\\vec{\\mathbf{j}} \\\\\n",
    "\\nabla \\cdot \\vec{\\mathbf{E}} & = 4 \\pi \\rho \\\\\n",
    "\\nabla \\times \\vec{\\mathbf{E}}\\, +\\, \\frac1c\\, \\frac{\\partial\\vec{\\mathbf{B}}}{\\partial t} & = \\vec{\\mathbf{0}} \\\\\n",
    "\\nabla \\cdot \\vec{\\mathbf{B}} & = 0\n",
    "\\end{align}"
   ]
  },
  {
   "cell_type": "markdown",
   "metadata": {},
   "source": [
    "### A biblioteca matplotlib2tikz\n",
    "\n",
    "A biblioteca [matplotlib2tikz](https://github.com/nschloe/matplotlib2tikz) do Python, é uma ferramenta a qual irá converter as figuras feitas pela biblioteca [matplotlib](#http://matplotlib.org/) em figura PGFPlots (TikZ).\n",
    "\n",
    "\n",
    "This is matplotlib2tikz, a Python tool for converting matplotlib figures into [PGFPlots](#https://www.ctan.org/pkg/pgfplots) ([TikZ](#https://www.ctan.org/pkg/pgf)).\n",
    "\n",
    "Para instalar a biblioteca faça o seguinte:"
   ]
  },
  {
   "cell_type": "code",
   "execution_count": null,
   "metadata": {
    "ExecuteTime": {
     "end_time": "2019-08-12T12:30:45.128441Z",
     "start_time": "2019-08-12T12:30:39.828889Z"
    }
   },
   "outputs": [],
   "source": [
    "!sudo -H pip3 install --upgrade matplotlib2tikz"
   ]
  },
  {
   "cell_type": "code",
   "execution_count": null,
   "metadata": {
    "ExecuteTime": {
     "end_time": "2019-08-12T12:30:48.135600Z",
     "start_time": "2019-08-12T12:30:48.128840Z"
    }
   },
   "outputs": [],
   "source": [
    "%matplotlib inline"
   ]
  },
  {
   "cell_type": "code",
   "execution_count": null,
   "metadata": {
    "ExecuteTime": {
     "end_time": "2019-08-12T12:30:50.469256Z",
     "start_time": "2019-08-12T12:30:50.043751Z"
    }
   },
   "outputs": [],
   "source": [
    "#Agora vamos testar com o seguinte código\n",
    "from matplotlib import pyplot as plt\n",
    "from matplotlib import style\n",
    "import numpy as np\n",
    "fig = plt.figure()\n",
    "style.use('ggplot')\n",
    "t = np.arange(0.0, 2.0, 0.1)\n",
    "s = np.sin(2*np.pi*t)\n",
    "s2 = np.cos(2*np.pi*t)\n",
    "plt.plot(t, s, 'o-', lw=4.1)\n",
    "plt.plot(t, s2, 'o-', lw=4.1)\n",
    "plt.xlabel('time(s)')\n",
    "plt.ylabel('Voltage (mV)')\n",
    "plt.title('Simple plot $\\\\frac{\\\\alpha}{2}$')\n",
    "plt.grid(True)\n",
    "\n",
    "from matplotlib2tikz import save as tikz_save\n",
    "tikz_save('test.pgf')\n",
    "plt.show()"
   ]
  },
  {
   "cell_type": "code",
   "execution_count": null,
   "metadata": {
    "ExecuteTime": {
     "end_time": "2019-08-12T12:31:00.953273Z",
     "start_time": "2019-08-12T12:31:00.836330Z"
    }
   },
   "outputs": [],
   "source": [
    "!cat test.pgf"
   ]
  },
  {
   "cell_type": "markdown",
   "metadata": {},
   "source": [
    "Também é possível usar os `magics` do IPython para mostrar uma imagem do tikz aqui. Primeiro é necessário carregar o `magic` com"
   ]
  },
  {
   "cell_type": "code",
   "execution_count": null,
   "metadata": {
    "ExecuteTime": {
     "end_time": "2019-08-12T12:31:06.960543Z",
     "start_time": "2019-08-12T12:31:06.664436Z"
    }
   },
   "outputs": [],
   "source": [
    "%load_ext tikzmagic"
   ]
  },
  {
   "cell_type": "markdown",
   "metadata": {},
   "source": [
    "**Argumentos Opcionais:**\n",
    "\n",
    "*    -sc or --scale: scaling factor of plots, default=1\n",
    "*    -s or --size: pixel size of plots, e.g., -s width,height, default=400,240\n",
    "*    -f or --format: plot format (png, svg or jpg), default=png\n",
    "*    -e or --encoding: text encoding, default=utf-8\n",
    "*    -x or --preamble: LaTeX preamble to insert before tikz figure, default=None\n",
    "*    -p or --package: LaTeX packages to load, separated by comma, e.g., -p pgfplots,textcomp, default=None\n",
    "*    -l or --library: TikZ libraries to load, separated by comma, e.g., -l matrix,arrows, default=None\n",
    "*    -S or --save: save a copy to file, e.g., -S filename, default=None\n"
   ]
  },
  {
   "cell_type": "code",
   "execution_count": null,
   "metadata": {
    "ExecuteTime": {
     "end_time": "2019-08-12T12:31:21.211946Z",
     "start_time": "2019-08-12T12:31:20.035397Z"
    }
   },
   "outputs": [],
   "source": [
    "%%tikz -f svg\n",
    "\\draw[ultra thick,fill=yellow!60] (1,1) rectangle (9,6);\n",
    "\\begin{scope}\n",
    "  \\clip (6.5,3.5) circle (2);\n",
    "  \\fill[red,ultra thick] (3.5,3.5) circle (2);\n",
    "\\end{scope}\n",
    "\\draw[ultra thick] (3.5,3.5) circle (2) node{\\large A};\n",
    "\\draw[ultra thick] (6.5,3.5) circle (2) node{\\large B};"
   ]
  },
  {
   "cell_type": "code",
   "execution_count": null,
   "metadata": {
    "ExecuteTime": {
     "end_time": "2019-08-12T12:31:44.561052Z",
     "start_time": "2019-08-12T12:31:44.086358Z"
    }
   },
   "outputs": [],
   "source": [
    "%%tikz -s 400,400 -sc 1.2 -f svg\n",
    "\\draw [style=help lines, step=2]                (-1,-1)    grid        (+7,+7);\n",
    "\\draw [line width=0.5mm, fill=blue!40!white]    (+2,+2)    rectangle    (+4,+4);\n",
    " \n",
    "\\draw [blue!60!white] (  2,  2) node[anchor=north east] {$(i  ,j  )$};\n",
    "\\draw [blue!60!white] (  4,  2) node[anchor=north west] {$(i+1,j  )$};\n",
    "\\draw [blue!60!white] (  4,  4) node[anchor=south west] {$(i+1,j+1)$};\n",
    "\\draw [blue!60!white] (  2,  4) node[anchor=south east] {$(i  ,j+1)$};\n",
    "\n",
    "\\filldraw [color=gray]    (0,0) circle (.1);\n",
    "\\filldraw [color=gray]    (0,2) circle (.1);\n",
    "\\filldraw [color=gray]    (0,4) circle (.1);\n",
    "\\filldraw [color=gray]    (0,6) circle (.1);\n",
    "\\filldraw [color=gray]    (2,0) circle (.1);\n",
    "\\filldraw [color=black]    (2,2) circle (.1);\n",
    "\\filldraw [color=black]    (2,4) circle (.1);\n",
    "\\filldraw [color=gray]    (2,6) circle (.1);\n",
    "\\filldraw [color=gray]    (4,0) circle (.1);\n",
    "\\filldraw [color=black]    (4,2) circle (.1);\n",
    "\\filldraw [color=black]    (4,4) circle (.1);\n",
    "\\filldraw [color=gray]    (4,6) circle (.1);\n",
    "\\filldraw [color=gray]    (6,0) circle (.1);\n",
    "\\filldraw [color=gray]    (6,2) circle (.1);\n",
    "\\filldraw [color=gray]    (6,4) circle (.1);\n",
    "\\filldraw [color=gray]    (6,6) circle (.1);"
   ]
  },
  {
   "cell_type": "markdown",
   "metadata": {},
   "source": [
    "##### Uso\n",
    "\n",
    "Gere seu gráfico com a matplotlib como sempre. Agora ao invez de `pyplot.show()`, deve-se chamar a `matplotlib2tikz` \n",
    "da seguinte forma:\n",
    "```python\n",
    "tikz_save('meu_tikz.pgf')\n",
    "```\n",
    "para a criar um arquivo TikZ com o nome de \"meu_tikz.pgf\". Para isso carregue a biblioteca  com:\n",
    "```python\n",
    "from matplotlib2tikz import save as tikz_save\n",
    "```\n",
    "\n",
    "#### Opcional\n",
    "\n",
    "Os scripts aceitam várias opções, por exemplo `height`, `width`, `encoding`, e algumas outras. Chame elas da seguinte forma:\n",
    "```python\n",
    "tikz_save('meu_tikz.pgf', figureheight='4cm', figurewidth='6cm')\n",
    "```\n",
    "\n",
    "Observe que altura e largura devem ser definidas grandes o suficiente; Configurá-lo muito baixo pode resultar em uma falha de compilação do LaTeX ao longo das linhas de dimensões muito grande ou um `Arithmetic Overflow`; Consulte informações sobre esses erros no manual PGFPlots. Para especificar a dimensão do gráfico a partir do documento \\LaTeX, tente\n",
    "\n",
    "```python\n",
    "    tikz_save(\n",
    "        'meu_tikz.pgf',\n",
    "        figureheight = '\\\\figureheight',\n",
    "        figurewidth = '\\\\figurewidth'\n",
    "        )\n",
    "```\n",
    "\n",
    "e no código fonte LaTeX escreva\n",
    "\n",
    "```latex\n",
    "    \\newlength\\figureheight\n",
    "    \\newlength\\figurewidth\n",
    "    \\setlength\\figureheight{4cm}\n",
    "    \\setlength\\figurewidth{6cm}\n",
    "    \\input{mytikz.tex}\n",
    "```\n",
    "Adicione o conteúdo do arquivo \"meu_tikz.pgf\" em seu código-fonte LaTeX; uma maneira conveniente de fazê-lo é através de \\input{/path/to/meu_tikz.pgf}. Também certifique-se de que no cabeçalho do documento os pacotes para PGFPlots e suporte a Unicode adequada e estão incluídos:\n",
    "\n",
    "```latex\n",
    "    \\usepackage[utf8]{inputenc}\n",
    "    \\usepackage{pgfplots}\n",
    "```\n",
    "Adicionalmente, com o LuaLaTeX\n",
    "\n",
    "```latex\n",
    "    \\usepackage{fontspec}\n",
    "```\n",
    "\n",
    "será necessário para compor os caracteres Unicode. Opcionalmente, para usar os recursos PGFPlots mais recentes,\n",
    "\n",
    "```latex\n",
    "    \\pgfplotsset{compat=newest}\n",
    "```"
   ]
  },
  {
   "cell_type": "markdown",
   "metadata": {},
   "source": [
    "## Javscript\n",
    "\n",
    "O Jupyter também permite que os objetos declarem uma representação JavaScript. No início, isso pode parecer estranho como saída é inerentemente visual e JavaScript é uma linguagem de programação. No entanto, isso abre a porta para a saída rica que aproveita toda a potência do JavaScript e bibliotecas associadas, como D3 para a saída.\n"
   ]
  },
  {
   "cell_type": "code",
   "execution_count": null,
   "metadata": {
    "ExecuteTime": {
     "end_time": "2019-08-12T12:32:22.042459Z",
     "start_time": "2019-08-12T12:32:22.035705Z"
    }
   },
   "outputs": [],
   "source": [
    "%%javascript\n",
    "\n",
    "alert(\"Hello world!\");"
   ]
  },
  {
   "cell_type": "markdown",
   "metadata": {},
   "source": [
    "# Instalando o kernel do C\n",
    "\n",
    "Para instalar o [kernel do C](https://github.com/brendan-rius/jupyter-c-kernel) siga os passos a seguir:\n",
    "\n",
    "### Instalação Manual \n",
    "\n",
    "Certifique-se que o seu sistemas tem o seguintes programas instalados:\n",
    "\n",
    "- gcc\n",
    "- jupyter\n",
    "- python 3\n",
    "- pip3\n",
    "\n",
    "### Instalação passo a passo\n",
    "\n",
    "Siga as instruções na sequência a seguir:\n",
    "\n",
    "```bash\n",
    "> git clone https://github.com/brendan-rius/jupyter-c-kernel.git\n",
    "> sudo -H pip3 install -U jupyter-c-kernel\n",
    "> cd jupyter-c-kernel\n",
    "> sudo -H jupyter-kernelspec install jupyter_c_kernel/\n",
    "> sudo mv resources /usr/local/lib/python3.5/dist-packages/.\n",
    "> sudo chown -cR root.root /usr/local/lib/python3.5/dist-packages/resources\n",
    "> jupyter-notebook. \n",
    "```\n",
    "Agora é só testar. Reinicie o jupyter notebook "
   ]
  },
  {
   "cell_type": "code",
   "execution_count": null,
   "metadata": {},
   "outputs": [],
   "source": [
    "# Vamos instalar o kernel do C Manualmente\n",
    "!sudo -H pip3 install -U jupyter-c-kernel"
   ]
  },
  {
   "cell_type": "markdown",
   "metadata": {},
   "source": [
    "É necessário informar ao python onde está o kernel e para isso faremos"
   ]
  },
  {
   "cell_type": "code",
   "execution_count": null,
   "metadata": {},
   "outputs": [],
   "source": [
    "!git clone https://github.com/brendan-rius/jupyter-c-kernel.git"
   ]
  },
  {
   "cell_type": "code",
   "execution_count": null,
   "metadata": {},
   "outputs": [],
   "source": [
    "!sudo pip3.5 install jupyter-c-kernel/"
   ]
  },
  {
   "cell_type": "code",
   "execution_count": null,
   "metadata": {},
   "outputs": [],
   "source": [
    "%%bash\n",
    "sudo cat <<FIM > jupyter-c-kernel/jupyter_c_kernel/kernel.json\n",
    "{\n",
    "  \"argv\": [\n",
    "    \"python3\",\n",
    "    \"-m\",\n",
    "    \"jupyter_c_kernel\",\n",
    "    \"-f\",\n",
    "    \"{connection_file}\"\n",
    "  ],\n",
    "  \"display_name\": \"C\",\n",
    "  \"language\": \"c\"\n",
    "}\n",
    "FIM"
   ]
  },
  {
   "cell_type": "code",
   "execution_count": null,
   "metadata": {},
   "outputs": [],
   "source": [
    "! cd jupyter-c-kernel && sudo -H jupyter-kernelspec install jupyter_c_kernel/"
   ]
  },
  {
   "cell_type": "code",
   "execution_count": null,
   "metadata": {},
   "outputs": [],
   "source": [
    "%%bash\n",
    "if [ -d /usr/local/lib/python3.5/dist-packages/ ]\n",
    "then \n",
    "   echo \"O diretório já existe e foi movido o seu conteúdo\"\n",
    "   sudo mv -f jupyter-c-kernel/resources/* /usr/local/lib/python3.5/dist-packages/resources/.\n",
    "else \n",
    "   echo \"O diretório foi movido com o seu conteúdo\"\n",
    "   sudo mv -f resources /usr/local/lib/python3.5/dist-packages/.\n",
    "fi"
   ]
  },
  {
   "cell_type": "code",
   "execution_count": null,
   "metadata": {},
   "outputs": [],
   "source": [
    "!sudo chown -cR root.root /usr/local/lib/python3.5/dist-packages/resources"
   ]
  },
  {
   "cell_type": "code",
   "execution_count": null,
   "metadata": {},
   "outputs": [],
   "source": [
    "# Se tudo ocorreu bem você já pode remover a pasta do jupyte-c-kernel\n",
    "! rm -rf jupyter-c-kernel"
   ]
  },
  {
   "cell_type": "markdown",
   "metadata": {},
   "source": [
    "O kernel deve estar instalado no diretório: /usr/local/share/jupyter/kernels/c_spec"
   ]
  },
  {
   "cell_type": "code",
   "execution_count": null,
   "metadata": {},
   "outputs": [],
   "source": [
    "# Para verificar liste o diretório\n",
    "! ls -alh /usr/local/share/jupyter/kernels/"
   ]
  },
  {
   "cell_type": "code",
   "execution_count": null,
   "metadata": {},
   "outputs": [],
   "source": [
    "# Para verificar se o arquivo foi criado e o seu conteúdo\n",
    "! cat /usr/local/share/jupyter/kernels/jupyter_c_kernel/kernel.json"
   ]
  },
  {
   "cell_type": "markdown",
   "metadata": {},
   "source": [
    "# Instalando os kernels do Gnuplot e do Scilab\n",
    "\n",
    "Ele é um kernel do Jupyter/IPython para o [Gnuplot](https://github.com/has2k1/gnuplot_kernel) e para o [Scilab](https://github.com/Calysto/scilab_kernel).\n",
    "\n",
    "### Instalação Manual \n",
    "\n",
    "Certifique-se que o seu sistemas tem o seguintes programas instalados:\n",
    "\n",
    "- gnuplot\n",
    "- scilab\n",
    "- jupyter\n",
    "- python 3\n",
    "- pip3\n",
    "- [metakernel](https://github.com/Calysto/metakernel)\n",
    "\n",
    "\n",
    "### Instalação passo a passo\n",
    "\n",
    "```bash\n",
    "sudo -H pip3 install --upgrade metakernel\n",
    "sudo -H pip3 install --upgrade gnuplot_kernel\n",
    "sudo -H pip3 install --upgrade scilab_kernel\n",
    "```\n",
    "\n",
    "Será necessário gerar as especificações do metakernel \n",
    "\n",
    "```bash\n",
    "> mkdir metakernel_spec\n",
    "```\n",
    "crie dentro desse diretório o arquivo \"kernel.json\" com o seguinte conteúdo:\n",
    "```json\n",
    "{\n",
    "  \"argv\": [\n",
    "    \"python3\",\n",
    "    \"-m\",\n",
    "    \"metakernel_kernel\",\n",
    "    \"-f\",\n",
    "    \"{connection_file}\"\n",
    "  ],\n",
    "  \"display_name\": \"Metakernel\",\n",
    "  \"language\": \"metakernel\"\n",
    "}\n",
    "```\n",
    "\n",
    "Será necessário gerar as especificações do gnuplot_kernel e para isso faça\n",
    "\n",
    "```bash\n",
    "> mkdir metakernel_spec\n",
    "> mkdir gnuplot_spec\n",
    "```\n",
    "crie dentro desse diretório o arquivo \"kernel.json\" com o seguinte conteúdo:\n",
    "```json\n",
    "{\n",
    "  \"argv\": [\n",
    "    \"python3\",\n",
    "    \"-m\",\n",
    "    \"gnuplot_kernel\",\n",
    "    \"-f\",\n",
    "    \"{connection_file}\"\n",
    "  ],\n",
    "  \"display_name\": \"Gnuplot\",\n",
    "  \"language\": \"gnuplot\"\n",
    "}\n",
    "```\n",
    "\n",
    "Agora ative os dois kernels fazendo:\n",
    "\n",
    "```bash\n",
    "> sudo -H jupyter-kernelspec install metakernel_spec/\n",
    "> sudo -H jupyter-kernelspec install gnuplot_spec/\n",
    "> jupyter-notebook. \n",
    "```\n",
    "\n",
    "O metakernel exige que se adicione o seguinte arquivo\n",
    "```bash\n",
    "# /etc/ipython/ipython_config.py\n",
    "c = get_config()\n",
    "startup = [\n",
    "   'from metakernel import register_ipython_magics',\n",
    "   'register_ipython_magics()',\n",
    "]\n",
    "c.InteractiveShellApp.exec_lines = startup\n",
    "```\n",
    "\n",
    "Agora é só testar. Reinicie o jupyter notebook \n",
    "\n",
    "\n",
    "#### Para instalar execute as células  abaixo\n",
    "\n",
    "Para realizar a instalação do kernel do gnuplot e scilab é necessário instalar o metakernel. Antes vá ao menu Kernel --> Change Kernel e veja quais são os kernels que já se  encontram instalados. \n",
    "\n",
    "Portanto siga os passos das células abaixo: "
   ]
  },
  {
   "cell_type": "code",
   "execution_count": null,
   "metadata": {},
   "outputs": [],
   "source": [
    "!sudo -H pip3 install --upgrade metakernel"
   ]
  },
  {
   "cell_type": "code",
   "execution_count": null,
   "metadata": {},
   "outputs": [],
   "source": [
    "%%file ipython_config.py\n",
    "c = get_config()\n",
    "startup = [\n",
    "   'from metakernel import register_ipython_magics',\n",
    "   'register_ipython_magics()',\n",
    "]\n",
    "c.InteractiveShellApp.exec_lines = startup"
   ]
  },
  {
   "cell_type": "code",
   "execution_count": null,
   "metadata": {},
   "outputs": [],
   "source": [
    "!sudo -p mkdir /etc/ipython"
   ]
  },
  {
   "cell_type": "code",
   "execution_count": null,
   "metadata": {},
   "outputs": [],
   "source": [
    "!sudo mv ipython_config.py /etc/ipython/."
   ]
  },
  {
   "cell_type": "code",
   "execution_count": null,
   "metadata": {},
   "outputs": [],
   "source": [
    "!ls -alh /etc/ipython/"
   ]
  },
  {
   "cell_type": "code",
   "execution_count": null,
   "metadata": {},
   "outputs": [],
   "source": [
    "! sudo chown -c root.root /etc/ipython/ipython_config.py"
   ]
  },
  {
   "cell_type": "code",
   "execution_count": null,
   "metadata": {},
   "outputs": [],
   "source": [
    "!sudo -H pip3 install --upgrade gnuplot_kernel"
   ]
  },
  {
   "cell_type": "code",
   "execution_count": null,
   "metadata": {},
   "outputs": [],
   "source": [
    "!sudo -H pip3 install --upgrade scilab_kernel"
   ]
  },
  {
   "cell_type": "code",
   "execution_count": null,
   "metadata": {},
   "outputs": [],
   "source": [
    "!mkdir -p metakernel_spec"
   ]
  },
  {
   "cell_type": "code",
   "execution_count": null,
   "metadata": {},
   "outputs": [],
   "source": [
    "%%file metakernel_spec/kernel.json\n",
    "{\n",
    "  \"argv\": [\n",
    "    \"python3\",\n",
    "    \"-m\",\n",
    "    \"metakernel_kernel\",\n",
    "    \"-f\",\n",
    "    \"{connection_file}\"\n",
    "  ],\n",
    "  \"display_name\": \"Metakernel\",\n",
    "  \"language\": \"metakernel\"\n",
    "}"
   ]
  },
  {
   "cell_type": "code",
   "execution_count": null,
   "metadata": {},
   "outputs": [],
   "source": [
    "!sudo -H jupyter-kernelspec install metakernel_spec/"
   ]
  },
  {
   "cell_type": "code",
   "execution_count": null,
   "metadata": {},
   "outputs": [],
   "source": [
    "!rm -rf metakernel_spec"
   ]
  },
  {
   "cell_type": "code",
   "execution_count": null,
   "metadata": {},
   "outputs": [],
   "source": [
    "!mkdir -p gnuplot_spec"
   ]
  },
  {
   "cell_type": "code",
   "execution_count": null,
   "metadata": {},
   "outputs": [],
   "source": [
    "%%file gnuplot_spec/kernel.json\n",
    "{\n",
    "  \"argv\": [\n",
    "    \"python3\",\n",
    "    \"-m\",\n",
    "    \"gnuplot_kernel\",\n",
    "    \"-f\",\n",
    "    \"{connection_file}\"\n",
    "  ],\n",
    "  \"display_name\": \"Gnuplot\",\n",
    "  \"language\": \"gnuplot\"\n",
    "}"
   ]
  },
  {
   "cell_type": "code",
   "execution_count": null,
   "metadata": {},
   "outputs": [],
   "source": [
    "!cat gnuplot_spec/kernel.json"
   ]
  },
  {
   "cell_type": "code",
   "execution_count": null,
   "metadata": {},
   "outputs": [],
   "source": [
    "!sudo -H jupyter-kernelspec install gnuplot_spec/"
   ]
  },
  {
   "cell_type": "code",
   "execution_count": null,
   "metadata": {},
   "outputs": [],
   "source": [
    "!rm -rf gnuplot_spec"
   ]
  },
  {
   "cell_type": "code",
   "execution_count": null,
   "metadata": {},
   "outputs": [],
   "source": [
    "!mkdir -p scilab_spec"
   ]
  },
  {
   "cell_type": "code",
   "execution_count": null,
   "metadata": {},
   "outputs": [],
   "source": [
    "%%file scilab_spec/kernel.json\n",
    "{\n",
    "  \"argv\": [\n",
    "    \"python3\",\n",
    "    \"-m\",\n",
    "    \"scilab_kernel\",\n",
    "    \"-f\",\n",
    "    \"{connection_file}\"\n",
    "  ],\n",
    "  \"display_name\": \"Scilab\",\n",
    "  \"language\": \"scilab\"\n",
    "}"
   ]
  },
  {
   "cell_type": "code",
   "execution_count": null,
   "metadata": {},
   "outputs": [],
   "source": [
    "!sudo -H jupyter-kernelspec install scilab_spec/"
   ]
  },
  {
   "cell_type": "code",
   "execution_count": null,
   "metadata": {},
   "outputs": [],
   "source": [
    "!rm -rf scilab_spec"
   ]
  },
  {
   "cell_type": "code",
   "execution_count": null,
   "metadata": {},
   "outputs": [],
   "source": [
    "!sudo -H pip3 install --upgrade bash_kernel"
   ]
  },
  {
   "cell_type": "code",
   "execution_count": null,
   "metadata": {},
   "outputs": [],
   "source": [
    "!mkdir -p bash_spec"
   ]
  },
  {
   "cell_type": "code",
   "execution_count": null,
   "metadata": {},
   "outputs": [],
   "source": [
    "%%file bash_spec/kernel.joson\n",
    "{\n",
    "  \"argv\": [\n",
    "    \"python3\",\n",
    "    \"-m\",\n",
    "    \"bash_kernel\",\n",
    "    \"-f\",\n",
    "    \"{connection_file}\"\n",
    "  ],\n",
    "  \"display_name\": \"Bash\",\n",
    "  \"language\": \"bash\"\n",
    "}"
   ]
  },
  {
   "cell_type": "code",
   "execution_count": null,
   "metadata": {},
   "outputs": [],
   "source": [
    "!sudo -H jupyter-kernelspec install bash_spec/"
   ]
  },
  {
   "cell_type": "code",
   "execution_count": null,
   "metadata": {},
   "outputs": [],
   "source": [
    "!rm -rf bash_spec"
   ]
  },
  {
   "cell_type": "markdown",
   "metadata": {},
   "source": [
    "Agora é só testar. Reinicie o jupyter notebook e depois vá no menu Kernel --> Change Kernel e veja se aparece os kernels instalados? Se apareceu está tudo ok."
   ]
  },
  {
   "cell_type": "markdown",
   "metadata": {},
   "source": [
    "## Kernel do Gnuplot\n",
    "\n",
    "Ao iniciar um novo notebook vocẽ agora deve seelcionar o kernel a ser usado. No caso da selecção ter sido o do gnuplo, todas as células de código serão interpretadas como declarações para gnuplot a menos que a célula magic esteja sendo usada. Da mesma forma, cada linha é uma declaração para gnuplot a menos que seja uma linha magic. Vamos ver o que tudo isso significa.\n",
    "\n",
    "Entretanto aqui o kernel que está sendo usado é do Python 3, conforme mostra o canto superior direito da linha que contém o menu deste notebook.\n",
    "\n",
    "Pode-se fazer alguns gráficos usando o gnuplot, para isso deve-se usar as `magics` do notebook. Para carregar a extensão do gnuplot faça `%load_ext gnuplot_kernel`\n"
   ]
  },
  {
   "cell_type": "code",
   "execution_count": null,
   "metadata": {
    "ExecuteTime": {
     "end_time": "2019-08-12T12:32:43.171155Z",
     "start_time": "2019-08-12T12:32:42.684228Z"
    }
   },
   "outputs": [],
   "source": [
    "# Esse código as magics para o gnuplot\n",
    "%load_ext gnuplot_kernel"
   ]
  },
  {
   "cell_type": "markdown",
   "metadata": {},
   "source": [
    "Agora coloque o seguinte código `%%gnuplot` no início de toda célula que contém um código do gnuplot.\n",
    "\n",
    "Primeiro, um gráfico e um cálculo simples."
   ]
  },
  {
   "cell_type": "code",
   "execution_count": null,
   "metadata": {
    "ExecuteTime": {
     "end_time": "2019-08-12T12:33:07.402382Z",
     "start_time": "2019-08-12T12:33:07.020673Z"
    }
   },
   "outputs": [],
   "source": [
    "%%gnuplot\n",
    "plot sin(x), cos(x),  exp(-x/10)*sin(x)**2"
   ]
  },
  {
   "cell_type": "code",
   "execution_count": null,
   "metadata": {
    "ExecuteTime": {
     "end_time": "2019-08-12T12:33:11.060077Z",
     "start_time": "2019-08-12T12:33:11.007487Z"
    }
   },
   "outputs": [],
   "source": [
    "%%gnuplot\n",
    "set parametric\n",
    "set contour base\n",
    "set grid xtics ytics ztics\n",
    "unset key\n",
    "splot cos(u)*cos(v),2*sin(u)*cos(v),3*sin(v)"
   ]
  },
  {
   "cell_type": "markdown",
   "metadata": {},
   "source": [
    "## Exportando e Convertendo Notebooks\n",
    "\n",
    "No Jupyter, é possível converter um arquivo de documentos do notebook `.ipynb` em vários formatos estáticos através da ferramenta `nbconvert`. Atualmente, nbconvert é uma ferramenta de linha de comando, executado como um script usando Jupyter."
   ]
  },
  {
   "cell_type": "code",
   "execution_count": null,
   "metadata": {},
   "outputs": [],
   "source": [
    "!jupyter nbconvert --to html Seminario-_Introducao_ao_Jupyter.ipynb"
   ]
  },
  {
   "cell_type": "markdown",
   "metadata": {},
   "source": [
    "Atualmente, `nbconvert` suporta HTML (padrão), LaTeX, Markdown, reStructuredText, Python e Slides HTML5 para apresentações. Alguns tipos podem ser pós-processados, como LaTeX para PDF (isso requer [Pandoc](http://johnmacfarlane.net/pandoc/) para ser instalado, no entanto)."
   ]
  },
  {
   "cell_type": "code",
   "execution_count": null,
   "metadata": {},
   "outputs": [],
   "source": [
    "!jupyter nbconvert --to pdf Seminario-_Introducao_ao_Jupyter.ipynb"
   ]
  },
  {
   "cell_type": "code",
   "execution_count": null,
   "metadata": {},
   "outputs": [],
   "source": [
    "!evince Seminario-_Introducao_ao_Jupyter.pdf"
   ]
  },
  {
   "cell_type": "markdown",
   "metadata": {},
   "source": [
    "Um serviço on-line muito útil é o [IPython Notebook Viewer](http://nbviewer.ipython.org) que permite que você exiba seu notebook como uma página HTML estática, que é útil para compartilhar com outras pessoas:"
   ]
  },
  {
   "cell_type": "code",
   "execution_count": null,
   "metadata": {},
   "outputs": [],
   "source": [
    "%%html\n",
    "<iframe src=http://nbviewer.ipython.org/2352771 width=700 height=300></iframe>"
   ]
  },
  {
   "cell_type": "markdown",
   "metadata": {},
   "source": [
    "Além disso, o GitHub suporta [renderização de Notebooks Jupyter](https://github.com/fonnesbeck/Bios8366/blob/master/notebooks/Section1_2-Programming-with-Python.ipynb) armazenado em seus repositórios."
   ]
  },
  {
   "cell_type": "markdown",
   "metadata": {},
   "source": [
    "### Coverter código python em notebook\n",
    "\n",
    "Uma API do IPython possui funções para ler e escrever arquivos do tipo Notebooks. Você deve usar esta API e não criar JSON diretamente. Por exemplo, o seguinte fragmento de código converte um script test.py em um notebook test.ipynb.\n",
    "\n",
    "```python3\n",
    "import IPython.nbformat.current as nbf\n",
    "nb = nbf.read(open('test.py', 'r'), 'py')\n",
    "nbf.write(nb, open('test.ipynb', 'w'), 'ipynb')\n",
    "```\n",
    "\n",
    "veja maiores detalhes em [Converting to (not from) ipython Notebook format](https://stackoverflow.com/questions/23292242/converting-to-not-from-ipython-notebook-format)\n",
    "\n",
    "A seguir apresenta-se um código completo para fazer isso:"
   ]
  },
  {
   "cell_type": "code",
   "execution_count": null,
   "metadata": {},
   "outputs": [],
   "source": [
    "import nbformat\n",
    "from nbformat.v4 import new_code_cell,new_notebook\n",
    "\n",
    "import codecs\n",
    "\n",
    "sourceFile = \"codigo-fonte.py\"       # <<<< Código a ser convertido em ipynb\n",
    "destFile   = \"codigo-fonte.ipynb\"    # <<<< Código convertido em ipynb\n",
    "\n",
    "\n",
    "def parsePy(fn):\n",
    "    \"\"\" Gerador que analisa um arquivo .py exportado de um IPython/Jupyter notebook e\n",
    "extrai as células de código (O que quer que seja entre ocorrências de \"In[*]:\").\n",
    "Retorna uma string contendo uma ou mais linhas\n",
    "\"\"\"\n",
    "    with open(fn,\"r\") as f:\n",
    "        lines = []\n",
    "        for l in f:\n",
    "            l1 = l.strip()\n",
    "            if l1.startswith('# In[') and l1.endswith(']:') and lines:\n",
    "                yield \"\".join(lines)\n",
    "                lines = []\n",
    "                continue\n",
    "            lines.append(l)\n",
    "        if lines:\n",
    "            yield \"\".join(lines)\n",
    "\n",
    "# Cria as células de código analisando o arquido de entrada\n",
    "cells = []\n",
    "for c in parsePy(sourceFile):\n",
    "    cells.append(new_code_cell(source=c))\n",
    "\n",
    "# Essa linha cria um Notebook V4 com as células de código extraídas acima\n",
    "nb0 = new_notebook(cells=cells,\n",
    "                   metadata={'language': 'python',})\n",
    "\n",
    "with codecs.open(destFile, encoding='utf-8', mode='w') as f:\n",
    "    nbformat.write(nb0, f, 4)"
   ]
  },
  {
   "cell_type": "markdown",
   "metadata": {},
   "source": [
    "O código abaixo irá converter todos os arquivos .py em notebooks. Escolha o diretório e excute o código. "
   ]
  },
  {
   "cell_type": "code",
   "execution_count": null,
   "metadata": {},
   "outputs": [],
   "source": [
    "import nbformat\n",
    "from nbformat.v4 import new_code_cell,new_notebook\n",
    "import codecs\n",
    "import os\n",
    "\n",
    "\n",
    "def parsePy(fn):\n",
    "    \"\"\" Generator that parses a .py file exported from a IPython notebook and\n",
    "extracts code cells (whatever is between occurrences of \"In[*]:\").\n",
    "Returns a string containing one or more lines\n",
    "\"\"\"\n",
    "    with open(fn,\"r\") as f:\n",
    "        lines = []\n",
    "        for l in f:\n",
    "            l1 = l.strip()\n",
    "            if l1.startswith('# In[') and l1.endswith(']:') and lines:\n",
    "                yield \"\".join(lines)\n",
    "                lines = []\n",
    "                continue\n",
    "            lines.append(l)\n",
    "        if lines:\n",
    "            yield \"\".join(lines)\n",
    "            \n",
    "def genNb(sourceFile,destFile):\n",
    "    # Create the code cells by parsing the file in input\n",
    "    cells = []\n",
    "    for c in parsePy(sourceFile):\n",
    "        cells.append(new_code_cell(source=c))\n",
    "\n",
    "    # This creates a V4 Notebook with the code cells extracted above\n",
    "    nb0 = new_notebook(cells=cells,\n",
    "                   metadata={'language': 'python',})\n",
    "\n",
    "    with codecs.open(destFile, encoding='utf-8', mode='w') as f:\n",
    "        nbformat.write(nb0, f, 4)\n",
    "\n",
    "\n",
    "dir='.'  # quando vazio significa diretório local\n",
    "\n",
    "# Aqui encontramos todos os arquivo python no diretório \n",
    "arq_python = [x for x in os.listdir(dir) if x.endswith(\".py\")]\n",
    "\n",
    "for x in arq_python :\n",
    "    sourcefile=x\n",
    "    destfile=x.split('.')[0]+'.ipynb'\n",
    "    print(\"Source= \", sourcefile, \" Destino = \", destfile)\n",
    "    genNb(sourcefile,destfile)\n",
    "\n",
    "# Para verificar o resultado\n",
    "arq_conv = [x for x in os.listdir(dir) if x.endswith(\".py\") or x.endswith(\".ipynb\")]\n",
    "print(arq_conv)"
   ]
  },
  {
   "cell_type": "markdown",
   "metadata": {},
   "source": [
    "## IPython paralelo\n",
    "\n",
    "Em um nível alto, há três componentes básicos para paralelizar IPython:\n",
    "\n",
    "* Máquina(s) - os processos remotos ou distribuídos onde seu código é executado.\n",
    "* Cliente - sua interface para executar o código em motores.\n",
    "* Controlador - a coleção de processos que coordenam Motores e Clientes.\n",
    "\n",
    "Esses componentes vivem no pacote `IPython.parallel`, que foi lançado em seu próprio modelo que requer instalação.\n",
    "\n",
    "\n",
    "### Computação Paralela e Iterativa Com o IPython\n",
    "\n",
    "ipyparallel é o novo nome do IPython.parallel. ipyparallel é um pacote Python e uma  coleção de scripts CLI para controlar clusters para Jupyter. \n",
    "\n",
    "ipyparallel contém os seguintes scripts CLI:\n",
    "\n",
    "* ipcluster - inicia/para um cluster\n",
    "* ipcontroller - inicia um agendador\n",
    "* ipengine - inicia um motor\n",
    "\n",
    "\n",
    "### Instalação\n",
    "\n",
    "Para instalar o ipyparallel digite na linha de comando:\n",
    "\n",
    "```bash\n",
    "    sudo -H pip3 install -U ipyparallel\n",
    "```\n",
    "ou via `conda`:\n",
    "\n",
    "```bash\n",
    "sudo -H conda install ipyparallel\n",
    "```\n",
    "\n",
    "Para habilitar a tab do `IPython Clusters` no Jupyter Notebook:\n",
    "\n",
    "```bash\n",
    "sudo -H ipcluster nbextension enable\n",
    "```\n",
    "Para desabilitar ela novamente:\n",
    "\n",
    "```bash\n",
    "sudo -H ipcluster nbextension disable\n",
    "```\n",
    "\n",
    "Para instalar a guia IPython Clusters no Jupyter Notebook, adicione isso ao seu `jupyter_notebook_config.py`:\n",
    "\n",
    "```python\n",
    "c.NotebookApp.server_extensions.append('ipyparallel.nbextension')\n",
    "```\n",
    "\n",
    "Este arquivo reside no subdiretório `~/.jupyter` do seu diretório pessoal e deve ser criado se ele ainda não existir.\n",
    "\n",
    "\n",
    "Veja o [\"documentation on configuring the notebook server\"](https://jupyter-notebook.readthedocs.io/en/latest/public_server.html) para achar seu arquivo de configuração ou sua configuração inicial `jupyter_notebook_config.py`.\n",
    "\n",
    "\n",
    "### Instalando o JupyterHub \n",
    "\n",
    "Para instalar o JupyterHub para todos os usuários, digite:\n",
    "\n",
    "```bash\n",
    "sudo -H jupyter nbextension install --sys-prefix --py ipyparallel\n",
    "sudo -H jupyter nbextension enable --sys-prefix --py ipyparallel\n",
    "sudo -H jupyter serverextension enable --sys-prefix --py ipyparallel\n",
    "```\n",
    "\n",
    "## Rodando\n",
    "\n",
    "Inicia um cluster:\n",
    "\n",
    "```bash\n",
    "ipcluster start\n",
    "```\n",
    "\n",
    "Usado ele a partir do Python:\n",
    "\n",
    "```python\n",
    "import os\n",
    "import ipyparallel as ipp\n",
    "rc = ipp.Client()\n",
    "ar = rc[:].apply_async(os.getpid)\n",
    "pid_map = ar.get_dict()\n",
    "```\n",
    "\n",
    "## Documentação\n",
    "\n",
    "Para maiores detalhes consulte o manual [\"Using IPython for parallel computing\"](http://ipyparallel.readthedocs.io/en/latest/index.html)."
   ]
  },
  {
   "cell_type": "markdown",
   "metadata": {},
   "source": [
    "Antes de executar a próxima célula, certifique-se de ter iniciado o cluster pela primeira vez, você pode usar a guia [clusters no painel](#tab2) para fazer isso."
   ]
  },
  {
   "cell_type": "code",
   "execution_count": null,
   "metadata": {},
   "outputs": [],
   "source": [
    "import os\n",
    "import ipyparallel as ipp\n",
    "rc = ipp.Client()\n",
    "ar = rc[:].apply_async(os.getpid)\n",
    "pid_map = ar.get_dict()"
   ]
  },
  {
   "cell_type": "code",
   "execution_count": null,
   "metadata": {},
   "outputs": [],
   "source": [
    "from ipyparallel import Client\n",
    "client = Client()\n",
    "dv = client.direct_view()"
   ]
  },
  {
   "cell_type": "code",
   "execution_count": null,
   "metadata": {},
   "outputs": [],
   "source": [
    "len(dv)"
   ]
  },
  {
   "cell_type": "code",
   "execution_count": null,
   "metadata": {},
   "outputs": [],
   "source": [
    "def where_am_i():\n",
    "    import os\n",
    "    import socket\n",
    "    \n",
    "    return \"No processo com pid {0} no nó: '{1}'\".format(\n",
    "        os.getpid(), socket.gethostname())"
   ]
  },
  {
   "cell_type": "code",
   "execution_count": null,
   "metadata": {},
   "outputs": [],
   "source": [
    "where_am_i_direct_results = dv.apply(where_am_i)\n",
    "where_am_i_direct_results.get()"
   ]
  },
  {
   "cell_type": "markdown",
   "metadata": {},
   "source": [
    "# Células Markdown"
   ]
  },
  {
   "cell_type": "markdown",
   "metadata": {},
   "source": [
    "O texto pode ser adicionado aos notebooks IPython usando células Markdown. Markdown é uma linguagem de marcação popular que é um superconjunto de HTML. Sua especificação pode ser encontrada aqui:\n",
    "\n",
    "<http://daringfireball.net/projects/markdown/>"
   ]
  },
  {
   "cell_type": "markdown",
   "metadata": {},
   "source": [
    "## Noções básicas do Markdown"
   ]
  },
  {
   "cell_type": "markdown",
   "metadata": {},
   "source": [
    "Para adicionar um texto em itálico usa-se `*itálico*` como em *itálico* já para adicionar um em negrito usa-se `**negrito**` como em **negrito**."
   ]
  },
  {
   "cell_type": "markdown",
   "metadata": {},
   "source": [
    "## Listas no Markdown\n",
    "\n",
    "Pode-se criar facilmente listas enumeradas ou enumeradas aninhadas:\n",
    "\n",
    "\n",
    "* Item um\n",
    "    - Sublista tópico 1 do item um\n",
    "        - subitem aninhado do tópico 1\n",
    "    - Sublista tópico 2  do item um\n",
    "        - primeiro subitem aninhado do tópico 2\n",
    "        - segundo subitem aninhado do tópico 2\n",
    "* Item dois\n",
    "  - Sublista do item 2\n",
    "* Item três\n",
    "  - Sublista do item 3\n",
    "\n",
    "Agora uma outra lista, mas agora numerada:\n",
    "\n",
    "1. Esse é o primeiro item  da lista\n",
    "    1. Sublista do primeiro item \n",
    "    1. Sublista do primeiro item\n",
    "1. Essse é o segudo item da lista\n",
    "1. Essse é o terceiro item da lista\n",
    "\n",
    "## Listas de tarefas\n",
    "\n",
    "Para criar uma lista de tarefaz, inicie a lista com `[]`. Mareque a tarefa completada com  `[x]`, conforme o exemplo a seguir\n",
    "\n",
    "- [x] Terminei minhas alterações nesse arquivo \n",
    "- [ ] Levar minhas alterações para o GitHub\n",
    "- [ ] Trabalhar no novo texto"
   ]
  },
  {
   "cell_type": "markdown",
   "metadata": {},
   "source": [
    "Pode-se adicionar linhas horizontais:\n",
    "\n",
    "---"
   ]
  },
  {
   "cell_type": "markdown",
   "metadata": {},
   "source": [
    "Aqui está o bloco de citação:\n",
    "\n",
    "> Bonito é melhor do que feio.\n",
    "> Explicito é melhor do que implícito.\n",
    "> Simples é melhor do que complexo.\n",
    "> Complexo é melhor do que complicado.\n",
    "> Liso é melhor do que aninhado.\n",
    "> Esparso é melhor do que denso.\n",
    "> A legibilidade conta.\n",
    "> Casos especiais não são especiais o suficiente para quebrar as regras.\n",
    "> Embora a praticidade supera a pureza.\n",
    "> Erros nunca devem passar em silêncio.\n",
    "> A menos que seja explicitamente silenciado.\n",
    "> Em face da ambiguidade, recusar a tentação de adivinhar.\n",
    "> Deve haver uma - e preferivelmente somente uma - maneira óbvia de fazê-lo.\n",
    "> Embora essa maneira não pode ser óbvia no início a menos que você seja holandês.\n",
    "> Agora é melhor do que nunca.\n",
    "> Embora nunca seja melhor do que *agora*.\n",
    "> Se a implementação é difícil de explicar, então é uma má idéia.\n",
    "> Se a implementação é fácil de explicar, então pode ser uma boa idéia.\n",
    "> Namespaces são uma boa idéia- vamos fazer mais uso deles!"
   ]
  },
  {
   "cell_type": "markdown",
   "metadata": {},
   "source": [
    "A seguir mostramso uma maneira simples de criar links externos: \n",
    "\n",
    "[O site do Jupyter/IPython](http://jupyter.org)"
   ]
  },
  {
   "cell_type": "markdown",
   "metadata": {},
   "source": [
    "Se desejar, você pode adicionar títulos usando a sintaxe do Markdown:\n",
    "\n",
    "# Cabeçalho 1\n",
    "## Cabeçalho 2\n",
    "## Cabeçalho 2.1\n",
    "## Cabeçalho 2.2\n",
    "### Cabeçalho 3"
   ]
  },
  {
   "cell_type": "markdown",
   "metadata": {},
   "source": [
    "**Na maior parte do tempo deve-se usar as células de cabeçalho do notebook para organizar o conteúdo do seu notebook e manter seu documento estruturado**, pois fornecem estrutura significativa que podem ser interpretada por outras ferramentas, não apenas grandes fontes em negrito."
   ]
  },
  {
   "cell_type": "markdown",
   "metadata": {},
   "source": [
    "Pode-se incorporar código destinado à ilustração em vez de execução em Python:\n",
    "```python\n",
    "    def f(x):\n",
    "        \"\"\"a docstring\"\"\"\n",
    "        return x**2\n",
    "```\n",
    "ou em outras linguagens:\n",
    "```C++\n",
    "    if (i=0; i<n; i++) {\n",
    "      printf(\"hello %d\\n\", i);\n",
    "      x += 4;\n",
    "    }\n",
    "```"
   ]
  },
  {
   "cell_type": "markdown",
   "metadata": {},
   "source": [
    "## Equaçõe LaTeX"
   ]
  },
  {
   "cell_type": "markdown",
   "metadata": {},
   "source": [
    "Para escrever equações matemáticas em uma célula do markdown, usa-se o mesma sintaxe do LaTeX, na qual para escrever uma equação *\"inline\"* no meio do texto deve-se usar o par de símbolos \\$ equação \\$. Para escrever uma equação que seja mostrada sozinha em uma única linha, deve-se usar em uma linhas separadas o par de símbolos \\$\\$ equação \\$\\$.\n",
    "\n",
    "Considere por exemplo a seguinte equação no meio do texto $e^{i\\pi} + 1 = 0$, e q seguinte equação em uma linha sozinha:\n",
    "\n",
    "$$\n",
    "%\\begin{equation}\n",
    "e^x=\\sum_{i=0}^\\infty \\frac{1}{i!}x^i\n",
    "%\\end{equation}\n",
    "$$\n",
    "\n",
    "\n",
    "### Numerando equações LaTeX no notebook\n",
    "\n",
    "Para maiores detalhes colsulte o [link](https://github.com/ipython/ipython/issues/4113).\n",
    "\n",
    "Pode-se ativar a numeração executando a célula abaixo com o seguinte contéudo"
   ]
  },
  {
   "cell_type": "code",
   "execution_count": null,
   "metadata": {},
   "outputs": [],
   "source": [
    "%%javascript MathJax.Hub.Config({ TeX: { equationNumbers: { autoNumber: \n",
    "  \"AMS\" } } });"
   ]
  },
  {
   "cell_type": "markdown",
   "metadata": {},
   "source": [
    "Há também uma extensão para a [numeração de uma equação](https://github.com/ipython-contrib/jupyter_contrib_nbextensions)\n",
    "\n",
    "Para instalar a extensão faça o seguinte:\n",
    "\n",
    "```bash\n",
    "sudo -H pip3 install jupyter_contrib_nbextensions\n",
    "jupyter contrib nbextension install --user\n",
    "jupyter nbextension enable equation-numbering/main\n",
    "```"
   ]
  },
  {
   "cell_type": "markdown",
   "metadata": {},
   "source": [
    "Usando o MathJax, pode-se incluir expressões matemáticas no seu texto, usando a nomenclatura LaTeX, conforme exemplo a seguir:\n",
    "$e^{i\\pi} + 1 = 0$  e mostrado como:\n",
    "\n",
    "$$e^x=\\sum_{i=0}^\\infty \\frac{1}{i!}x^i$$"
   ]
  },
  {
   "cell_type": "markdown",
   "metadata": {},
   "source": [
    "## Tabelas no Markdown\n",
    "\n",
    "Há uma interface web a qual gera uma tabela Markdown para você de forma simples: <http://www.tablesgenerator.com/markdown_tables> \n",
    "\n",
    "Porque Markdown é um superconjunto de HTML você pode até mesmo adicionar coisas como tabelas HTML:\n",
    "\n",
    "<table>\n",
    "<tr>\n",
    "<th>Cabeçalho 1</th>\n",
    "<th>Cabeçalho 2</th>\n",
    "</tr>\n",
    "<tr>\n",
    "<td>linha 1, celula 1</td>\n",
    "<td>linha 1, celula 2</td>\n",
    "</tr>\n",
    "<tr>\n",
    "<td>linha 2, celula 1</td>\n",
    "<td>linha 2, celula 2</td>\n",
    "</tr>\n",
    "</table>\n",
    "\n",
    "Uma outra forma de fazer tabelas é usando o seguinte código \n",
    "\n",
    "```markdown\n",
    "| H1-C1 | H2-C2 | H3-C3 | H4-C4 | H5-C5 |\n",
    "|-------|-------|-------|-------|-------|\n",
    "| L2-C1 | L2-C2 | L2-C3 | L2-C4 | L2-C5 |\n",
    "| L3-C1 | L3-C2 | L3-C3 | L3-C4 | L3-C5 |\n",
    "| L4-C1 | L4-C2 | L4-C3 | L4-C4 | L4-C5 |\n",
    "```\n",
    "\n",
    "obtemos como resultado a seguinte tabela:\n",
    "\n",
    "\n",
    "| H1-C1 | H2-C2 | H3-C3 | H4-C4 | H5-C5 |\n",
    "|-------|-------|-------|-------|-------|\n",
    "| L2-C1 | L2-C2 | L2-C3 | L2-C4 | L2-C5 |\n",
    "| L3-C1 | L3-C2 | L3-C3 | L3-C4 | L3-C5 |\n",
    "| L4-C1 | L4-C2 | L4-C3 | L4-C4 | L4-C5 |\n",
    "\n",
    "\n",
    "Quanto ao alinhamento das coulnas, eles podem ser controlados usando o seguinte código\n",
    "\n",
    "```markdown\n",
    "| Esquerda     | Centralizado   | Direita       |\n",
    "| :---         |     :---:      |          ---: |\n",
    "| git status   | git status     | git status    |\n",
    "| git diff     | git diff       | git diff      |\n",
    "```\n",
    " o qual resulta na seguinte tabela\n",
    "\n",
    "| Esquerda     | Centralizado   | Direita       |\n",
    "| :---         |     :---:      |          ---: |\n",
    "| git status   | git status     | git status    |\n",
    "| git diff     | git diff       | git diff      |\n"
   ]
  },
  {
   "cell_type": "markdown",
   "metadata": {},
   "source": [
    "## Incluindo arquivos locais: imagens, vídeos, etc.\n",
    "\n",
    "Se você tiver arquivos locais no diretório do Notebook, você pode consultar e/ou inserir esses arquivos diretamente nas células do Markdown:\n",
    "\n",
    "    [subdiretorio/]<arquivo>\n",
    "\n",
    "Por exemplo, na pasta de Figs, temos o logotipo Python:\n",
    "\n",
    "    <img src=\"../Figs/python_logo.svg\" />\n",
    "\n",
    "<img src=\"../Figs/python_logo.svg\" />\n",
    "\n",
    "e um vídeo com uma tag de vídeo HTML5:\n",
    "\n",
    "    <video controls src=\"../Figs/animation.m4v\" />\n",
    "\n",
    "<video controls src=\"../Figs/animation.m4v\" />\n",
    "\n",
    "Esses não incorporam os dados no arquivo do notebook e exigem que os arquivos existam quando você estiver visualizando o notebook."
   ]
  },
  {
   "cell_type": "markdown",
   "metadata": {},
   "source": [
    "Note que isso significa que o servidor de notebooks IPython também atua como um servidor de arquivos genérico para arquivos dentro da mesma árvore que seus notebooks. O acesso não é concedido fora da pasta do caderno de modo que você tenha controle estrito sobre quais arquivos são visíveis, mas por esse motivo é altamente recomendável que você não execute o servidor de notebook com um diretório de notebook em um nível alto em seu sistema de arquivos diretório).\n",
    "\n",
    "Quando você executa o notebook de maneira protegida por senha, o acesso a arquivos locais é restrito a usuários autenticados, a menos que as exibições somente leitura estejam ativas."
   ]
  },
  {
   "cell_type": "markdown",
   "metadata": {},
   "source": [
    "## Comentários no Markdown\n",
    "\n",
    "Em geral é sempre muito útil poder introduzir alguns comentários em um texto:\n",
    "\n",
    "<http://daringfireball.net/projects/markdown/syntax#link>\n",
    "\n",
    "```markdown\n",
    "[comment]: <> (This is a comment, it will not be included)\n",
    "[comment]: <> (in  the output file unless you use it in)\n",
    "[comment]: <> (a reference style link.)\n",
    "```\n",
    "\n",
    "Para aperfeiçoar a compatibilidade da platforma tamém, é possível usar # (o qual é uma taga para um hiperlink legitimo)  em vez de  <>:\n",
    "\n",
    "```markdown\n",
    "[//]: # (This may be the most platform independent comment)\n",
    "```"
   ]
  },
  {
   "cell_type": "markdown",
   "metadata": {},
   "source": [
    "## Links e Referências\n",
    "\n",
    "\n",
    "Essas notas foram construídas com as informações coletadas na web, e eu não consigo mais agradecer a todos e nem a rastrear a origem  de todos. \n",
    "\n",
    "A seguir apresentamos alguns site interessantes:\n",
    "\n",
    "- [Jupyter Notebook Examples](http://nbviewer.jupyter.org/github/ipython/ipython/tree/1.x/examples/notebooks/)\n",
    "- [NotebookCloud](https://notebookcloud.appspot.com) Um serviço que permite lançar e controlar servidores IPython Notebook no Amazon EC2 a partir do seu navegador.\n",
    "- [IPython Notebook Viewer](http://nbviewer.ipython.org) Exibe versões HTML estáticas de notebooks e inclui uma galeria de exemplos de cadernos. Esse texto é uma adaptação do seu conteúdo."
   ]
  },
  {
   "cell_type": "code",
   "execution_count": null,
   "metadata": {},
   "outputs": [],
   "source": []
  }
 ],
 "metadata": {
  "anaconda-cloud": {},
  "kernelspec": {
   "display_name": "Python 3",
   "language": "python",
   "name": "python3"
  },
  "language_info": {
   "codemirror_mode": {
    "name": "ipython",
    "version": 3
   },
   "file_extension": ".py",
   "mimetype": "text/x-python",
   "name": "python",
   "nbconvert_exporter": "python",
   "pygments_lexer": "ipython3",
   "version": "3.6.8"
  },
  "latex_envs": {
   "LaTeX_envs_menu_present": true,
   "autoclose": false,
   "autocomplete": false,
   "bibliofile": "biblio.bib",
   "cite_by": "apalike",
   "current_citInitial": 1,
   "eqLabelWithNumbers": true,
   "eqNumInitial": 1,
   "hotkeys": {
    "equation": "Ctrl-E",
    "itemize": "Ctrl-I"
   },
   "labels_anchors": false,
   "latex_user_defs": false,
   "report_style_numbering": false,
   "user_envs_cfg": false
  },
  "nav_menu": {},
  "nbTranslate": {
   "displayLangs": [
    "pt",
    "en"
   ],
   "hotkey": "alt-t",
   "langInMainMenu": true,
   "sourceLang": "en",
   "targetLang": "pt",
   "useGoogleTranslate": true
  },
  "toc": {
   "base_numbering": 1,
   "nav_menu": {},
   "number_sections": false,
   "sideBar": true,
   "skip_h1_title": false,
   "title_cell": "Table of Contents",
   "title_sidebar": "Contents",
   "toc_cell": false,
   "toc_position": {},
   "toc_section_display": "block",
   "toc_window_display": false
  },
  "varInspector": {
   "cols": {
    "lenName": 16,
    "lenType": 16,
    "lenVar": 40
   },
   "kernels_config": {
    "python": {
     "delete_cmd_postfix": "",
     "delete_cmd_prefix": "del ",
     "library": "var_list.py",
     "varRefreshCmd": "print(var_dic_list())"
    },
    "r": {
     "delete_cmd_postfix": ") ",
     "delete_cmd_prefix": "rm(",
     "library": "var_list.r",
     "varRefreshCmd": "cat(var_dic_list()) "
    }
   },
   "types_to_exclude": [
    "module",
    "function",
    "builtin_function_or_method",
    "instance",
    "_Feature"
   ],
   "window_display": false
  }
 },
 "nbformat": 4,
 "nbformat_minor": 1
}
