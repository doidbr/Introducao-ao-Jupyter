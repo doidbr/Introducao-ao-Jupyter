{
 "cells": [
  {
   "cell_type": "markdown",
   "metadata": {},
   "source": [
    "#  Python e o Jupyter/IPython Notebook\n",
    "\n",
    "\n",
    "## Contéudo\n",
    "\n",
    "- [Porque Python](#Porque-Python)\n",
    "  - [Documentação](#Documentação)\n",
    "  - [O projeto Jupyter/IPython](#O-projeto-Jupyter/IPython)\n",
    "- [O que você precisa instalar](#O-que-você-precisa-instalar)\n",
    "- [Instalando o Jupyter Notebook](#Instalando-o-Jupyter-Notebook)\n",
    "- [Pré-requisito: Python](#Prerequisito)\n",
    "- [Instalando o Jupyter Notebook usando o Anaconda e conda](#Anaconda)\n",
    "- [Usuários Linux: Instalar o Jupyter com o pip](#pip)\n",
    "- [Verificando Minha Instalação](#Verificando-Minha-Instalação)\n",
    "- [IPython](#IPython)\n",
    "  * [A saída é assíncrona](#A-saída-é-assíncrona)\n",
    "  * [Introspecção](#Introspecção)\n",
    "  * [Completar com Tab](#Completar-com-Tab)\n",
    "  * [Comandos do sistema](#Comandos-do-sistema)\n",
    "  * [Console  Qt](#Console -Qt)\n",
    "- [Jupyter Notebook](#Jupyter-Notebook)\n",
    "  * [Código Remoto](#Código-Remoto)\n",
    "  * [Suporte ao Mathjax](#Suporte-ao-Mathjax)\n",
    "  * [Suporte SymPy](#Suporte-SymPy)\n",
    "  * [Funções mágicas](#Funções-mágicas)\n",
    "  * [LaTeX](#LaTeX)\n",
    "  * [A biblioteca matplotlib2tikz](#A-biblioteca-matplotlib2tikz)\n",
    "  * [Javascript](#Javascript)\n",
    "- [Instalando o kernel do C](#Instalando-o-kernel-do-C)\n",
    "- [Instalando os kernels do Gnuplot e do Scilab](#Instalando-os-kernels-do-Gnuplot-e-do-Scilab)\n",
    "- [Exportando e Convertendo Notebooks](#Exportando-e-Convertendo-Notebooks)\n",
    "- [Pesquisa Reproduzível](#Pesquisa Reproduzível)\n",
    "- [IPython paralelo](#IPython paralelo)\n",
    "- [Células Markdown](#Células-Markdown)\n",
    "- [Links e Referências](#Links-e-Referências)\n",
    "\n",
    "\n",
    "## Porque Python\n",
    "\n",
    "Python é a linguagem de programação de escolha para muitos cientistas em grande medida porque oferece um grande  poder para analisar e modelar dados científicos com relativamente pouca sobrecarga em termos de aprendizagem, instalação ou tempo de desenvolvimento. É uma linguagem que você pode aprender o básico em um fim de semana, e usa-lá pelo resto de sua vida.\n",
    "\n",
    "### Documentação \n",
    "\n",
    "O Python é uma linguagem muito bem documentada e há muitas opções em português: \n",
    "\n",
    "- [Python](https://www.python.org/) página oficial. Aqui ele disponibiliza um shell iterativo no qual voê pode rodar seu códgio sem precisar instalar ele em sua máquina.\n",
    "- [Python Brasil](http://wiki.python.org.br/PythonBrasil)\n",
    "- [Aulas de Introdução à Computação em Python](https://panda.ime.usp.br/aulasPython/static/aulasPython/index.html)\n",
    "- [O livro \"Python para desenvolvedores\"](https://ark4n.wordpress.com/)\n",
    "- [Como Pensar Como um Cientista da Computação](https://panda.ime.usp.br/pensepy/static/pensepy/index.html)\n",
    "- O livro \"Think Python How to Think Like a Computer Scientist\", pode ser baixado aqui [versão em PDF](http://www.greenteapress.com/thinkpython/thinkpython.pdf )\n",
    "- O livro [A byte of Python](https://www.gitbook.com/book/swaroopch/byte-of-python/details) foi traduzido pelo [Rodrigo Amaral](https://ramaral.wordpress.com/2012/08/05/e-book-do-livro-a-byte-of-python-em-portugues/).\n",
    "- O [Python Tutorial](http://docs.python.org/3/tutorial/) é um ótimo lugar para começar a ter uma idéia da linguagem.\n",
    "- [Aprendendo a Programar](http://www.alan-g.me.uk/tutor/port/). Note entretanto que ela usa a versão 2.7 do Python\n",
    "- [The Runestone Interactive tools](http://runestoneinteractive.org/library.html)\n",
    "\n",
    "\n",
    "\n",
    "## O projeto IPython/Jupyter\n",
    "\n",
    "De acordo com o [site do projeto](http://ipython.org/), o IPython/Jupyter é uma aplicação de código aberto (BSD license) que permite criar e compartilhar documentos que contenham um código iterativo, equações e formulas matemáticas renderizadas pelo LaTeX, visualizações de imagens (via scikit) e gráficos (matplotlib) e textos explicativos. Atualmente o Jupyter notebook é um dos principais ambientes para a análise de dados, onde você pode usar não apenas Python, mas várias outras linguagens como você pode ver aqui.\n",
    "\n",
    "O [IPython](http://ipython.org) fornece uma arquitetura rica para uma computação iterativa com:\n",
    "- Um poderoso shell iterativo.\n",
    "- Um kernel para o [Jupyter](https://jupyter.org/).\n",
    "- Um suporte para visualização de dados iterativa e o use de [GUI toolkits](http://ipython.org/ipython-doc/stable/interactive/reference.html#gui-event-loop-support).\n",
    "- etc.\n",
    "\n",
    "O [IPython](http://ipython.org) é um projeto crescente que foi adicionando diversas linguagens o que se tornou o seu conjunto de linguagens componentes. O IPython 3.x foi o último lançamento monolítico do IPython, contendo o servidor notebook, qtconsole, etc. A partir do IPython 4.0, as partes contendo as diversas linguagens do projeto: o formato do notebook, o protocolo da mensagem, o qtconsole, a aplicação web do notebook, etc. mudaram-se para novos projetos sob o nome de [Jupyter](https://jupyter.org/). O IPython ficou focado somente no Python interativo, parte do qual está fornecendo um kernel Python para o Jupyter.\n",
    "\n",
    "Atualmente no [GitHub](https://github.com/) em uma pesquisa rápida pode-se encontrar centenas de notebooks, pois há uma comunidade de usuários muito grande, os quais estão dipostos a compartilhar seu trabalho. Um grande número de pessoas têm disponibilizado muitos Jupyter/IPython Notebooks os quais serviram de apoio na montagem deste. Usei um grande número de material para a construção deste, particularmente destaco os seguintes:\n",
    "\n",
    "\n",
    "* Hans Fangohr [Python for Computational Science and Engineering](http://www.southampton.ac.uk/~fangohr/index.html) Uma execelente página e contém diversos elementos de programção em python e algumas dicas de bibliotecas para cáculo e visualização.\n",
    "* Rob Johansson's [excellent notebooks](http://jrjohansson.github.io/), incluindo [Scientific Computing with Python](https://github.com/jrjohansson/scientific-python-lectures) e [Computational Quantum Physics with QuTiP](https://github.com/jrjohansson/qutip-lectures) lectures;\n",
    "* [XKCD style graphs in matplotlib](http://nbviewer.ipython.org/url/jakevdp.github.com/downloads/notebooks/XKCD_plots.ipynb);\n",
    "* [A collection of Notebooks for using IPython effectively](https://github.com/ipython/ipython/tree/master/examples/notebooks#a-collection-of-notebooks-for-using-ipython-effectively)\n",
    "* [A gallery of interesting IPython Notebooks](https://github.com/ipython/ipython/wiki/A-gallery-of-interesting-IPython-Notebooks)\n",
    "\n",
    "\n",
    "## O que você precisa instalar\n",
    "\n",
    "Existem atualmente duas versões do Python que estão convivendo entre-si: a sintaxe mais antiga Python 2 e a sintaxe mais recente Python 3. Essa esquizofrenia é em grande parte intencional: quando ficou claro que algumas mudanças não compatíveis com a linguagem eram necessárias, a Python dev-team decidiu passar por uma transição de cinco anos (ou assim), durante o qual os novos recursos de linguagem seria introduzida e a versão 2 da linguagem ainda seria ativamente mantida, para fazer essa transição tão fácil quanto possível. \n",
    "\n",
    "Com isso em mente, essas notas assumem que você tem uma distribuição Python que inclui:\n",
    "\n",
    "* [Python](http://www.python.org) versão $\\ge$ 3.5;\n",
    "* [Numpy](http://www.numpy.org), o núcleo de extensões numéricas para álgebra linear e arrays multidimensionais;\n",
    "* [Scipy](http://www.scipy.org), bibliotecas adicionais para programação científica;\n",
    "* [Matplotlib](http://matplotlib.sf.net), excelente traçado e bibliotecas de gráficos;\n",
    "* [Pandas](http://pandas.pydata.org/), é uma biblioteca de código aberto (BSD-licensed), fácil de usar na análise  e estruturas de dados, para a lingugem python.\n",
    "  - [StatsModels](http://www.statsmodels.org/stable/index.html) é um módulo Python que fornece classes e funções para estimativas de muitos modelos estatísticos diferentes, assim como testes estatíscticos e exploração estatística de dados.\n",
    "  - [scikit-learn](http://scikit-learn.org/stable/) é uma ferramente simples e eficiente para mineração e análise de dados em Python. \n",
    "* [Jupyter/IPython](http://ipython.org), com as bibliotecas adicionais necessárias para a interface do notebook. O projeto do IPythone evolui e agor é chamado de [Jupyter](http://jupyter.org)\n",
    "\n",
    "\n",
    "\n",
    "# Instalando o Jupyter Notebook\n",
    "\n",
    "A seguir será explicado como instalar o Jupyter Notebook e o kernel do IPython em uma máquina Linux baseada no [Debian](http://www.debian.org/), como [Debian](http://www.debian.org/), [Ubuntu](https://www.ubuntu.com/), [LinuxMint](https://linuxmint.com/), etc.\n",
    "\n",
    "\n",
    "## Pré-requisito: Python <a name=\"Prerequisito\"></a>\n",
    "\n",
    "O IPython/Jupyter executa códigos de muitas linguagens de programação, entretanto, o Python é um requisito necessário (Python 3.5 ou superior, ou Python 2.7) para instalar o Jupyter Notebook. Nas distribuições GNU/Linux baseadas no Debian, assim como o Ubuntu e familia, o Linux Mint, etc, a instalação dos seguintes pacotes é essencial para o desenvolvimento do curso:\n",
    "\n",
    "```bash\n",
    "sudo apt-get update\n",
    "sudo apt-get install -y python3 python3-all python3-pip python3-setuptools python3-markdown \n",
    "sudo apt-get install -y ipython3 ipython3-notebook ipython3-qtconsole python3-all-dev \n",
    "sudo apt-get install -y pandoc pandoc-data python3-pandocfilters python3-sphinx\n",
    "```\n",
    "\n",
    "Eu também gosto de instalar a documentação, exemplos e os pacotes para debugs:\n",
    "\n",
    "```bash\n",
    "sudo apt-get install -y python3-doc python3-examples python3-all-dbg\n",
    "```\n",
    "\n",
    "Aqui vai um rápida descrição das bibliotecas acima:\n",
    "- *python3-setuptools* é pacote que permite emapcotar/instalar um aplicativo/biblioiteca python\n",
    "- *python3-markdown* é a liguagem usada nos IPython/Jupyter notebooks\n",
    "- *python3-pandocfilters* é uma ligação python direta com o conversor de linguagem de marcação o *pandoc*\n",
    "- *python3-sphinx* é um gerador de documentação para os projetos python, usando textos restruturados com liguagens de marcação.\n",
    "\n",
    "\n",
    "**OBS.:** O IPython/Jupyter podem exportar os notebooks no formato pdf, gerando um artigo elegante, entretanto para tal ele usa o LaTeX, logo para quem deseja usar dessa funcionalidade recomenda-se que instale o texlive no Linux, no sistema operacional Windows recomenda-se o [MikTeX](https://miktex.org/) ou o próprio [TeX LIve](https://www.tug.org/texlive/).\n",
    "\n",
    "\n",
    "## PyPi\n",
    "\n",
    "As duas características mais relevantes do Python são a sua capacidade de integração com outras linguagens e seu sistema de pacote maduro que é bem incorporado pelo PyPI \\([O Índice do Pacote Python](https://pypi.python.org/pypi)\\), um repositório comum Para a maioria dos pacotes do Python. O pacote *python3-pip* é que nos permite termos acesso a esse repositório. Pois nem todos os pacotes Python possuem uma versão no repositório da sua distribuição Linux. \n",
    "\n",
    "Digitando somente `pip` no terminal, \n",
    "```bash\n",
    "> pip3 \n",
    "Usage:   \n",
    "  pip <command> [options]\n",
    "\n",
    "Commands:\n",
    "  install                     Install packages.\n",
    "  download                    Download packages.\n",
    "  uninstall                   Uninstall packages.\n",
    "  freeze                      Output installed packages in requirements format.\n",
    "  list                        List installed packages.\n",
    "  show                        Show information about installed packages.\n",
    "  check                       Verify installed packages have compatible dependencies.\n",
    "  search                      Search PyPI for packages.\n",
    "  wheel                       Build wheels from your requirements.\n",
    "  hash                        Compute hashes of package archives.\n",
    "  completion                  A helper command used for command completion.\n",
    "  help                        Show help for commands.\n",
    "\n",
    "General Options:\n",
    "  -h, --help                  Show help.\n",
    "  --isolated                  Run pip in an isolated mode, ignoring\n",
    "                              environment variables and user configuration.\n",
    "  -v, --verbose               Give more output. Option is additive, and can be\n",
    "                              used up to 3 times.\n",
    "  -V, --version               Show version and exit.\n",
    "  -q, --quiet                 Give less output. Option is additive, and can be\n",
    "                              used up to 3 times (corresponding to WARNING,\n",
    "                              ERROR, and CRITICAL logging levels).\n",
    "  --log <path>                Path to a verbose appending log.\n",
    "  --proxy <proxy>             Specify a proxy in the form\n",
    "                              [user:passwd@]proxy.server:port.\n",
    "  --retries <retries>         Maximum number of retries each connection should\n",
    "                              attempt (default 5 times).\n",
    "  --timeout <sec>             Set the socket timeout (default 15 seconds).\n",
    "  --exists-action <action>    Default action when a path already exists:\n",
    "                              (s)witch, (i)gnore, (w)ipe, (b)ackup, (a)bort.\n",
    "  --trusted-host <hostname>   Mark this host as trusted, even though it does\n",
    "                              not have valid or any HTTPS.\n",
    "  --cert <path>               Path to alternate CA bundle.\n",
    "  --client-cert <path>        Path to SSL client certificate, a single file\n",
    "                              containing the private key and the certificate\n",
    "                              in PEM format.\n",
    "  --cache-dir <dir>           Store the cache data in <dir>.\n",
    "  --no-cache-dir              Disable the cache.\n",
    "  --disable-pip-version-check\n",
    "                              Don't periodically check PyPI to determine\n",
    "                              whether a new version of pip is available for\n",
    "                              download. Implied with --no-index.\n",
    "```\n",
    "\n",
    "Então por exemplo, para pesquisar o pacote `qutitp`\n",
    "\n",
    "```bash\n",
    "> pip3 search qutip\n",
    "qutip (4.2.0)  - QuTiP: The Quantum Toolbox in Python\n",
    "  INSTALLED: 4.2.0 (latest)\n",
    "```\n",
    "Esse como pode-se ver já está instalado, mas o pacote `statsmodel`\n",
    "\n",
    "```bash\n",
    "> pip3 search statsmodel\n",
    "scikits.statsmodels (0.3.1)  - Statistical computations and models for use with SciPy\n",
    "statsmodels (0.8.0)          - Statistical computations and models for Python\n",
    "```\n",
    "Mostra que há dois pocatoes disponíveis os quais não estão instalados. Para instalar use\n",
    "```bash\n",
    "> sudo -H pip3 install statsmodels\n",
    "```\n",
    "e ele irá instalar o pacote para todos os usuários do sistema, a opção `-H` do sudo. Note que o comando \n",
    "```bash\n",
    "> pip3 install statsmodels\n",
    "```\n",
    "irá instalar o pacote localmente na área do usuário. \n",
    "\n",
    "**OBS:** Na instalação use a opção `-U` ou `--upgrade` para força todos os pacotes a fazerem um *upgrade* para a versão mais nova. \n",
    "\n",
    "Para desinstalar o pacote `statsmodels` proceda da seguinte forma:\n",
    "```bash\n",
    "> sudo -H pip3 uninstall statsmodels\n",
    "```\n",
    "\n",
    "Tanto na instalação \n",
    "\n",
    "```bash\n",
    "> sudo -H pip3 install statsmodels\n",
    "```\n",
    "\n",
    "Para obter informações do pacote use a opção `show` \n",
    "```bash\n",
    "> pip3 show qutip\n",
    "Name: qutip\n",
    "Version: 4.2.0\n",
    "Summary: QuTiP: The Quantum Toolbox in Python\n",
    "Home-page: http://qutip.org\n",
    "Author: Alexander Pitchford, Paul D. Nation, Robert J. Johansson, Chris Granade, Arne Grimsmo\n",
    "Author-email: alex.pitchford@gmail.com, nonhermitian@gmail.com, jrjohansson@gmail.com, cgranade@cgranade.com, arne.grimsmo@gmail.com\n",
    "License: BSD\n",
    "Location: /usr/local/lib/python3.5/dist-packages\n",
    "Requires: numpy, scipy, cython\n",
    "```"
   ]
  },
  {
   "cell_type": "markdown",
   "metadata": {},
   "source": [
    "## Instalação\n",
    "\n",
    "Para os usuários menos experientes, a página de documentação do [Jupyter Notebook](http://jupyter.org/) recomenda que se faça uso da distribuição [Anaconda](https://www.continuum.io/) para instalar o Python e o Jupyter, por ser fácil de instalar em qualquer que seja seu sistema operacional. Uma outra boa opção que também é fácil de instalar e que  suporta Mac, Windows e Linux, e que tem todos esses pacotes (e muito mais) é a [Entought Python Distribution](https://www.enthought.com/products/epd), também conhecido como EPD, que parece estar mudando seu nome para Enthought Canopy. Enthought é uma empresa comercial que suporta um monte de muito bom trabalho em desenvolvimento e aplicação científica Python. Você pode adquirir uma licença para usar EPD, ou há também uma [versão gratuita](https://www.enthought.com/products/epd/free/) que você pode baixar e instalar. \n",
    "\n",
    "A seguir descrevemos como instalar o jupyter.\n",
    "\n",
    "### Via o Anaconda e conda <a name=\"Anaconda\"></a>\n",
    "\n",
    "Para os usuários menos experientes, a página de documentação do [Jupyter Notebook](http://jupyter.org/) recomenda que se faça uso da distribuição [Anaconda](https://www.continuum.io/) para instalar o Python e o Jupyter, por ser fácil de instalar em qualquer que seja seu sistema operacional. \n",
    "\n",
    "Os usuários de outros sistemas operacionais e também do linux podem optar por uma distribuição do python e suas bibliotecas chamada  [Anaconda](https://www.continuum.io/). A página oficial do Jupyter Notebook recomenda, que se instale o [Anaconda](https://www.continuum.io/downloads). Isso deve-se ao fato de que o [Anaconda](https://www.continuum.io/) convenientemente instala Python, o [Jupyter Notebook](http://jupyter.org/), e outros pacotes comumente usados para computação científica e nas ciências de análise de dados.\n",
    "\n",
    "\n",
    "Use as seguintes etapas de instalação:\n",
    "\n",
    "- Faça o download do Anaconda. Recomenda-se que você baixe a última versão do Python 3 da Anaconda (atualmente Python 3.6).\n",
    "- Instale a versão do Anaconda que você baixou, seguindo as instruções na página de download.\n",
    "- Ao término da etapa anterior, você terá instalado o Jupyter Notebook. Para executar o notebook, digite na linha de comando:\n",
    "\n",
    "> jupyter-notebook\n",
    "\n",
    "\n",
    "Aqui temos alguns sites que detalham como instalar o anaconda\n",
    "\n",
    "- [Como instalar o anaconda](https://programandociencia.com/2015/08/07/instalando-o-anaconda/)\n",
    "- [Como instalar Python e Jupyter Notebook usando Anaconda](https://paulovasconcellos.com.br/como-baixar-anaconda-31fd49c19bd8)\n",
    "- [How to install anaconda on ubuntu 16.04](https://www.digitalocean.com/community/tutorials/how-to-install-the-anaconda-python-distribution-on-ubuntu-16-04)\n",
    "\n",
    "\n",
    "\n",
    "### Usuários Linux: Instalar o Jupyter com o pip <a name=\"pip\"></a>\n",
    "\n",
    "#### Importante\n",
    "\n",
    "A instalação do Jupyter requer Python 3.3 ou superior, ou Python 2.7. IPython 1.x, que incluiu as partes que mais tarde se tornou Jupyter, foi a última versão para suportar Python 3.2 e 2.6.\n",
    "\n",
    "Como um usuário mais experiente do Python, você pode querer instalar o Jupyter usando o gerenciador de pacotes do Python, pip, em vez de Anaconda.\n",
    "\n",
    "Nos ambientes GNU/Linu, primeiro, certifique-se de que você tem o pip mais recente; Versões mais antigas podem ter problemas com algumas dependências:\n",
    "\n",
    "> sudo -H pip3 install --upgrade pip3\n",
    "\n",
    "ou\n",
    "\n",
    "> sudo -H pip3 install -U pip3\n",
    "\n",
    "Em seguida, instale o Jupyter Notebook usando:\n",
    "\n",
    "> sudo -H pip3 install jupyter\n",
    "\n",
    "(Use pip se estiver usando o Python 2.)\n",
    "\n",
    "Para instalar algumas extensões do jupyter notebook consulte:\n",
    "\n",
    "- [Jupyter notebook extensions](https://github.com/ipython-contrib/jupyter_contrib_nbextensions)\n",
    "- [Notebook extensions](https://carreau.gitbooks.io/jupyter-book/content/notebook-extensions.html)\n",
    "- [Installing Jupyter Notebook Extensions](https://www.oreilly.com/learning/installing-jupyter-notebook-extensions)\n",
    "- [An easy way to install Jupyter Notebook extensions](http://blog.rtwilson.com/an-easy-way-to-install-jupyter-notebook-extensions/)\n",
    "- [Installing jupyter_contrib_nbextensions](http://jupyter-contrib-nbextensions.readthedocs.io/en/latest/install.html)\n",
    "- [Distributing Jupyter Extensions as Python Packages](http://jupyter-notebook.readthedocs.io/en/latest/examples/Notebook/Distributing%20Jupyter%20Extensions%20as%20Python%20Packages.html)"
   ]
  },
  {
   "cell_type": "markdown",
   "metadata": {},
   "source": [
    "## Bibliotecas essenciais <a name=\"CP1-Bibliotecas\"></a>\n",
    "\n",
    "Bibliotecas científicas que todos devem instalar:\n",
    "\n",
    "```bash\n",
    "sudo apt-get install -y python3-matplotlib python3-numpy python3-numpydoc \n",
    "sudo apt-get install -y python3-pandas python3-pandas-lib python3-mpmath \n",
    "sudo apt-get install -y python3-numexpr python3-scipy python3-sympy\n",
    "sudo apt-get install -y python3-pyfftw python3-opengl python3-seaborn\n",
    "sudo apt-get install -y python3-matplotlib-dbg python3-numpy-dbg python3-numexpr-dbg\n",
    "```\n",
    "seus pacotes para permitir debugs:\n",
    "```bash\n",
    "sudo apt-get install -y python3-matplotlib-dbg python3-numpy-dbg python3-numexpr-dbg\n",
    "```\n",
    "Alguns pacotes úteis para tratar imagens, textos html, etc:\n",
    "\n",
    "```bash\n",
    "sudo apt-get install -y python3-html2text python3-html5lib python3-urllib3 python3-bs4 \n",
    "sudo apt-get install -y python3-pdfrw python3-pil python3-pil.imagetk python3-pilkit\n",
    "sudo apt-get install -y python3-img2pdf python3-skimage-lib python3-sklearn-lib \n",
    "sudo apt-get install -y python3-pil-dbg python3-pil.imagetk-dbg python3-pyfftw-dbg \n",
    "```\n",
    "\n",
    "### Descrição das bibliotecas mais importantes\n",
    "\n",
    "#### NumPy <a name=\"CP1-Lib-NumPy\"></a>\n",
    "\n",
    "NumPy, que é a criação de Travis Oliphant, é o verdadeiro laboratório analítico da linguagem Python. Ele fornece ao usuário arrays multidimensionais, juntamente com um grande conjunto de funções para lidar com uma multiplicidade de operações matemáticas sobre matrizes (\"arrays\"). Arrays são blocos de dados dispostos ao longo de múltiplas dimensões, que implementam vetores matemáticos e matrizes. As matrizes são úteis não apenas para armazenar dados, mas também para operações de matriz rápida (vectorization), que são indispensáveis quando você deseja resolver problemas ad hoc de ciência de dados.\n",
    "\n",
    "Site: http://www.numpy.org/\n",
    "Versão atual: 1.9.1\n",
    "\n",
    "> Nota: Como uma convenção amplamente adotada pela comunidade Python, ao importar NumPy, sugere-se que você o alias como np:\n",
    ">\n",
    "> import numpy as np\n",
    ">\n",
    "> Estaremos fazendo isso ao longo deste.\n",
    "\n",
    "#### SciPy <a name=\"CP1-Lib-SciPy\"></a>\n",
    "\n",
    "Um projeto original de Travis Oliphant, Pearu Peterson e Eric Jones, SciPy completa as funcionalidades do NumPy, oferecendo uma maior variedade de algoritmos científicos para álgebra linear, matrizes esparsas, processamento de sinais e imagens, otimização, transformada rápida de Fourier e muito mais.\n",
    "\n",
    "Site: http://www.scipy.org/\n",
    "Versão atual: 0.14.0\n",
    "\n",
    "\n",
    "#### Matplotlib <a name=\"CP1-Lib-Matplotlib\"></a>\n",
    "\n",
    "Originalmente desenvolvido por John Hunter, matplotlib é a biblioteca que contém todos os blocos de construção que são necessários para criar gráficos de qualidade a partir de arrays e visualizá-los interativamente.\n",
    "\n",
    "Você pode encontrar todas as estruturas de plotagem de tipo MATLAB dentro do módulo pylab.\n",
    "\n",
    "Website: http://matplotlib.org/\n",
    "Versão atual: 1.4.2\n",
    "\n",
    ">Você pode simplesmente importar o que você precisa para suas finalidades de visualização com o seguinte comando:\n",
    ">\n",
    ">import matplotlib.pyplot as plt\n",
    "\n",
    "\n",
    "#### SymPy\n",
    "\n",
    "SymPy é uma biblioteca Python para matemática simbólica. Ele pretende tornar-se um sistema completo de álgebra computacional (CAS), mantendo o código o mais simples possível para ser compreensível e facilmente extensível. A SymPy foi escrita inteiramente em Python. Você não precisa instalar o SymPy para iniciar o seu uso. Você pode usar o shell on-line em http://live.sympy.org.\n",
    "\n",
    "Página: http://www.sympy.org/\n",
    "\n",
    "\n",
    "#### Pandas <a name=\"CP1-Lib-Pandas\"></a>\n",
    "\n",
    "O pacote pandas lida com tudo o que NumPy e SciPy não pode fazer. Graças às suas estruturas de dados de objetos específicos, DataFrames e Series, pandas permite manipular tabelas complexas de dados de diferentes tipos (que é algo que as matrizes de NumPy não podem fazer) e séries temporais. Graças à criação de Wes McKinney, você será capaz de facilmente e sem problemas carregar dados de uma variedade de fontes. Você pode então cortar, fragmentar, manipular elementos ausentes, adicionar, renomear, agregar, reformular e, finalmente, visualizar esses dados em sua vontade.\n",
    "\n",
    "Website: http://pandas.pydata.org/\n",
    "Versão atual: 0.15.2\n",
    "\n",
    ">Convencionalmente, os pandas são importados como pd:\n",
    ">\n",
    ">import pandas as pd\n",
    "\n",
    "\n",
    "#### Beautiful Soup <a name=\"CP1-Lib-BeautifulSoup\"></a>\n",
    "\n",
    "Beautiful Soup, uma criação de Leonard Richardson, é uma ótima ferramenta para tratar dados de arquivos HTML e XML obtidos da Internet. Funciona incrivelmente bem, mesmo no caso das sopas de tags (daí o nome), que são coleções de etiquetas malformadas e contraditórias e incorretas. Depois de escolher o analisador (basicamente, o analisador HTML incluído na biblioteca padrão do Python funciona bem), graças à Beautiful Soup, você pode navegar pelos objetos na página e extrair texto, tabelas e qualquer outra informação que possa ser útil.\n",
    "\n",
    "Site: http://www.crummy.com/software/BeautifulSoup/\n",
    "Versão atual: 4.3.2\n",
    "O pacote python: python3-bs4\n",
    "\n",
    ">Nota: Observe que o módulo importado é denominado bs4.\n",
    "> from bs4 import BeautifulSoup\n",
    "\n",
    "\n",
    "#### Scikit-learn <a name=\"CP1-Lib-Scikit-learn\"></a>\n",
    "\n",
    "Iniciado como parte do SciKits (SciPy Toolkits), Scikit-learn é o núcleo das operações de ciência de dados em Python. Ele oferece tudo o que você pode precisar em termos de pré-processamento de dados, aprendizado supervisionado e não supervisionado, seleção de modelos, validação e métricas de erro.  O Scikit-learn começou em 2007 como um projeto Google Summer of Code de David Cournapeau. Desde 2013, foi retomado pelos investigadores do INRA (Instituto Francês de Investigação em Informática e Automação).\n",
    "\n",
    "Website: http://scikit-learn.org/stable/\n",
    "Versão atual: 0.15.2\n",
    "instalar via pip3 e o nome do pacote é: scikit-learn\n",
    "\n",
    "> *Nota*: Observe que o módulo importado é denominado sklearn.\n",
    "\n",
    "\n",
    "\n",
    "#### Statsmodels <a name=\"CP1-Lib-Statsmodel\"></a>\n",
    "\n",
    "Anteriormente parte de SciKits, statsmodels foi pensado para ser um complemento para SciPy funções estatísticas. Ele apresenta modelos lineares generalizados, modelos de escolha discreta, análise de séries temporais e uma série de estatísticas descritivas, bem como testes paramétricos e não paramétricos.\n",
    "\n",
    "Site: http://statsmodels.sourceforge.net/\n",
    "Versão atual: 0.6.0\n",
    "Instalação via pip3 e o nome do pacote é:\n",
    "- scikits.statsmodels (0.3.1)  - Statistical computations and models for use with SciPy\n",
    "- statsmodels (0.8.0)          - Statistical computations and models for Python\n",
    "\n",
    "#### Seaborn\n",
    "\n",
    "É uma biblioteca para visualização de dados estatísticos, baseada na matplotlib.\n",
    "\n",
    "Site:https://seaborn.pydata.org/\n",
    "Versão atual: 0.8.1\n",
    "Instalada via pip, mas possui um pacote debian\n",
    "\n",
    "\n",
    "#### NetworkX <a name=\"CP1-Lib-NetworkX\"></a>\n",
    "\n",
    "Desenvolvido pelo Laboratório Nacional de Los Alamos, NetworkX é um pacote especializado na criação, manipulação, análise e representação gráfica de dados de rede da vida real (pode facilmente operar com gráficos compostos de um milhão de nós e bordas). Além de estruturas de dados especializadas para gráficos e métodos de visualização fina (2D e 3D), ele fornece ao usuário muitas medidas de gráfico padrão e algoritmos, como o caminho mais curto, centralidade, componentes, comunidades, cluster e PageRank. \n",
    "\n",
    "Site: https://networkx.github.io/\n",
    "Versão atul: 1.9.1\n",
    "pacote: python3-networkx\n",
    "\n",
    ">Convencionalmente, o NetworkX é importado como nx:\n",
    ">\n",
    ">import networkx as nx\n"
   ]
  },
  {
   "cell_type": "code",
   "execution_count": 2,
   "metadata": {
    "ExecuteTime": {
     "end_time": "2019-08-12T00:38:07.655065Z",
     "start_time": "2019-08-12T00:38:06.281278Z"
    }
   },
   "outputs": [
    {
     "name": "stdout",
     "output_type": "stream",
     "text": [
      "Requirement already satisfied: numpy in /usr/local/lib/python3.6/dist-packages (1.17.0)\n",
      "\u001b[33mWARNING: You are using pip version 19.2.1, however version 19.2.2 is available.\n",
      "You should consider upgrading via the 'pip install --upgrade pip' command.\u001b[0m\n"
     ]
    }
   ],
   "source": [
    "# Para instalar um pacote via pip usando o corrente Jupyter kernel faça\n",
    "import sys\n",
    "!{sys.executable} -m pip install numpy"
   ]
  },
  {
   "cell_type": "code",
   "execution_count": null,
   "metadata": {},
   "outputs": [],
   "source": [
    "# Para instalar um pacote conda usando o corrente Jupyter kernel faça\n",
    "import sys\n",
    "!conda install --yes --prefix {sys.prefix} numpy"
   ]
  },
  {
   "cell_type": "code",
   "execution_count": 5,
   "metadata": {
    "ExecuteTime": {
     "end_time": "2019-08-12T00:39:26.351207Z",
     "start_time": "2019-08-12T00:39:26.239399Z"
    }
   },
   "outputs": [
    {
     "name": "stdout",
     "output_type": "stream",
     "text": [
      "python3 is /usr/bin/python3\r\n"
     ]
    }
   ],
   "source": [
    "!type  python3"
   ]
  },
  {
   "cell_type": "code",
   "execution_count": null,
   "metadata": {},
   "outputs": [],
   "source": [
    "%%writefile install_python.sh\n",
    "#!/bin/sh\n",
    "sudo apt-get update\n",
    "sudo apt-get install -y python3 python3-doc python3-all python3-pip python3-bs4 python3-all-dev python3-examples ipython3 ipython3-notebook ipython3-qtconsole python3-markdown python3-matplotlib python3-numpy python3-pandas python3-opengl python3-mpmath python3-nltk python3-numexpr python3-pandas-lib python3-html2text python3-html5lib python3-img2pdf python3-magic python3-matplotlib-dbg python3-numpy-dbg python3-numexpr-dbg python3-numpydoc python3-pandocfilters python3-setuptools python3-pdfrw python3-pil python3-pil-dbg python3-pil.imagetk python3-pil.imagetk-dbg python3-pilkit python3-pip python3-pyfftw python3-pyfftw-dbg python3-scipy python3-sympy python3-skimage-lib python3-sklearn-lib python3-seaborn python3-sphinx"
   ]
  },
  {
   "cell_type": "code",
   "execution_count": null,
   "metadata": {},
   "outputs": [],
   "source": [
    "! cat install_python.sh"
   ]
  },
  {
   "cell_type": "markdown",
   "metadata": {},
   "source": [
    "Agora para instalar o script abra um terminal na pasta onde enoctra-se o scpript e digite:\n",
    "```bash\n",
    "sh ./install_python.sh\n",
    "```"
   ]
  },
  {
   "cell_type": "markdown",
   "metadata": {},
   "source": [
    "## Ajustando a configuração do Linux\n",
    "\n",
    "Uma das habilidades do Jupyter Notebook reside no fato de que não é necessário deixar o ambiente para realizar muitas das tarefas do sistema, mesmo a instalação de softwares. Entretanto nesse caso é necessário fazer um pequeno ajuste no sistema. Vamos permitir que o administrador da máquina que é quem está usando ela não precise mais de digitar o seu password ao usar o sudo. Para isso edite o arquivo <span style=\"color:blue\">/etc/sudoers</span>\n",
    "e acrescente uma linha contendo\n",
    "\n",
    "```bash\n",
    "login_do_usuario  ALL=(ALL:ALL) NOPASSWD:ALL\n",
    "```\n",
    "\n",
    "Devendo ficar conforme o exemplo abaixo, no qual o meu login é <span style=\"color:blue\">salviano</span>.\n",
    "\n",
    "[Blog do Da2k](https://blog.da2k.com.br \"Clique e acesse agora!\")\n",
    "<span style=\"color:blue\">Esse é um pequeno texto em *azul*</span>"
   ]
  },
  {
   "cell_type": "code",
   "execution_count": 1,
   "metadata": {},
   "outputs": [
    {
     "name": "stdout",
     "output_type": "stream",
     "text": [
      "#\r\n",
      "# This file MUST be edited with the 'visudo' command as root.\r\n",
      "#\r\n",
      "# Please consider adding local content in /etc/sudoers.d/ instead of\r\n",
      "# directly modifying this file.\r\n",
      "#\r\n",
      "# See the man page for details on how to write a sudoers file.\r\n",
      "#\r\n",
      "Defaults\tenv_reset\r\n",
      "Defaults\tmail_badpass\r\n",
      "Defaults\tsecure_path=\"/usr/local/sbin:/usr/local/bin:/usr/sbin:/usr/bin:/sbin:/bin:/snap/bin\"\r\n",
      "\r\n",
      "# Host alias specification\r\n",
      "\r\n",
      "# User alias specification\r\n",
      "\r\n",
      "# Cmnd alias specification\r\n",
      "\r\n",
      "# User privilege specification\r\n",
      "root\tALL=(ALL:ALL) ALL\r\n",
      "\r\n",
      "# Members of the admin group may gain root privileges\r\n",
      "%admin ALL=(ALL) ALL\r\n",
      "\r\n",
      "# Allow members of group sudo to execute any command\r\n",
      "%sudo\tALL=(ALL:ALL) ALL\r\n",
      "salviano ALL=(ALL:ALL) NOPASSWD:ALL\r\n",
      "\r\n",
      "# See sudoers(5) for more information on \"#include\" directives:\r\n",
      "\r\n",
      "#includedir /etc/sudoers.d\r\n"
     ]
    }
   ],
   "source": [
    "!sudo cat /etc/sudoers"
   ]
  },
  {
   "cell_type": "markdown",
   "metadata": {},
   "source": [
    "Para ver o seu login:"
   ]
  },
  {
   "cell_type": "code",
   "execution_count": 2,
   "metadata": {
    "scrolled": true
   },
   "outputs": [
    {
     "name": "stdout",
     "output_type": "stream",
     "text": [
      "salviano\r\n"
     ]
    }
   ],
   "source": [
    "! echo $USER"
   ]
  },
  {
   "cell_type": "markdown",
   "metadata": {},
   "source": [
    "Considerando que o resultado do comando acima, ou seja o login do usuário, seja `pedro`, então para ajustar o arquivo `/etc/sudoers` abra um terminal e digite:\n",
    "```bash\n",
    "sudo sed -i \"/^%sudo/ a\\pedro  ALL=(ALL:ALL) NOPASSWD:ALL\" /etc/sudoers\n",
    "```\n",
    "ou \n",
    "```bash\n",
    "sudo sed -i \"/^%sudo/ a\\ $USER  ALL=(ALL:ALL) NOPASSWD:ALL\" /etc/sudoers\n",
    "```\n",
    "\n",
    "\n",
    "A seguir verifique se o comando rodou corretamente. Para isso abra um terminal e digite:\n",
    "```bash\n",
    "sudo cat /etc/gshadow\n",
    "```\n",
    "\n",
    "Se o comando acima não te pedir a senha e mostar a listagem do arquivo `/etc/gshadow`, então pode continuar e executar a próxima célula."
   ]
  },
  {
   "cell_type": "code",
   "execution_count": null,
   "metadata": {},
   "outputs": [],
   "source": [
    "!sudo -H pip3 install version_information"
   ]
  },
  {
   "cell_type": "markdown",
   "metadata": {},
   "source": [
    "## Verificando a instalação\n",
    "\n",
    "Se você instalou tudo corretamente, então abra um terminal e digite\n",
    "\n",
    "> jupyter-notebook\n",
    "\n",
    "Ele então vai abrir o navegador e você terá o jupyter funcionando.\n",
    "\n",
    "Para verificar a versão atual instalada dos pacotes selecionados, considere por exemplo: o numpy, scipy, matplotlib, sympy, pandas, ipython, jupyter. Digite o comando abaixo na célula do Jupyter"
   ]
  },
  {
   "cell_type": "code",
   "execution_count": null,
   "metadata": {},
   "outputs": [],
   "source": [
    "%load_ext version_information\n",
    "%version_information numpy, scipy, matplotlib, sympy, pandas, ipython, jupyter"
   ]
  },
  {
   "cell_type": "markdown",
   "metadata": {},
   "source": [
    "# Jupyter/IPython\n",
    "\n",
    "**Jupyter/IPython** (Python interativo) é um shell Python aprimorado que fornece um ambiente de desenvolvimento mais robusto e produtivo para os usuários. Existem várias características-chave que o diferenciam do shell padrão do Python.\n",
    "\n",
    "### História\n",
    "\n",
    "No Jupyter/IPython, todas as suas entradas e saídas são salvas. Há duas variáveis chamadas `In` e` Out` que são atribuídas à medida que você trabalha com seus resultados. Todas as saídas são salvas automaticamente em variáveis da forma `_N`, onde `N` é o número do prompt, e as entradas para `_iN`. Isso permite que você recupere rapidamente o resultado de uma computação anterior, referindo-se a seu número, mesmo se você se esqueceu de armazená-lo como uma variável.\n"
   ]
  },
  {
   "cell_type": "code",
   "execution_count": 9,
   "metadata": {
    "ExecuteTime": {
     "end_time": "2019-08-12T00:53:43.752930Z",
     "start_time": "2019-08-12T00:53:43.746184Z"
    }
   },
   "outputs": [
    {
     "data": {
      "text/plain": [
       "3.3166247903554"
      ]
     },
     "execution_count": 9,
     "metadata": {},
     "output_type": "execute_result"
    }
   ],
   "source": [
    "from math import sqrt\n",
    "sqrt(11.0)"
   ]
  },
  {
   "cell_type": "markdown",
   "metadata": {},
   "source": [
    "Para referenciar o resultado da célula anterior, faça, adicione um `_`antes do número de saída da célula anteriror. Consiere por que seja a célula 3, assim"
   ]
  },
  {
   "cell_type": "code",
   "execution_count": 6,
   "metadata": {},
   "outputs": [
    {
     "data": {
      "text/plain": [
       "7.211102550927978"
      ]
     },
     "execution_count": 6,
     "metadata": {},
     "output_type": "execute_result"
    }
   ],
   "source": [
    "_3 * 2.0"
   ]
  },
  {
   "cell_type": "markdown",
   "metadata": {},
   "source": [
    "Você também pode referenciar a entrada, nesse caso considere a entrada da célula 3 anteriror, e nesse caso observe que ela é uma string, logo"
   ]
  },
  {
   "cell_type": "code",
   "execution_count": 14,
   "metadata": {},
   "outputs": [
    {
     "data": {
      "text/plain": [
       "'sqrt(13.0)'"
      ]
     },
     "execution_count": 14,
     "metadata": {},
     "output_type": "execute_result"
    }
   ],
   "source": [
    "_i3"
   ]
  },
  {
   "cell_type": "code",
   "execution_count": 15,
   "metadata": {},
   "outputs": [
    {
     "data": {
      "text/plain": [
       "1.8027756377319946"
      ]
     },
     "execution_count": 15,
     "metadata": {},
     "output_type": "execute_result"
    }
   ],
   "source": [
    "_4 / 4."
   ]
  },
  {
   "cell_type": "code",
   "execution_count": 2,
   "metadata": {},
   "outputs": [
    {
     "data": {
      "text/plain": [
       "0.1411200080598672"
      ]
     },
     "execution_count": 2,
     "metadata": {},
     "output_type": "execute_result"
    }
   ],
   "source": [
    "import math\n",
    "math.sin(3.0)"
   ]
  },
  {
   "cell_type": "code",
   "execution_count": 3,
   "metadata": {},
   "outputs": [
    {
     "data": {
      "text/plain": [
       "3.605551275463989"
      ]
     },
     "execution_count": 3,
     "metadata": {},
     "output_type": "execute_result"
    }
   ],
   "source": [
    "sqrt(13.0)"
   ]
  },
  {
   "cell_type": "markdown",
   "metadata": {},
   "source": [
    "Os notebooks são iterativos "
   ]
  },
  {
   "cell_type": "code",
   "execution_count": 16,
   "metadata": {},
   "outputs": [
    {
     "name": "stdout",
     "output_type": "stream",
     "text": [
      "Entre com o seu nomeJoão\n",
      "O nome entrado foi:  João\n"
     ]
    }
   ],
   "source": [
    "a=input(\"Entre com o seu nome\")\n",
    "print(\"O nome entrado foi: \",a)"
   ]
  },
  {
   "cell_type": "markdown",
   "metadata": {},
   "source": [
    "### A saída é assíncrona\n",
    "\n",
    "Toda a saída é exibida de forma assíncrona à medida que é gerada no Kernel. Se você executar a próxima célula, você verá a saída uma peça de cada vez, nem todas no final.\n",
    "\n",
    "[comment]: <> (Esse é um comentário, ele não é mostrado)\n",
    "[comment]: <> (no arquivo de saída)\n",
    "\n",
    "[comment]: <> (Podemos ir mais adiante)\n",
    "\n",
    "[//]: <> (Esse também é um comentário .)\n",
    "\n",
    "[//]: <> ( Para melhorar a compatibilidade da plataforma (e salvar uma digitação), também é possível usar # (que é um alvo de hiperlink legítimo) em vez de <>:)\n",
    "\n",
    "[//]: # (Este pode ser o comentário mais independente da plataforma)\n",
    "\n",
    "[//]: <> ($$ \\int\\limits_{0}^{\\infty} f(x) dx$$)\n",
    "\n",
    "\n",
    "\n",
    "[//]: # (Pode-se usar as tags do HTML tags, como:)\n",
    "\n",
    "<!---\n",
    "O seu comentário vem aqui.\n",
    "---\n",
    "Observe o traço triplo no início. A vantagem é que ele funciona com pandoc \n",
    "ao gerar saída de TeX ou HTML. Mais informações estão disponíveis \n",
    "no grupo pandoc-discuss.\n",
    "-->\n",
    "\n",
    "\n"
   ]
  },
  {
   "cell_type": "code",
   "execution_count": 19,
   "metadata": {},
   "outputs": [
    {
     "name": "stdout",
     "output_type": "stream",
     "text": [
      "1\n",
      "3\n",
      "5\n",
      "7\n",
      "9\n"
     ]
    }
   ],
   "source": [
    "import time, sys\n",
    "inicio = 1\n",
    "fim    = 10\n",
    "passo  = 2\n",
    "for i in range(inicio,fim,passo):\n",
    "    print(i)\n",
    "    time.sleep(0.5) # delay"
   ]
  },
  {
   "cell_type": "markdown",
   "metadata": {},
   "source": [
    "### Introspecção\n",
    "\n",
    "Se desejar detalhes sobre as propriedades e funcionalidades de qualquer objeto Python atualmente carregado no Jupyter/IPython, você pode usar o `?` Para revelar quaisquer detalhes disponíveis:\n"
   ]
  },
  {
   "cell_type": "code",
   "execution_count": 20,
   "metadata": {},
   "outputs": [],
   "source": [
    "i?"
   ]
  },
  {
   "cell_type": "code",
   "execution_count": 21,
   "metadata": {},
   "outputs": [],
   "source": [
    "algum_dic = {}\n",
    "algum_dic?"
   ]
  },
  {
   "cell_type": "markdown",
   "metadata": {},
   "source": [
    "Se estiverem disponível, os detalhes adicionais serão fornecidos com dois pontos de interrogação, incluindo o código-fonte do próprio objeto.\n"
   ]
  },
  {
   "cell_type": "code",
   "execution_count": 22,
   "metadata": {},
   "outputs": [],
   "source": [
    "from numpy.linalg import cholesky\n",
    "cholesky??"
   ]
  },
  {
   "cell_type": "markdown",
   "metadata": {},
   "source": [
    "Essa sintaxe também pode ser usada para pesquisar *namespaces* com curingas (\\*)."
   ]
  },
  {
   "cell_type": "code",
   "execution_count": 23,
   "metadata": {},
   "outputs": [],
   "source": [
    "%matplotlib inline\n",
    "import pylab as plt\n",
    "plt.*plot*?"
   ]
  },
  {
   "cell_type": "code",
   "execution_count": 24,
   "metadata": {},
   "outputs": [
    {
     "name": "stdout",
     "output_type": "stream",
     "text": [
      "Available matplotlib backends: ['ipympl', 'qt4', 'agg', 'gtk3', 'osx', 'widget', 'qt', 'inline', 'qt5', 'nbagg', 'gtk', 'tk', 'notebook', 'wx']\n"
     ]
    }
   ],
   "source": [
    "%matplotlib --list"
   ]
  },
  {
   "cell_type": "markdown",
   "metadata": {},
   "source": [
    "As opções de visualização da matplotlib são:\n",
    "\n",
    "'auto', 'gtk', 'gtk3', 'inline', 'nbagg', 'notebook', 'osx', 'qt', 'qt4', 'qt5', 'tk', 'wx'\n",
    "\n",
    "\n",
    "\n",
    "%matplotlib --list\n",
    "   Available matplotlib backends: ['osx', 'qt4', 'qt5', 'gtk3', 'notebook', 'wx', 'qt', 'nbagg',\n",
    "   'gtk', 'tk', 'inline']\n",
    "\n",
    "positional arguments:\n",
    "  gui         Name of the matplotlib backend to use ('agg', 'gtk', 'gtk3',\n",
    "              'inline', 'ipympl', 'nbagg', 'notebook', 'osx', 'qt', 'qt4',\n",
    "              'qt5', 'tk', 'wx'). If given, the corresponding matplotlib\n",
    "              backend is used, otherwise it will be matplotlib's default\n",
    "              (which you can set in your matplotlib config file).\n",
    "\n",
    "optional arguments:"
   ]
  },
  {
   "cell_type": "markdown",
   "metadata": {},
   "source": [
    "### Completar com Tab\n",
    "\n",
    "Como o Jupyter/IPython permitem a introspecção, ele é capaz de dar ao usuário a capacidade de completar comandos que foram parcialmente digitados com um tab. Isso é feito pressionando a tecla `<tab>` em qualquer ponto durante o processo de digitar um comando:"
   ]
  },
  {
   "cell_type": "code",
   "execution_count": 25,
   "metadata": {},
   "outputs": [
    {
     "ename": "AttributeError",
     "evalue": "module 'pylab' has no attribute 'p'",
     "output_type": "error",
     "traceback": [
      "\u001b[0;31m---------------------------------------------------------------------------\u001b[0m",
      "\u001b[0;31mAttributeError\u001b[0m                            Traceback (most recent call last)",
      "\u001b[0;32m<ipython-input-25-1496871af8a9>\u001b[0m in \u001b[0;36m<module>\u001b[0;34m()\u001b[0m\n\u001b[0;32m----> 1\u001b[0;31m \u001b[0mplt\u001b[0m\u001b[0;34m.\u001b[0m\u001b[0mp\u001b[0m\u001b[0;34m\u001b[0m\u001b[0m\n\u001b[0m",
      "\u001b[0;31mAttributeError\u001b[0m: module 'pylab' has no attribute 'p'"
     ]
    }
   ],
   "source": [
    "plt.p"
   ]
  },
  {
   "cell_type": "markdown",
   "metadata": {},
   "source": [
    "Isso pode até ser usado para ajudar com a especificação dos argumentos de algumas funções, o que às vezes pode ser difícil de lembrar:"
   ]
  },
  {
   "cell_type": "code",
   "execution_count": 26,
   "metadata": {},
   "outputs": [
    {
     "data": {
      "text/plain": [
       "<function matplotlib.pyplot.hist>"
      ]
     },
     "execution_count": 26,
     "metadata": {},
     "output_type": "execute_result"
    }
   ],
   "source": [
    "plt.hist"
   ]
  },
  {
   "cell_type": "markdown",
   "metadata": {},
   "source": [
    "### Comandos do sistema\n",
    "\n",
    "No Jupyter/IPython, você pode digitar `ls` para ver seus arquivos ou `cd` para alterar diretórios, assim como você faria em um prompt do sistema, mas para isso adicione o caracter `!`:"
   ]
  },
  {
   "cell_type": "code",
   "execution_count": null,
   "metadata": {},
   "outputs": [],
   "source": [
    "!ls /home/$USER/"
   ]
  },
  {
   "cell_type": "markdown",
   "metadata": {},
   "source": [
    "Praticamente qualquer comando do sistema pode ser acessado prepending `!`,  o qual passa qualquer comando subsequente diretamente para o sistema operacional."
   ]
  },
  {
   "cell_type": "code",
   "execution_count": null,
   "metadata": {},
   "outputs": [],
   "source": [
    "!locate python3 | grep pdf"
   ]
  },
  {
   "cell_type": "markdown",
   "metadata": {},
   "source": [
    "Você pode até usar variáveis Python em comandos enviados para o sistema operacional:"
   ]
  },
  {
   "cell_type": "code",
   "execution_count": null,
   "metadata": {},
   "outputs": [],
   "source": [
    "file_type = 'ipynb'\n",
    "!ls ./*$file_type"
   ]
  },
  {
   "cell_type": "markdown",
   "metadata": {},
   "source": [
    "A saída de um comando do sistema usando a sintaxe do ponto de exclamação pode ser atribuída a uma variável Python."
   ]
  },
  {
   "cell_type": "code",
   "execution_count": null,
   "metadata": {},
   "outputs": [],
   "source": [
    "notebooks = !ls ./"
   ]
  },
  {
   "cell_type": "code",
   "execution_count": null,
   "metadata": {},
   "outputs": [],
   "source": [
    "notebooks"
   ]
  },
  {
   "cell_type": "code",
   "execution_count": null,
   "metadata": {},
   "outputs": [],
   "source": [
    "type(notebooks)"
   ]
  },
  {
   "cell_type": "markdown",
   "metadata": {},
   "source": [
    "## Console  Qt \n",
    "\n",
    "Se você digitar no prompt do sistema:\n",
    "\n",
    "```bash\n",
    "> ipython3 qtconsole\n",
    "```\n",
    "\n",
    "ou \n",
    "\n",
    "```bash\n",
    "> jupyter-qtconsole\n",
    "```\n",
    "\n",
    "Em vez de abrir em um terminal, IPython irá iniciar um console gráfico que à primeira vista aparece como um terminal, mas que é, de fato, muito mais capaz do que um terminal somente de texto. Este é um terminal especializado projetado para o trabalho científico interativo, e suporta a edição de multi-linha cheia com realce de cor e calltips gráficos para funções, pode manter múltiplas sessões de IPython abertas simultaneamente em abas, e quando scripts funcionam pode exibir os números diretamente Na área de trabalho.\n",
    "\n",
    "![qtconsole](../Figs/Jupyter_QtConsole.png)"
   ]
  },
  {
   "cell_type": "markdown",
   "metadata": {},
   "source": [
    "# Jupyter Notebook\n",
    "\n",
    "\n",
    "Ao longo do tempo, o projeto IPython cresceu para incluir vários componentes, incluindo:\n",
    "\n",
    "* Um shell interativo\n",
    "* Um protocolo REPL (Ela é uma abreviação para <span style=\"color:blue\">Read, Eval, Print and Loop</span>)\n",
    "* Um documento na forma de caderno de anotações\n",
    "* Uma ferramenta de conversão de documentos do notebook\n",
    "* Uma ferramenta de criação de notebooks baseada na web\n",
    "* Ferramentas para a construção de interface interativa (widgets)\n",
    "* Python paralelo interativo\n",
    "\n",
    "O Jupyter foi originalmente desenvolvido como parte do projeto IPython. O projeto IPython foi usado para fornecer acesso on-line interativo ao Python. Ao longo do tempo, tornou-se útil interagir com outras ferramentas de análise de dados, como R, da mesma maneira. Com esta divisão de Python, a ferramenta cresceu em sua manifestação atual de Jupyter. O IPython ainda é uma ferramenta ativa que está disponível para uso. O próprio nome Jupyter é derivado da combinação de Julia, Python e R.\n",
    "\n",
    "\n",
    "O notebook HTML que faz parte do projeto Jupyter suporta ** visualização de dados interativos ** e fácil de alto desempenho ** computação paralela **.\n",
    "\n",
    "$$ \\psi$$\n",
    "\n"
   ]
  },
  {
   "cell_type": "code",
   "execution_count": 31,
   "metadata": {},
   "outputs": [
    {
     "data": {
      "text/plain": [
       "[<matplotlib.lines.Line2D at 0x7f3e88e63978>]"
      ]
     },
     "execution_count": 31,
     "metadata": {},
     "output_type": "execute_result"
    },
    {
     "data": {
      "image/png": "[encoded data removed]",
      "text/plain": [
       "<matplotlib.figure.Figure at 0x7f3e88e96b70>"
      ]
     },
     "metadata": {},
     "output_type": "display_data"
    }
   ],
   "source": [
    "import matplotlib.pyplot as plt\n",
    "import numpy as np\n",
    "plt.style.use('fivethirtyeight')\n",
    "\n",
    "def f(x):\n",
    "    return (x-3)*(x-5)*(x-7)+85\n",
    "#\n",
    "\n",
    "import numpy as np\n",
    "x0 = -10 # origem\n",
    "xf = 10  # fim do intervalo\n",
    "n  = 200 # numero de pontos que se discretiza o intervalo (x0,xf)\n",
    "x = np.linspace(x0, xf, n)\n",
    "y = f(x)\n",
    "plt.plot(x,y)"
   ]
  },
  {
   "cell_type": "code",
   "execution_count": 32,
   "metadata": {},
   "outputs": [
    {
     "data": {
      "text/plain": [
       "[<matplotlib.lines.Line2D at 0x7f3e8658b668>]"
      ]
     },
     "execution_count": 32,
     "metadata": {},
     "output_type": "execute_result"
    },
    {
     "data": {
      "image/png": "[encoded data removed]",
      "text/plain": [
       "<matplotlib.figure.Figure at 0x7f3e88e967b8>"
      ]
     },
     "metadata": {},
     "output_type": "display_data"
    }
   ],
   "source": [
    "def g(x):\n",
    "    return x**4 -3*x**2 +4*x -x +2\n",
    "\n",
    "x0 = -3 # origem\n",
    "xf = 3  # fim do intervalo\n",
    "n  = 200 # numero de pontos que se discretiza o intervalo (x0,xf)\n",
    "x = np.linspace(x0, xf, n)\n",
    "y = g(x)\n",
    "plt.plot(x,y)"
   ]
  },
  {
   "cell_type": "markdown",
   "metadata": {},
   "source": [
    "O notebook permite documentar seu fluxo de trabalho usando HTML ou Markdown.\n",
    "\n",
    "O Jupyter Notebook consiste em dois componentes relacionados:\n",
    "\n",
    "* Um formato de documento JSON baseado em Notebook para gravação e distribuição de código Python e texto rico.\n",
    "  - subb1\n",
    "  - sub2\n",
    "* Uma interface de usuário baseada na web para a criação e execução de documentos do notebook.\n",
    "\n",
    "O Notebook pode ser usado iniciando o servidor Notebook com o comando:\n",
    "\n",
    "> $ ipython3 notebook\n",
    "    \n",
    "Isso inicia um **mecanismo IPython**, que é uma instância Python que leva comandos Python através de uma conexão de rede.\n",
    "\n",
    "O **controlador IPython** fornece uma interface para trabalhar com um conjunto de mecanismos, aos quais um ou mais **clientes IPython** podem se conectar.\n",
    "\n",
    "O Notebook dá-lhe tudo o que um navegador lhe dá. Por exemplo, você pode incorporar imagens, vídeos ou sites inteiros."
   ]
  },
  {
   "cell_type": "code",
   "execution_count": 33,
   "metadata": {},
   "outputs": [
    {
     "data": {
      "text/html": [
       "<iframe src=http://jupyter.org/ width=700 height=350></iframe>"
      ],
      "text/plain": [
       "<IPython.core.display.HTML object>"
      ]
     },
     "execution_count": 33,
     "metadata": {},
     "output_type": "execute_result"
    }
   ],
   "source": [
    "from IPython.display import HTML\n",
    "HTML(\"<iframe src=http://jupyter.org/ width=700 height=350></iframe>\")"
   ]
  },
  {
   "cell_type": "code",
   "execution_count": null,
   "metadata": {
    "slideshow": {
     "slide_type": "slide"
    }
   },
   "outputs": [],
   "source": [
    "from IPython.display import YouTubeVideo\n",
    "YouTubeVideo(\"rl5DaFbLc60\")"
   ]
  },
  {
   "cell_type": "markdown",
   "metadata": {},
   "source": [
    "### Código Remoto\n",
    "\n",
    "Use `%load` para adicionar um código remoto"
   ]
  },
  {
   "cell_type": "code",
   "execution_count": 34,
   "metadata": {},
   "outputs": [
    {
     "data": {
      "image/png": "[encoded data removed]",
      "text/plain": [
       "<matplotlib.figure.Figure at 0x7f3e88e96128>"
      ]
     },
     "metadata": {},
     "output_type": "display_data"
    }
   ],
   "source": [
    "# %load http://matplotlib.org/_downloads/legend.py\n",
    "\"\"\"\n",
    "===============================\n",
    "Legend using pre-defined labels\n",
    "===============================\n",
    "\n",
    "Notice how the legend labels are defined with the plots!\n",
    "\"\"\"\n",
    "\n",
    "\n",
    "import numpy as np\n",
    "import matplotlib.pyplot as plt\n",
    "\n",
    "# Make some fake data.\n",
    "a = b = np.arange(0, 3, .02)\n",
    "c = np.exp(a)\n",
    "d = c[::-1]\n",
    "\n",
    "# Create plots with pre-defined labels.\n",
    "fig, ax = plt.subplots()\n",
    "ax.plot(a, c, 'k--', label='Model length')\n",
    "ax.plot(a, d, 'k:', label='Data length')\n",
    "ax.plot(a, c + d, 'k', label='Total message length')\n",
    "\n",
    "legend = ax.legend(loc='upper center', shadow=True, fontsize='x-large')\n",
    "\n",
    "# Put a nicer background color on the legend.\n",
    "legend.get_frame().set_facecolor('#00FFCC')\n",
    "\n",
    "plt.show()\n"
   ]
  },
  {
   "cell_type": "code",
   "execution_count": null,
   "metadata": {},
   "outputs": [],
   "source": [
    "%matplotlib qt5"
   ]
  },
  {
   "cell_type": "code",
   "execution_count": 35,
   "metadata": {},
   "outputs": [
    {
     "data": {
      "image/png": "[encoded data removed]",
      "text/plain": [
       "<matplotlib.figure.Figure at 0x7f3e88e962e8>"
      ]
     },
     "metadata": {},
     "output_type": "display_data"
    }
   ],
   "source": [
    "# %load http://matplotlib.org/mpl_examples/shapes_and_collections/scatter_demo.py\n",
    "\"\"\"\n",
    "Simple demo of a scatter plot.\n",
    "\"\"\"\n",
    "import numpy as np\n",
    "import matplotlib.pyplot as plt\n",
    "\n",
    "\n",
    "N = 50\n",
    "x = np.random.rand(N)\n",
    "y = np.random.rand(N)\n",
    "colors = np.random.rand(N)\n",
    "area = np.pi * (15 * np.random.rand(N))**2  # 0 to 15 point radii\n",
    "\n",
    "plt.scatter(x, y, s=area, c=colors, alpha=0.5)\n",
    "plt.show()\n"
   ]
  },
  {
   "cell_type": "code",
   "execution_count": 36,
   "metadata": {},
   "outputs": [
    {
     "data": {
      "image/png": "[encoded data removed]",
      "text/plain": [
       "<matplotlib.figure.Figure at 0x7f3e88ea2320>"
      ]
     },
     "metadata": {},
     "output_type": "display_data"
    }
   ],
   "source": [
    "# %load http://matplotlib.org/examples/frontpage/plot_contour.py\n",
    "\"\"\"\n",
    "=========================\n",
    "Frontpage contour example\n",
    "=========================\n",
    "\n",
    "This example reproduces the frontpage contour example.\n",
    "\"\"\"\n",
    "\n",
    "import matplotlib.pyplot as plt\n",
    "import numpy as np\n",
    "from matplotlib import mlab, cm\n",
    "\n",
    "extent = (-3, 3, -3, 3)\n",
    "\n",
    "delta = 0.1\n",
    "x = np.arange(-3.0, 4.001, delta)\n",
    "y = np.arange(-4.0, 3.001, delta)\n",
    "X, Y = np.meshgrid(x, y)\n",
    "Z1 = mlab.bivariate_normal(X, Y, 1.0, 1.0, 0.0, -0.5)\n",
    "Z2 = mlab.bivariate_normal(X, Y, 1.5, 0.5, 1, 1)\n",
    "Z = (Z1 - Z2) * 10\n",
    "\n",
    "levels = np.linspace(-2.0, 1.601, 40)\n",
    "norm = cm.colors.Normalize(vmax=abs(Z).max(), vmin=-abs(Z).max())\n",
    "\n",
    "fig, ax = plt.subplots()\n",
    "cset1 = ax.contourf(\n",
    "    X, Y, Z, levels,\n",
    "    norm=norm)\n",
    "ax.set_xlim(-3, 3)\n",
    "ax.set_ylim(-3, 3)\n",
    "ax.set_xticks([])\n",
    "ax.set_yticks([])\n",
    "fig.savefig(\"contour_frontpage.png\", dpi=300)  # results in 160x120 px image\n"
   ]
  },
  {
   "cell_type": "code",
   "execution_count": 10,
   "metadata": {
    "ExecuteTime": {
     "end_time": "2019-08-12T02:12:11.859276Z",
     "start_time": "2019-08-12T02:12:10.847790Z"
    }
   },
   "outputs": [],
   "source": [
    "%matplotlib notebook"
   ]
  },
  {
   "cell_type": "code",
   "execution_count": 11,
   "metadata": {
    "ExecuteTime": {
     "end_time": "2019-08-12T02:12:13.270901Z",
     "start_time": "2019-08-12T02:12:13.001392Z"
    }
   },
   "outputs": [
    {
     "data": {
      "application/javascript": [
       "/* Put everything inside the global mpl namespace */\n",
       "window.mpl = {};\n",
       "\n",
       "\n",
       "mpl.get_websocket_type = function() {\n",
       "    if (typeof(WebSocket) !== 'undefined') {\n",
       "        return WebSocket;\n",
       "    } else if (typeof(MozWebSocket) !== 'undefined') {\n",
       "        return MozWebSocket;\n",
       "    } else {\n",
       "        alert('Your browser does not have WebSocket support. ' +\n",
       "              'Please try Chrome, Safari or Firefox ≥ 6. ' +\n",
       "              'Firefox 4 and 5 are also supported but you ' +\n",
       "              'have to enable WebSockets in about:config.');\n",
       "    };\n",
       "}\n",
       "\n",
       "mpl.figure = function(figure_id, websocket, ondownload, parent_element) {\n",
       "    this.id = figure_id;\n",
       "\n",
       "    this.ws = websocket;\n",
       "\n",
       "    this.supports_binary = (this.ws.binaryType != undefined);\n",
       "\n",
       "    if (!this.supports_binary) {\n",
       "        var warnings = document.getElementById(\"mpl-warnings\");\n",
       "        if (warnings) {\n",
       "            warnings.style.display = 'block';\n",
       "            warnings.textContent = (\n",
       "                \"This browser does not support binary websocket messages. \" +\n",
       "                    \"Performance may be slow.\");\n",
       "        }\n",
       "    }\n",
       "\n",
       "    this.imageObj = new Image();\n",
       "\n",
       "    this.context = undefined;\n",
       "    this.message = undefined;\n",
       "    this.canvas = undefined;\n",
       "    this.rubberband_canvas = undefined;\n",
       "    this.rubberband_context = undefined;\n",
       "    this.format_dropdown = undefined;\n",
       "\n",
       "    this.image_mode = 'full';\n",
       "\n",
       "    this.root = $('<div/>');\n",
       "    this._root_extra_style(this.root)\n",
       "    this.root.attr('style', 'display: inline-block');\n",
       "\n",
       "    $(parent_element).append(this.root);\n",
       "\n",
       "    this._init_header(this);\n",
       "    this._init_canvas(this);\n",
       "    this._init_toolbar(this);\n",
       "\n",
       "    var fig = this;\n",
       "\n",
       "    this.waiting = false;\n",
       "\n",
       "    this.ws.onopen =  function () {\n",
       "            fig.send_message(\"supports_binary\", {value: fig.supports_binary});\n",
       "            fig.send_message(\"send_image_mode\", {});\n",
       "            if (mpl.ratio != 1) {\n",
       "                fig.send_message(\"set_dpi_ratio\", {'dpi_ratio': mpl.ratio});\n",
       "            }\n",
       "            fig.send_message(\"refresh\", {});\n",
       "        }\n",
       "\n",
       "    this.imageObj.onload = function() {\n",
       "            if (fig.image_mode == 'full') {\n",
       "                // Full images could contain transparency (where diff images\n",
       "                // almost always do), so we need to clear the canvas so that\n",
       "                // there is no ghosting.\n",
       "                fig.context.clearRect(0, 0, fig.canvas.width, fig.canvas.height);\n",
       "            }\n",
       "            fig.context.drawImage(fig.imageObj, 0, 0);\n",
       "        };\n",
       "\n",
       "    this.imageObj.onunload = function() {\n",
       "        fig.ws.close();\n",
       "    }\n",
       "\n",
       "    this.ws.onmessage = this._make_on_message_function(this);\n",
       "\n",
       "    this.ondownload = ondownload;\n",
       "}\n",
       "\n",
       "mpl.figure.prototype._init_header = function() {\n",
       "    var titlebar = $(\n",
       "        '<div class=\"ui-dialog-titlebar ui-widget-header ui-corner-all ' +\n",
       "        'ui-helper-clearfix\"/>');\n",
       "    var titletext = $(\n",
       "        '<div class=\"ui-dialog-title\" style=\"width: 100%; ' +\n",
       "        'text-align: center; padding: 3px;\"/>');\n",
       "    titlebar.append(titletext)\n",
       "    this.root.append(titlebar);\n",
       "    this.header = titletext[0];\n",
       "}\n",
       "\n",
       "\n",
       "\n",
       "mpl.figure.prototype._canvas_extra_style = function(canvas_div) {\n",
       "\n",
       "}\n",
       "\n",
       "\n",
       "mpl.figure.prototype._root_extra_style = function(canvas_div) {\n",
       "\n",
       "}\n",
       "\n",
       "mpl.figure.prototype._init_canvas = function() {\n",
       "    var fig = this;\n",
       "\n",
       "    var canvas_div = $('<div/>');\n",
       "\n",
       "    canvas_div.attr('style', 'position: relative; clear: both; outline: 0');\n",
       "\n",
       "    function canvas_keyboard_event(event) {\n",
       "        return fig.key_event(event, event['data']);\n",
       "    }\n",
       "\n",
       "    canvas_div.keydown('key_press', canvas_keyboard_event);\n",
       "    canvas_div.keyup('key_release', canvas_keyboard_event);\n",
       "    this.canvas_div = canvas_div\n",
       "    this._canvas_extra_style(canvas_div)\n",
       "    this.root.append(canvas_div);\n",
       "\n",
       "    var canvas = $('<canvas/>');\n",
       "    canvas.addClass('mpl-canvas');\n",
       "    canvas.attr('style', \"left: 0; top: 0; z-index: 0; outline: 0\")\n",
       "\n",
       "    this.canvas = canvas[0];\n",
       "    this.context = canvas[0].getContext(\"2d\");\n",
       "\n",
       "    var backingStore = this.context.backingStorePixelRatio ||\n",
       "\tthis.context.webkitBackingStorePixelRatio ||\n",
       "\tthis.context.mozBackingStorePixelRatio ||\n",
       "\tthis.context.msBackingStorePixelRatio ||\n",
       "\tthis.context.oBackingStorePixelRatio ||\n",
       "\tthis.context.backingStorePixelRatio || 1;\n",
       "\n",
       "    mpl.ratio = (window.devicePixelRatio || 1) / backingStore;\n",
       "\n",
       "    var rubberband = $('<canvas/>');\n",
       "    rubberband.attr('style', \"position: absolute; left: 0; top: 0; z-index: 1;\")\n",
       "\n",
       "    var pass_mouse_events = true;\n",
       "\n",
       "    canvas_div.resizable({\n",
       "        start: function(event, ui) {\n",
       "            pass_mouse_events = false;\n",
       "        },\n",
       "        resize: function(event, ui) {\n",
       "            fig.request_resize(ui.size.width, ui.size.height);\n",
       "        },\n",
       "        stop: function(event, ui) {\n",
       "            pass_mouse_events = true;\n",
       "            fig.request_resize(ui.size.width, ui.size.height);\n",
       "        },\n",
       "    });\n",
       "\n",
       "    function mouse_event_fn(event) {\n",
       "        if (pass_mouse_events)\n",
       "            return fig.mouse_event(event, event['data']);\n",
       "    }\n",
       "\n",
       "    rubberband.mousedown('button_press', mouse_event_fn);\n",
       "    rubberband.mouseup('button_release', mouse_event_fn);\n",
       "    // Throttle sequential mouse events to 1 every 20ms.\n",
       "    rubberband.mousemove('motion_notify', mouse_event_fn);\n",
       "\n",
       "    rubberband.mouseenter('figure_enter', mouse_event_fn);\n",
       "    rubberband.mouseleave('figure_leave', mouse_event_fn);\n",
       "\n",
       "    canvas_div.on(\"wheel\", function (event) {\n",
       "        event = event.originalEvent;\n",
       "        event['data'] = 'scroll'\n",
       "        if (event.deltaY < 0) {\n",
       "            event.step = 1;\n",
       "        } else {\n",
       "            event.step = -1;\n",
       "        }\n",
       "        mouse_event_fn(event);\n",
       "    });\n",
       "\n",
       "    canvas_div.append(canvas);\n",
       "    canvas_div.append(rubberband);\n",
       "\n",
       "    this.rubberband = rubberband;\n",
       "    this.rubberband_canvas = rubberband[0];\n",
       "    this.rubberband_context = rubberband[0].getContext(\"2d\");\n",
       "    this.rubberband_context.strokeStyle = \"#000000\";\n",
       "\n",
       "    this._resize_canvas = function(width, height) {\n",
       "        // Keep the size of the canvas, canvas container, and rubber band\n",
       "        // canvas in synch.\n",
       "        canvas_div.css('width', width)\n",
       "        canvas_div.css('height', height)\n",
       "\n",
       "        canvas.attr('width', width * mpl.ratio);\n",
       "        canvas.attr('height', height * mpl.ratio);\n",
       "        canvas.attr('style', 'width: ' + width + 'px; height: ' + height + 'px;');\n",
       "\n",
       "        rubberband.attr('width', width);\n",
       "        rubberband.attr('height', height);\n",
       "    }\n",
       "\n",
       "    // Set the figure to an initial 600x600px, this will subsequently be updated\n",
       "    // upon first draw.\n",
       "    this._resize_canvas(600, 600);\n",
       "\n",
       "    // Disable right mouse context menu.\n",
       "    $(this.rubberband_canvas).bind(\"contextmenu\",function(e){\n",
       "        return false;\n",
       "    });\n",
       "\n",
       "    function set_focus () {\n",
       "        canvas.focus();\n",
       "        canvas_div.focus();\n",
       "    }\n",
       "\n",
       "    window.setTimeout(set_focus, 100);\n",
       "}\n",
       "\n",
       "mpl.figure.prototype._init_toolbar = function() {\n",
       "    var fig = this;\n",
       "\n",
       "    var nav_element = $('<div/>');\n",
       "    nav_element.attr('style', 'width: 100%');\n",
       "    this.root.append(nav_element);\n",
       "\n",
       "    // Define a callback function for later on.\n",
       "    function toolbar_event(event) {\n",
       "        return fig.toolbar_button_onclick(event['data']);\n",
       "    }\n",
       "    function toolbar_mouse_event(event) {\n",
       "        return fig.toolbar_button_onmouseover(event['data']);\n",
       "    }\n",
       "\n",
       "    for(var toolbar_ind in mpl.toolbar_items) {\n",
       "        var name = mpl.toolbar_items[toolbar_ind][0];\n",
       "        var tooltip = mpl.toolbar_items[toolbar_ind][1];\n",
       "        var image = mpl.toolbar_items[toolbar_ind][2];\n",
       "        var method_name = mpl.toolbar_items[toolbar_ind][3];\n",
       "\n",
       "        if (!name) {\n",
       "            // put a spacer in here.\n",
       "            continue;\n",
       "        }\n",
       "        var button = $('<button/>');\n",
       "        button.addClass('ui-button ui-widget ui-state-default ui-corner-all ' +\n",
       "                        'ui-button-icon-only');\n",
       "        button.attr('role', 'button');\n",
       "        button.attr('aria-disabled', 'false');\n",
       "        button.click(method_name, toolbar_event);\n",
       "        button.mouseover(tooltip, toolbar_mouse_event);\n",
       "\n",
       "        var icon_img = $('<span/>');\n",
       "        icon_img.addClass('ui-button-icon-primary ui-icon');\n",
       "        icon_img.addClass(image);\n",
       "        icon_img.addClass('ui-corner-all');\n",
       "\n",
       "        var tooltip_span = $('<span/>');\n",
       "        tooltip_span.addClass('ui-button-text');\n",
       "        tooltip_span.html(tooltip);\n",
       "\n",
       "        button.append(icon_img);\n",
       "        button.append(tooltip_span);\n",
       "\n",
       "        nav_element.append(button);\n",
       "    }\n",
       "\n",
       "    var fmt_picker_span = $('<span/>');\n",
       "\n",
       "    var fmt_picker = $('<select/>');\n",
       "    fmt_picker.addClass('mpl-toolbar-option ui-widget ui-widget-content');\n",
       "    fmt_picker_span.append(fmt_picker);\n",
       "    nav_element.append(fmt_picker_span);\n",
       "    this.format_dropdown = fmt_picker[0];\n",
       "\n",
       "    for (var ind in mpl.extensions) {\n",
       "        var fmt = mpl.extensions[ind];\n",
       "        var option = $(\n",
       "            '<option/>', {selected: fmt === mpl.default_extension}).html(fmt);\n",
       "        fmt_picker.append(option);\n",
       "    }\n",
       "\n",
       "    // Add hover states to the ui-buttons\n",
       "    $( \".ui-button\" ).hover(\n",
       "        function() { $(this).addClass(\"ui-state-hover\");},\n",
       "        function() { $(this).removeClass(\"ui-state-hover\");}\n",
       "    );\n",
       "\n",
       "    var status_bar = $('<span class=\"mpl-message\"/>');\n",
       "    nav_element.append(status_bar);\n",
       "    this.message = status_bar[0];\n",
       "}\n",
       "\n",
       "mpl.figure.prototype.request_resize = function(x_pixels, y_pixels) {\n",
       "    // Request matplotlib to resize the figure. Matplotlib will then trigger a resize in the client,\n",
       "    // which will in turn request a refresh of the image.\n",
       "    this.send_message('resize', {'width': x_pixels, 'height': y_pixels});\n",
       "}\n",
       "\n",
       "mpl.figure.prototype.send_message = function(type, properties) {\n",
       "    properties['type'] = type;\n",
       "    properties['figure_id'] = this.id;\n",
       "    this.ws.send(JSON.stringify(properties));\n",
       "}\n",
       "\n",
       "mpl.figure.prototype.send_draw_message = function() {\n",
       "    if (!this.waiting) {\n",
       "        this.waiting = true;\n",
       "        this.ws.send(JSON.stringify({type: \"draw\", figure_id: this.id}));\n",
       "    }\n",
       "}\n",
       "\n",
       "\n",
       "mpl.figure.prototype.handle_save = function(fig, msg) {\n",
       "    var format_dropdown = fig.format_dropdown;\n",
       "    var format = format_dropdown.options[format_dropdown.selectedIndex].value;\n",
       "    fig.ondownload(fig, format);\n",
       "}\n",
       "\n",
       "\n",
       "mpl.figure.prototype.handle_resize = function(fig, msg) {\n",
       "    var size = msg['size'];\n",
       "    if (size[0] != fig.canvas.width || size[1] != fig.canvas.height) {\n",
       "        fig._resize_canvas(size[0], size[1]);\n",
       "        fig.send_message(\"refresh\", {});\n",
       "    };\n",
       "}\n",
       "\n",
       "mpl.figure.prototype.handle_rubberband = function(fig, msg) {\n",
       "    var x0 = msg['x0'] / mpl.ratio;\n",
       "    var y0 = (fig.canvas.height - msg['y0']) / mpl.ratio;\n",
       "    var x1 = msg['x1'] / mpl.ratio;\n",
       "    var y1 = (fig.canvas.height - msg['y1']) / mpl.ratio;\n",
       "    x0 = Math.floor(x0) + 0.5;\n",
       "    y0 = Math.floor(y0) + 0.5;\n",
       "    x1 = Math.floor(x1) + 0.5;\n",
       "    y1 = Math.floor(y1) + 0.5;\n",
       "    var min_x = Math.min(x0, x1);\n",
       "    var min_y = Math.min(y0, y1);\n",
       "    var width = Math.abs(x1 - x0);\n",
       "    var height = Math.abs(y1 - y0);\n",
       "\n",
       "    fig.rubberband_context.clearRect(\n",
       "        0, 0, fig.canvas.width / mpl.ratio, fig.canvas.height / mpl.ratio);\n",
       "\n",
       "    fig.rubberband_context.strokeRect(min_x, min_y, width, height);\n",
       "}\n",
       "\n",
       "mpl.figure.prototype.handle_figure_label = function(fig, msg) {\n",
       "    // Updates the figure title.\n",
       "    fig.header.textContent = msg['label'];\n",
       "}\n",
       "\n",
       "mpl.figure.prototype.handle_cursor = function(fig, msg) {\n",
       "    var cursor = msg['cursor'];\n",
       "    switch(cursor)\n",
       "    {\n",
       "    case 0:\n",
       "        cursor = 'pointer';\n",
       "        break;\n",
       "    case 1:\n",
       "        cursor = 'default';\n",
       "        break;\n",
       "    case 2:\n",
       "        cursor = 'crosshair';\n",
       "        break;\n",
       "    case 3:\n",
       "        cursor = 'move';\n",
       "        break;\n",
       "    }\n",
       "    fig.rubberband_canvas.style.cursor = cursor;\n",
       "}\n",
       "\n",
       "mpl.figure.prototype.handle_message = function(fig, msg) {\n",
       "    fig.message.textContent = msg['message'];\n",
       "}\n",
       "\n",
       "mpl.figure.prototype.handle_draw = function(fig, msg) {\n",
       "    // Request the server to send over a new figure.\n",
       "    fig.send_draw_message();\n",
       "}\n",
       "\n",
       "mpl.figure.prototype.handle_image_mode = function(fig, msg) {\n",
       "    fig.image_mode = msg['mode'];\n",
       "}\n",
       "\n",
       "mpl.figure.prototype.updated_canvas_event = function() {\n",
       "    // Called whenever the canvas gets updated.\n",
       "    this.send_message(\"ack\", {});\n",
       "}\n",
       "\n",
       "// A function to construct a web socket function for onmessage handling.\n",
       "// Called in the figure constructor.\n",
       "mpl.figure.prototype._make_on_message_function = function(fig) {\n",
       "    return function socket_on_message(evt) {\n",
       "        if (evt.data instanceof Blob) {\n",
       "            /* FIXME: We get \"Resource interpreted as Image but\n",
       "             * transferred with MIME type text/plain:\" errors on\n",
       "             * Chrome.  But how to set the MIME type?  It doesn't seem\n",
       "             * to be part of the websocket stream */\n",
       "            evt.data.type = \"image/png\";\n",
       "\n",
       "            /* Free the memory for the previous frames */\n",
       "            if (fig.imageObj.src) {\n",
       "                (window.URL || window.webkitURL).revokeObjectURL(\n",
       "                    fig.imageObj.src);\n",
       "            }\n",
       "\n",
       "            fig.imageObj.src = (window.URL || window.webkitURL).createObjectURL(\n",
       "                evt.data);\n",
       "            fig.updated_canvas_event();\n",
       "            fig.waiting = false;\n",
       "            return;\n",
       "        }\n",
       "        else if (typeof evt.data === 'string' && evt.data.slice(0, 21) == \"data:image/png;base64\") {\n",
       "            fig.imageObj.src = evt.data;\n",
       "            fig.updated_canvas_event();\n",
       "            fig.waiting = false;\n",
       "            return;\n",
       "        }\n",
       "\n",
       "        var msg = JSON.parse(evt.data);\n",
       "        var msg_type = msg['type'];\n",
       "\n",
       "        // Call the  \"handle_{type}\" callback, which takes\n",
       "        // the figure and JSON message as its only arguments.\n",
       "        try {\n",
       "            var callback = fig[\"handle_\" + msg_type];\n",
       "        } catch (e) {\n",
       "            console.log(\"No handler for the '\" + msg_type + \"' message type: \", msg);\n",
       "            return;\n",
       "        }\n",
       "\n",
       "        if (callback) {\n",
       "            try {\n",
       "                // console.log(\"Handling '\" + msg_type + \"' message: \", msg);\n",
       "                callback(fig, msg);\n",
       "            } catch (e) {\n",
       "                console.log(\"Exception inside the 'handler_\" + msg_type + \"' callback:\", e, e.stack, msg);\n",
       "            }\n",
       "        }\n",
       "    };\n",
       "}\n",
       "\n",
       "// from http://stackoverflow.com/questions/1114465/getting-mouse-location-in-canvas\n",
       "mpl.findpos = function(e) {\n",
       "    //this section is from http://www.quirksmode.org/js/events_properties.html\n",
       "    var targ;\n",
       "    if (!e)\n",
       "        e = window.event;\n",
       "    if (e.target)\n",
       "        targ = e.target;\n",
       "    else if (e.srcElement)\n",
       "        targ = e.srcElement;\n",
       "    if (targ.nodeType == 3) // defeat Safari bug\n",
       "        targ = targ.parentNode;\n",
       "\n",
       "    // jQuery normalizes the pageX and pageY\n",
       "    // pageX,Y are the mouse positions relative to the document\n",
       "    // offset() returns the position of the element relative to the document\n",
       "    var x = e.pageX - $(targ).offset().left;\n",
       "    var y = e.pageY - $(targ).offset().top;\n",
       "\n",
       "    return {\"x\": x, \"y\": y};\n",
       "};\n",
       "\n",
       "/*\n",
       " * return a copy of an object with only non-object keys\n",
       " * we need this to avoid circular references\n",
       " * http://stackoverflow.com/a/24161582/3208463\n",
       " */\n",
       "function simpleKeys (original) {\n",
       "  return Object.keys(original).reduce(function (obj, key) {\n",
       "    if (typeof original[key] !== 'object')\n",
       "        obj[key] = original[key]\n",
       "    return obj;\n",
       "  }, {});\n",
       "}\n",
       "\n",
       "mpl.figure.prototype.mouse_event = function(event, name) {\n",
       "    var canvas_pos = mpl.findpos(event)\n",
       "\n",
       "    if (name === 'button_press')\n",
       "    {\n",
       "        this.canvas.focus();\n",
       "        this.canvas_div.focus();\n",
       "    }\n",
       "\n",
       "    var x = canvas_pos.x * mpl.ratio;\n",
       "    var y = canvas_pos.y * mpl.ratio;\n",
       "\n",
       "    this.send_message(name, {x: x, y: y, button: event.button,\n",
       "                             step: event.step,\n",
       "                             guiEvent: simpleKeys(event)});\n",
       "\n",
       "    /* This prevents the web browser from automatically changing to\n",
       "     * the text insertion cursor when the button is pressed.  We want\n",
       "     * to control all of the cursor setting manually through the\n",
       "     * 'cursor' event from matplotlib */\n",
       "    event.preventDefault();\n",
       "    return false;\n",
       "}\n",
       "\n",
       "mpl.figure.prototype._key_event_extra = function(event, name) {\n",
       "    // Handle any extra behaviour associated with a key event\n",
       "}\n",
       "\n",
       "mpl.figure.prototype.key_event = function(event, name) {\n",
       "\n",
       "    // Prevent repeat events\n",
       "    if (name == 'key_press')\n",
       "    {\n",
       "        if (event.which === this._key)\n",
       "            return;\n",
       "        else\n",
       "            this._key = event.which;\n",
       "    }\n",
       "    if (name == 'key_release')\n",
       "        this._key = null;\n",
       "\n",
       "    var value = '';\n",
       "    if (event.ctrlKey && event.which != 17)\n",
       "        value += \"ctrl+\";\n",
       "    if (event.altKey && event.which != 18)\n",
       "        value += \"alt+\";\n",
       "    if (event.shiftKey && event.which != 16)\n",
       "        value += \"shift+\";\n",
       "\n",
       "    value += 'k';\n",
       "    value += event.which.toString();\n",
       "\n",
       "    this._key_event_extra(event, name);\n",
       "\n",
       "    this.send_message(name, {key: value,\n",
       "                             guiEvent: simpleKeys(event)});\n",
       "    return false;\n",
       "}\n",
       "\n",
       "mpl.figure.prototype.toolbar_button_onclick = function(name) {\n",
       "    if (name == 'download') {\n",
       "        this.handle_save(this, null);\n",
       "    } else {\n",
       "        this.send_message(\"toolbar_button\", {name: name});\n",
       "    }\n",
       "};\n",
       "\n",
       "mpl.figure.prototype.toolbar_button_onmouseover = function(tooltip) {\n",
       "    this.message.textContent = tooltip;\n",
       "};\n",
       "mpl.toolbar_items = [[\"Home\", \"Reset original view\", \"fa fa-home icon-home\", \"home\"], [\"Back\", \"Back to previous view\", \"fa fa-arrow-left icon-arrow-left\", \"back\"], [\"Forward\", \"Forward to next view\", \"fa fa-arrow-right icon-arrow-right\", \"forward\"], [\"\", \"\", \"\", \"\"], [\"Pan\", \"Pan axes with left mouse, zoom with right\", \"fa fa-arrows icon-move\", \"pan\"], [\"Zoom\", \"Zoom to rectangle\", \"fa fa-square-o icon-check-empty\", \"zoom\"], [\"\", \"\", \"\", \"\"], [\"Download\", \"Download plot\", \"fa fa-floppy-o icon-save\", \"download\"]];\n",
       "\n",
       "mpl.extensions = [\"eps\", \"jpeg\", \"pdf\", \"png\", \"ps\", \"raw\", \"svg\", \"tif\"];\n",
       "\n",
       "mpl.default_extension = \"png\";var comm_websocket_adapter = function(comm) {\n",
       "    // Create a \"websocket\"-like object which calls the given IPython comm\n",
       "    // object with the appropriate methods. Currently this is a non binary\n",
       "    // socket, so there is still some room for performance tuning.\n",
       "    var ws = {};\n",
       "\n",
       "    ws.close = function() {\n",
       "        comm.close()\n",
       "    };\n",
       "    ws.send = function(m) {\n",
       "        //console.log('sending', m);\n",
       "        comm.send(m);\n",
       "    };\n",
       "    // Register the callback with on_msg.\n",
       "    comm.on_msg(function(msg) {\n",
       "        //console.log('receiving', msg['content']['data'], msg);\n",
       "        // Pass the mpl event to the overridden (by mpl) onmessage function.\n",
       "        ws.onmessage(msg['content']['data'])\n",
       "    });\n",
       "    return ws;\n",
       "}\n",
       "\n",
       "mpl.mpl_figure_comm = function(comm, msg) {\n",
       "    // This is the function which gets called when the mpl process\n",
       "    // starts-up an IPython Comm through the \"matplotlib\" channel.\n",
       "\n",
       "    var id = msg.content.data.id;\n",
       "    // Get hold of the div created by the display call when the Comm\n",
       "    // socket was opened in Python.\n",
       "    var element = $(\"#\" + id);\n",
       "    var ws_proxy = comm_websocket_adapter(comm)\n",
       "\n",
       "    function ondownload(figure, format) {\n",
       "        window.open(figure.imageObj.src);\n",
       "    }\n",
       "\n",
       "    var fig = new mpl.figure(id, ws_proxy,\n",
       "                           ondownload,\n",
       "                           element.get(0));\n",
       "\n",
       "    // Call onopen now - mpl needs it, as it is assuming we've passed it a real\n",
       "    // web socket which is closed, not our websocket->open comm proxy.\n",
       "    ws_proxy.onopen();\n",
       "\n",
       "    fig.parent_element = element.get(0);\n",
       "    fig.cell_info = mpl.find_output_cell(\"<div id='\" + id + \"'></div>\");\n",
       "    if (!fig.cell_info) {\n",
       "        console.error(\"Failed to find cell for figure\", id, fig);\n",
       "        return;\n",
       "    }\n",
       "\n",
       "    var output_index = fig.cell_info[2]\n",
       "    var cell = fig.cell_info[0];\n",
       "\n",
       "};\n",
       "\n",
       "mpl.figure.prototype.handle_close = function(fig, msg) {\n",
       "    var width = fig.canvas.width/mpl.ratio\n",
       "    fig.root.unbind('remove')\n",
       "\n",
       "    // Update the output cell to use the data from the current canvas.\n",
       "    fig.push_to_output();\n",
       "    var dataURL = fig.canvas.toDataURL();\n",
       "    // Re-enable the keyboard manager in IPython - without this line, in FF,\n",
       "    // the notebook keyboard shortcuts fail.\n",
       "    IPython.keyboard_manager.enable()\n",
       "    $(fig.parent_element).html('<img src=\"' + dataURL + '\" width=\"' + width + '\">');\n",
       "    fig.close_ws(fig, msg);\n",
       "}\n",
       "\n",
       "mpl.figure.prototype.close_ws = function(fig, msg){\n",
       "    fig.send_message('closing', msg);\n",
       "    // fig.ws.close()\n",
       "}\n",
       "\n",
       "mpl.figure.prototype.push_to_output = function(remove_interactive) {\n",
       "    // Turn the data on the canvas into data in the output cell.\n",
       "    var width = this.canvas.width/mpl.ratio\n",
       "    var dataURL = this.canvas.toDataURL();\n",
       "    this.cell_info[1]['text/html'] = '<img src=\"' + dataURL + '\" width=\"' + width + '\">';\n",
       "}\n",
       "\n",
       "mpl.figure.prototype.updated_canvas_event = function() {\n",
       "    // Tell IPython that the notebook contents must change.\n",
       "    IPython.notebook.set_dirty(true);\n",
       "    this.send_message(\"ack\", {});\n",
       "    var fig = this;\n",
       "    // Wait a second, then push the new image to the DOM so\n",
       "    // that it is saved nicely (might be nice to debounce this).\n",
       "    setTimeout(function () { fig.push_to_output() }, 1000);\n",
       "}\n",
       "\n",
       "mpl.figure.prototype._init_toolbar = function() {\n",
       "    var fig = this;\n",
       "\n",
       "    var nav_element = $('<div/>');\n",
       "    nav_element.attr('style', 'width: 100%');\n",
       "    this.root.append(nav_element);\n",
       "\n",
       "    // Define a callback function for later on.\n",
       "    function toolbar_event(event) {\n",
       "        return fig.toolbar_button_onclick(event['data']);\n",
       "    }\n",
       "    function toolbar_mouse_event(event) {\n",
       "        return fig.toolbar_button_onmouseover(event['data']);\n",
       "    }\n",
       "\n",
       "    for(var toolbar_ind in mpl.toolbar_items){\n",
       "        var name = mpl.toolbar_items[toolbar_ind][0];\n",
       "        var tooltip = mpl.toolbar_items[toolbar_ind][1];\n",
       "        var image = mpl.toolbar_items[toolbar_ind][2];\n",
       "        var method_name = mpl.toolbar_items[toolbar_ind][3];\n",
       "\n",
       "        if (!name) { continue; };\n",
       "\n",
       "        var button = $('<button class=\"btn btn-default\" href=\"#\" title=\"' + name + '\"><i class=\"fa ' + image + ' fa-lg\"></i></button>');\n",
       "        button.click(method_name, toolbar_event);\n",
       "        button.mouseover(tooltip, toolbar_mouse_event);\n",
       "        nav_element.append(button);\n",
       "    }\n",
       "\n",
       "    // Add the status bar.\n",
       "    var status_bar = $('<span class=\"mpl-message\" style=\"text-align:right; float: right;\"/>');\n",
       "    nav_element.append(status_bar);\n",
       "    this.message = status_bar[0];\n",
       "\n",
       "    // Add the close button to the window.\n",
       "    var buttongrp = $('<div class=\"btn-group inline pull-right\"></div>');\n",
       "    var button = $('<button class=\"btn btn-mini btn-primary\" href=\"#\" title=\"Stop Interaction\"><i class=\"fa fa-power-off icon-remove icon-large\"></i></button>');\n",
       "    button.click(function (evt) { fig.handle_close(fig, {}); } );\n",
       "    button.mouseover('Stop Interaction', toolbar_mouse_event);\n",
       "    buttongrp.append(button);\n",
       "    var titlebar = this.root.find($('.ui-dialog-titlebar'));\n",
       "    titlebar.prepend(buttongrp);\n",
       "}\n",
       "\n",
       "mpl.figure.prototype._root_extra_style = function(el){\n",
       "    var fig = this\n",
       "    el.on(\"remove\", function(){\n",
       "\tfig.close_ws(fig, {});\n",
       "    });\n",
       "}\n",
       "\n",
       "mpl.figure.prototype._canvas_extra_style = function(el){\n",
       "    // this is important to make the div 'focusable\n",
       "    el.attr('tabindex', 0)\n",
       "    // reach out to IPython and tell the keyboard manager to turn it's self\n",
       "    // off when our div gets focus\n",
       "\n",
       "    // location in version 3\n",
       "    if (IPython.notebook.keyboard_manager) {\n",
       "        IPython.notebook.keyboard_manager.register_events(el);\n",
       "    }\n",
       "    else {\n",
       "        // location in version 2\n",
       "        IPython.keyboard_manager.register_events(el);\n",
       "    }\n",
       "\n",
       "}\n",
       "\n",
       "mpl.figure.prototype._key_event_extra = function(event, name) {\n",
       "    var manager = IPython.notebook.keyboard_manager;\n",
       "    if (!manager)\n",
       "        manager = IPython.keyboard_manager;\n",
       "\n",
       "    // Check for shift+enter\n",
       "    if (event.shiftKey && event.which == 13) {\n",
       "        this.canvas_div.blur();\n",
       "        event.shiftKey = false;\n",
       "        // Send a \"J\" for go to next cell\n",
       "        event.which = 74;\n",
       "        event.keyCode = 74;\n",
       "        manager.command_mode();\n",
       "        manager.handle_keydown(event);\n",
       "    }\n",
       "}\n",
       "\n",
       "mpl.figure.prototype.handle_save = function(fig, msg) {\n",
       "    fig.ondownload(fig, null);\n",
       "}\n",
       "\n",
       "\n",
       "mpl.find_output_cell = function(html_output) {\n",
       "    // Return the cell and output element which can be found *uniquely* in the notebook.\n",
       "    // Note - this is a bit hacky, but it is done because the \"notebook_saving.Notebook\"\n",
       "    // IPython event is triggered only after the cells have been serialised, which for\n",
       "    // our purposes (turning an active figure into a static one), is too late.\n",
       "    var cells = IPython.notebook.get_cells();\n",
       "    var ncells = cells.length;\n",
       "    for (var i=0; i<ncells; i++) {\n",
       "        var cell = cells[i];\n",
       "        if (cell.cell_type === 'code'){\n",
       "            for (var j=0; j<cell.output_area.outputs.length; j++) {\n",
       "                var data = cell.output_area.outputs[j];\n",
       "                if (data.data) {\n",
       "                    // IPython >= 3 moved mimebundle to data attribute of output\n",
       "                    data = data.data;\n",
       "                }\n",
       "                if (data['text/html'] == html_output) {\n",
       "                    return [cell, data, j];\n",
       "                }\n",
       "            }\n",
       "        }\n",
       "    }\n",
       "}\n",
       "\n",
       "// Register the function which deals with the matplotlib target/channel.\n",
       "// The kernel may be null if the page has been refreshed.\n",
       "if (IPython.notebook.kernel != null) {\n",
       "    IPython.notebook.kernel.comm_manager.register_target('matplotlib', mpl.mpl_figure_comm);\n",
       "}\n"
      ],
      "text/plain": [
       "<IPython.core.display.Javascript object>"
      ]
     },
     "metadata": {},
     "output_type": "display_data"
    },
    {
     "data": {
      "text/html": [
       "<img src=\"data:image/png;base64,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\" width=\"639.8333333333334\">"
      ],
      "text/plain": [
       "<IPython.core.display.HTML object>"
      ]
     },
     "metadata": {},
     "output_type": "display_data"
    }
   ],
   "source": [
    "# %load http://matplotlib.org/mpl_examples/mplot3d/contour3d_demo3.py\n",
    "from mpl_toolkits.mplot3d import axes3d\n",
    "import matplotlib.pyplot as plt\n",
    "from matplotlib import cm\n",
    "\n",
    "fig = plt.figure()\n",
    "ax = fig.gca(projection='3d')\n",
    "X, Y, Z = axes3d.get_test_data(0.05)\n",
    "ax.plot_surface(X, Y, Z, rstride=8, cstride=8, alpha=0.3)\n",
    "cset = ax.contour(X, Y, Z, zdir='z', offset=-100, cmap=cm.coolwarm)\n",
    "cset = ax.contour(X, Y, Z, zdir='x', offset=-40, cmap=cm.coolwarm)\n",
    "cset = ax.contour(X, Y, Z, zdir='y', offset=40, cmap=cm.coolwarm)\n",
    "\n",
    "ax.set_xlabel('X')\n",
    "ax.set_xlim(-40, 40)\n",
    "ax.set_ylabel('Y')\n",
    "ax.set_ylim(-40, 40)\n",
    "ax.set_zlabel('Z')\n",
    "ax.set_zlim(-100, 100)\n",
    "\n",
    "plt.show()"
   ]
  },
  {
   "cell_type": "code",
   "execution_count": 12,
   "metadata": {
    "ExecuteTime": {
     "end_time": "2019-08-12T02:12:24.815471Z",
     "start_time": "2019-08-12T02:12:24.495995Z"
    }
   },
   "outputs": [
    {
     "data": {
      "application/javascript": [
       "/* Put everything inside the global mpl namespace */\n",
       "window.mpl = {};\n",
       "\n",
       "\n",
       "mpl.get_websocket_type = function() {\n",
       "    if (typeof(WebSocket) !== 'undefined') {\n",
       "        return WebSocket;\n",
       "    } else if (typeof(MozWebSocket) !== 'undefined') {\n",
       "        return MozWebSocket;\n",
       "    } else {\n",
       "        alert('Your browser does not have WebSocket support. ' +\n",
       "              'Please try Chrome, Safari or Firefox ≥ 6. ' +\n",
       "              'Firefox 4 and 5 are also supported but you ' +\n",
       "              'have to enable WebSockets in about:config.');\n",
       "    };\n",
       "}\n",
       "\n",
       "mpl.figure = function(figure_id, websocket, ondownload, parent_element) {\n",
       "    this.id = figure_id;\n",
       "\n",
       "    this.ws = websocket;\n",
       "\n",
       "    this.supports_binary = (this.ws.binaryType != undefined);\n",
       "\n",
       "    if (!this.supports_binary) {\n",
       "        var warnings = document.getElementById(\"mpl-warnings\");\n",
       "        if (warnings) {\n",
       "            warnings.style.display = 'block';\n",
       "            warnings.textContent = (\n",
       "                \"This browser does not support binary websocket messages. \" +\n",
       "                    \"Performance may be slow.\");\n",
       "        }\n",
       "    }\n",
       "\n",
       "    this.imageObj = new Image();\n",
       "\n",
       "    this.context = undefined;\n",
       "    this.message = undefined;\n",
       "    this.canvas = undefined;\n",
       "    this.rubberband_canvas = undefined;\n",
       "    this.rubberband_context = undefined;\n",
       "    this.format_dropdown = undefined;\n",
       "\n",
       "    this.image_mode = 'full';\n",
       "\n",
       "    this.root = $('<div/>');\n",
       "    this._root_extra_style(this.root)\n",
       "    this.root.attr('style', 'display: inline-block');\n",
       "\n",
       "    $(parent_element).append(this.root);\n",
       "\n",
       "    this._init_header(this);\n",
       "    this._init_canvas(this);\n",
       "    this._init_toolbar(this);\n",
       "\n",
       "    var fig = this;\n",
       "\n",
       "    this.waiting = false;\n",
       "\n",
       "    this.ws.onopen =  function () {\n",
       "            fig.send_message(\"supports_binary\", {value: fig.supports_binary});\n",
       "            fig.send_message(\"send_image_mode\", {});\n",
       "            if (mpl.ratio != 1) {\n",
       "                fig.send_message(\"set_dpi_ratio\", {'dpi_ratio': mpl.ratio});\n",
       "            }\n",
       "            fig.send_message(\"refresh\", {});\n",
       "        }\n",
       "\n",
       "    this.imageObj.onload = function() {\n",
       "            if (fig.image_mode == 'full') {\n",
       "                // Full images could contain transparency (where diff images\n",
       "                // almost always do), so we need to clear the canvas so that\n",
       "                // there is no ghosting.\n",
       "                fig.context.clearRect(0, 0, fig.canvas.width, fig.canvas.height);\n",
       "            }\n",
       "            fig.context.drawImage(fig.imageObj, 0, 0);\n",
       "        };\n",
       "\n",
       "    this.imageObj.onunload = function() {\n",
       "        fig.ws.close();\n",
       "    }\n",
       "\n",
       "    this.ws.onmessage = this._make_on_message_function(this);\n",
       "\n",
       "    this.ondownload = ondownload;\n",
       "}\n",
       "\n",
       "mpl.figure.prototype._init_header = function() {\n",
       "    var titlebar = $(\n",
       "        '<div class=\"ui-dialog-titlebar ui-widget-header ui-corner-all ' +\n",
       "        'ui-helper-clearfix\"/>');\n",
       "    var titletext = $(\n",
       "        '<div class=\"ui-dialog-title\" style=\"width: 100%; ' +\n",
       "        'text-align: center; padding: 3px;\"/>');\n",
       "    titlebar.append(titletext)\n",
       "    this.root.append(titlebar);\n",
       "    this.header = titletext[0];\n",
       "}\n",
       "\n",
       "\n",
       "\n",
       "mpl.figure.prototype._canvas_extra_style = function(canvas_div) {\n",
       "\n",
       "}\n",
       "\n",
       "\n",
       "mpl.figure.prototype._root_extra_style = function(canvas_div) {\n",
       "\n",
       "}\n",
       "\n",
       "mpl.figure.prototype._init_canvas = function() {\n",
       "    var fig = this;\n",
       "\n",
       "    var canvas_div = $('<div/>');\n",
       "\n",
       "    canvas_div.attr('style', 'position: relative; clear: both; outline: 0');\n",
       "\n",
       "    function canvas_keyboard_event(event) {\n",
       "        return fig.key_event(event, event['data']);\n",
       "    }\n",
       "\n",
       "    canvas_div.keydown('key_press', canvas_keyboard_event);\n",
       "    canvas_div.keyup('key_release', canvas_keyboard_event);\n",
       "    this.canvas_div = canvas_div\n",
       "    this._canvas_extra_style(canvas_div)\n",
       "    this.root.append(canvas_div);\n",
       "\n",
       "    var canvas = $('<canvas/>');\n",
       "    canvas.addClass('mpl-canvas');\n",
       "    canvas.attr('style', \"left: 0; top: 0; z-index: 0; outline: 0\")\n",
       "\n",
       "    this.canvas = canvas[0];\n",
       "    this.context = canvas[0].getContext(\"2d\");\n",
       "\n",
       "    var backingStore = this.context.backingStorePixelRatio ||\n",
       "\tthis.context.webkitBackingStorePixelRatio ||\n",
       "\tthis.context.mozBackingStorePixelRatio ||\n",
       "\tthis.context.msBackingStorePixelRatio ||\n",
       "\tthis.context.oBackingStorePixelRatio ||\n",
       "\tthis.context.backingStorePixelRatio || 1;\n",
       "\n",
       "    mpl.ratio = (window.devicePixelRatio || 1) / backingStore;\n",
       "\n",
       "    var rubberband = $('<canvas/>');\n",
       "    rubberband.attr('style', \"position: absolute; left: 0; top: 0; z-index: 1;\")\n",
       "\n",
       "    var pass_mouse_events = true;\n",
       "\n",
       "    canvas_div.resizable({\n",
       "        start: function(event, ui) {\n",
       "            pass_mouse_events = false;\n",
       "        },\n",
       "        resize: function(event, ui) {\n",
       "            fig.request_resize(ui.size.width, ui.size.height);\n",
       "        },\n",
       "        stop: function(event, ui) {\n",
       "            pass_mouse_events = true;\n",
       "            fig.request_resize(ui.size.width, ui.size.height);\n",
       "        },\n",
       "    });\n",
       "\n",
       "    function mouse_event_fn(event) {\n",
       "        if (pass_mouse_events)\n",
       "            return fig.mouse_event(event, event['data']);\n",
       "    }\n",
       "\n",
       "    rubberband.mousedown('button_press', mouse_event_fn);\n",
       "    rubberband.mouseup('button_release', mouse_event_fn);\n",
       "    // Throttle sequential mouse events to 1 every 20ms.\n",
       "    rubberband.mousemove('motion_notify', mouse_event_fn);\n",
       "\n",
       "    rubberband.mouseenter('figure_enter', mouse_event_fn);\n",
       "    rubberband.mouseleave('figure_leave', mouse_event_fn);\n",
       "\n",
       "    canvas_div.on(\"wheel\", function (event) {\n",
       "        event = event.originalEvent;\n",
       "        event['data'] = 'scroll'\n",
       "        if (event.deltaY < 0) {\n",
       "            event.step = 1;\n",
       "        } else {\n",
       "            event.step = -1;\n",
       "        }\n",
       "        mouse_event_fn(event);\n",
       "    });\n",
       "\n",
       "    canvas_div.append(canvas);\n",
       "    canvas_div.append(rubberband);\n",
       "\n",
       "    this.rubberband = rubberband;\n",
       "    this.rubberband_canvas = rubberband[0];\n",
       "    this.rubberband_context = rubberband[0].getContext(\"2d\");\n",
       "    this.rubberband_context.strokeStyle = \"#000000\";\n",
       "\n",
       "    this._resize_canvas = function(width, height) {\n",
       "        // Keep the size of the canvas, canvas container, and rubber band\n",
       "        // canvas in synch.\n",
       "        canvas_div.css('width', width)\n",
       "        canvas_div.css('height', height)\n",
       "\n",
       "        canvas.attr('width', width * mpl.ratio);\n",
       "        canvas.attr('height', height * mpl.ratio);\n",
       "        canvas.attr('style', 'width: ' + width + 'px; height: ' + height + 'px;');\n",
       "\n",
       "        rubberband.attr('width', width);\n",
       "        rubberband.attr('height', height);\n",
       "    }\n",
       "\n",
       "    // Set the figure to an initial 600x600px, this will subsequently be updated\n",
       "    // upon first draw.\n",
       "    this._resize_canvas(600, 600);\n",
       "\n",
       "    // Disable right mouse context menu.\n",
       "    $(this.rubberband_canvas).bind(\"contextmenu\",function(e){\n",
       "        return false;\n",
       "    });\n",
       "\n",
       "    function set_focus () {\n",
       "        canvas.focus();\n",
       "        canvas_div.focus();\n",
       "    }\n",
       "\n",
       "    window.setTimeout(set_focus, 100);\n",
       "}\n",
       "\n",
       "mpl.figure.prototype._init_toolbar = function() {\n",
       "    var fig = this;\n",
       "\n",
       "    var nav_element = $('<div/>');\n",
       "    nav_element.attr('style', 'width: 100%');\n",
       "    this.root.append(nav_element);\n",
       "\n",
       "    // Define a callback function for later on.\n",
       "    function toolbar_event(event) {\n",
       "        return fig.toolbar_button_onclick(event['data']);\n",
       "    }\n",
       "    function toolbar_mouse_event(event) {\n",
       "        return fig.toolbar_button_onmouseover(event['data']);\n",
       "    }\n",
       "\n",
       "    for(var toolbar_ind in mpl.toolbar_items) {\n",
       "        var name = mpl.toolbar_items[toolbar_ind][0];\n",
       "        var tooltip = mpl.toolbar_items[toolbar_ind][1];\n",
       "        var image = mpl.toolbar_items[toolbar_ind][2];\n",
       "        var method_name = mpl.toolbar_items[toolbar_ind][3];\n",
       "\n",
       "        if (!name) {\n",
       "            // put a spacer in here.\n",
       "            continue;\n",
       "        }\n",
       "        var button = $('<button/>');\n",
       "        button.addClass('ui-button ui-widget ui-state-default ui-corner-all ' +\n",
       "                        'ui-button-icon-only');\n",
       "        button.attr('role', 'button');\n",
       "        button.attr('aria-disabled', 'false');\n",
       "        button.click(method_name, toolbar_event);\n",
       "        button.mouseover(tooltip, toolbar_mouse_event);\n",
       "\n",
       "        var icon_img = $('<span/>');\n",
       "        icon_img.addClass('ui-button-icon-primary ui-icon');\n",
       "        icon_img.addClass(image);\n",
       "        icon_img.addClass('ui-corner-all');\n",
       "\n",
       "        var tooltip_span = $('<span/>');\n",
       "        tooltip_span.addClass('ui-button-text');\n",
       "        tooltip_span.html(tooltip);\n",
       "\n",
       "        button.append(icon_img);\n",
       "        button.append(tooltip_span);\n",
       "\n",
       "        nav_element.append(button);\n",
       "    }\n",
       "\n",
       "    var fmt_picker_span = $('<span/>');\n",
       "\n",
       "    var fmt_picker = $('<select/>');\n",
       "    fmt_picker.addClass('mpl-toolbar-option ui-widget ui-widget-content');\n",
       "    fmt_picker_span.append(fmt_picker);\n",
       "    nav_element.append(fmt_picker_span);\n",
       "    this.format_dropdown = fmt_picker[0];\n",
       "\n",
       "    for (var ind in mpl.extensions) {\n",
       "        var fmt = mpl.extensions[ind];\n",
       "        var option = $(\n",
       "            '<option/>', {selected: fmt === mpl.default_extension}).html(fmt);\n",
       "        fmt_picker.append(option);\n",
       "    }\n",
       "\n",
       "    // Add hover states to the ui-buttons\n",
       "    $( \".ui-button\" ).hover(\n",
       "        function() { $(this).addClass(\"ui-state-hover\");},\n",
       "        function() { $(this).removeClass(\"ui-state-hover\");}\n",
       "    );\n",
       "\n",
       "    var status_bar = $('<span class=\"mpl-message\"/>');\n",
       "    nav_element.append(status_bar);\n",
       "    this.message = status_bar[0];\n",
       "}\n",
       "\n",
       "mpl.figure.prototype.request_resize = function(x_pixels, y_pixels) {\n",
       "    // Request matplotlib to resize the figure. Matplotlib will then trigger a resize in the client,\n",
       "    // which will in turn request a refresh of the image.\n",
       "    this.send_message('resize', {'width': x_pixels, 'height': y_pixels});\n",
       "}\n",
       "\n",
       "mpl.figure.prototype.send_message = function(type, properties) {\n",
       "    properties['type'] = type;\n",
       "    properties['figure_id'] = this.id;\n",
       "    this.ws.send(JSON.stringify(properties));\n",
       "}\n",
       "\n",
       "mpl.figure.prototype.send_draw_message = function() {\n",
       "    if (!this.waiting) {\n",
       "        this.waiting = true;\n",
       "        this.ws.send(JSON.stringify({type: \"draw\", figure_id: this.id}));\n",
       "    }\n",
       "}\n",
       "\n",
       "\n",
       "mpl.figure.prototype.handle_save = function(fig, msg) {\n",
       "    var format_dropdown = fig.format_dropdown;\n",
       "    var format = format_dropdown.options[format_dropdown.selectedIndex].value;\n",
       "    fig.ondownload(fig, format);\n",
       "}\n",
       "\n",
       "\n",
       "mpl.figure.prototype.handle_resize = function(fig, msg) {\n",
       "    var size = msg['size'];\n",
       "    if (size[0] != fig.canvas.width || size[1] != fig.canvas.height) {\n",
       "        fig._resize_canvas(size[0], size[1]);\n",
       "        fig.send_message(\"refresh\", {});\n",
       "    };\n",
       "}\n",
       "\n",
       "mpl.figure.prototype.handle_rubberband = function(fig, msg) {\n",
       "    var x0 = msg['x0'] / mpl.ratio;\n",
       "    var y0 = (fig.canvas.height - msg['y0']) / mpl.ratio;\n",
       "    var x1 = msg['x1'] / mpl.ratio;\n",
       "    var y1 = (fig.canvas.height - msg['y1']) / mpl.ratio;\n",
       "    x0 = Math.floor(x0) + 0.5;\n",
       "    y0 = Math.floor(y0) + 0.5;\n",
       "    x1 = Math.floor(x1) + 0.5;\n",
       "    y1 = Math.floor(y1) + 0.5;\n",
       "    var min_x = Math.min(x0, x1);\n",
       "    var min_y = Math.min(y0, y1);\n",
       "    var width = Math.abs(x1 - x0);\n",
       "    var height = Math.abs(y1 - y0);\n",
       "\n",
       "    fig.rubberband_context.clearRect(\n",
       "        0, 0, fig.canvas.width / mpl.ratio, fig.canvas.height / mpl.ratio);\n",
       "\n",
       "    fig.rubberband_context.strokeRect(min_x, min_y, width, height);\n",
       "}\n",
       "\n",
       "mpl.figure.prototype.handle_figure_label = function(fig, msg) {\n",
       "    // Updates the figure title.\n",
       "    fig.header.textContent = msg['label'];\n",
       "}\n",
       "\n",
       "mpl.figure.prototype.handle_cursor = function(fig, msg) {\n",
       "    var cursor = msg['cursor'];\n",
       "    switch(cursor)\n",
       "    {\n",
       "    case 0:\n",
       "        cursor = 'pointer';\n",
       "        break;\n",
       "    case 1:\n",
       "        cursor = 'default';\n",
       "        break;\n",
       "    case 2:\n",
       "        cursor = 'crosshair';\n",
       "        break;\n",
       "    case 3:\n",
       "        cursor = 'move';\n",
       "        break;\n",
       "    }\n",
       "    fig.rubberband_canvas.style.cursor = cursor;\n",
       "}\n",
       "\n",
       "mpl.figure.prototype.handle_message = function(fig, msg) {\n",
       "    fig.message.textContent = msg['message'];\n",
       "}\n",
       "\n",
       "mpl.figure.prototype.handle_draw = function(fig, msg) {\n",
       "    // Request the server to send over a new figure.\n",
       "    fig.send_draw_message();\n",
       "}\n",
       "\n",
       "mpl.figure.prototype.handle_image_mode = function(fig, msg) {\n",
       "    fig.image_mode = msg['mode'];\n",
       "}\n",
       "\n",
       "mpl.figure.prototype.updated_canvas_event = function() {\n",
       "    // Called whenever the canvas gets updated.\n",
       "    this.send_message(\"ack\", {});\n",
       "}\n",
       "\n",
       "// A function to construct a web socket function for onmessage handling.\n",
       "// Called in the figure constructor.\n",
       "mpl.figure.prototype._make_on_message_function = function(fig) {\n",
       "    return function socket_on_message(evt) {\n",
       "        if (evt.data instanceof Blob) {\n",
       "            /* FIXME: We get \"Resource interpreted as Image but\n",
       "             * transferred with MIME type text/plain:\" errors on\n",
       "             * Chrome.  But how to set the MIME type?  It doesn't seem\n",
       "             * to be part of the websocket stream */\n",
       "            evt.data.type = \"image/png\";\n",
       "\n",
       "            /* Free the memory for the previous frames */\n",
       "            if (fig.imageObj.src) {\n",
       "                (window.URL || window.webkitURL).revokeObjectURL(\n",
       "                    fig.imageObj.src);\n",
       "            }\n",
       "\n",
       "            fig.imageObj.src = (window.URL || window.webkitURL).createObjectURL(\n",
       "                evt.data);\n",
       "            fig.updated_canvas_event();\n",
       "            fig.waiting = false;\n",
       "            return;\n",
       "        }\n",
       "        else if (typeof evt.data === 'string' && evt.data.slice(0, 21) == \"data:image/png;base64\") {\n",
       "            fig.imageObj.src = evt.data;\n",
       "            fig.updated_canvas_event();\n",
       "            fig.waiting = false;\n",
       "            return;\n",
       "        }\n",
       "\n",
       "        var msg = JSON.parse(evt.data);\n",
       "        var msg_type = msg['type'];\n",
       "\n",
       "        // Call the  \"handle_{type}\" callback, which takes\n",
       "        // the figure and JSON message as its only arguments.\n",
       "        try {\n",
       "            var callback = fig[\"handle_\" + msg_type];\n",
       "        } catch (e) {\n",
       "            console.log(\"No handler for the '\" + msg_type + \"' message type: \", msg);\n",
       "            return;\n",
       "        }\n",
       "\n",
       "        if (callback) {\n",
       "            try {\n",
       "                // console.log(\"Handling '\" + msg_type + \"' message: \", msg);\n",
       "                callback(fig, msg);\n",
       "            } catch (e) {\n",
       "                console.log(\"Exception inside the 'handler_\" + msg_type + \"' callback:\", e, e.stack, msg);\n",
       "            }\n",
       "        }\n",
       "    };\n",
       "}\n",
       "\n",
       "// from http://stackoverflow.com/questions/1114465/getting-mouse-location-in-canvas\n",
       "mpl.findpos = function(e) {\n",
       "    //this section is from http://www.quirksmode.org/js/events_properties.html\n",
       "    var targ;\n",
       "    if (!e)\n",
       "        e = window.event;\n",
       "    if (e.target)\n",
       "        targ = e.target;\n",
       "    else if (e.srcElement)\n",
       "        targ = e.srcElement;\n",
       "    if (targ.nodeType == 3) // defeat Safari bug\n",
       "        targ = targ.parentNode;\n",
       "\n",
       "    // jQuery normalizes the pageX and pageY\n",
       "    // pageX,Y are the mouse positions relative to the document\n",
       "    // offset() returns the position of the element relative to the document\n",
       "    var x = e.pageX - $(targ).offset().left;\n",
       "    var y = e.pageY - $(targ).offset().top;\n",
       "\n",
       "    return {\"x\": x, \"y\": y};\n",
       "};\n",
       "\n",
       "/*\n",
       " * return a copy of an object with only non-object keys\n",
       " * we need this to avoid circular references\n",
       " * http://stackoverflow.com/a/24161582/3208463\n",
       " */\n",
       "function simpleKeys (original) {\n",
       "  return Object.keys(original).reduce(function (obj, key) {\n",
       "    if (typeof original[key] !== 'object')\n",
       "        obj[key] = original[key]\n",
       "    return obj;\n",
       "  }, {});\n",
       "}\n",
       "\n",
       "mpl.figure.prototype.mouse_event = function(event, name) {\n",
       "    var canvas_pos = mpl.findpos(event)\n",
       "\n",
       "    if (name === 'button_press')\n",
       "    {\n",
       "        this.canvas.focus();\n",
       "        this.canvas_div.focus();\n",
       "    }\n",
       "\n",
       "    var x = canvas_pos.x * mpl.ratio;\n",
       "    var y = canvas_pos.y * mpl.ratio;\n",
       "\n",
       "    this.send_message(name, {x: x, y: y, button: event.button,\n",
       "                             step: event.step,\n",
       "                             guiEvent: simpleKeys(event)});\n",
       "\n",
       "    /* This prevents the web browser from automatically changing to\n",
       "     * the text insertion cursor when the button is pressed.  We want\n",
       "     * to control all of the cursor setting manually through the\n",
       "     * 'cursor' event from matplotlib */\n",
       "    event.preventDefault();\n",
       "    return false;\n",
       "}\n",
       "\n",
       "mpl.figure.prototype._key_event_extra = function(event, name) {\n",
       "    // Handle any extra behaviour associated with a key event\n",
       "}\n",
       "\n",
       "mpl.figure.prototype.key_event = function(event, name) {\n",
       "\n",
       "    // Prevent repeat events\n",
       "    if (name == 'key_press')\n",
       "    {\n",
       "        if (event.which === this._key)\n",
       "            return;\n",
       "        else\n",
       "            this._key = event.which;\n",
       "    }\n",
       "    if (name == 'key_release')\n",
       "        this._key = null;\n",
       "\n",
       "    var value = '';\n",
       "    if (event.ctrlKey && event.which != 17)\n",
       "        value += \"ctrl+\";\n",
       "    if (event.altKey && event.which != 18)\n",
       "        value += \"alt+\";\n",
       "    if (event.shiftKey && event.which != 16)\n",
       "        value += \"shift+\";\n",
       "\n",
       "    value += 'k';\n",
       "    value += event.which.toString();\n",
       "\n",
       "    this._key_event_extra(event, name);\n",
       "\n",
       "    this.send_message(name, {key: value,\n",
       "                             guiEvent: simpleKeys(event)});\n",
       "    return false;\n",
       "}\n",
       "\n",
       "mpl.figure.prototype.toolbar_button_onclick = function(name) {\n",
       "    if (name == 'download') {\n",
       "        this.handle_save(this, null);\n",
       "    } else {\n",
       "        this.send_message(\"toolbar_button\", {name: name});\n",
       "    }\n",
       "};\n",
       "\n",
       "mpl.figure.prototype.toolbar_button_onmouseover = function(tooltip) {\n",
       "    this.message.textContent = tooltip;\n",
       "};\n",
       "mpl.toolbar_items = [[\"Home\", \"Reset original view\", \"fa fa-home icon-home\", \"home\"], [\"Back\", \"Back to previous view\", \"fa fa-arrow-left icon-arrow-left\", \"back\"], [\"Forward\", \"Forward to next view\", \"fa fa-arrow-right icon-arrow-right\", \"forward\"], [\"\", \"\", \"\", \"\"], [\"Pan\", \"Pan axes with left mouse, zoom with right\", \"fa fa-arrows icon-move\", \"pan\"], [\"Zoom\", \"Zoom to rectangle\", \"fa fa-square-o icon-check-empty\", \"zoom\"], [\"\", \"\", \"\", \"\"], [\"Download\", \"Download plot\", \"fa fa-floppy-o icon-save\", \"download\"]];\n",
       "\n",
       "mpl.extensions = [\"eps\", \"jpeg\", \"pdf\", \"png\", \"ps\", \"raw\", \"svg\", \"tif\"];\n",
       "\n",
       "mpl.default_extension = \"png\";var comm_websocket_adapter = function(comm) {\n",
       "    // Create a \"websocket\"-like object which calls the given IPython comm\n",
       "    // object with the appropriate methods. Currently this is a non binary\n",
       "    // socket, so there is still some room for performance tuning.\n",
       "    var ws = {};\n",
       "\n",
       "    ws.close = function() {\n",
       "        comm.close()\n",
       "    };\n",
       "    ws.send = function(m) {\n",
       "        //console.log('sending', m);\n",
       "        comm.send(m);\n",
       "    };\n",
       "    // Register the callback with on_msg.\n",
       "    comm.on_msg(function(msg) {\n",
       "        //console.log('receiving', msg['content']['data'], msg);\n",
       "        // Pass the mpl event to the overridden (by mpl) onmessage function.\n",
       "        ws.onmessage(msg['content']['data'])\n",
       "    });\n",
       "    return ws;\n",
       "}\n",
       "\n",
       "mpl.mpl_figure_comm = function(comm, msg) {\n",
       "    // This is the function which gets called when the mpl process\n",
       "    // starts-up an IPython Comm through the \"matplotlib\" channel.\n",
       "\n",
       "    var id = msg.content.data.id;\n",
       "    // Get hold of the div created by the display call when the Comm\n",
       "    // socket was opened in Python.\n",
       "    var element = $(\"#\" + id);\n",
       "    var ws_proxy = comm_websocket_adapter(comm)\n",
       "\n",
       "    function ondownload(figure, format) {\n",
       "        window.open(figure.imageObj.src);\n",
       "    }\n",
       "\n",
       "    var fig = new mpl.figure(id, ws_proxy,\n",
       "                           ondownload,\n",
       "                           element.get(0));\n",
       "\n",
       "    // Call onopen now - mpl needs it, as it is assuming we've passed it a real\n",
       "    // web socket which is closed, not our websocket->open comm proxy.\n",
       "    ws_proxy.onopen();\n",
       "\n",
       "    fig.parent_element = element.get(0);\n",
       "    fig.cell_info = mpl.find_output_cell(\"<div id='\" + id + \"'></div>\");\n",
       "    if (!fig.cell_info) {\n",
       "        console.error(\"Failed to find cell for figure\", id, fig);\n",
       "        return;\n",
       "    }\n",
       "\n",
       "    var output_index = fig.cell_info[2]\n",
       "    var cell = fig.cell_info[0];\n",
       "\n",
       "};\n",
       "\n",
       "mpl.figure.prototype.handle_close = function(fig, msg) {\n",
       "    var width = fig.canvas.width/mpl.ratio\n",
       "    fig.root.unbind('remove')\n",
       "\n",
       "    // Update the output cell to use the data from the current canvas.\n",
       "    fig.push_to_output();\n",
       "    var dataURL = fig.canvas.toDataURL();\n",
       "    // Re-enable the keyboard manager in IPython - without this line, in FF,\n",
       "    // the notebook keyboard shortcuts fail.\n",
       "    IPython.keyboard_manager.enable()\n",
       "    $(fig.parent_element).html('<img src=\"' + dataURL + '\" width=\"' + width + '\">');\n",
       "    fig.close_ws(fig, msg);\n",
       "}\n",
       "\n",
       "mpl.figure.prototype.close_ws = function(fig, msg){\n",
       "    fig.send_message('closing', msg);\n",
       "    // fig.ws.close()\n",
       "}\n",
       "\n",
       "mpl.figure.prototype.push_to_output = function(remove_interactive) {\n",
       "    // Turn the data on the canvas into data in the output cell.\n",
       "    var width = this.canvas.width/mpl.ratio\n",
       "    var dataURL = this.canvas.toDataURL();\n",
       "    this.cell_info[1]['text/html'] = '<img src=\"' + dataURL + '\" width=\"' + width + '\">';\n",
       "}\n",
       "\n",
       "mpl.figure.prototype.updated_canvas_event = function() {\n",
       "    // Tell IPython that the notebook contents must change.\n",
       "    IPython.notebook.set_dirty(true);\n",
       "    this.send_message(\"ack\", {});\n",
       "    var fig = this;\n",
       "    // Wait a second, then push the new image to the DOM so\n",
       "    // that it is saved nicely (might be nice to debounce this).\n",
       "    setTimeout(function () { fig.push_to_output() }, 1000);\n",
       "}\n",
       "\n",
       "mpl.figure.prototype._init_toolbar = function() {\n",
       "    var fig = this;\n",
       "\n",
       "    var nav_element = $('<div/>');\n",
       "    nav_element.attr('style', 'width: 100%');\n",
       "    this.root.append(nav_element);\n",
       "\n",
       "    // Define a callback function for later on.\n",
       "    function toolbar_event(event) {\n",
       "        return fig.toolbar_button_onclick(event['data']);\n",
       "    }\n",
       "    function toolbar_mouse_event(event) {\n",
       "        return fig.toolbar_button_onmouseover(event['data']);\n",
       "    }\n",
       "\n",
       "    for(var toolbar_ind in mpl.toolbar_items){\n",
       "        var name = mpl.toolbar_items[toolbar_ind][0];\n",
       "        var tooltip = mpl.toolbar_items[toolbar_ind][1];\n",
       "        var image = mpl.toolbar_items[toolbar_ind][2];\n",
       "        var method_name = mpl.toolbar_items[toolbar_ind][3];\n",
       "\n",
       "        if (!name) { continue; };\n",
       "\n",
       "        var button = $('<button class=\"btn btn-default\" href=\"#\" title=\"' + name + '\"><i class=\"fa ' + image + ' fa-lg\"></i></button>');\n",
       "        button.click(method_name, toolbar_event);\n",
       "        button.mouseover(tooltip, toolbar_mouse_event);\n",
       "        nav_element.append(button);\n",
       "    }\n",
       "\n",
       "    // Add the status bar.\n",
       "    var status_bar = $('<span class=\"mpl-message\" style=\"text-align:right; float: right;\"/>');\n",
       "    nav_element.append(status_bar);\n",
       "    this.message = status_bar[0];\n",
       "\n",
       "    // Add the close button to the window.\n",
       "    var buttongrp = $('<div class=\"btn-group inline pull-right\"></div>');\n",
       "    var button = $('<button class=\"btn btn-mini btn-primary\" href=\"#\" title=\"Stop Interaction\"><i class=\"fa fa-power-off icon-remove icon-large\"></i></button>');\n",
       "    button.click(function (evt) { fig.handle_close(fig, {}); } );\n",
       "    button.mouseover('Stop Interaction', toolbar_mouse_event);\n",
       "    buttongrp.append(button);\n",
       "    var titlebar = this.root.find($('.ui-dialog-titlebar'));\n",
       "    titlebar.prepend(buttongrp);\n",
       "}\n",
       "\n",
       "mpl.figure.prototype._root_extra_style = function(el){\n",
       "    var fig = this\n",
       "    el.on(\"remove\", function(){\n",
       "\tfig.close_ws(fig, {});\n",
       "    });\n",
       "}\n",
       "\n",
       "mpl.figure.prototype._canvas_extra_style = function(el){\n",
       "    // this is important to make the div 'focusable\n",
       "    el.attr('tabindex', 0)\n",
       "    // reach out to IPython and tell the keyboard manager to turn it's self\n",
       "    // off when our div gets focus\n",
       "\n",
       "    // location in version 3\n",
       "    if (IPython.notebook.keyboard_manager) {\n",
       "        IPython.notebook.keyboard_manager.register_events(el);\n",
       "    }\n",
       "    else {\n",
       "        // location in version 2\n",
       "        IPython.keyboard_manager.register_events(el);\n",
       "    }\n",
       "\n",
       "}\n",
       "\n",
       "mpl.figure.prototype._key_event_extra = function(event, name) {\n",
       "    var manager = IPython.notebook.keyboard_manager;\n",
       "    if (!manager)\n",
       "        manager = IPython.keyboard_manager;\n",
       "\n",
       "    // Check for shift+enter\n",
       "    if (event.shiftKey && event.which == 13) {\n",
       "        this.canvas_div.blur();\n",
       "        event.shiftKey = false;\n",
       "        // Send a \"J\" for go to next cell\n",
       "        event.which = 74;\n",
       "        event.keyCode = 74;\n",
       "        manager.command_mode();\n",
       "        manager.handle_keydown(event);\n",
       "    }\n",
       "}\n",
       "\n",
       "mpl.figure.prototype.handle_save = function(fig, msg) {\n",
       "    fig.ondownload(fig, null);\n",
       "}\n",
       "\n",
       "\n",
       "mpl.find_output_cell = function(html_output) {\n",
       "    // Return the cell and output element which can be found *uniquely* in the notebook.\n",
       "    // Note - this is a bit hacky, but it is done because the \"notebook_saving.Notebook\"\n",
       "    // IPython event is triggered only after the cells have been serialised, which for\n",
       "    // our purposes (turning an active figure into a static one), is too late.\n",
       "    var cells = IPython.notebook.get_cells();\n",
       "    var ncells = cells.length;\n",
       "    for (var i=0; i<ncells; i++) {\n",
       "        var cell = cells[i];\n",
       "        if (cell.cell_type === 'code'){\n",
       "            for (var j=0; j<cell.output_area.outputs.length; j++) {\n",
       "                var data = cell.output_area.outputs[j];\n",
       "                if (data.data) {\n",
       "                    // IPython >= 3 moved mimebundle to data attribute of output\n",
       "                    data = data.data;\n",
       "                }\n",
       "                if (data['text/html'] == html_output) {\n",
       "                    return [cell, data, j];\n",
       "                }\n",
       "            }\n",
       "        }\n",
       "    }\n",
       "}\n",
       "\n",
       "// Register the function which deals with the matplotlib target/channel.\n",
       "// The kernel may be null if the page has been refreshed.\n",
       "if (IPython.notebook.kernel != null) {\n",
       "    IPython.notebook.kernel.comm_manager.register_target('matplotlib', mpl.mpl_figure_comm);\n",
       "}\n"
      ],
      "text/plain": [
       "<IPython.core.display.Javascript object>"
      ]
     },
     "metadata": {},
     "output_type": "display_data"
    },
    {
     "data": {
      "text/html": [
       "<img src=\"data:image/png;base64,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\" width=\"639.8333333333334\">"
      ],
      "text/plain": [
       "<IPython.core.display.HTML object>"
      ]
     },
     "metadata": {},
     "output_type": "display_data"
    }
   ],
   "source": [
    "# %load http://matplotlib.org/mpl_examples/mplot3d/contour3d_demo3.py\n",
    "# Para fazer o gráfico em uma janela habilite:\n",
    "# %matplotlib qt ou  %matplotlib qt\n",
    "# Os teminais qt permitem interagir com os gráficos rotacionando eles\n",
    "from mpl_toolkits.mplot3d import axes3d\n",
    "import matplotlib.pyplot as plt\n",
    "from matplotlib import cm\n",
    "\n",
    "fig = plt.figure()\n",
    "ax = fig.gca(projection='3d')\n",
    "X, Y, Z = axes3d.get_test_data(0.02)\n",
    "ax.plot_surface(X, Y, Z, rstride=10, cstride=10, alpha=0.3)\n",
    "cset = ax.contour(X, Y, Z, zdir='z', offset=-100, cmap=cm.coolwarm)\n",
    "cset = ax.contour(X, Y, Z, zdir='x', offset=-40, cmap=cm.coolwarm)\n",
    "cset = ax.contour(X, Y, Z, zdir='y', offset=40, cmap=cm.coolwarm)\n",
    "\n",
    "ax.set_xlabel('X')\n",
    "ax.set_xlim(-40, 40)\n",
    "ax.set_ylabel('Y')\n",
    "ax.set_ylim(-40, 40)\n",
    "ax.set_zlabel('Z')\n",
    "ax.set_zlim(-100, 100)\n",
    "\n",
    "plt.show()"
   ]
  },
  {
   "cell_type": "markdown",
   "metadata": {},
   "source": [
    "### Suporte ao Mathjax \n",
    "\n",
    "Mathjax é uma implementação javascript $\\alpha$ do LaTeX que permite que as equações sejam incorporadas em HTML. Por exemplo, esta marcação:\n",
    "\n",
    "    \"\"\"$$ \\int_{a}^{b} f(x)\\, dx \\approx \\frac{1}{2} \\sum_{k=1}^{N} \\left( x_{k} - x_{k-1} \\right) \\left( f(x_{k}) + f(x_{k-1}) \\right). $$\"\"\"\n",
    "    \n",
    "torna-se:\n",
    "\n",
    "$$\n",
    "\\int_{a}^{b} f(x)\\, dx \\approx \\frac{1}{2} \\sum_{k=1}^{N} \\left( x_{k} - x_{k-1} \\right) \\left( f(x_{k}) + f(x_{k-1}) \\right).\n",
    "$$\n",
    "\n",
    "```python\n",
    "print(a)\n",
    "```"
   ]
  },
  {
   "cell_type": "markdown",
   "metadata": {},
   "source": [
    "## Suporte SymPy\n",
    "\n",
    "SymPy é uma biblioteca Python para cálculo simbólico mathematics. Ela suporta:\n",
    "\n",
    "* polinômios\n",
    "* cálculo\n",
    "* resolvendo equações\n",
    "* matemática discreta\n",
    "* matrizes"
   ]
  },
  {
   "cell_type": "code",
   "execution_count": 39,
   "metadata": {},
   "outputs": [],
   "source": [
    "from sympy import *\n",
    "init_printing()\n",
    "x, y = symbols(\"x y\")"
   ]
  },
  {
   "cell_type": "code",
   "execution_count": 40,
   "metadata": {},
   "outputs": [
    {
     "data": {
      "image/png": "[encoded data removed]",
      "text/latex": [
       "$$\\left(x + 1\\right) \\left(x + y\\right)^{2}$$"
      ],
      "text/plain": [
       "               2\n",
       "(x + 1)⋅(x + y) "
      ]
     },
     "execution_count": 40,
     "metadata": {},
     "output_type": "execute_result"
    }
   ],
   "source": [
    "eq = ((x+y)**2 * (x+1))\n",
    "eq"
   ]
  },
  {
   "cell_type": "code",
   "execution_count": 41,
   "metadata": {},
   "outputs": [
    {
     "data": {
      "image/png": "[encoded data removed]",
      "text/latex": [
       "$$x^{3} + 2 x^{2} y + x^{2} + x y^{2} + 2 x y + y^{2}$$"
      ],
      "text/plain": [
       " 3      2      2      2            2\n",
       "x  + 2⋅x ⋅y + x  + x⋅y  + 2⋅x⋅y + y "
      ]
     },
     "execution_count": 41,
     "metadata": {},
     "output_type": "execute_result"
    }
   ],
   "source": [
    "expand(eq)"
   ]
  },
  {
   "cell_type": "code",
   "execution_count": 42,
   "metadata": {},
   "outputs": [
    {
     "data": {
      "image/png": "[encoded data removed]",
      "text/latex": [
       "$$1 + \\frac{x^{2}}{2} + \\frac{5 x^{4}}{24} + \\frac{61 x^{6}}{720} + \\frac{277 x^{8}}{8064} + \\frac{50521 x^{10}}{3628800} + \\mathcal{O}\\left(x^{12}\\right)$$"
      ],
      "text/plain": [
       "     2      4       6        8          10         \n",
       "    x    5⋅x    61⋅x    277⋅x    50521⋅x      ⎛ 12⎞\n",
       "1 + ── + ──── + ───── + ────── + ───────── + O⎝x  ⎠\n",
       "    2     24     720     8064     3628800          "
      ]
     },
     "execution_count": 42,
     "metadata": {},
     "output_type": "execute_result"
    }
   ],
   "source": [
    "(1/cos(x)).series(x, 0, 12)"
   ]
  },
  {
   "cell_type": "code",
   "execution_count": 43,
   "metadata": {},
   "outputs": [
    {
     "data": {
      "image/png": "[encoded data removed]",
      "text/latex": [
       "$$- \\frac{1}{6}$$"
      ],
      "text/plain": [
       "-1/6"
      ]
     },
     "execution_count": 43,
     "metadata": {},
     "output_type": "execute_result"
    }
   ],
   "source": [
    "limit((sin(x)-x)/x**3, x, 0)"
   ]
  },
  {
   "cell_type": "code",
   "execution_count": 44,
   "metadata": {},
   "outputs": [
    {
     "data": {
      "image/png": "[encoded data removed]",
      "text/latex": [
       "$$- \\frac{4 x \\cos{\\left (x^{2} \\right )}}{x + 1} \\sin{\\left (x^{2} \\right )} - \\frac{\\cos^{2}{\\left (x^{2} \\right )}}{\\left(x + 1\\right)^{2}}$$"
      ],
      "text/plain": [
       "         ⎛ 2⎞    ⎛ 2⎞      2⎛ 2⎞\n",
       "  4⋅x⋅sin⎝x ⎠⋅cos⎝x ⎠   cos ⎝x ⎠\n",
       "- ─────────────────── - ────────\n",
       "         x + 1                 2\n",
       "                        (x + 1) "
      ]
     },
     "execution_count": 44,
     "metadata": {},
     "output_type": "execute_result"
    }
   ],
   "source": [
    "diff(cos(x**2)**2 / (1+x), x)"
   ]
  },
  {
   "cell_type": "code",
   "execution_count": 45,
   "metadata": {},
   "outputs": [
    {
     "data": {
      "image/png": "[encoded data removed]",
      "text/latex": [
       "$$- \\cos{\\left (x \\right )}$$"
      ],
      "text/plain": [
       "-cos(x)"
      ]
     },
     "execution_count": 45,
     "metadata": {},
     "output_type": "execute_result"
    }
   ],
   "source": [
    "integrate(sin(x),x)"
   ]
  },
  {
   "cell_type": "markdown",
   "metadata": {},
   "source": [
    "### Funções mágicas\n",
    "\n",
    "O IPython tem um conjunto de \"funções mágicas\" predefinidas que você pode chamar com uma sintaxe de estilo de linha de comando. Esses incluem:\n",
    "\n",
    "* `%run`\n",
    "* `%edit`\n",
    "* `%debug`\n",
    "* `%timeit`\n",
    "* `%paste`\n",
    "* `%load_ext`\n",
    "* `%load`\n",
    "* `%%writefile`\n"
   ]
  },
  {
   "cell_type": "code",
   "execution_count": 46,
   "metadata": {},
   "outputs": [
    {
     "data": {
      "application/json": {
       "cell": {
        "!": "OSMagics",
        "HTML": "Other",
        "SVG": "Other",
        "activity": "Other",
        "bash": "Other",
        "brain": "Other",
        "capture": "ExecutionMagics",
        "conversation": "Other",
        "debug": "ExecutionMagics",
        "dot": "Other",
        "file": "Other",
        "html": "DisplayMagics",
        "javascript": "DisplayMagics",
        "js": "DisplayMagics",
        "kx": "Other",
        "latex": "DisplayMagics",
        "markdown": "DisplayMagics",
        "perl": "Other",
        "pipe": "Other",
        "processing": "Other",
        "prun": "ExecutionMagics",
        "pypy": "Other",
        "python": "Other",
        "python2": "Other",
        "python3": "Other",
        "ruby": "Other",
        "scheme": "Other",
        "script": "ScriptMagics",
        "sh": "Other",
        "svg": "DisplayMagics",
        "sx": "OSMagics",
        "system": "OSMagics",
        "time": "ExecutionMagics",
        "timeit": "ExecutionMagics",
        "tutor": "Other",
        "writefile": "OSMagics"
       },
       "line": {
        "activity": "Other",
        "alias": "OSMagics",
        "alias_magic": "BasicMagics",
        "autocall": "AutoMagics",
        "automagic": "AutoMagics",
        "autosave": "KernelMagics",
        "bookmark": "OSMagics",
        "cat": "Other",
        "cd": "OSMagics",
        "clear": "KernelMagics",
        "colors": "BasicMagics",
        "config": "ConfigMagics",
        "connect_info": "KernelMagics",
        "conversation": "Other",
        "cp": "Other",
        "debug": "ExecutionMagics",
        "dhist": "OSMagics",
        "dirs": "OSMagics",
        "doctest_mode": "BasicMagics",
        "download": "Other",
        "ed": "Other",
        "edit": "KernelMagics",
        "env": "OSMagics",
        "gui": "BasicMagics",
        "hist": "Other",
        "history": "HistoryMagics",
        "jigsaw": "Other",
        "kernel": "Other",
        "killbgscripts": "ScriptMagics",
        "ldir": "Other",
        "less": "KernelMagics",
        "lf": "Other",
        "lk": "Other",
        "ll": "Other",
        "load": "CodeMagics",
        "load_ext": "ExtensionMagics",
        "loadpy": "CodeMagics",
        "logoff": "LoggingMagics",
        "logon": "LoggingMagics",
        "logstart": "LoggingMagics",
        "logstate": "LoggingMagics",
        "logstop": "LoggingMagics",
        "ls": "Other",
        "lsmagic": "BasicMagics",
        "lx": "Other",
        "macro": "ExecutionMagics",
        "magic": "BasicMagics",
        "man": "KernelMagics",
        "matplotlib": "PylabMagics",
        "mkdir": "Other",
        "more": "KernelMagics",
        "mv": "Other",
        "notebook": "BasicMagics",
        "page": "BasicMagics",
        "pastebin": "CodeMagics",
        "pdb": "ExecutionMagics",
        "pdef": "NamespaceMagics",
        "pdoc": "NamespaceMagics",
        "pfile": "NamespaceMagics",
        "pinfo": "NamespaceMagics",
        "pinfo2": "NamespaceMagics",
        "pip": "BasicMagics",
        "popd": "OSMagics",
        "pprint": "BasicMagics",
        "precision": "BasicMagics",
        "profile": "BasicMagics",
        "prun": "ExecutionMagics",
        "psearch": "NamespaceMagics",
        "psource": "NamespaceMagics",
        "pushd": "OSMagics",
        "pwd": "OSMagics",
        "pycat": "OSMagics",
        "pylab": "PylabMagics",
        "qtconsole": "KernelMagics",
        "quickref": "BasicMagics",
        "recall": "HistoryMagics",
        "rehashx": "OSMagics",
        "reload_ext": "ExtensionMagics",
        "rep": "Other",
        "rerun": "HistoryMagics",
        "reset": "NamespaceMagics",
        "reset_selective": "NamespaceMagics",
        "rm": "Other",
        "rmdir": "Other",
        "run": "ExecutionMagics",
        "save": "CodeMagics",
        "sc": "OSMagics",
        "scheme": "Other",
        "set_env": "OSMagics",
        "store": "StoreMagics",
        "sx": "OSMagics",
        "system": "OSMagics",
        "tb": "ExecutionMagics",
        "time": "ExecutionMagics",
        "timeit": "ExecutionMagics",
        "unalias": "OSMagics",
        "unload_ext": "ExtensionMagics",
        "who": "NamespaceMagics",
        "who_ls": "NamespaceMagics",
        "whos": "NamespaceMagics",
        "xdel": "NamespaceMagics",
        "xmode": "BasicMagics"
       }
      },
      "text/plain": [
       "Available line magics:\n",
       "%activity  %alias  %alias_magic  %autocall  %automagic  %autosave  %bookmark  %cat  %cd  %clear  %colors  %config  %connect_info  %conversation  %cp  %debug  %dhist  %dirs  %doctest_mode  %download  %ed  %edit  %env  %gui  %hist  %history  %jigsaw  %kernel  %killbgscripts  %ldir  %less  %lf  %lk  %ll  %load  %load_ext  %loadpy  %logoff  %logon  %logstart  %logstate  %logstop  %ls  %lsmagic  %lx  %macro  %magic  %man  %matplotlib  %mkdir  %more  %mv  %notebook  %page  %pastebin  %pdb  %pdef  %pdoc  %pfile  %pinfo  %pinfo2  %popd  %pprint  %precision  %profile  %prun  %psearch  %psource  %pushd  %pwd  %pycat  %pylab  %qtconsole  %quickref  %recall  %rehashx  %reload_ext  %rep  %rerun  %reset  %reset_selective  %rm  %rmdir  %run  %save  %sc  %scheme  %set_env  %store  %sx  %system  %tb  %time  %timeit  %unalias  %unload_ext  %who  %who_ls  %whos  %xdel  %xmode\n",
       "\n",
       "Available cell magics:\n",
       "%%!  %%HTML  %%SVG  %%activity  %%bash  %%brain  %%capture  %%conversation  %%debug  %%dot  %%file  %%html  %%javascript  %%js  %%kx  %%latex  %%markdown  %%perl  %%pipe  %%processing  %%prun  %%pypy  %%python  %%python2  %%python3  %%ruby  %%scheme  %%script  %%sh  %%svg  %%sx  %%system  %%time  %%timeit  %%tutor  %%writefile\n",
       "\n",
       "Automagic is ON, % prefix IS NOT needed for line magics."
      ]
     },
     "execution_count": 46,
     "metadata": {},
     "output_type": "execute_result"
    }
   ],
   "source": [
    "%lsmagic"
   ]
  },
  {
   "cell_type": "markdown",
   "metadata": {},
   "source": [
    "## Exemplo: O tutor\n",
    "\n",
    "Para executar o código abaixo você precisa de uuma conexão com a internet, pois ele irá executar o comando abaixo no site [Python Tutor](http://pythontutor.com/). Esse site é muito bom para aqueles que estão aprendendo uma linguagem de programação, pois ele linha por linha o que ocorrer na execução de um código. Usando essa ferramenta é possível visualizar códigos escritos nas seguintes linguagens: Python2, Python3, Java, JavaScript, TypeScript, Ruby, C, and C++.\n",
    "\n",
    "Como exemplo, considere o seguinte código:"
   ]
  },
  {
   "cell_type": "code",
   "execution_count": 1,
   "metadata": {
    "scrolled": true
   },
   "outputs": [
    {
     "data": {
      "text/html": [
       "\n",
       "        <iframe\n",
       "            width=\"100%\"\n",
       "            height=\"500\"\n",
       "            src=\"https://pythontutor.com/iframe-embed.html#code=inicio%3D4%0Afim%3D%2013%20%23%20ele%20sempre%20vai%20terminar%20um%20passo%20antes%2C%20ou%20seja%2C%20em%2012%0Apasso%20%3D%202%0Afor%20i%20in%20range%28inicio%2Cfim%2Cpasso%29%3A%0A%20%20%20%20print%28i%29&origin=opt-frontend.js&cumulative=false&heapPrimitives=false&textReferences=false&py=3&rawInputLstJSON=%5B%5D&curInstr=0&codeDivWidth=350&codeDivHeight=400\"\n",
       "            frameborder=\"0\"\n",
       "            allowfullscreen\n",
       "        ></iframe>\n",
       "        "
      ],
      "text/plain": [
       "<IPython.lib.display.IFrame at 0x7f28dc42d048>"
      ]
     },
     "metadata": {},
     "output_type": "display_data"
    }
   ],
   "source": [
    "%%tutor\n",
    "inicio=4\n",
    "fim= 13 # ele sempre vai terminar um passo antes, ou seja, em 12\n",
    "passo = 2\n",
    "for i in range(inicio,fim,passo):\n",
    "    print(i)"
   ]
  },
  {
   "cell_type": "markdown",
   "metadata": {},
   "source": [
    "Determinando o tempo de execução do código; O comando magic `timeit` existe tanto na forma de linha como de célula:"
   ]
  },
  {
   "cell_type": "code",
   "execution_count": 2,
   "metadata": {},
   "outputs": [
    {
     "name": "stdout",
     "output_type": "stream",
     "text": [
      "13 ms ± 980 µs per loop (mean ± std. dev. of 7 runs, 100 loops each)\n"
     ]
    }
   ],
   "source": [
    "import numpy as np\n",
    "%timeit np.linalg.eigvals(np.random.rand(100,100))"
   ]
  },
  {
   "cell_type": "code",
   "execution_count": 49,
   "metadata": {},
   "outputs": [
    {
     "name": "stdout",
     "output_type": "stream",
     "text": [
      "36.1 ms ± 6.53 ms per loop (mean ± std. dev. of 7 runs, 10 loops each)\n"
     ]
    }
   ],
   "source": [
    "%%timeit a = np.random.rand(100, 100)\n",
    "np.linalg.eigvals(a)"
   ]
  },
  {
   "cell_type": "markdown",
   "metadata": {},
   "source": [
    "O IPython também cria *aliases* para alguns intérpretes comuns, como bash, ruby, perl, etc.\n",
    "\n",
    "Estes são todos equivalentes a `%%script <nome>`"
   ]
  },
  {
   "cell_type": "code",
   "execution_count": 50,
   "metadata": {},
   "outputs": [
    {
     "name": "stdout",
     "output_type": "stream",
     "text": [
      "Hello from Ruby 2.3.1\n"
     ]
    }
   ],
   "source": [
    "%%ruby\n",
    "puts \"Hello from Ruby #{RUBY_VERSION}\""
   ]
  },
  {
   "cell_type": "code",
   "execution_count": 51,
   "metadata": {},
   "outputs": [
    {
     "name": "stdout",
     "output_type": "stream",
     "text": [
      "hello from /bin/bash\n"
     ]
    }
   ],
   "source": [
    "%%bash\n",
    "echo \"hello from $BASH\""
   ]
  },
  {
   "cell_type": "markdown",
   "metadata": {},
   "source": [
    "IPython tem uma extensão `rmagic` que contém algumas funções mágicas para trabalhar com R via rpy2. Esta extensão pode ser carregada usando a magia `%load_ext` da seguinte forma:\n"
   ]
  },
  {
   "cell_type": "code",
   "execution_count": null,
   "metadata": {},
   "outputs": [],
   "source": [
    "%load_ext rpy2.ipython"
   ]
  },
  {
   "cell_type": "markdown",
   "metadata": {},
   "source": [
    "Se o comando anterior gerar um erro, é provável que você não tenha o módulo `rpy2` instalado. Você pode instalar isso agora, em uma nova célula, usando o seguinte código:\n",
    "\n",
    "> !sudo apt install python3-rpy2\n",
    "\n",
    "Caso não encontre o pacote, vocẽ pode instalar ele usando o seguinte código:\n",
    "\n",
    "> !sudo -H pip3 install rpy2"
   ]
  },
  {
   "cell_type": "markdown",
   "metadata": {},
   "source": [
    "A extensão watermark mostra as configuraçãoes dos sistema e das bibliotecas instaladas. Vejamos o seguinte exemplo:"
   ]
  },
  {
   "cell_type": "code",
   "execution_count": 55,
   "metadata": {},
   "outputs": [
    {
     "name": "stdout",
     "output_type": "stream",
     "text": [
      "The watermark extension is already loaded. To reload it, use:\n",
      "  %reload_ext watermark\n"
     ]
    }
   ],
   "source": [
    "%load_ext watermark"
   ]
  },
  {
   "cell_type": "code",
   "execution_count": 56,
   "metadata": {},
   "outputs": [
    {
     "name": "stdout",
     "output_type": "stream",
     "text": [
      "2017-11-19T11:18:09-02:00\n",
      "\n",
      "CPython 3.5.2\n",
      "IPython 6.2.1\n",
      "\n",
      "compiler   : GCC 5.4.0 20160609\n",
      "system     : Linux\n",
      "release    : 4.10.0-38-generic\n",
      "machine    : x86_64\n",
      "processor  : x86_64\n",
      "CPU cores  : 4\n",
      "interpreter: 64bit\n"
     ]
    }
   ],
   "source": [
    "%watermark"
   ]
  },
  {
   "cell_type": "code",
   "execution_count": 57,
   "metadata": {},
   "outputs": [
    {
     "name": "stdout",
     "output_type": "stream",
     "text": [
      "last updated: Dom Nov 19 2017 11:18:14 -02\n"
     ]
    }
   ],
   "source": [
    "%watermark -t -n -u -z"
   ]
  },
  {
   "cell_type": "code",
   "execution_count": 58,
   "metadata": {},
   "outputs": [
    {
     "name": "stdout",
     "output_type": "stream",
     "text": [
      "CPython 3.5.2\n",
      "IPython 6.2.1\n",
      "\n",
      "numpy 1.13.3\n",
      "matplotlib 2.1.0\n",
      "scipy 1.0.0\n",
      "\n",
      "compiler   : GCC 5.4.0 20160609\n",
      "system     : Linux\n",
      "release    : 4.10.0-38-generic\n",
      "machine    : x86_64\n",
      "processor  : x86_64\n",
      "CPU cores  : 4\n",
      "interpreter: 64bit\n",
      "Git hash   :\n"
     ]
    }
   ],
   "source": [
    "%watermark -v -m -p numpy,matplotlib,scipy -g"
   ]
  },
  {
   "cell_type": "code",
   "execution_count": 60,
   "metadata": {},
   "outputs": [],
   "source": [
    "%watermark?"
   ]
  },
  {
   "cell_type": "markdown",
   "metadata": {},
   "source": [
    "O comando acima retorna a saída:\n",
    "\n",
    "```\n",
    " %watermark [-a AUTHOR] [-d] [-n] [-t] [-i] [-z] [-u] [-c CUSTOM_TIME]\n",
    "                 [-v] [-p PACKAGES] [-h] [-m] [-g] [-r] [-w] [-iv]\n",
    "\n",
    "IPython magic function to print date/time stamps\n",
    "and various system information.\n",
    "\n",
    "optional arguments:\n",
    "  -a AUTHOR, --author AUTHOR\n",
    "                        prints author name\n",
    "  -d, --date            prints current date as YYYY-mm-dd\n",
    "  -n, --datename        prints date with abbrv. day and month names\n",
    "  -t, --time            prints current time as HH-MM-SS\n",
    "  -i, --iso8601         prints the combined date and time including the time\n",
    "                        zone in the ISO 8601 standard with UTC offset\n",
    "  -z, --timezone        appends the local time zone\n",
    "  -u, --updated         appends a string \"Last updated: \"\n",
    "  -c CUSTOM_TIME, --custom_time CUSTOM_TIME\n",
    "                        prints a valid strftime() string\n",
    "  -v, --python          prints Python and IPython version\n",
    "  -p PACKAGES, --packages PACKAGES\n",
    "                        prints versions of specified Python modules and\n",
    "                        packages\n",
    "  -h, --hostname        prints the host name\n",
    "  -m, --machine         prints system and machine info\n",
    "  -g, --githash         prints current Git commit hash\n",
    "  -r, --gitrepo         prints current Git remote address\n",
    "  -w, --watermark       prints the current version of watermark\n",
    "  -iv, --iversions      prints the name/version of all imported modules\n",
    "File:      /usr/local/lib/python3.5/dist-packages/watermark/watermark.py\n",
    "```"
   ]
  },
  {
   "cell_type": "code",
   "execution_count": 62,
   "metadata": {
    "scrolled": true
   },
   "outputs": [
    {
     "data": {
      "text/plain": [
       "\n",
       "Call:\n",
       "lm(formula = rnorm(10) ~ rnorm(10))\n",
       "\n",
       "Coefficients:\n",
       "(Intercept)  \n",
       "     0.4541  \n",
       "\n"
      ]
     },
     "metadata": {},
     "output_type": "display_data"
    }
   ],
   "source": [
    "x,y = np.arange(10), np.random.normal(size=10)\n",
    "%R print(lm(rnorm(10)~rnorm(10)))"
   ]
  },
  {
   "cell_type": "markdown",
   "metadata": {},
   "source": [
    "Exemplo de uso do R"
   ]
  },
  {
   "cell_type": "code",
   "execution_count": 63,
   "metadata": {},
   "outputs": [
    {
     "data": {
      "text/plain": [
       "\n",
       "Call:\n",
       "lm(formula = y ~ x)\n",
       "\n",
       "Residuals:\n",
       "     Min       1Q   Median       3Q      Max \n",
       "-1.96219 -0.66271 -0.04332  0.64353  2.54644 \n",
       "\n",
       "Coefficients:\n",
       "            Estimate Std. Error t value Pr(>|t|)\n",
       "(Intercept)   0.8128     0.7979   1.019    0.338\n",
       "x            -0.1728     0.1495  -1.156    0.281\n",
       "\n",
       "Residual standard error: 1.358 on 8 degrees of freedom\n",
       "Multiple R-squared:  0.1432,\tAdjusted R-squared:  0.03608 \n",
       "F-statistic: 1.337 on 1 and 8 DF,  p-value: 0.2809\n",
       "\n"
      ]
     },
     "metadata": {},
     "output_type": "display_data"
    },
    {
     "data": {
      "image/png": "[encoded data removed]"
     },
     "metadata": {},
     "output_type": "display_data"
    }
   ],
   "source": [
    "%%R -i x,y -o XYcoef\n",
    "lm.fit <- lm(y~x)\n",
    "par(mfrow=c(2,2))\n",
    "print(summary(lm.fit))\n",
    "plot(lm.fit)\n",
    "XYcoef <- coef(lm.fit)"
   ]
  },
  {
   "cell_type": "code",
   "execution_count": 64,
   "metadata": {},
   "outputs": [
    {
     "data": {
      "text/plain": [
       "array([ 0.81280432, -0.17281291])"
      ]
     },
     "execution_count": 64,
     "metadata": {},
     "output_type": "execute_result"
    }
   ],
   "source": [
    "XYcoef"
   ]
  },
  {
   "cell_type": "markdown",
   "metadata": {},
   "source": [
    "### LaTeX\n",
    "\n",
    "Além do suporte MathJax, você pode declarar uma célula LaTeX usando o comando magic `%latex`:\n"
   ]
  },
  {
   "cell_type": "code",
   "execution_count": 65,
   "metadata": {},
   "outputs": [
    {
     "data": {
      "text/latex": [
       "\\begin{align}\n",
       "\\nabla \\times \\vec{\\mathbf{B}} -\\, \\frac1c\\, \\frac{\\partial\\vec{\\mathbf{E}}}{\\partial t} & = \\frac{4\\pi}{c}\\vec{\\mathbf{j}} \\\\\n",
       "\\nabla \\cdot \\vec{\\mathbf{E}} & = 4 \\pi \\rho \\\\\n",
       "\\nabla \\times \\vec{\\mathbf{E}}\\, +\\, \\frac1c\\, \\frac{\\partial\\vec{\\mathbf{B}}}{\\partial t} & = \\vec{\\mathbf{0}} \\\\\n",
       "\\nabla \\cdot \\vec{\\mathbf{B}} & = 0\n",
       "\\end{align}"
      ],
      "text/plain": [
       "<IPython.core.display.Latex object>"
      ]
     },
     "metadata": {},
     "output_type": "display_data"
    }
   ],
   "source": [
    "%%latex\n",
    "\\begin{align}\n",
    "\\nabla \\times \\vec{\\mathbf{B}} -\\, \\frac1c\\, \\frac{\\partial\\vec{\\mathbf{E}}}{\\partial t} & = \\frac{4\\pi}{c}\\vec{\\mathbf{j}} \\\\\n",
    "\\nabla \\cdot \\vec{\\mathbf{E}} & = 4 \\pi \\rho \\\\\n",
    "\\nabla \\times \\vec{\\mathbf{E}}\\, +\\, \\frac1c\\, \\frac{\\partial\\vec{\\mathbf{B}}}{\\partial t} & = \\vec{\\mathbf{0}} \\\\\n",
    "\\nabla \\cdot \\vec{\\mathbf{B}} & = 0\n",
    "\\end{align}"
   ]
  },
  {
   "cell_type": "markdown",
   "metadata": {},
   "source": [
    "### A biblioteca matplotlib2tikz\n",
    "\n",
    "A biblioteca [matplotlib2tikz](https://github.com/nschloe/matplotlib2tikz) do Python, é uma ferramenta a qual irá converter as figuras feitas pela biblioteca [matplotlib](#http://matplotlib.org/) em figura PGFPlots (TikZ).\n",
    "\n",
    "\n",
    "This is matplotlib2tikz, a Python tool for converting matplotlib figures into [PGFPlots](#https://www.ctan.org/pkg/pgfplots) ([TikZ](#https://www.ctan.org/pkg/pgf)).\n",
    "\n",
    "Para instalar a biblioteca faça o seguinte:"
   ]
  },
  {
   "cell_type": "code",
   "execution_count": null,
   "metadata": {},
   "outputs": [],
   "source": [
    "!sudo -H pip3 install --upgrade matplotlib2tikz"
   ]
  },
  {
   "cell_type": "code",
   "execution_count": null,
   "metadata": {},
   "outputs": [],
   "source": [
    "%matplotlib inline"
   ]
  },
  {
   "cell_type": "code",
   "execution_count": 66,
   "metadata": {},
   "outputs": [
    {
     "name": "stdout",
     "output_type": "stream",
     "text": [
      "=========================================================\n",
      "Please add the following lines to your LaTeX preamble:\n",
      "\n",
      "\\usepackage[utf8]{inputenc}\n",
      "\\usepackage{fontspec} % This line only for XeLaTeX and LuaLaTeX\n",
      "\\usepackage{pgfplots}\n",
      "=========================================================\n",
      "Horizontal alignment will be ignored as no 'x tick label text width' has been passed in the 'extra' parameter\n",
      "Horizontal alignment will be ignored as no 'y tick label text width' has been passed in the 'extra' parameter\n"
     ]
    },
    {
     "data": {
      "image/png": "[encoded data removed]",
      "text/plain": [
       "<matplotlib.figure.Figure at 0x7f3e6c0e2710>"
      ]
     },
     "metadata": {},
     "output_type": "display_data"
    }
   ],
   "source": [
    "#Agora vamos testar com o seguinte código\n",
    "from matplotlib import pyplot as plt\n",
    "from matplotlib import style\n",
    "import numpy as np\n",
    "fig = plt.figure()\n",
    "style.use('ggplot')\n",
    "t = np.arange(0.0, 2.0, 0.1)\n",
    "s = np.sin(2*np.pi*t)\n",
    "s2 = np.cos(2*np.pi*t)\n",
    "plt.plot(t, s, 'o-', lw=4.1)\n",
    "plt.plot(t, s2, 'o-', lw=4.1)\n",
    "plt.xlabel('time(s)')\n",
    "plt.ylabel('Voltage (mV)')\n",
    "plt.title('Simple plot $\\\\frac{\\\\alpha}{2}$')\n",
    "plt.grid(True)\n",
    "\n",
    "from matplotlib2tikz import save as tikz_save\n",
    "tikz_save('test.pgf')\n",
    "plt.show()"
   ]
  },
  {
   "cell_type": "code",
   "execution_count": 67,
   "metadata": {},
   "outputs": [
    {
     "name": "stdout",
     "output_type": "stream",
     "text": [
      "% This file was created by matplotlib2tikz v0.6.14.\r\n",
      "\\begin{tikzpicture}\r\n",
      "\r\n",
      "\\definecolor{color0}{rgb}{0.886274509803922,0.290196078431373,0.2}\r\n",
      "\\definecolor{color1}{rgb}{0.203921568627451,0.541176470588235,0.741176470588235}\r\n",
      "\r\n",
      "\\begin{axis}[\r\n",
      "title={Simple plot $\\frac{\\alpha}{2}$},\r\n",
      "xlabel={time(s)},\r\n",
      "ylabel={Voltage (mV)},\r\n",
      "xmin=-0.095, xmax=1.995,\r\n",
      "ymin=-1.1, ymax=1.1,\r\n",
      "tick align=outside,\r\n",
      "tick pos=left,\r\n",
      "xmajorgrids,\r\n",
      "x grid style={white},\r\n",
      "ymajorgrids,\r\n",
      "y grid style={white},\r\n",
      "axis line style={white},\r\n",
      "axis background/.style={fill=white!89.803921568627459!black}\r\n",
      "]\r\n",
      "\\addplot [line width=1.64pt, color0, mark=*, mark size=3, mark options={solid}, forget plot]\r\n",
      "table {%\r\n",
      "0 0\r\n",
      "0.1 0.587785252292473\r\n",
      "0.2 0.951056516295154\r\n",
      "0.3 0.951056516295154\r\n",
      "0.4 0.587785252292473\r\n",
      "0.5 1.22464679914735e-16\r\n",
      "0.6 -0.587785252292473\r\n",
      "0.7 -0.951056516295154\r\n",
      "0.8 -0.951056516295154\r\n",
      "0.9 -0.587785252292473\r\n",
      "1 -2.44929359829471e-16\r\n",
      "1.1 0.587785252292474\r\n",
      "1.2 0.951056516295154\r\n",
      "1.3 0.951056516295154\r\n",
      "1.4 0.587785252292473\r\n",
      "1.5 3.67394039744206e-16\r\n",
      "1.6 -0.587785252292473\r\n",
      "1.7 -0.951056516295154\r\n",
      "1.8 -0.951056516295154\r\n",
      "1.9 -0.587785252292473\r\n",
      "};\r\n",
      "\\addplot [line width=1.64pt, color1, mark=*, mark size=3, mark options={solid}, forget plot]\r\n",
      "table {%\r\n",
      "0 1\r\n",
      "0.1 0.809016994374947\r\n",
      "0.2 0.309016994374947\r\n",
      "0.3 -0.309016994374948\r\n",
      "0.4 -0.809016994374947\r\n",
      "0.5 -1\r\n",
      "0.6 -0.809016994374947\r\n",
      "0.7 -0.309016994374948\r\n",
      "0.8 0.309016994374947\r\n",
      "0.9 0.809016994374947\r\n",
      "1 1\r\n",
      "1.1 0.809016994374947\r\n",
      "1.2 0.309016994374947\r\n",
      "1.3 -0.309016994374947\r\n",
      "1.4 -0.809016994374947\r\n",
      "1.5 -1\r\n",
      "1.6 -0.809016994374948\r\n",
      "1.7 -0.309016994374946\r\n",
      "1.8 0.309016994374947\r\n",
      "1.9 0.809016994374947\r\n",
      "};\r\n",
      "\\end{axis}\r\n",
      "\r\n",
      "\\end{tikzpicture}"
     ]
    }
   ],
   "source": [
    "!cat test.pgf"
   ]
  },
  {
   "cell_type": "markdown",
   "metadata": {},
   "source": [
    "Também é possível usar os `magics` do IPython para mostrar uma imagem do tikz aqui. Primeiro é necessário carregar o `magic` com"
   ]
  },
  {
   "cell_type": "code",
   "execution_count": 16,
   "metadata": {
    "ExecuteTime": {
     "end_time": "2019-08-12T02:19:01.987059Z",
     "start_time": "2019-08-12T02:19:01.982330Z"
    }
   },
   "outputs": [
    {
     "name": "stdout",
     "output_type": "stream",
     "text": [
      "The tikzmagic extension is already loaded. To reload it, use:\n",
      "  %reload_ext tikzmagic\n"
     ]
    }
   ],
   "source": [
    "%load_ext tikzmagic"
   ]
  },
  {
   "cell_type": "markdown",
   "metadata": {},
   "source": [
    "**Argumentos Opcionais:**\n",
    "\n",
    "*    -sc or --scale: scaling factor of plots, default=1\n",
    "*    -s or --size: pixel size of plots, e.g., -s width,height, default=400,240\n",
    "*    -f or --format: plot format (png, svg or jpg), default=png\n",
    "*    -e or --encoding: text encoding, default=utf-8\n",
    "*    -x or --preamble: LaTeX preamble to insert before tikz figure, default=None\n",
    "*    -p or --package: LaTeX packages to load, separated by comma, e.g., -p pgfplots,textcomp, default=None\n",
    "*    -l or --library: TikZ libraries to load, separated by comma, e.g., -l matrix,arrows, default=None\n",
    "*    -S or --save: save a copy to file, e.g., -S filename, default=None\n"
   ]
  },
  {
   "cell_type": "code",
   "execution_count": 17,
   "metadata": {
    "ExecuteTime": {
     "end_time": "2019-08-12T02:22:01.323946Z",
     "start_time": "2019-08-12T02:22:00.908425Z"
    }
   },
   "outputs": [
    {
     "data": {
      "image/svg+xml": [
       "<svg height=\"240px\" version=\"1.1\" viewBox=\"0 0 228.366 143.326\" width=\"400px\" xmlns=\"http://www.w3.org/2000/svg\" xmlns:xlink=\"http://www.w3.org/1999/xlink\">\n",
       "<defs>\n",
       "<g>\n",
       "<symbol id=\"glyph0-0\" overflow=\"visible\">\n",
       "<path d=\"\" style=\"stroke:none;\"/>\n",
       "</symbol>\n",
       "<symbol id=\"glyph0-1\" overflow=\"visible\">\n",
       "<path d=\"M 4.625 -8.3125 C 4.578125 -8.46875 4.546875 -8.53125 4.390625 -8.53125 C 4.21875 -8.53125 4.203125 -8.5 4.140625 -8.3125 L 1.640625 -1.15625 C 1.46875 -0.671875 1.140625 -0.359375 0.375 -0.34375 L 0.375 0 C 1.09375 -0.03125 1.125 -0.03125 1.515625 -0.03125 C 1.859375 -0.03125 2.421875 -0.03125 2.734375 0 L 2.734375 -0.34375 C 2.234375 -0.359375 1.9375 -0.609375 1.9375 -0.9375 C 1.9375 -1.015625 1.9375 -1.046875 2 -1.1875 L 2.546875 -2.78125 L 5.5625 -2.78125 L 6.21875 -0.90625 C 6.28125 -0.765625 6.28125 -0.734375 6.28125 -0.703125 C 6.28125 -0.34375 5.671875 -0.34375 5.359375 -0.34375 L 5.359375 0 C 5.640625 -0.03125 6.59375 -0.03125 6.921875 -0.03125 C 7.25 -0.03125 8.109375 -0.03125 8.390625 0 L 8.390625 -0.34375 C 7.609375 -0.34375 7.40625 -0.34375 7.234375 -0.84375 Z M 4.046875 -7.109375 L 5.4375 -3.125 L 2.671875 -3.125 Z M 4.046875 -7.109375 \" style=\"stroke:none;\"/>\n",
       "</symbol>\n",
       "<symbol id=\"glyph0-2\" overflow=\"visible\">\n",
       "<path d=\"M 0.515625 -8.15625 L 0.515625 -7.8125 L 0.75 -7.8125 C 1.609375 -7.8125 1.65625 -7.703125 1.65625 -7.25 L 1.65625 -0.90625 C 1.65625 -0.46875 1.609375 -0.34375 0.75 -0.34375 L 0.515625 -0.34375 L 0.515625 0 L 5.015625 0 C 6.546875 0 7.625 -1.046875 7.625 -2.1875 C 7.625 -3.15625 6.75 -4.109375 5.328125 -4.265625 C 6.46875 -4.484375 7.296875 -5.25 7.296875 -6.140625 C 7.296875 -7.171875 6.25 -8.15625 4.6875 -8.15625 Z M 2.5625 -4.359375 L 2.5625 -7.34375 C 2.5625 -7.734375 2.578125 -7.8125 3.109375 -7.8125 L 4.609375 -7.8125 C 5.8125 -7.8125 6.234375 -6.796875 6.234375 -6.140625 C 6.234375 -5.359375 5.625 -4.359375 4.296875 -4.359375 Z M 3.109375 -0.34375 C 2.578125 -0.34375 2.5625 -0.4375 2.5625 -0.828125 L 2.5625 -4.125 L 4.796875 -4.125 C 5.9375 -4.125 6.53125 -3.125 6.53125 -2.203125 C 6.53125 -1.234375 5.8125 -0.34375 4.640625 -0.34375 Z M 3.109375 -0.34375 \" style=\"stroke:none;\"/>\n",
       "</symbol>\n",
       "</g>\n",
       "<clipPath id=\"clip1\">\n",
       "  <path d=\"M 0 0 L 228.367188 0 L 228.367188 143.324219 L 0 143.324219 Z M 0 0 \"/>\n",
       "</clipPath>\n",
       "<clipPath id=\"clip2\">\n",
       "  <path d=\"M 100 14 L 129 14 L 129 129 L 100 129 Z M 100 14 \"/>\n",
       "</clipPath>\n",
       "<clipPath id=\"clip3\">\n",
       "  <path d=\"M 213.398438 71.660156 C 213.398438 40.351562 188.015625 14.96875 156.707031 14.96875 C 125.394531 14.96875 100.011719 40.351562 100.011719 71.660156 C 100.011719 102.972656 125.394531 128.355469 156.707031 128.355469 C 188.015625 128.355469 213.398438 102.972656 213.398438 71.660156 Z M 213.398438 71.660156 \"/>\n",
       "</clipPath>\n",
       "<clipPath id=\"clip4\">\n",
       "  <path d=\"M 0 0 L 151 0 L 151 143.324219 L 0 143.324219 Z M 0 0 \"/>\n",
       "</clipPath>\n",
       "<clipPath id=\"clip5\">\n",
       "  <path d=\"M 77 0 L 228.367188 0 L 228.367188 143.324219 L 77 143.324219 Z M 77 0 \"/>\n",
       "</clipPath>\n",
       "</defs>\n",
       "<g id=\"surface1\">\n",
       "<path d=\"M 0.796875 142.527344 L 0.796875 0.792969 L 227.574219 0.792969 L 227.574219 142.527344 Z M 0.796875 142.527344 \" style=\" stroke:none;fill-rule:nonzero;fill:rgb(100%,96.939087%,40.000916%);fill-opacity:1;\"/>\n",
       "<g clip-path=\"url(#clip1)\" clip-rule=\"nonzero\">\n",
       "<path d=\"M 28.345875 28.347656 L 28.345875 170.082031 L 255.123219 170.082031 L 255.123219 28.347656 Z M 28.345875 28.347656 \" style=\"fill:none;stroke-width:1.59404;stroke-linecap:butt;stroke-linejoin:miter;stroke:rgb(0%,0%,0%);stroke-opacity:1;stroke-miterlimit:10;\" transform=\"matrix(1,0,0,-1,-27.549,170.875)\"/>\n",
       "</g>\n",
       "<g clip-path=\"url(#clip2)\" clip-rule=\"nonzero\">\n",
       "<g clip-path=\"url(#clip3)\" clip-rule=\"nonzero\">\n",
       "<path d=\"M 128.359375 71.660156 C 128.359375 40.351562 102.976562 14.96875 71.664062 14.96875 C 40.351562 14.96875 14.972656 40.351562 14.972656 71.660156 C 14.972656 102.972656 40.351562 128.355469 71.664062 128.355469 C 102.976562 128.355469 128.359375 102.972656 128.359375 71.660156 Z M 128.359375 71.660156 \" style=\" stroke:none;fill-rule:nonzero;fill:rgb(100%,0%,0%);fill-opacity:1;\"/>\n",
       "</g>\n",
       "</g>\n",
       "<g clip-path=\"url(#clip4)\" clip-rule=\"nonzero\">\n",
       "<path d=\"M 155.908375 99.214844 C 155.908375 130.523438 130.525563 155.90625 99.213063 155.90625 C 67.900563 155.90625 42.521656 130.523438 42.521656 99.214844 C 42.521656 67.902344 67.900563 42.519531 99.213063 42.519531 C 130.525563 42.519531 155.908375 67.902344 155.908375 99.214844 Z M 155.908375 99.214844 \" style=\"fill:none;stroke-width:1.59404;stroke-linecap:butt;stroke-linejoin:miter;stroke:rgb(0%,0%,0%);stroke-opacity:1;stroke-miterlimit:10;\" transform=\"matrix(1,0,0,-1,-27.549,170.875)\"/>\n",
       "</g>\n",
       "<g style=\"fill:rgb(0%,0%,0%);fill-opacity:1;\">\n",
       "  <use x=\"67.275\" xlink:href=\"#glyph0-1\" y=\"75.748\"/>\n",
       "</g>\n",
       "<g clip-path=\"url(#clip5)\" clip-rule=\"nonzero\">\n",
       "<path d=\"M 240.947438 99.214844 C 240.947438 130.523438 215.564625 155.90625 184.256031 155.90625 C 152.943531 155.90625 127.560719 130.523438 127.560719 99.214844 C 127.560719 67.902344 152.943531 42.519531 184.256031 42.519531 C 215.564625 42.519531 240.947438 67.902344 240.947438 99.214844 Z M 240.947438 99.214844 \" style=\"fill:none;stroke-width:1.59404;stroke-linecap:butt;stroke-linejoin:miter;stroke:rgb(0%,0%,0%);stroke-opacity:1;stroke-miterlimit:10;\" transform=\"matrix(1,0,0,-1,-27.549,170.875)\"/>\n",
       "</g>\n",
       "<g style=\"fill:rgb(0%,0%,0%);fill-opacity:1;\">\n",
       "  <use x=\"152.558\" xlink:href=\"#glyph0-2\" y=\"75.748\"/>\n",
       "</g>\n",
       "</g>\n",
       "</svg>"
      ]
     },
     "metadata": {
      "isolated": "true"
     },
     "output_type": "display_data"
    }
   ],
   "source": [
    "%%tikz -f svg\n",
    "\\draw[ultra thick,fill=yellow!60] (1,1) rectangle (9,6);\n",
    "\\begin{scope}\n",
    "  \\clip (6.5,3.5) circle (2);\n",
    "  \\fill[red,ultra thick] (3.5,3.5) circle (2);\n",
    "\\end{scope}\n",
    "\\draw[ultra thick] (3.5,3.5) circle (2) node{\\large A};\n",
    "\\draw[ultra thick] (6.5,3.5) circle (2) node{\\large B};"
   ]
  },
  {
   "cell_type": "code",
   "execution_count": 21,
   "metadata": {
    "ExecuteTime": {
     "end_time": "2019-08-12T02:23:42.501688Z",
     "start_time": "2019-08-12T02:23:42.062915Z"
    }
   },
   "outputs": [
    {
     "data": {
      "image/svg+xml": [
       "<svg height=\"400px\" version=\"1.1\" viewBox=\"0 0 272.324 272.324\" width=\"400px\" xmlns=\"http://www.w3.org/2000/svg\" xmlns:xlink=\"http://www.w3.org/1999/xlink\">\n",
       "<defs>\n",
       "<g>\n",
       "<symbol id=\"glyph0-0\" overflow=\"visible\">\n",
       "<path d=\"\" style=\"stroke:none;\"/>\n",
       "</symbol>\n",
       "<symbol id=\"glyph0-1\" overflow=\"visible\">\n",
       "<path d=\"M 3.296875 2.390625 C 3.296875 2.359375 3.296875 2.34375 3.125 2.171875 C 1.890625 0.921875 1.5625 -0.96875 1.5625 -2.5 C 1.5625 -4.234375 1.9375 -5.96875 3.171875 -7.203125 C 3.296875 -7.328125 3.296875 -7.34375 3.296875 -7.375 C 3.296875 -7.453125 3.265625 -7.484375 3.203125 -7.484375 C 3.09375 -7.484375 2.203125 -6.796875 1.609375 -5.53125 C 1.109375 -4.4375 0.984375 -3.328125 0.984375 -2.5 C 0.984375 -1.71875 1.09375 -0.515625 1.640625 0.625 C 2.25 1.84375 3.09375 2.5 3.203125 2.5 C 3.265625 2.5 3.296875 2.46875 3.296875 2.390625 Z M 3.296875 2.390625 \" style=\"stroke:none;\"/>\n",
       "</symbol>\n",
       "<symbol id=\"glyph0-2\" overflow=\"visible\">\n",
       "<path d=\"M 2.875 -2.5 C 2.875 -3.265625 2.765625 -4.46875 2.21875 -5.609375 C 1.625 -6.828125 0.765625 -7.484375 0.671875 -7.484375 C 0.609375 -7.484375 0.5625 -7.4375 0.5625 -7.375 C 0.5625 -7.34375 0.5625 -7.328125 0.75 -7.140625 C 1.734375 -6.15625 2.296875 -4.578125 2.296875 -2.5 C 2.296875 -0.78125 1.9375 0.96875 0.703125 2.21875 C 0.5625 2.34375 0.5625 2.359375 0.5625 2.390625 C 0.5625 2.453125 0.609375 2.5 0.671875 2.5 C 0.765625 2.5 1.671875 1.8125 2.25 0.546875 C 2.765625 -0.546875 2.875 -1.65625 2.875 -2.5 Z M 2.875 -2.5 \" style=\"stroke:none;\"/>\n",
       "</symbol>\n",
       "<symbol id=\"glyph0-3\" overflow=\"visible\">\n",
       "<path d=\"M 4.078125 -2.296875 L 6.859375 -2.296875 C 7 -2.296875 7.1875 -2.296875 7.1875 -2.5 C 7.1875 -2.6875 7 -2.6875 6.859375 -2.6875 L 4.078125 -2.6875 L 4.078125 -5.484375 C 4.078125 -5.625 4.078125 -5.8125 3.875 -5.8125 C 3.671875 -5.8125 3.671875 -5.625 3.671875 -5.484375 L 3.671875 -2.6875 L 0.890625 -2.6875 C 0.75 -2.6875 0.5625 -2.6875 0.5625 -2.5 C 0.5625 -2.296875 0.75 -2.296875 0.890625 -2.296875 L 3.671875 -2.296875 L 3.671875 0.5 C 3.671875 0.640625 3.671875 0.828125 3.875 0.828125 C 4.078125 0.828125 4.078125 0.640625 4.078125 0.5 Z M 4.078125 -2.296875 \" style=\"stroke:none;\"/>\n",
       "</symbol>\n",
       "<symbol id=\"glyph0-4\" overflow=\"visible\">\n",
       "<path d=\"M 2.9375 -6.375 C 2.9375 -6.625 2.9375 -6.640625 2.703125 -6.640625 C 2.078125 -6 1.203125 -6 0.890625 -6 L 0.890625 -5.6875 C 1.09375 -5.6875 1.671875 -5.6875 2.1875 -5.953125 L 2.1875 -0.78125 C 2.1875 -0.421875 2.15625 -0.3125 1.265625 -0.3125 L 0.953125 -0.3125 L 0.953125 0 C 1.296875 -0.03125 2.15625 -0.03125 2.5625 -0.03125 C 2.953125 -0.03125 3.828125 -0.03125 4.171875 0 L 4.171875 -0.3125 L 3.859375 -0.3125 C 2.953125 -0.3125 2.9375 -0.421875 2.9375 -0.78125 Z M 2.9375 -6.375 \" style=\"stroke:none;\"/>\n",
       "</symbol>\n",
       "<symbol id=\"glyph1-0\" overflow=\"visible\">\n",
       "<path d=\"\" style=\"stroke:none;\"/>\n",
       "</symbol>\n",
       "<symbol id=\"glyph1-1\" overflow=\"visible\">\n",
       "<path d=\"M 2.828125 -6.234375 C 2.828125 -6.4375 2.6875 -6.59375 2.46875 -6.59375 C 2.1875 -6.59375 1.921875 -6.328125 1.921875 -6.0625 C 1.921875 -5.875 2.0625 -5.703125 2.296875 -5.703125 C 2.53125 -5.703125 2.828125 -5.9375 2.828125 -6.234375 Z M 2.078125 -2.484375 C 2.1875 -2.765625 2.1875 -2.796875 2.296875 -3.0625 C 2.375 -3.265625 2.421875 -3.40625 2.421875 -3.59375 C 2.421875 -4.03125 2.109375 -4.40625 1.609375 -4.40625 C 0.671875 -4.40625 0.296875 -2.953125 0.296875 -2.875 C 0.296875 -2.765625 0.390625 -2.765625 0.40625 -2.765625 C 0.515625 -2.765625 0.515625 -2.796875 0.5625 -2.953125 C 0.84375 -3.890625 1.234375 -4.1875 1.578125 -4.1875 C 1.65625 -4.1875 1.828125 -4.1875 1.828125 -3.875 C 1.828125 -3.65625 1.75 -3.453125 1.71875 -3.34375 C 1.640625 -3.09375 1.1875 -1.9375 1.03125 -1.5 C 0.921875 -1.25 0.796875 -0.921875 0.796875 -0.703125 C 0.796875 -0.234375 1.140625 0.109375 1.609375 0.109375 C 2.546875 0.109375 2.921875 -1.328125 2.921875 -1.421875 C 2.921875 -1.53125 2.828125 -1.53125 2.796875 -1.53125 C 2.703125 -1.53125 2.703125 -1.5 2.65625 -1.34375 C 2.46875 -0.71875 2.140625 -0.109375 1.640625 -0.109375 C 1.46875 -0.109375 1.390625 -0.203125 1.390625 -0.4375 C 1.390625 -0.6875 1.453125 -0.828125 1.6875 -1.4375 Z M 2.078125 -2.484375 \" style=\"stroke:none;\"/>\n",
       "</symbol>\n",
       "<symbol id=\"glyph1-2\" overflow=\"visible\">\n",
       "<path d=\"M 2.03125 -0.015625 C 2.03125 -0.671875 1.78125 -1.0625 1.390625 -1.0625 C 1.0625 -1.0625 0.859375 -0.8125 0.859375 -0.53125 C 0.859375 -0.265625 1.0625 0 1.390625 0 C 1.5 0 1.640625 -0.046875 1.734375 -0.125 C 1.765625 -0.15625 1.78125 -0.15625 1.78125 -0.15625 C 1.796875 -0.15625 1.796875 -0.15625 1.796875 -0.015625 C 1.796875 0.734375 1.453125 1.328125 1.125 1.65625 C 1.015625 1.765625 1.015625 1.78125 1.015625 1.8125 C 1.015625 1.890625 1.0625 1.921875 1.109375 1.921875 C 1.21875 1.921875 2.03125 1.15625 2.03125 -0.015625 Z M 2.03125 -0.015625 \" style=\"stroke:none;\"/>\n",
       "</symbol>\n",
       "<symbol id=\"glyph1-3\" overflow=\"visible\">\n",
       "<path d=\"M 3.953125 -6.234375 C 3.953125 -6.421875 3.8125 -6.59375 3.578125 -6.59375 C 3.34375 -6.59375 3.046875 -6.359375 3.046875 -6.0625 C 3.046875 -5.859375 3.1875 -5.703125 3.421875 -5.703125 C 3.6875 -5.703125 3.953125 -5.96875 3.953125 -6.234375 Z M 1.953125 0.5 C 1.765625 1.25 1.28125 1.828125 0.734375 1.828125 C 0.671875 1.828125 0.515625 1.828125 0.34375 1.734375 C 0.640625 1.671875 0.78125 1.40625 0.78125 1.203125 C 0.78125 1.046875 0.671875 0.859375 0.40625 0.859375 C 0.15625 0.859375 -0.125 1.0625 -0.125 1.421875 C -0.125 1.828125 0.265625 2.046875 0.75 2.046875 C 1.453125 2.046875 2.375 1.515625 2.625 0.53125 L 3.53125 -3.125 C 3.59375 -3.3125 3.59375 -3.453125 3.59375 -3.484375 C 3.59375 -4.0625 3.171875 -4.40625 2.671875 -4.40625 C 1.65625 -4.40625 1.09375 -2.953125 1.09375 -2.875 C 1.09375 -2.765625 1.1875 -2.765625 1.203125 -2.765625 C 1.296875 -2.765625 1.3125 -2.78125 1.390625 -2.96875 C 1.640625 -3.578125 2.09375 -4.1875 2.640625 -4.1875 C 2.78125 -4.1875 2.953125 -4.140625 2.953125 -3.734375 C 2.953125 -3.5 2.9375 -3.390625 2.890625 -3.21875 Z M 1.953125 0.5 \" style=\"stroke:none;\"/>\n",
       "</symbol>\n",
       "</g>\n",
       "</defs>\n",
       "<g id=\"surface1\">\n",
       "<path d=\"M -34.017344 -0.0019375 L 238.111562 -0.0019375 M -34.017344 68.033219 L 238.111562 68.033219 M -34.017344 136.064469 L 238.111562 136.064469 M -34.017344 204.095719 L 238.111562 204.095719 M -0.00171875 -34.017562 L -0.00171875 238.111344 M 68.033437 -34.017562 L 68.033437 238.111344 M 136.064687 -34.017562 L 136.064687 238.111344 M 204.095937 -34.017562 L 204.095937 238.111344 \" style=\"fill:none;stroke-width:0.19925;stroke-linecap:butt;stroke-linejoin:miter;stroke:rgb(50%,50%,50%);stroke-opacity:1;stroke-miterlimit:10;\" transform=\"matrix(1,0,0,-1,34.115,238.209)\"/>\n",
       "<path d=\"M 68.033437 68.033219 L 68.033437 136.064469 L 136.064687 136.064469 L 136.064687 68.033219 Z M 68.033437 68.033219 \" style=\"fill-rule:nonzero;fill:rgb(59.999084%,59.999084%,100%);fill-opacity:1;stroke-width:1.41731;stroke-linecap:butt;stroke-linejoin:miter;stroke:rgb(0%,0%,0%);stroke-opacity:1;stroke-miterlimit:10;\" transform=\"matrix(1,0,0,-1,34.115,238.209)\"/>\n",
       "<g style=\"fill:rgb(39.99939%,39.99939%,100%);fill-opacity:1;\">\n",
       "  <use x=\"78.345\" xlink:href=\"#glyph0-1\" y=\"181.169\"/>\n",
       "</g>\n",
       "<g style=\"fill:rgb(39.99939%,39.99939%,100%);fill-opacity:1;\">\n",
       "  <use x=\"82.219\" xlink:href=\"#glyph1-1\" y=\"181.169\"/>\n",
       "  <use x=\"85.651116\" xlink:href=\"#glyph1-2\" y=\"181.169\"/>\n",
       "</g>\n",
       "<g style=\"fill:rgb(39.99939%,39.99939%,100%);fill-opacity:1;\">\n",
       "  <use x=\"90.08248\" xlink:href=\"#glyph1-3\" y=\"181.169\"/>\n",
       "</g>\n",
       "<g style=\"fill:rgb(39.99939%,39.99939%,100%);fill-opacity:1;\">\n",
       "  <use x=\"94.752\" xlink:href=\"#glyph0-2\" y=\"181.169\"/>\n",
       "</g>\n",
       "<g style=\"fill:rgb(39.99939%,39.99939%,100%);fill-opacity:1;\">\n",
       "  <use x=\"173.698\" xlink:href=\"#glyph0-1\" y=\"181.169\"/>\n",
       "</g>\n",
       "<g style=\"fill:rgb(39.99939%,39.99939%,100%);fill-opacity:1;\">\n",
       "  <use x=\"177.572\" xlink:href=\"#glyph1-1\" y=\"181.169\"/>\n",
       "</g>\n",
       "<g style=\"fill:rgb(39.99939%,39.99939%,100%);fill-opacity:1;\">\n",
       "  <use x=\"183.218\" xlink:href=\"#glyph0-3\" y=\"181.169\"/>\n",
       "</g>\n",
       "<g style=\"fill:rgb(39.99939%,39.99939%,100%);fill-opacity:1;\">\n",
       "  <use x=\"193.178607\" xlink:href=\"#glyph0-4\" y=\"181.169\"/>\n",
       "</g>\n",
       "<g style=\"fill:rgb(39.99939%,39.99939%,100%);fill-opacity:1;\">\n",
       "  <use x=\"198.162\" xlink:href=\"#glyph1-2\" y=\"181.169\"/>\n",
       "</g>\n",
       "<g style=\"fill:rgb(39.99939%,39.99939%,100%);fill-opacity:1;\">\n",
       "  <use x=\"202.593364\" xlink:href=\"#glyph1-3\" y=\"181.169\"/>\n",
       "</g>\n",
       "<g style=\"fill:rgb(39.99939%,39.99939%,100%);fill-opacity:1;\">\n",
       "  <use x=\"207.263\" xlink:href=\"#glyph0-2\" y=\"181.169\"/>\n",
       "</g>\n",
       "<g style=\"fill:rgb(39.99939%,39.99939%,100%);fill-opacity:1;\">\n",
       "  <use x=\"173.698\" xlink:href=\"#glyph0-1\" y=\"96.136\"/>\n",
       "</g>\n",
       "<g style=\"fill:rgb(39.99939%,39.99939%,100%);fill-opacity:1;\">\n",
       "  <use x=\"177.572\" xlink:href=\"#glyph1-1\" y=\"96.136\"/>\n",
       "</g>\n",
       "<g style=\"fill:rgb(39.99939%,39.99939%,100%);fill-opacity:1;\">\n",
       "  <use x=\"183.218\" xlink:href=\"#glyph0-3\" y=\"96.136\"/>\n",
       "</g>\n",
       "<g style=\"fill:rgb(39.99939%,39.99939%,100%);fill-opacity:1;\">\n",
       "  <use x=\"193.178607\" xlink:href=\"#glyph0-4\" y=\"96.136\"/>\n",
       "</g>\n",
       "<g style=\"fill:rgb(39.99939%,39.99939%,100%);fill-opacity:1;\">\n",
       "  <use x=\"198.162\" xlink:href=\"#glyph1-2\" y=\"96.136\"/>\n",
       "</g>\n",
       "<g style=\"fill:rgb(39.99939%,39.99939%,100%);fill-opacity:1;\">\n",
       "  <use x=\"202.593364\" xlink:href=\"#glyph1-3\" y=\"96.136\"/>\n",
       "</g>\n",
       "<g style=\"fill:rgb(39.99939%,39.99939%,100%);fill-opacity:1;\">\n",
       "  <use x=\"209.477\" xlink:href=\"#glyph0-3\" y=\"96.136\"/>\n",
       "</g>\n",
       "<g style=\"fill:rgb(39.99939%,39.99939%,100%);fill-opacity:1;\">\n",
       "  <use x=\"219.437607\" xlink:href=\"#glyph0-4\" y=\"96.136\"/>\n",
       "  <use x=\"224.418907\" xlink:href=\"#glyph0-2\" y=\"96.136\"/>\n",
       "</g>\n",
       "<g style=\"fill:rgb(39.99939%,39.99939%,100%);fill-opacity:1;\">\n",
       "  <use x=\"61.187\" xlink:href=\"#glyph0-1\" y=\"96.136\"/>\n",
       "</g>\n",
       "<g style=\"fill:rgb(39.99939%,39.99939%,100%);fill-opacity:1;\">\n",
       "  <use x=\"65.062\" xlink:href=\"#glyph1-1\" y=\"96.136\"/>\n",
       "  <use x=\"68.494116\" xlink:href=\"#glyph1-2\" y=\"96.136\"/>\n",
       "</g>\n",
       "<g style=\"fill:rgb(39.99939%,39.99939%,100%);fill-opacity:1;\">\n",
       "  <use x=\"72.92548\" xlink:href=\"#glyph1-3\" y=\"96.136\"/>\n",
       "</g>\n",
       "<g style=\"fill:rgb(39.99939%,39.99939%,100%);fill-opacity:1;\">\n",
       "  <use x=\"79.808\" xlink:href=\"#glyph0-3\" y=\"96.136\"/>\n",
       "</g>\n",
       "<g style=\"fill:rgb(39.99939%,39.99939%,100%);fill-opacity:1;\">\n",
       "  <use x=\"89.768607\" xlink:href=\"#glyph0-4\" y=\"96.136\"/>\n",
       "  <use x=\"94.749907\" xlink:href=\"#glyph0-2\" y=\"96.136\"/>\n",
       "</g>\n",
       "<path d=\"M 3.400625 -0.0019375 C 3.400625 1.876969 1.877187 3.400406 -0.00171875 3.400406 C -1.880625 3.400406 -3.400156 1.876969 -3.400156 -0.0019375 C -3.400156 -1.876937 -1.880625 -3.400375 -0.00171875 -3.400375 C 1.877187 -3.400375 3.400625 -1.876937 3.400625 -0.0019375 Z M 3.400625 -0.0019375 \" style=\"fill-rule:nonzero;fill:rgb(50%,50%,50%);fill-opacity:1;stroke-width:0.3985;stroke-linecap:butt;stroke-linejoin:miter;stroke:rgb(50%,50%,50%);stroke-opacity:1;stroke-miterlimit:10;\" transform=\"matrix(1,0,0,-1,34.115,238.209)\"/>\n",
       "<path d=\"M 3.400625 68.033219 C 3.400625 69.912125 1.877187 71.435563 -0.00171875 71.435563 C -1.880625 71.435563 -3.400156 69.912125 -3.400156 68.033219 C -3.400156 66.154313 -1.880625 64.630875 -0.00171875 64.630875 C 1.877187 64.630875 3.400625 66.154313 3.400625 68.033219 Z M 3.400625 68.033219 \" style=\"fill-rule:nonzero;fill:rgb(50%,50%,50%);fill-opacity:1;stroke-width:0.3985;stroke-linecap:butt;stroke-linejoin:miter;stroke:rgb(50%,50%,50%);stroke-opacity:1;stroke-miterlimit:10;\" transform=\"matrix(1,0,0,-1,34.115,238.209)\"/>\n",
       "<path d=\"M 3.400625 136.064469 C 3.400625 137.943375 1.877187 139.466813 -0.00171875 139.466813 C -1.880625 139.466813 -3.400156 137.943375 -3.400156 136.064469 C -3.400156 134.185563 -1.880625 132.662125 -0.00171875 132.662125 C 1.877187 132.662125 3.400625 134.185563 3.400625 136.064469 Z M 3.400625 136.064469 \" style=\"fill-rule:nonzero;fill:rgb(50%,50%,50%);fill-opacity:1;stroke-width:0.3985;stroke-linecap:butt;stroke-linejoin:miter;stroke:rgb(50%,50%,50%);stroke-opacity:1;stroke-miterlimit:10;\" transform=\"matrix(1,0,0,-1,34.115,238.209)\"/>\n",
       "<path d=\"M 3.400625 204.095719 C 3.400625 205.974625 1.877187 207.498063 -0.00171875 207.498063 C -1.880625 207.498063 -3.400156 205.974625 -3.400156 204.095719 C -3.400156 202.216813 -1.880625 200.693375 -0.00171875 200.693375 C 1.877187 200.693375 3.400625 202.216813 3.400625 204.095719 Z M 3.400625 204.095719 \" style=\"fill-rule:nonzero;fill:rgb(50%,50%,50%);fill-opacity:1;stroke-width:0.3985;stroke-linecap:butt;stroke-linejoin:miter;stroke:rgb(50%,50%,50%);stroke-opacity:1;stroke-miterlimit:10;\" transform=\"matrix(1,0,0,-1,34.115,238.209)\"/>\n",
       "<path d=\"M 71.435781 -0.0019375 C 71.435781 1.876969 69.912344 3.400406 68.033437 3.400406 C 66.154531 3.400406 64.631094 1.876969 64.631094 -0.0019375 C 64.631094 -1.876937 66.154531 -3.400375 68.033437 -3.400375 C 69.912344 -3.400375 71.435781 -1.876937 71.435781 -0.0019375 Z M 71.435781 -0.0019375 \" style=\"fill-rule:nonzero;fill:rgb(50%,50%,50%);fill-opacity:1;stroke-width:0.3985;stroke-linecap:butt;stroke-linejoin:miter;stroke:rgb(50%,50%,50%);stroke-opacity:1;stroke-miterlimit:10;\" transform=\"matrix(1,0,0,-1,34.115,238.209)\"/>\n",
       "<path d=\"M 71.435781 68.033219 C 71.435781 69.912125 69.912344 71.435563 68.033437 71.435563 C 66.154531 71.435563 64.631094 69.912125 64.631094 68.033219 C 64.631094 66.154313 66.154531 64.630875 68.033437 64.630875 C 69.912344 64.630875 71.435781 66.154313 71.435781 68.033219 Z M 71.435781 68.033219 \" style=\"fill-rule:nonzero;fill:rgb(0%,0%,0%);fill-opacity:1;stroke-width:0.3985;stroke-linecap:butt;stroke-linejoin:miter;stroke:rgb(0%,0%,0%);stroke-opacity:1;stroke-miterlimit:10;\" transform=\"matrix(1,0,0,-1,34.115,238.209)\"/>\n",
       "<path d=\"M 71.435781 136.064469 C 71.435781 137.943375 69.912344 139.466813 68.033437 139.466813 C 66.154531 139.466813 64.631094 137.943375 64.631094 136.064469 C 64.631094 134.185563 66.154531 132.662125 68.033437 132.662125 C 69.912344 132.662125 71.435781 134.185563 71.435781 136.064469 Z M 71.435781 136.064469 \" style=\"fill-rule:nonzero;fill:rgb(0%,0%,0%);fill-opacity:1;stroke-width:0.3985;stroke-linecap:butt;stroke-linejoin:miter;stroke:rgb(0%,0%,0%);stroke-opacity:1;stroke-miterlimit:10;\" transform=\"matrix(1,0,0,-1,34.115,238.209)\"/>\n",
       "<path d=\"M 71.435781 204.095719 C 71.435781 205.974625 69.912344 207.498063 68.033437 207.498063 C 66.154531 207.498063 64.631094 205.974625 64.631094 204.095719 C 64.631094 202.216813 66.154531 200.693375 68.033437 200.693375 C 69.912344 200.693375 71.435781 202.216813 71.435781 204.095719 Z M 71.435781 204.095719 \" style=\"fill-rule:nonzero;fill:rgb(50%,50%,50%);fill-opacity:1;stroke-width:0.3985;stroke-linecap:butt;stroke-linejoin:miter;stroke:rgb(50%,50%,50%);stroke-opacity:1;stroke-miterlimit:10;\" transform=\"matrix(1,0,0,-1,34.115,238.209)\"/>\n",
       "<path d=\"M 139.467031 -0.0019375 C 139.467031 1.876969 137.943594 3.400406 136.064687 3.400406 C 134.185781 3.400406 132.662344 1.876969 132.662344 -0.0019375 C 132.662344 -1.876937 134.185781 -3.400375 136.064687 -3.400375 C 137.943594 -3.400375 139.467031 -1.876937 139.467031 -0.0019375 Z M 139.467031 -0.0019375 \" style=\"fill-rule:nonzero;fill:rgb(50%,50%,50%);fill-opacity:1;stroke-width:0.3985;stroke-linecap:butt;stroke-linejoin:miter;stroke:rgb(50%,50%,50%);stroke-opacity:1;stroke-miterlimit:10;\" transform=\"matrix(1,0,0,-1,34.115,238.209)\"/>\n",
       "<path d=\"M 139.467031 68.033219 C 139.467031 69.912125 137.943594 71.435563 136.064687 71.435563 C 134.185781 71.435563 132.662344 69.912125 132.662344 68.033219 C 132.662344 66.154313 134.185781 64.630875 136.064687 64.630875 C 137.943594 64.630875 139.467031 66.154313 139.467031 68.033219 Z M 139.467031 68.033219 \" style=\"fill-rule:nonzero;fill:rgb(0%,0%,0%);fill-opacity:1;stroke-width:0.3985;stroke-linecap:butt;stroke-linejoin:miter;stroke:rgb(0%,0%,0%);stroke-opacity:1;stroke-miterlimit:10;\" transform=\"matrix(1,0,0,-1,34.115,238.209)\"/>\n",
       "<path d=\"M 139.467031 136.064469 C 139.467031 137.943375 137.943594 139.466813 136.064687 139.466813 C 134.185781 139.466813 132.662344 137.943375 132.662344 136.064469 C 132.662344 134.185563 134.185781 132.662125 136.064687 132.662125 C 137.943594 132.662125 139.467031 134.185563 139.467031 136.064469 Z M 139.467031 136.064469 \" style=\"fill-rule:nonzero;fill:rgb(0%,0%,0%);fill-opacity:1;stroke-width:0.3985;stroke-linecap:butt;stroke-linejoin:miter;stroke:rgb(0%,0%,0%);stroke-opacity:1;stroke-miterlimit:10;\" transform=\"matrix(1,0,0,-1,34.115,238.209)\"/>\n",
       "<path d=\"M 139.467031 204.095719 C 139.467031 205.974625 137.943594 207.498063 136.064687 207.498063 C 134.185781 207.498063 132.662344 205.974625 132.662344 204.095719 C 132.662344 202.216813 134.185781 200.693375 136.064687 200.693375 C 137.943594 200.693375 139.467031 202.216813 139.467031 204.095719 Z M 139.467031 204.095719 \" style=\"fill-rule:nonzero;fill:rgb(50%,50%,50%);fill-opacity:1;stroke-width:0.3985;stroke-linecap:butt;stroke-linejoin:miter;stroke:rgb(50%,50%,50%);stroke-opacity:1;stroke-miterlimit:10;\" transform=\"matrix(1,0,0,-1,34.115,238.209)\"/>\n",
       "<path d=\"M 207.498281 -0.0019375 C 207.498281 1.876969 205.974844 3.400406 204.095937 3.400406 C 202.217031 3.400406 200.693594 1.876969 200.693594 -0.0019375 C 200.693594 -1.876937 202.217031 -3.400375 204.095937 -3.400375 C 205.974844 -3.400375 207.498281 -1.876937 207.498281 -0.0019375 Z M 207.498281 -0.0019375 \" style=\"fill-rule:nonzero;fill:rgb(50%,50%,50%);fill-opacity:1;stroke-width:0.3985;stroke-linecap:butt;stroke-linejoin:miter;stroke:rgb(50%,50%,50%);stroke-opacity:1;stroke-miterlimit:10;\" transform=\"matrix(1,0,0,-1,34.115,238.209)\"/>\n",
       "<path d=\"M 207.498281 68.033219 C 207.498281 69.912125 205.974844 71.435563 204.095937 71.435563 C 202.217031 71.435563 200.693594 69.912125 200.693594 68.033219 C 200.693594 66.154313 202.217031 64.630875 204.095937 64.630875 C 205.974844 64.630875 207.498281 66.154313 207.498281 68.033219 Z M 207.498281 68.033219 \" style=\"fill-rule:nonzero;fill:rgb(50%,50%,50%);fill-opacity:1;stroke-width:0.3985;stroke-linecap:butt;stroke-linejoin:miter;stroke:rgb(50%,50%,50%);stroke-opacity:1;stroke-miterlimit:10;\" transform=\"matrix(1,0,0,-1,34.115,238.209)\"/>\n",
       "<path d=\"M 207.498281 136.064469 C 207.498281 137.943375 205.974844 139.466813 204.095937 139.466813 C 202.217031 139.466813 200.693594 137.943375 200.693594 136.064469 C 200.693594 134.185563 202.217031 132.662125 204.095937 132.662125 C 205.974844 132.662125 207.498281 134.185563 207.498281 136.064469 Z M 207.498281 136.064469 \" style=\"fill-rule:nonzero;fill:rgb(50%,50%,50%);fill-opacity:1;stroke-width:0.3985;stroke-linecap:butt;stroke-linejoin:miter;stroke:rgb(50%,50%,50%);stroke-opacity:1;stroke-miterlimit:10;\" transform=\"matrix(1,0,0,-1,34.115,238.209)\"/>\n",
       "<path d=\"M 207.498281 204.095719 C 207.498281 205.974625 205.974844 207.498063 204.095937 207.498063 C 202.217031 207.498063 200.693594 205.974625 200.693594 204.095719 C 200.693594 202.216813 202.217031 200.693375 204.095937 200.693375 C 205.974844 200.693375 207.498281 202.216813 207.498281 204.095719 Z M 207.498281 204.095719 \" style=\"fill-rule:nonzero;fill:rgb(50%,50%,50%);fill-opacity:1;stroke-width:0.3985;stroke-linecap:butt;stroke-linejoin:miter;stroke:rgb(50%,50%,50%);stroke-opacity:1;stroke-miterlimit:10;\" transform=\"matrix(1,0,0,-1,34.115,238.209)\"/>\n",
       "</g>\n",
       "</svg>"
      ]
     },
     "metadata": {
      "isolated": "true"
     },
     "output_type": "display_data"
    }
   ],
   "source": [
    "%%tikz -s 400,400 -sc 1.2 -f svg\n",
    "\\draw [style=help lines, step=2]                (-1,-1)    grid        (+7,+7);\n",
    "\\draw [line width=0.5mm, fill=blue!40!white]    (+2,+2)    rectangle    (+4,+4);\n",
    " \n",
    "\\draw [blue!60!white] (  2,  2) node[anchor=north east] {$(i  ,j  )$};\n",
    "\\draw [blue!60!white] (  4,  2) node[anchor=north west] {$(i+1,j  )$};\n",
    "\\draw [blue!60!white] (  4,  4) node[anchor=south west] {$(i+1,j+1)$};\n",
    "\\draw [blue!60!white] (  2,  4) node[anchor=south east] {$(i  ,j+1)$};\n",
    "\n",
    "\\filldraw [color=gray]    (0,0) circle (.1);\n",
    "\\filldraw [color=gray]    (0,2) circle (.1);\n",
    "\\filldraw [color=gray]    (0,4) circle (.1);\n",
    "\\filldraw [color=gray]    (0,6) circle (.1);\n",
    "\\filldraw [color=gray]    (2,0) circle (.1);\n",
    "\\filldraw [color=black]    (2,2) circle (.1);\n",
    "\\filldraw [color=black]    (2,4) circle (.1);\n",
    "\\filldraw [color=gray]    (2,6) circle (.1);\n",
    "\\filldraw [color=gray]    (4,0) circle (.1);\n",
    "\\filldraw [color=black]    (4,2) circle (.1);\n",
    "\\filldraw [color=black]    (4,4) circle (.1);\n",
    "\\filldraw [color=gray]    (4,6) circle (.1);\n",
    "\\filldraw [color=gray]    (6,0) circle (.1);\n",
    "\\filldraw [color=gray]    (6,2) circle (.1);\n",
    "\\filldraw [color=gray]    (6,4) circle (.1);\n",
    "\\filldraw [color=gray]    (6,6) circle (.1);"
   ]
  },
  {
   "cell_type": "markdown",
   "metadata": {},
   "source": [
    "##### Uso\n",
    "\n",
    "Gere seu gráfico com a matplotlib como sempre. Agora ao invez de `pyplot.show()`, deve-se chamar a `matplotlib2tikz` \n",
    "da seguinte forma:\n",
    "```python\n",
    "tikz_save('meu_tikz.pgf')\n",
    "```\n",
    "para a criar um arquivo TikZ com o nome de \"meu_tikz.pgf\". Para isso carregue a biblioteca  com:\n",
    "```python\n",
    "from matplotlib2tikz import save as tikz_save\n",
    "```\n",
    "\n",
    "#### Opcional\n",
    "\n",
    "Os scripts aceitam várias opções, por exemplo `height`, `width`, `encoding`, e algumas outras. Chame elas da seguinte forma:\n",
    "```python\n",
    "tikz_save('meu_tikz.pgf', figureheight='4cm', figurewidth='6cm')\n",
    "```\n",
    "\n",
    "Observe que altura e largura devem ser definidas grandes o suficiente; Configurá-lo muito baixo pode resultar em uma falha de compilação do LaTeX ao longo das linhas de dimensões muito grande ou um `Arithmetic Overflow`; Consulte informações sobre esses erros no manual PGFPlots. Para especificar a dimensão do gráfico a partir do documento \\LaTeX, tente\n",
    "\n",
    "```python\n",
    "    tikz_save(\n",
    "        'meu_tikz.pgf',\n",
    "        figureheight = '\\\\figureheight',\n",
    "        figurewidth = '\\\\figurewidth'\n",
    "        )\n",
    "```\n",
    "\n",
    "e no código fonte LaTeX escreva\n",
    "\n",
    "```latex\n",
    "    \\newlength\\figureheight\n",
    "    \\newlength\\figurewidth\n",
    "    \\setlength\\figureheight{4cm}\n",
    "    \\setlength\\figurewidth{6cm}\n",
    "    \\input{mytikz.tex}\n",
    "```\n",
    "Adicione o conteúdo do arquivo \"meu_tikz.pgf\" em seu código-fonte LaTeX; uma maneira conveniente de fazê-lo é através de \\input{/path/to/meu_tikz.pgf}. Também certifique-se de que no cabeçalho do documento os pacotes para PGFPlots e suporte a Unicode adequada e estão incluídos:\n",
    "\n",
    "```latex\n",
    "    \\usepackage[utf8]{inputenc}\n",
    "    \\usepackage{pgfplots}\n",
    "```\n",
    "Adicionalmente, com o LuaLaTeX\n",
    "\n",
    "```latex\n",
    "    \\usepackage{fontspec}\n",
    "```\n",
    "\n",
    "será necessário para compor os caracteres Unicode. Opcionalmente, para usar os recursos PGFPlots mais recentes,\n",
    "\n",
    "```latex\n",
    "    \\pgfplotsset{compat=newest}\n",
    "```"
   ]
  },
  {
   "cell_type": "markdown",
   "metadata": {},
   "source": [
    "## Javscript\n",
    "\n",
    "O Jupyter também permite que os objetos declarem uma representação JavaScript. No início, isso pode parecer estranho como saída é inerentemente visual e JavaScript é uma linguagem de programação. No entanto, isso abre a porta para a saída rica que aproveita toda a potência do JavaScript e bibliotecas associadas, como D3 para a saída.\n"
   ]
  },
  {
   "cell_type": "code",
   "execution_count": 70,
   "metadata": {},
   "outputs": [
    {
     "data": {
      "application/javascript": [
       "\n",
       "alert(\"Hello world!\");"
      ],
      "text/plain": [
       "<IPython.core.display.Javascript object>"
      ]
     },
     "metadata": {},
     "output_type": "display_data"
    }
   ],
   "source": [
    "%%javascript\n",
    "\n",
    "alert(\"Hello world!\");"
   ]
  },
  {
   "cell_type": "markdown",
   "metadata": {},
   "source": [
    "# Instalando o kernel do C\n",
    "\n",
    "Para instalar o [kernel do C](https://github.com/brendan-rius/jupyter-c-kernel) siga os passos a seguir:\n",
    "\n",
    "### Instalação Manual \n",
    "\n",
    "Certifique-se que o seu sistemas tem o seguintes programas instalados:\n",
    "\n",
    "- gcc\n",
    "- jupyter\n",
    "- python 3\n",
    "- pip3\n",
    "\n",
    "### Instalação passo a passo\n",
    "\n",
    "Siga as instruções na sequência a seguir:\n",
    "\n",
    "```bash\n",
    "> git clone https://github.com/brendan-rius/jupyter-c-kernel.git\n",
    "> sudo -H pip3 install -U jupyter-c-kernel\n",
    "> cd jupyter-c-kernel\n",
    "> sudo -H jupyter-kernelspec install jupyter_c_kernel/\n",
    "> sudo mv resources /usr/local/lib/python3.5/dist-packages/.\n",
    "> sudo chown -cR root.root /usr/local/lib/python3.5/dist-packages/resources\n",
    "> jupyter-notebook. \n",
    "```\n",
    "Agora é só testar. Reinicie o jupyter notebook "
   ]
  },
  {
   "cell_type": "code",
   "execution_count": null,
   "metadata": {},
   "outputs": [],
   "source": [
    "# Vamos instalar o kernel do C Manualmente\n",
    "!sudo -H pip3 install -U jupyter-c-kernel"
   ]
  },
  {
   "cell_type": "markdown",
   "metadata": {},
   "source": [
    "É necessário informar ao python onde está o kernel e para isso faremos"
   ]
  },
  {
   "cell_type": "code",
   "execution_count": null,
   "metadata": {},
   "outputs": [],
   "source": [
    "!git clone https://github.com/brendan-rius/jupyter-c-kernel.git"
   ]
  },
  {
   "cell_type": "code",
   "execution_count": null,
   "metadata": {},
   "outputs": [],
   "source": [
    "!sudo pip3.5 install jupyter-c-kernel/"
   ]
  },
  {
   "cell_type": "code",
   "execution_count": null,
   "metadata": {},
   "outputs": [],
   "source": [
    "%%bash\n",
    "sudo cat <<FIM > jupyter-c-kernel/jupyter_c_kernel/kernel.json\n",
    "{\n",
    "  \"argv\": [\n",
    "    \"python3\",\n",
    "    \"-m\",\n",
    "    \"jupyter_c_kernel\",\n",
    "    \"-f\",\n",
    "    \"{connection_file}\"\n",
    "  ],\n",
    "  \"display_name\": \"C\",\n",
    "  \"language\": \"c\"\n",
    "}\n",
    "FIM"
   ]
  },
  {
   "cell_type": "code",
   "execution_count": null,
   "metadata": {},
   "outputs": [],
   "source": [
    "! cd jupyter-c-kernel && sudo -H jupyter-kernelspec install jupyter_c_kernel/"
   ]
  },
  {
   "cell_type": "code",
   "execution_count": null,
   "metadata": {},
   "outputs": [],
   "source": [
    "%%bash\n",
    "if [ -d /usr/local/lib/python3.5/dist-packages/ ]\n",
    "then \n",
    "   echo \"O diretório já existe e foi movido o seu conteúdo\"\n",
    "   sudo mv -f jupyter-c-kernel/resources/* /usr/local/lib/python3.5/dist-packages/resources/.\n",
    "else \n",
    "   echo \"O diretório foi movido com o seu conteúdo\"\n",
    "   sudo mv -f resources /usr/local/lib/python3.5/dist-packages/.\n",
    "fi"
   ]
  },
  {
   "cell_type": "code",
   "execution_count": null,
   "metadata": {},
   "outputs": [],
   "source": [
    "!sudo chown -cR root.root /usr/local/lib/python3.5/dist-packages/resources"
   ]
  },
  {
   "cell_type": "code",
   "execution_count": null,
   "metadata": {},
   "outputs": [],
   "source": [
    "# Se tudo ocorreu bem você já pode remover a pasta do jupyte-c-kernel\n",
    "! rm -rf jupyter-c-kernel"
   ]
  },
  {
   "cell_type": "markdown",
   "metadata": {},
   "source": [
    "O kernel deve estar instalado no diretório: /usr/local/share/jupyter/kernels/c_spec"
   ]
  },
  {
   "cell_type": "code",
   "execution_count": null,
   "metadata": {},
   "outputs": [],
   "source": [
    "# Para verificar liste o diretório\n",
    "! ls -alh /usr/local/share/jupyter/kernels/"
   ]
  },
  {
   "cell_type": "code",
   "execution_count": null,
   "metadata": {},
   "outputs": [],
   "source": [
    "# Para verificar se o arquivo foi criado e o seu conteúdo\n",
    "! cat /usr/local/share/jupyter/kernels/jupyter_c_kernel/kernel.json"
   ]
  },
  {
   "cell_type": "markdown",
   "metadata": {},
   "source": [
    "# Instalando os kernels do Gnuplot e do Scilab\n",
    "\n",
    "Ele é um kernel do Jupyter/IPython para o [Gnuplot](https://github.com/has2k1/gnuplot_kernel) e para o [Scilab](https://github.com/Calysto/scilab_kernel).\n",
    "\n",
    "### Instalação Manual \n",
    "\n",
    "Certifique-se que o seu sistemas tem o seguintes programas instalados:\n",
    "\n",
    "- gnuplot\n",
    "- scilab\n",
    "- jupyter\n",
    "- python 3\n",
    "- pip3\n",
    "- [metakernel](https://github.com/Calysto/metakernel)\n",
    "\n",
    "\n",
    "### Instalação passo a passo\n",
    "\n",
    "```bash\n",
    "sudo -H pip3 install --upgrade metakernel\n",
    "sudo -H pip3 install --upgrade gnuplot_kernel\n",
    "sudo -H pip3 install --upgrade scilab_kernel\n",
    "```\n",
    "\n",
    "Será necessário gerar as especificações do metakernel \n",
    "\n",
    "```bash\n",
    "> mkdir metakernel_spec\n",
    "```\n",
    "crie dentro desse diretório o arquivo \"kernel.json\" com o seguinte conteúdo:\n",
    "```json\n",
    "{\n",
    "  \"argv\": [\n",
    "    \"python3\",\n",
    "    \"-m\",\n",
    "    \"metakernel_kernel\",\n",
    "    \"-f\",\n",
    "    \"{connection_file}\"\n",
    "  ],\n",
    "  \"display_name\": \"Metakernel\",\n",
    "  \"language\": \"metakernel\"\n",
    "}\n",
    "```\n",
    "\n",
    "Será necessário gerar as especificações do gnuplot_kernel e para isso faça\n",
    "\n",
    "```bash\n",
    "> mkdir metakernel_spec\n",
    "> mkdir gnuplot_spec\n",
    "```\n",
    "crie dentro desse diretório o arquivo \"kernel.json\" com o seguinte conteúdo:\n",
    "```json\n",
    "{\n",
    "  \"argv\": [\n",
    "    \"python3\",\n",
    "    \"-m\",\n",
    "    \"gnuplot_kernel\",\n",
    "    \"-f\",\n",
    "    \"{connection_file}\"\n",
    "  ],\n",
    "  \"display_name\": \"Gnuplot\",\n",
    "  \"language\": \"gnuplot\"\n",
    "}\n",
    "```\n",
    "\n",
    "Agora ative os dois kernels fazendo:\n",
    "\n",
    "```bash\n",
    "> sudo -H jupyter-kernelspec install metakernel_spec/\n",
    "> sudo -H jupyter-kernelspec install gnuplot_spec/\n",
    "> jupyter-notebook. \n",
    "```\n",
    "\n",
    "O metakernel exige que se adicione o seguinte arquivo\n",
    "```bash\n",
    "# /etc/ipython/ipython_config.py\n",
    "c = get_config()\n",
    "startup = [\n",
    "   'from metakernel import register_ipython_magics',\n",
    "   'register_ipython_magics()',\n",
    "]\n",
    "c.InteractiveShellApp.exec_lines = startup\n",
    "```\n",
    "\n",
    "Agora é só testar. Reinicie o jupyter notebook \n",
    "\n",
    "\n",
    "#### Para instalar execute as células  abaixo\n",
    "\n",
    "Para realizar a instalação do kernel do gnuplot e scilab é necessário instalar o metakernel. Antes vá ao menu Kernel --> Change Kernel e veja quais são os kernels que já se  encontram instalados. \n",
    "\n",
    "Portanto siga os passos das células abaixo: "
   ]
  },
  {
   "cell_type": "code",
   "execution_count": null,
   "metadata": {},
   "outputs": [],
   "source": [
    "!sudo -H pip3 install --upgrade metakernel"
   ]
  },
  {
   "cell_type": "code",
   "execution_count": null,
   "metadata": {},
   "outputs": [],
   "source": [
    "%%file ipython_config.py\n",
    "c = get_config()\n",
    "startup = [\n",
    "   'from metakernel import register_ipython_magics',\n",
    "   'register_ipython_magics()',\n",
    "]\n",
    "c.InteractiveShellApp.exec_lines = startup"
   ]
  },
  {
   "cell_type": "code",
   "execution_count": null,
   "metadata": {},
   "outputs": [],
   "source": [
    "!sudo -p mkdir /etc/ipython"
   ]
  },
  {
   "cell_type": "code",
   "execution_count": null,
   "metadata": {},
   "outputs": [],
   "source": [
    "!sudo mv ipython_config.py /etc/ipython/."
   ]
  },
  {
   "cell_type": "code",
   "execution_count": null,
   "metadata": {},
   "outputs": [],
   "source": [
    "!ls -alh /etc/ipython/"
   ]
  },
  {
   "cell_type": "code",
   "execution_count": null,
   "metadata": {},
   "outputs": [],
   "source": [
    "! sudo chown -c root.root /etc/ipython/ipython_config.py"
   ]
  },
  {
   "cell_type": "code",
   "execution_count": null,
   "metadata": {},
   "outputs": [],
   "source": [
    "!sudo -H pip3 install --upgrade gnuplot_kernel"
   ]
  },
  {
   "cell_type": "code",
   "execution_count": null,
   "metadata": {},
   "outputs": [],
   "source": [
    "!sudo -H pip3 install --upgrade scilab_kernel"
   ]
  },
  {
   "cell_type": "code",
   "execution_count": null,
   "metadata": {},
   "outputs": [],
   "source": [
    "!mkdir -p metakernel_spec"
   ]
  },
  {
   "cell_type": "code",
   "execution_count": null,
   "metadata": {},
   "outputs": [],
   "source": [
    "%%file metakernel_spec/kernel.json\n",
    "{\n",
    "  \"argv\": [\n",
    "    \"python3\",\n",
    "    \"-m\",\n",
    "    \"metakernel_kernel\",\n",
    "    \"-f\",\n",
    "    \"{connection_file}\"\n",
    "  ],\n",
    "  \"display_name\": \"Metakernel\",\n",
    "  \"language\": \"metakernel\"\n",
    "}"
   ]
  },
  {
   "cell_type": "code",
   "execution_count": null,
   "metadata": {},
   "outputs": [],
   "source": [
    "!sudo -H jupyter-kernelspec install metakernel_spec/"
   ]
  },
  {
   "cell_type": "code",
   "execution_count": null,
   "metadata": {},
   "outputs": [],
   "source": [
    "!rm -rf metakernel_spec"
   ]
  },
  {
   "cell_type": "code",
   "execution_count": null,
   "metadata": {},
   "outputs": [],
   "source": [
    "!mkdir -p gnuplot_spec"
   ]
  },
  {
   "cell_type": "code",
   "execution_count": null,
   "metadata": {},
   "outputs": [],
   "source": [
    "%%file gnuplot_spec/kernel.json\n",
    "{\n",
    "  \"argv\": [\n",
    "    \"python3\",\n",
    "    \"-m\",\n",
    "    \"gnuplot_kernel\",\n",
    "    \"-f\",\n",
    "    \"{connection_file}\"\n",
    "  ],\n",
    "  \"display_name\": \"Gnuplot\",\n",
    "  \"language\": \"gnuplot\"\n",
    "}"
   ]
  },
  {
   "cell_type": "code",
   "execution_count": null,
   "metadata": {},
   "outputs": [],
   "source": [
    "!cat gnuplot_spec/kernel.json"
   ]
  },
  {
   "cell_type": "code",
   "execution_count": null,
   "metadata": {},
   "outputs": [],
   "source": [
    "!sudo -H jupyter-kernelspec install gnuplot_spec/"
   ]
  },
  {
   "cell_type": "code",
   "execution_count": null,
   "metadata": {},
   "outputs": [],
   "source": [
    "!rm -rf gnuplot_spec"
   ]
  },
  {
   "cell_type": "code",
   "execution_count": null,
   "metadata": {},
   "outputs": [],
   "source": [
    "!mkdir -p scilab_spec"
   ]
  },
  {
   "cell_type": "code",
   "execution_count": null,
   "metadata": {},
   "outputs": [],
   "source": [
    "%%file scilab_spec/kernel.json\n",
    "{\n",
    "  \"argv\": [\n",
    "    \"python3\",\n",
    "    \"-m\",\n",
    "    \"scilab_kernel\",\n",
    "    \"-f\",\n",
    "    \"{connection_file}\"\n",
    "  ],\n",
    "  \"display_name\": \"Scilab\",\n",
    "  \"language\": \"scilab\"\n",
    "}"
   ]
  },
  {
   "cell_type": "code",
   "execution_count": null,
   "metadata": {},
   "outputs": [],
   "source": [
    "!sudo -H jupyter-kernelspec install scilab_spec/"
   ]
  },
  {
   "cell_type": "code",
   "execution_count": null,
   "metadata": {},
   "outputs": [],
   "source": [
    "!rm -rf scilab_spec"
   ]
  },
  {
   "cell_type": "code",
   "execution_count": null,
   "metadata": {},
   "outputs": [],
   "source": [
    "!sudo -H pip3 install --upgrade bash_kernel"
   ]
  },
  {
   "cell_type": "code",
   "execution_count": null,
   "metadata": {},
   "outputs": [],
   "source": [
    "!mkdir -p bash_spec"
   ]
  },
  {
   "cell_type": "code",
   "execution_count": null,
   "metadata": {},
   "outputs": [],
   "source": [
    "%%file bash_spec/kernel.joson\n",
    "{\n",
    "  \"argv\": [\n",
    "    \"python3\",\n",
    "    \"-m\",\n",
    "    \"bash_kernel\",\n",
    "    \"-f\",\n",
    "    \"{connection_file}\"\n",
    "  ],\n",
    "  \"display_name\": \"Bash\",\n",
    "  \"language\": \"bash\"\n",
    "}"
   ]
  },
  {
   "cell_type": "code",
   "execution_count": null,
   "metadata": {},
   "outputs": [],
   "source": [
    "!sudo -H jupyter-kernelspec install bash_spec/"
   ]
  },
  {
   "cell_type": "code",
   "execution_count": null,
   "metadata": {},
   "outputs": [],
   "source": [
    "!rm -rf bash_spec"
   ]
  },
  {
   "cell_type": "markdown",
   "metadata": {},
   "source": [
    "Agora é só testar. Reinicie o jupyter notebook e depois vá no menu Kernel --> Change Kernel e veja se aparece os kernels instalados? Se apareceu está tudo ok."
   ]
  },
  {
   "cell_type": "markdown",
   "metadata": {},
   "source": [
    "## Kernel do Gnuplot\n",
    "\n",
    "Ao iniciar um novo notebook vocẽ agora deve seelcionar o kernel a ser usado. No caso da selecção ter sido o do gnuplo, todas as células de código serão interpretadas como declarações para gnuplot a menos que a célula magic esteja sendo usada. Da mesma forma, cada linha é uma declaração para gnuplot a menos que seja uma linha magic. Vamos ver o que tudo isso significa.\n",
    "\n",
    "Entretanto aqui o kernel que está sendo usado é do Python 3, conforme mostra o canto superior direito da linha que contém o menu deste notebook.\n",
    "\n",
    "Pode-se fazer alguns gráficos usando o gnuplot, para isso deve-se usar as `magics` do notebook. Para carregar a extensão do gnuplot faça `%load_ext gnuplot_kernel`\n"
   ]
  },
  {
   "cell_type": "code",
   "execution_count": 4,
   "metadata": {},
   "outputs": [],
   "source": [
    "# Esse código as magics para o gnuplot\n",
    "%load_ext gnuplot_kernel"
   ]
  },
  {
   "cell_type": "markdown",
   "metadata": {},
   "source": [
    "Agora coloque o seguinte código `%%gnuplot` no início de toda célula que contém um código do gnuplot.\n",
    "\n",
    "Primeiro, um gráfico e um cálculo simples."
   ]
  },
  {
   "cell_type": "code",
   "execution_count": 9,
   "metadata": {},
   "outputs": [
    {
     "data": {
      "image/png": "[encoded data removed]",
      "text/plain": [
       "<IPython.core.display.Image object>"
      ]
     },
     "metadata": {},
     "output_type": "display_data"
    },
    {
     "data": {
      "text/plain": [
       "set output '/tmp/gnuplot-inline-1511264494.6755369.627586087748.png'\n",
       "plot sin(x), cos(x),  exp(-x/10)*sin(x)**2\n",
       "unset output"
      ]
     },
     "metadata": {},
     "output_type": "display_data"
    }
   ],
   "source": [
    "%%gnuplot\n",
    "plot sin(x), cos(x),  exp(-x/10)*sin(x)**2"
   ]
  },
  {
   "cell_type": "code",
   "execution_count": 73,
   "metadata": {},
   "outputs": [
    {
     "data": {
      "image/png": "[encoded data removed]",
      "text/plain": [
       "<IPython.core.display.Image object>"
      ]
     },
     "metadata": {},
     "output_type": "display_data"
    },
    {
     "data": {
      "text/plain": [
       "set parametric\n",
       "\n",
       "\tdummy variable is t for curves, u/v for surfaces\n",
       "set contour base\n",
       "set grid xtics ytics ztics\n",
       "unset key\n",
       "set output '/tmp/gnuplot-inline-1511097817.5958092.127483405534.png'\n",
       "splot cos(u)*cos(v),2*sin(u)*cos(v),3*sin(v)\n",
       "unset output"
      ]
     },
     "metadata": {},
     "output_type": "display_data"
    }
   ],
   "source": [
    "%%gnuplot\n",
    "set parametric\n",
    "set contour base\n",
    "set grid xtics ytics ztics\n",
    "unset key\n",
    "splot cos(u)*cos(v),2*sin(u)*cos(v),3*sin(v)"
   ]
  },
  {
   "cell_type": "markdown",
   "metadata": {},
   "source": [
    "## Exportando e Convertendo Notebooks\n",
    "\n",
    "No Jupyter, é possível converter um arquivo de documentos do notebook `.ipynb` em vários formatos estáticos através da ferramenta `nbconvert`. Atualmente, nbconvert é uma ferramenta de linha de comando, executado como um script usando Jupyter."
   ]
  },
  {
   "cell_type": "code",
   "execution_count": null,
   "metadata": {},
   "outputs": [],
   "source": [
    "!jupyter nbconvert --to html Seminario-_Introducao_ao_Jupyter.ipynb"
   ]
  },
  {
   "cell_type": "markdown",
   "metadata": {},
   "source": [
    "Atualmente, `nbconvert` suporta HTML (padrão), LaTeX, Markdown, reStructuredText, Python e Slides HTML5 para apresentações. Alguns tipos podem ser pós-processados, como LaTeX para PDF (isso requer [Pandoc](http://johnmacfarlane.net/pandoc/) para ser instalado, no entanto)."
   ]
  },
  {
   "cell_type": "code",
   "execution_count": null,
   "metadata": {},
   "outputs": [],
   "source": [
    "!jupyter nbconvert --to pdf Seminario-_Introducao_ao_Jupyter.ipynb"
   ]
  },
  {
   "cell_type": "code",
   "execution_count": null,
   "metadata": {},
   "outputs": [],
   "source": [
    "!evince Seminario-_Introducao_ao_Jupyter.pdf"
   ]
  },
  {
   "cell_type": "markdown",
   "metadata": {},
   "source": [
    "Um serviço on-line muito útil é o [IPython Notebook Viewer](http://nbviewer.ipython.org) que permite que você exiba seu notebook como uma página HTML estática, que é útil para compartilhar com outras pessoas:"
   ]
  },
  {
   "cell_type": "code",
   "execution_count": null,
   "metadata": {},
   "outputs": [],
   "source": [
    "%%html\n",
    "<iframe src=http://nbviewer.ipython.org/2352771 width=700 height=300></iframe>"
   ]
  },
  {
   "cell_type": "markdown",
   "metadata": {},
   "source": [
    "Além disso, o GitHub suporta [renderização de Notebooks Jupyter](https://github.com/fonnesbeck/Bios8366/blob/master/notebooks/Section1_2-Programming-with-Python.ipynb) armazenado em seus repositórios."
   ]
  },
  {
   "cell_type": "markdown",
   "metadata": {},
   "source": [
    "### Coverter código python em notebook\n",
    "\n",
    "Uma API do IPython possui funções para ler e escrever arquivos do tipo Notebooks. Você deve usar esta API e não criar JSON diretamente. Por exemplo, o seguinte fragmento de código converte um script test.py em um notebook test.ipynb.\n",
    "\n",
    "```python3\n",
    "import IPython.nbformat.current as nbf\n",
    "nb = nbf.read(open('test.py', 'r'), 'py')\n",
    "nbf.write(nb, open('test.ipynb', 'w'), 'ipynb')\n",
    "```\n",
    "\n",
    "veja maiores detalhes em [Converting to (not from) ipython Notebook format](https://stackoverflow.com/questions/23292242/converting-to-not-from-ipython-notebook-format)\n",
    "\n",
    "A seguir apresenta-se um código completo para fazer isso:"
   ]
  },
  {
   "cell_type": "code",
   "execution_count": null,
   "metadata": {},
   "outputs": [],
   "source": [
    "import nbformat\n",
    "from nbformat.v4 import new_code_cell,new_notebook\n",
    "\n",
    "import codecs\n",
    "\n",
    "sourceFile = \"codigo-fonte.py\"       # <<<< Código a ser convertido em ipynb\n",
    "destFile   = \"codigo-fonte.ipynb\"    # <<<< Código convertido em ipynb\n",
    "\n",
    "\n",
    "def parsePy(fn):\n",
    "    \"\"\" Gerador que analisa um arquivo .py exportado de um IPython/Jupyter notebook e\n",
    "extrai as células de código (O que quer que seja entre ocorrências de \"In[*]:\").\n",
    "Retorna uma string contendo uma ou mais linhas\n",
    "\"\"\"\n",
    "    with open(fn,\"r\") as f:\n",
    "        lines = []\n",
    "        for l in f:\n",
    "            l1 = l.strip()\n",
    "            if l1.startswith('# In[') and l1.endswith(']:') and lines:\n",
    "                yield \"\".join(lines)\n",
    "                lines = []\n",
    "                continue\n",
    "            lines.append(l)\n",
    "        if lines:\n",
    "            yield \"\".join(lines)\n",
    "\n",
    "# Cria as células de código analisando o arquido de entrada\n",
    "cells = []\n",
    "for c in parsePy(sourceFile):\n",
    "    cells.append(new_code_cell(source=c))\n",
    "\n",
    "# Essa linha cria um Notebook V4 com as células de código extraídas acima\n",
    "nb0 = new_notebook(cells=cells,\n",
    "                   metadata={'language': 'python',})\n",
    "\n",
    "with codecs.open(destFile, encoding='utf-8', mode='w') as f:\n",
    "    nbformat.write(nb0, f, 4)"
   ]
  },
  {
   "cell_type": "markdown",
   "metadata": {},
   "source": [
    "O código abaixo irá converter todos os arquivos .py em notebooks. Escolha o diretório e excute o código. "
   ]
  },
  {
   "cell_type": "code",
   "execution_count": null,
   "metadata": {},
   "outputs": [],
   "source": [
    "import nbformat\n",
    "from nbformat.v4 import new_code_cell,new_notebook\n",
    "import codecs\n",
    "import os\n",
    "\n",
    "\n",
    "def parsePy(fn):\n",
    "    \"\"\" Generator that parses a .py file exported from a IPython notebook and\n",
    "extracts code cells (whatever is between occurrences of \"In[*]:\").\n",
    "Returns a string containing one or more lines\n",
    "\"\"\"\n",
    "    with open(fn,\"r\") as f:\n",
    "        lines = []\n",
    "        for l in f:\n",
    "            l1 = l.strip()\n",
    "            if l1.startswith('# In[') and l1.endswith(']:') and lines:\n",
    "                yield \"\".join(lines)\n",
    "                lines = []\n",
    "                continue\n",
    "            lines.append(l)\n",
    "        if lines:\n",
    "            yield \"\".join(lines)\n",
    "            \n",
    "def genNb(sourceFile,destFile):\n",
    "    # Create the code cells by parsing the file in input\n",
    "    cells = []\n",
    "    for c in parsePy(sourceFile):\n",
    "        cells.append(new_code_cell(source=c))\n",
    "\n",
    "    # This creates a V4 Notebook with the code cells extracted above\n",
    "    nb0 = new_notebook(cells=cells,\n",
    "                   metadata={'language': 'python',})\n",
    "\n",
    "    with codecs.open(destFile, encoding='utf-8', mode='w') as f:\n",
    "        nbformat.write(nb0, f, 4)\n",
    "\n",
    "\n",
    "dir='.'  # quando vazio significa diretório local\n",
    "\n",
    "# Aqui encontramos todos os arquivo python no diretório \n",
    "arq_python = [x for x in os.listdir(dir) if x.endswith(\".py\")]\n",
    "\n",
    "for x in arq_python :\n",
    "    sourcefile=x\n",
    "    destfile=x.split('.')[0]+'.ipynb'\n",
    "    print(\"Source= \", sourcefile, \" Destino = \", destfile)\n",
    "    genNb(sourcefile,destfile)\n",
    "\n",
    "# Para verificar o resultado\n",
    "arq_conv = [x for x in os.listdir(dir) if x.endswith(\".py\") or x.endswith(\".ipynb\")]\n",
    "print(arq_conv)"
   ]
  },
  {
   "cell_type": "markdown",
   "metadata": {},
   "source": [
    "## IPython paralelo\n",
    "\n",
    "Em um nível alto, há três componentes básicos para paralelizar IPython:\n",
    "\n",
    "* Máquina(s) - os processos remotos ou distribuídos onde seu código é executado.\n",
    "* Cliente - sua interface para executar o código em motores.\n",
    "* Controlador - a coleção de processos que coordenam Motores e Clientes.\n",
    "\n",
    "Esses componentes vivem no pacote `IPython.parallel`, que foi lançado em seu próprio modelo que requer instalação.\n",
    "\n",
    "\n",
    "### Computação Paralela e Iterativa Com o IPython\n",
    "\n",
    "ipyparallel é o novo nome do IPython.parallel. ipyparallel é um pacote Python e uma  coleção de scripts CLI para controlar clusters para Jupyter. \n",
    "\n",
    "ipyparallel contém os seguintes scripts CLI:\n",
    "\n",
    "* ipcluster - inicia/para um cluster\n",
    "* ipcontroller - inicia um agendador\n",
    "* ipengine - inicia um motor\n",
    "\n",
    "\n",
    "### Instalação\n",
    "\n",
    "Para instalar o ipyparallel digite na linha de comando:\n",
    "\n",
    "```bash\n",
    "    sudo -H pip3 install -U ipyparallel\n",
    "```\n",
    "ou via `conda`:\n",
    "\n",
    "```bash\n",
    "sudo -H conda install ipyparallel\n",
    "```\n",
    "\n",
    "Para habilitar a tab do `IPython Clusters` no Jupyter Notebook:\n",
    "\n",
    "```bash\n",
    "sudo -H ipcluster nbextension enable\n",
    "```\n",
    "Para desabilitar ela novamente:\n",
    "\n",
    "```bash\n",
    "sudo -H ipcluster nbextension disable\n",
    "```\n",
    "\n",
    "Para instalar a guia IPython Clusters no Jupyter Notebook, adicione isso ao seu `jupyter_notebook_config.py`:\n",
    "\n",
    "```python\n",
    "c.NotebookApp.server_extensions.append('ipyparallel.nbextension')\n",
    "```\n",
    "\n",
    "Este arquivo reside no subdiretório `~/.jupyter` do seu diretório pessoal e deve ser criado se ele ainda não existir.\n",
    "\n",
    "\n",
    "Veja o [\"documentation on configuring the notebook server\"](https://jupyter-notebook.readthedocs.io/en/latest/public_server.html) para achar seu arquivo de configuração ou sua configuração inicial `jupyter_notebook_config.py`.\n",
    "\n",
    "\n",
    "### Instalando o JupyterHub \n",
    "\n",
    "Para instalar o JupyterHub para todos os usuários, digite:\n",
    "\n",
    "```bash\n",
    "sudo -H jupyter nbextension install --sys-prefix --py ipyparallel\n",
    "sudo -H jupyter nbextension enable --sys-prefix --py ipyparallel\n",
    "sudo -H jupyter serverextension enable --sys-prefix --py ipyparallel\n",
    "```\n",
    "\n",
    "## Rodando\n",
    "\n",
    "Inicia um cluster:\n",
    "\n",
    "```bash\n",
    "ipcluster start\n",
    "```\n",
    "\n",
    "Usado ele a partir do Python:\n",
    "\n",
    "```python\n",
    "import os\n",
    "import ipyparallel as ipp\n",
    "rc = ipp.Client()\n",
    "ar = rc[:].apply_async(os.getpid)\n",
    "pid_map = ar.get_dict()\n",
    "```\n",
    "\n",
    "## Documentação\n",
    "\n",
    "Para maiores detalhes consulte o manual [\"Using IPython for parallel computing\"](http://ipyparallel.readthedocs.io/en/latest/index.html)."
   ]
  },
  {
   "cell_type": "markdown",
   "metadata": {},
   "source": [
    "Antes de executar a próxima célula, certifique-se de ter iniciado o cluster pela primeira vez, você pode usar a guia [clusters no painel](#tab2) para fazer isso."
   ]
  },
  {
   "cell_type": "code",
   "execution_count": 75,
   "metadata": {},
   "outputs": [],
   "source": [
    "import os\n",
    "import ipyparallel as ipp\n",
    "rc = ipp.Client()\n",
    "ar = rc[:].apply_async(os.getpid)\n",
    "pid_map = ar.get_dict()"
   ]
  },
  {
   "cell_type": "code",
   "execution_count": 76,
   "metadata": {},
   "outputs": [],
   "source": [
    "from ipyparallel import Client\n",
    "client = Client()\n",
    "dv = client.direct_view()"
   ]
  },
  {
   "cell_type": "code",
   "execution_count": 77,
   "metadata": {},
   "outputs": [
    {
     "data": {
      "image/png": "[encoded data removed]",
      "text/latex": [
       "$$4$$"
      ],
      "text/plain": [
       "4"
      ]
     },
     "execution_count": 77,
     "metadata": {},
     "output_type": "execute_result"
    }
   ],
   "source": [
    "len(dv)"
   ]
  },
  {
   "cell_type": "code",
   "execution_count": 78,
   "metadata": {},
   "outputs": [],
   "source": [
    "def where_am_i():\n",
    "    import os\n",
    "    import socket\n",
    "    \n",
    "    return \"No processo com pid {0} no nó: '{1}'\".format(\n",
    "        os.getpid(), socket.gethostname())"
   ]
  },
  {
   "cell_type": "code",
   "execution_count": 79,
   "metadata": {},
   "outputs": [
    {
     "data": {
      "text/plain": [
       "[\"No processo com pid 11735 no nó: 'SAL'\",\n",
       " \"No processo com pid 11734 no nó: 'SAL'\",\n",
       " \"No processo com pid 11749 no nó: 'SAL'\",\n",
       " \"No processo com pid 11751 no nó: 'SAL'\"]"
      ]
     },
     "execution_count": 79,
     "metadata": {},
     "output_type": "execute_result"
    }
   ],
   "source": [
    "where_am_i_direct_results = dv.apply(where_am_i)\n",
    "where_am_i_direct_results.get()"
   ]
  },
  {
   "cell_type": "markdown",
   "metadata": {},
   "source": [
    "# Células Markdown"
   ]
  },
  {
   "cell_type": "markdown",
   "metadata": {},
   "source": [
    "O texto pode ser adicionado aos notebooks IPython usando células Markdown. Markdown é uma linguagem de marcação popular que é um superconjunto de HTML. Sua especificação pode ser encontrada aqui:\n",
    "\n",
    "<http://daringfireball.net/projects/markdown/>"
   ]
  },
  {
   "cell_type": "markdown",
   "metadata": {},
   "source": [
    "## Noções básicas do Markdown"
   ]
  },
  {
   "cell_type": "markdown",
   "metadata": {},
   "source": [
    "Para adicionar um texto em itálico usa-se `*itálico*` como em *itálico* já para adicionar um em negrito usa-se `**negrito**` como em **negrito**."
   ]
  },
  {
   "cell_type": "markdown",
   "metadata": {},
   "source": [
    "## Listas no Markdown\n",
    "\n",
    "Pode-se criar facilmente listas enumeradas ou enumeradas aninhadas:\n",
    "\n",
    "\n",
    "* Item um\n",
    "    - Sublista tópico 1 do item um\n",
    "        - subitem aninhado do tópico 1\n",
    "    - Sublista tópico 2  do item um\n",
    "        - primeiro subitem aninhado do tópico 2\n",
    "        - segundo subitem aninhado do tópico 2\n",
    "* Item dois\n",
    "  - Sublista do item 2\n",
    "* Item três\n",
    "  - Sublista do item 3\n",
    "\n",
    "Agora uma outra lista, mas agora numerada:\n",
    "\n",
    "1. Esse é o primeiro item  da lista\n",
    "    1. Sublista do primeiro item \n",
    "    2. Sublista do primeiro item\n",
    "2. Essse é o segudo item da lista\n",
    "3. Essse é o terceiro item da lista\n",
    "\n",
    "## Listas de tarefas\n",
    "\n",
    "Para criar uma lista de tarefaz, inicie a lista com `[]`. Mareque a tarefa completada com  `[x]`, conforme o exemplo a seguir\n",
    "\n",
    "- [x] Terminei minhas alterações nesse arquivo \n",
    "- [ ] Levar minhas alterações para o GitHub\n",
    "- [ ] Trabalhar no novo texto"
   ]
  },
  {
   "cell_type": "markdown",
   "metadata": {},
   "source": [
    "Pode-se adicionar linhas horizontais:\n",
    "\n",
    "---"
   ]
  },
  {
   "cell_type": "markdown",
   "metadata": {},
   "source": [
    "Aqui está o bloco de citação:\n",
    "\n",
    "> Bonito é melhor do que feio.\n",
    "> Explicito é melhor do que implícito.\n",
    "> Simples é melhor do que complexo.\n",
    "> Complexo é melhor do que complicado.\n",
    "> Liso é melhor do que aninhado.\n",
    "> Esparso é melhor do que denso.\n",
    "> A legibilidade conta.\n",
    "> Casos especiais não são especiais o suficiente para quebrar as regras.\n",
    "> Embora a praticidade supera a pureza.\n",
    "> Erros nunca devem passar em silêncio.\n",
    "> A menos que seja explicitamente silenciado.\n",
    "> Em face da ambiguidade, recusar a tentação de adivinhar.\n",
    "> Deve haver uma - e preferivelmente somente uma - maneira óbvia de fazê-lo.\n",
    "> Embora essa maneira não pode ser óbvia no início a menos que você seja holandês.\n",
    "> Agora é melhor do que nunca.\n",
    "> Embora nunca seja melhor do que *agora*.\n",
    "> Se a implementação é difícil de explicar, então é uma má idéia.\n",
    "> Se a implementação é fácil de explicar, então pode ser uma boa idéia.\n",
    "> Namespaces são uma boa idéia- vamos fazer mais uso deles!"
   ]
  },
  {
   "cell_type": "markdown",
   "metadata": {},
   "source": [
    "A seguir mostramso uma maneira simples de criar links externos: \n",
    "\n",
    "[O site do Jupyter/IPython](http://jupyter.org)"
   ]
  },
  {
   "cell_type": "markdown",
   "metadata": {},
   "source": [
    "Se desejar, você pode adicionar títulos usando a sintaxe do Markdown:\n",
    "\n",
    "# Cabeçalho 1\n",
    "## Cabeçalho 2\n",
    "## Cabeçalho 2.1\n",
    "## Cabeçalho 2.2\n",
    "### Cabeçalho 3"
   ]
  },
  {
   "cell_type": "markdown",
   "metadata": {},
   "source": [
    "**Na maior parte do tempo deve-se usar as células de cabeçalho do notebook para organizar o conteúdo do seu notebook e manter seu documento estruturado**, pois fornecem estrutura significativa que podem ser interpretada por outras ferramentas, não apenas grandes fontes em negrito."
   ]
  },
  {
   "cell_type": "markdown",
   "metadata": {},
   "source": [
    "Pode-se incorporar código destinado à ilustração em vez de execução em Python:\n",
    "```python\n",
    "    def f(x):\n",
    "        \"\"\"a docstring\"\"\"\n",
    "        return x**2\n",
    "```\n",
    "ou em outras linguagens:\n",
    "```C++\n",
    "    if (i=0; i<n; i++) {\n",
    "      printf(\"hello %d\\n\", i);\n",
    "      x += 4;\n",
    "    }\n",
    "```"
   ]
  },
  {
   "cell_type": "markdown",
   "metadata": {},
   "source": [
    "## Equaçõe LaTeX"
   ]
  },
  {
   "cell_type": "markdown",
   "metadata": {},
   "source": [
    "Para escrever equações matemáticas em uma célula do markdown, usa-se o mesma sintaxe do LaTeX, na qual para escrever uma equação *\"inline\"* no meio do texto deve-se usar o par de símbolos \\$ equação \\$. Para escrever uma equação que seja mostrada sozinha em uma única linha, deve-se usar em uma linhas separadas o par de símbolos \\$\\$ equação \\$\\$.\n",
    "\n",
    "Considere por exemplo a seguinte equação no meio do texto $e^{i\\pi} + 1 = 0$, e q seguinte equação em uma linha sozinha:\n",
    "\n",
    "$$\n",
    "%\\begin{equation}\n",
    "e^x=\\sum_{i=0}^\\infty \\frac{1}{i!}x^i\n",
    "%\\end{equation}\n",
    "$$\n",
    "\n",
    "\n",
    "### Numerando equações LaTeX no notebook\n",
    "\n",
    "Para maiores detalhes colsulte o [link](https://github.com/ipython/ipython/issues/4113).\n",
    "\n",
    "Pode-se ativar a numeração executando a célula abaixo com o seguinte contéudo"
   ]
  },
  {
   "cell_type": "code",
   "execution_count": null,
   "metadata": {},
   "outputs": [],
   "source": [
    "%%javascript MathJax.Hub.Config({ TeX: { equationNumbers: { autoNumber: \n",
    "  \"AMS\" } } });"
   ]
  },
  {
   "cell_type": "markdown",
   "metadata": {},
   "source": [
    "Há também uma extensão para a [numeração de uma equação](https://github.com/ipython-contrib/jupyter_contrib_nbextensions)\n",
    "\n",
    "Para instalar a extensão faça o seguinte:\n",
    "\n",
    "```bash\n",
    "sudo -H pip3 install jupyter_contrib_nbextensions\n",
    "jupyter contrib nbextension install --user\n",
    "jupyter nbextension enable equation-numbering/main\n",
    "```"
   ]
  },
  {
   "cell_type": "markdown",
   "metadata": {},
   "source": [
    "Usando o MathJax, pode-se incluir expressões matemáticas no seu texto, usando a nomenclatura LaTeX, conforme exemplo a seguir:\n",
    "$e^{i\\pi} + 1 = 0$  e mostrado como:\n",
    "\n",
    "$$e^x=\\sum_{i=0}^\\infty \\frac{1}{i!}x^i$$"
   ]
  },
  {
   "cell_type": "markdown",
   "metadata": {},
   "source": [
    "## Tabelas no Markdown\n",
    "\n",
    "Há uma interface web a qual gera uma tabela Markdown para você de forma simples: <http://www.tablesgenerator.com/markdown_tables> \n",
    "\n",
    "Porque Markdown é um superconjunto de HTML você pode até mesmo adicionar coisas como tabelas HTML:\n",
    "\n",
    "<table>\n",
    "<tr>\n",
    "<th>Cabeçalho 1</th>\n",
    "<th>Cabeçalho 2</th>\n",
    "</tr>\n",
    "<tr>\n",
    "<td>linha 1, celula 1</td>\n",
    "<td>linha 1, celula 2</td>\n",
    "</tr>\n",
    "<tr>\n",
    "<td>linha 2, celula 1</td>\n",
    "<td>linha 2, celula 2</td>\n",
    "</tr>\n",
    "</table>\n",
    "\n",
    "Uma outra forma de fazer tabelas é usando o seguinte código \n",
    "\n",
    "```markdown\n",
    "| H1-C1 | H2-C2 | H3-C3 | H4-C4 | H5-C5 |\n",
    "|-------|-------|-------|-------|-------|\n",
    "| L2-C1 | L2-C2 | L2-C3 | L2-C4 | L2-C5 |\n",
    "| L3-C1 | L3-C2 | L3-C3 | L3-C4 | L3-C5 |\n",
    "| L4-C1 | L4-C2 | L4-C3 | L4-C4 | L4-C5 |\n",
    "```\n",
    "\n",
    "obtemos como resultado a seguinte tabela:\n",
    "\n",
    "\n",
    "| H1-C1 | H2-C2 | H3-C3 | H4-C4 | H5-C5 |\n",
    "|-------|-------|-------|-------|-------|\n",
    "| L2-C1 | L2-C2 | L2-C3 | L2-C4 | L2-C5 |\n",
    "| L3-C1 | L3-C2 | L3-C3 | L3-C4 | L3-C5 |\n",
    "| L4-C1 | L4-C2 | L4-C3 | L4-C4 | L4-C5 |\n",
    "\n",
    "\n",
    "Quanto ao alinhamento das coulnas, eles podem ser controlados usando o seguinte código\n",
    "\n",
    "```markdown\n",
    "| Esquerda     | Centralizado   | Direita       |\n",
    "| :---         |     :---:      |          ---: |\n",
    "| git status   | git status     | git status    |\n",
    "| git diff     | git diff       | git diff      |\n",
    "```\n",
    " o qual resulta na seguinte tabela\n",
    "\n",
    "| Esquerda     | Centralizado   | Direita       |\n",
    "| :---         |     :---:      |          ---: |\n",
    "| git status   | git status     | git status    |\n",
    "| git diff     | git diff       | git diff      |\n"
   ]
  },
  {
   "cell_type": "markdown",
   "metadata": {},
   "source": [
    "## Incluindo arquivos locais: imagens, vídeos, etc.\n",
    "\n",
    "Se você tiver arquivos locais no diretório do Notebook, você pode consultar e/ou inserir esses arquivos diretamente nas células do Markdown:\n",
    "\n",
    "    [subdiretorio/]<arquivo>\n",
    "\n",
    "Por exemplo, na pasta de Figs, temos o logotipo Python:\n",
    "\n",
    "    <img src=\"../Figs/python_logo.svg\" />\n",
    "\n",
    "<img src=\"../Figs/python_logo.svg\" />\n",
    "\n",
    "e um vídeo com uma tag de vídeo HTML5:\n",
    "\n",
    "    <video controls src=\"../Figs/animation.m4v\" />\n",
    "\n",
    "<video controls src=\"../Figs/animation.m4v\" />\n",
    "\n",
    "Esses não incorporam os dados no arquivo do notebook e exigem que os arquivos existam quando você estiver visualizando o notebook."
   ]
  },
  {
   "cell_type": "markdown",
   "metadata": {},
   "source": [
    "Note que isso significa que o servidor de notebooks IPython também atua como um servidor de arquivos genérico para arquivos dentro da mesma árvore que seus notebooks. O acesso não é concedido fora da pasta do caderno de modo que você tenha controle estrito sobre quais arquivos são visíveis, mas por esse motivo é altamente recomendável que você não execute o servidor de notebook com um diretório de notebook em um nível alto em seu sistema de arquivos diretório).\n",
    "\n",
    "Quando você executa o notebook de maneira protegida por senha, o acesso a arquivos locais é restrito a usuários autenticados, a menos que as exibições somente leitura estejam ativas."
   ]
  },
  {
   "cell_type": "markdown",
   "metadata": {},
   "source": [
    "## Comentários no Markdown\n",
    "\n",
    "Em geral é sempre muito útil poder introduzir alguns comentários em um texto:\n",
    "\n",
    "<http://daringfireball.net/projects/markdown/syntax#link>\n",
    "\n",
    "```markdown\n",
    "[comment]: <> (This is a comment, it will not be included)\n",
    "[comment]: <> (in  the output file unless you use it in)\n",
    "[comment]: <> (a reference style link.)\n",
    "```\n",
    "\n",
    "Para aperfeiçoar a compatibilidade da platforma tamém, é possível usar # (o qual é uma taga para um hiperlink legitimo)  em vez de  <>:\n",
    "\n",
    "```markdown\n",
    "[//]: # (This may be the most platform independent comment)\n",
    "```"
   ]
  },
  {
   "cell_type": "markdown",
   "metadata": {},
   "source": [
    "## Links e Referências\n",
    "\n",
    "\n",
    "Essas notas foram construídas com as informações coletadas na web, e eu não consigo mais agradecer a todos e nem a rastrear a origem  de todos. \n",
    "\n",
    "A seguir apresentamos alguns site interessantes:\n",
    "\n",
    "- [Jupyter Notebook Examples](http://nbviewer.jupyter.org/github/ipython/ipython/tree/1.x/examples/notebooks/)\n",
    "- [NotebookCloud](https://notebookcloud.appspot.com) Um serviço que permite lançar e controlar servidores IPython Notebook no Amazon EC2 a partir do seu navegador.\n",
    "- [IPython Notebook Viewer](http://nbviewer.ipython.org) Exibe versões HTML estáticas de notebooks e inclui uma galeria de exemplos de cadernos. Esse texto é uma adaptação do seu conteúdo."
   ]
  },
  {
   "cell_type": "code",
   "execution_count": null,
   "metadata": {},
   "outputs": [],
   "source": []
  }
 ],
 "metadata": {
  "anaconda-cloud": {},
  "kernelspec": {
   "display_name": "Python 3",
   "language": "python",
   "name": "python3"
  },
  "language_info": {
   "codemirror_mode": {
    "name": "ipython",
    "version": 3
   },
   "file_extension": ".py",
   "mimetype": "text/x-python",
   "name": "python",
   "nbconvert_exporter": "python",
   "pygments_lexer": "ipython3",
   "version": "3.6.8"
  },
  "latex_envs": {
   "LaTeX_envs_menu_present": true,
   "autoclose": false,
   "autocomplete": false,
   "bibliofile": "biblio.bib",
   "cite_by": "apalike",
   "current_citInitial": 1,
   "eqLabelWithNumbers": true,
   "eqNumInitial": 1,
   "hotkeys": {
    "equation": "Ctrl-E",
    "itemize": "Ctrl-I"
   },
   "labels_anchors": false,
   "latex_user_defs": false,
   "report_style_numbering": false,
   "user_envs_cfg": false
  },
  "nav_menu": {},
  "nbTranslate": {
   "displayLangs": [
    "pt",
    "en"
   ],
   "hotkey": "alt-t",
   "langInMainMenu": true,
   "sourceLang": "en",
   "targetLang": "pt",
   "useGoogleTranslate": true
  },
  "toc": {
   "base_numbering": 1,
   "nav_menu": {},
   "number_sections": false,
   "sideBar": true,
   "skip_h1_title": false,
   "title_cell": "Table of Contents",
   "title_sidebar": "Contents",
   "toc_cell": false,
   "toc_position": {},
   "toc_section_display": "block",
   "toc_window_display": false
  },
  "varInspector": {
   "cols": {
    "lenName": 16,
    "lenType": 16,
    "lenVar": 40
   },
   "kernels_config": {
    "python": {
     "delete_cmd_postfix": "",
     "delete_cmd_prefix": "del ",
     "library": "var_list.py",
     "varRefreshCmd": "print(var_dic_list())"
    },
    "r": {
     "delete_cmd_postfix": ") ",
     "delete_cmd_prefix": "rm(",
     "library": "var_list.r",
     "varRefreshCmd": "cat(var_dic_list()) "
    }
   },
   "types_to_exclude": [
    "module",
    "function",
    "builtin_function_or_method",
    "instance",
    "_Feature"
   ],
   "window_display": false
  }
 },
 "nbformat": 4,
 "nbformat_minor": 1
}
