{
 "cells": [
  {
   "cell_type": "markdown",
   "metadata": {},
   "source": [
    "# Experimentos: Medida do período de um pêndulo simples"
   ]
  },
  {
   "cell_type": "markdown",
   "metadata": {},
   "source": [
    "## Medição do período na aproximação de pequenos ângulos.\n",
    "\n",
    "\n",
    "A medida deve ser feita para 4 comprimento diferentes. Note que o erro da media do comprimento $U_l$ é dado por:\n",
    "\n",
    "$$\n",
    "u_l=\\frac{\\Delta r}{\\sqrt{3}} \n",
    "$$\n",
    "\n",
    "mas como $\\Delta r = 1,0$ mm, temos então que $u_l=0,58$ mm.\n",
    "\n",
    "\n",
    "| Comprimento | Tamanho (mm) | Erro $u_l$  (mm) |\n",
    "| :---------- | ------------ | ---------------- |\n",
    "| $L_1$       | 700,00       | 0,58             |\n",
    "| $L_2$       | 750,00       | 0,58             |\n",
    "| $L_3$       | 800,00       | 0,58             |\n",
    "| $L_4$       | 850,00       | 0,58             |\n",
    "\n",
    "Para cada comprimento devemos medir 15 vezes o valor do período. Considerando $g=9.78$ m/s$^2$\n",
    "\n",
    " \n",
    "\n",
    "| Medida ($L_1 = 700,00$ mm) | Período |\n",
    "| -------------------------- | ------- |\n",
    "| 1                          | 1.4063  |\n",
    "| 2                          | 1.4063  |\n",
    "| ...                        | ...     |\n",
    "| 14                         | 1.4063  |\n",
    "| 15                         | 1.4063  |\n",
    "| Média                      | 1.4063  |\n",
    "| Desvio padrão              | 0       |\n",
    "\n",
    "\n",
    "\n",
    "| Medida ($L_2 = 750,00$ mm) | Período |\n",
    "| -------------------------- | ------- |\n",
    "| 1                          | 1.5069  |\n",
    "| 2                          | 1.5069  |\n",
    "| ...                        | ...     |\n",
    "| 14                         | 1.5069  |\n",
    "| 15                         | 1.5069  |\n",
    "| Média                      | 1.5069  |\n",
    "| Desvio padrão              | 0       |\n",
    "\n",
    "\n",
    "\n",
    "| Medida ($L_3 = 800,00$ mm) | Período |\n",
    "| -------------------------- | ------- |\n",
    "| 1                          | 1.6073  |\n",
    "| 2                          | 1.6073  |\n",
    "| ...                        | ...     |\n",
    "| 14                         | 1.6073  |\n",
    "| 15                         | 1.6073  |\n",
    "| Média                      | 1.6073  |\n",
    "| Desvio padrão              | 0       |\n",
    "\n",
    "\n",
    "\n",
    "| Medida ($L_4 = 850,00$ mm) | Período |\n",
    "| -------------------------- | ------- |\n",
    "| 1                          | 1.7078  |\n",
    "| 2                          | 1.7078  |\n",
    "| ...                        | ...     |\n",
    "| 14                         | 1.7078  |\n",
    "| 15                         | 1.7078  |\n",
    "| Média                      | 1.7078  |\n",
    "| Desvio padrão              | 0       |\n",
    "\n",
    "\n",
    "Solte o pêndulo de um ângulo menor ou igual a $10^{\\circ}$, conforme ilustrado pela figura ao lado. Meça três vezes o período de uma oscilação completa com o cronômetro.\n",
    "\n",
    "- **Período do pêndulo para  $L_1$ :** 1.4063 s\n",
    "- **Período do pêndulo para  $L_2$ :** 1.5069 s\n",
    "- **Período do pêndulo para  $L_3$ :** 1.6073 s\n",
    "- **Período do pêndulo para  $L_4$ :** 1.7078 s\n",
    "\n",
    "\n",
    "$$\n",
    "\\boxed{ T^2 =\\frac{4\\pi^2}{g} \\ell} \\qquad\\qquad \\text{ou} \\qquad\\qquad \\boxed{ T = \\sqrt{\\frac{4\\pi^2}{g} \\ell} }\n",
    "$$\n",
    "\n",
    "\n",
    "\n",
    "| $N$  | $L$ (mm)  | $T$ (s) | $T^2$ (s$^2$) | $L\\cdot T^2$ (m$\\cdot$s$^2$) | $L^2$ (m$^2$) |\n",
    "| ---- | :-------- | :------ | :------------ | :--------------------------- | :------------ |\n",
    "| 1    | 700,00    | 1.4063  | 1.9777        | 1.3844                       | 0.4900        |\n",
    "| 2    | 750,00    | 1.5069  | 2.2707        | 1.7030                       | 0.5625        |\n",
    "| 3    | 800,00    | 1.6073  | 2.5834        | 2.0667                       | 0.6400        |\n",
    "| 4    | 850,00    | 1.7078  | 2.9166        | 2.4791                       | 0.7225        |\n",
    "| $\\sum$ | 3100,00 | 6.2283  | 9.7484        | 7.6332                       | 2.4150        |\n"
   ]
  },
  {
   "cell_type": "markdown",
   "metadata": {},
   "source": [
    "# Gerando os resultado experimentais "
   ]
  },
  {
   "cell_type": "markdown",
   "metadata": {},
   "source": [
    "Será necessário instalar a biblioteca \n",
    "\n",
    "```bash\n",
    "sudo -H pip3 install scikit-learn\n",
    "```\n",
    " \n",
    "Para os usuários do Anaconda\n",
    "\n",
    "\n",
    "```bash\n",
    "conda install scikit-learn\n",
    "```\n",
    " \n",
    "Para os usuários do Anaconda\n",
    "\n",
    "\n",
    "\n",
    "Para maiores detalhes sobre a biblioteca pandas veja:\n",
    "\n",
    "- [Pandas](https://pandas.pydata.org/pandas-docs/stable/ecosystem.html)\n",
    "\n",
    "- [scikit-learn](https://scikit-learn.org/stable/documentation.html)\n",
    "\n",
    "- [Estatística Descritiva com Python](http://felipegalvao.com.br/blog/2016/03/31/estatistica-descritiva-com-python/)\n"
   ]
  },
  {
   "cell_type": "code",
   "execution_count": 2,
   "metadata": {
    "ExecuteTime": {
     "end_time": "2019-08-13T10:31:03.941591Z",
     "start_time": "2019-08-13T10:31:01.448485Z"
    }
   },
   "outputs": [],
   "source": [
    "# Importando as biblioteca a serem usada\n",
    "import numpy as np                  # obtém acesso aos rápidos arrays da numpy \n",
    "import matplotlib.pyplot as plt     # Para fazer os gráficos das funções\n",
    "import pandas as pd                 # Para ler e fazer as tabelas de dados\n",
    "# permite que se mostre os gráficos nesse ambiente\n",
    "%matplotlib inline "
   ]
  },
  {
   "cell_type": "code",
   "execution_count": 3,
   "metadata": {
    "ExecuteTime": {
     "end_time": "2019-08-13T10:31:03.954706Z",
     "start_time": "2019-08-13T10:31:03.951884Z"
    }
   },
   "outputs": [],
   "source": [
    "a = np.random.rand()"
   ]
  },
  {
   "cell_type": "code",
   "execution_count": 4,
   "metadata": {
    "ExecuteTime": {
     "end_time": "2019-08-13T10:31:04.107673Z",
     "start_time": "2019-08-13T10:31:03.961161Z"
    }
   },
   "outputs": [],
   "source": [
    "g=9.782\n",
    "def periodo_rnd(l, taxa):\n",
    "    aux = l*((4.0*np.pi*np.pi)/g)\n",
    "    if np.random.rand() >= 0.50 :\n",
    "        t = aux + taxa*aux*np.random.rand()\n",
    "    else:\n",
    "        t = aux - taxa*aux*np.random.rand()\n",
    "    return np.sqrt(t)    "
   ]
  },
  {
   "cell_type": "code",
   "execution_count": 5,
   "metadata": {
    "ExecuteTime": {
     "end_time": "2019-08-13T10:31:06.134696Z",
     "start_time": "2019-08-13T10:31:06.127982Z"
    }
   },
   "outputs": [
    {
     "name": "stdout",
     "output_type": "stream",
     "text": [
      "1.674550382374922\n",
      "1.67063476230344\n",
      "1.7030954763660948\n",
      "1.6589576547844882\n",
      "1.6786594877844045\n",
      "1.6802366125615649\n",
      "1.685486159235551\n",
      "1.643802378115344\n",
      "1.6651986291841874\n",
      "1.712153054652595\n"
     ]
    }
   ],
   "source": [
    "# Aqui vemos que há um resultado diferente toda vez que a função é chamada\n",
    "tx =0.05\n",
    "for x in range(0,10):\n",
    "    print(periodo_rnd(0.7, tx))"
   ]
  },
  {
   "cell_type": "code",
   "execution_count": 6,
   "metadata": {
    "ExecuteTime": {
     "end_time": "2019-08-13T10:31:07.111470Z",
     "start_time": "2019-08-13T10:31:07.104180Z"
    }
   },
   "outputs": [
    {
     "data": {
      "text/plain": [
       "1.680796206157556"
      ]
     },
     "execution_count": 6,
     "metadata": {},
     "output_type": "execute_result"
    }
   ],
   "source": [
    "periodo_rnd(0.7,0.0)"
   ]
  },
  {
   "cell_type": "markdown",
   "metadata": {},
   "source": [
    "Vamoas construir o primeiro conjunto de dados"
   ]
  },
  {
   "cell_type": "code",
   "execution_count": 7,
   "metadata": {
    "ExecuteTime": {
     "end_time": "2019-08-13T10:31:10.285592Z",
     "start_time": "2019-08-13T10:31:10.266744Z"
    }
   },
   "outputs": [],
   "source": [
    "# Tabela 1\n",
    "n=15   # Número de medidas\n",
    "L=0.7\n",
    "tx=0.05\n",
    "Nome = str('Tabela_L_')+str(int(L*1000))+'.dat'\n",
    "f = open(Nome , 'w')\n",
    "for i in range(1,n+1):\n",
    "    linha = str(i)+\"\\t\"+str(periodo_rnd(L,tx)) +\"\\n\"\n",
    "    f.write( linha )\n",
    "f.close()"
   ]
  },
  {
   "cell_type": "code",
   "execution_count": 8,
   "metadata": {
    "ExecuteTime": {
     "end_time": "2019-08-13T10:31:11.215050Z",
     "start_time": "2019-08-13T10:31:11.103868Z"
    }
   },
   "outputs": [
    {
     "name": "stdout",
     "output_type": "stream",
     "text": [
      "1\t1.7089907640178532\r\n",
      "2\t1.6667826804225723\r\n",
      "3\t1.7127334061445338\r\n",
      "4\t1.6983418236062797\r\n",
      "5\t1.6433628160641969\r\n",
      "6\t1.651223470926718\r\n",
      "7\t1.651092669017822\r\n",
      "8\t1.6608384578522228\r\n",
      "9\t1.6798004507969468\r\n",
      "10\t1.6592166989743424\r\n",
      "11\t1.705442802171351\r\n",
      "12\t1.7086315031468209\r\n",
      "13\t1.6532395060484568\r\n",
      "14\t1.653871319939166\r\n",
      "15\t1.7066166839902217\r\n"
     ]
    }
   ],
   "source": [
    "! cat Tabela_L_700.dat"
   ]
  },
  {
   "cell_type": "code",
   "execution_count": 9,
   "metadata": {
    "ExecuteTime": {
     "end_time": "2019-08-13T10:31:11.740507Z",
     "start_time": "2019-08-13T10:31:11.733333Z"
    }
   },
   "outputs": [],
   "source": [
    "# Gera tabela dat/csv sem cabeçalho\n",
    "def gera_tab(n,L,tx):\n",
    "    Nome = str('Tabela_L_')+str(int(L*1000))+'.csv'\n",
    "    f = open(Nome , 'w')\n",
    "    for i in range(1,n+1):\n",
    "        linha = str(i)+\"\\t\"+str(periodo_rnd(L,tx)) +\"\\n\"\n",
    "        f.write( linha )\n",
    "    f.close()"
   ]
  },
  {
   "cell_type": "code",
   "execution_count": 10,
   "metadata": {
    "ExecuteTime": {
     "end_time": "2019-08-13T10:31:13.385330Z",
     "start_time": "2019-08-13T10:31:13.336041Z"
    }
   },
   "outputs": [],
   "source": [
    "# Tabela 2\n",
    "gera_tab(15,0.75,0.05)"
   ]
  },
  {
   "cell_type": "code",
   "execution_count": 11,
   "metadata": {
    "ExecuteTime": {
     "end_time": "2019-08-13T10:31:14.153232Z",
     "start_time": "2019-08-13T10:31:14.043063Z"
    }
   },
   "outputs": [
    {
     "name": "stdout",
     "output_type": "stream",
     "text": [
      "1\t1.777749305602855\r\n",
      "2\t1.7539763334470866\r\n",
      "3\t1.733843758895281\r\n",
      "4\t1.771855506097772\r\n",
      "5\t1.7000648616399192\r\n",
      "6\t1.7485912183245513\r\n",
      "7\t1.7475805246195772\r\n",
      "8\t1.767307637717951\r\n",
      "9\t1.7531248751853012\r\n",
      "10\t1.765716408896421\r\n",
      "11\t1.7141626212869743\r\n",
      "12\t1.7592121850593903\r\n",
      "13\t1.7778830121275275\r\n",
      "14\t1.777495445673304\r\n",
      "15\t1.745325227669681\r\n"
     ]
    }
   ],
   "source": [
    "! cat Tabela_L_750.csv"
   ]
  },
  {
   "cell_type": "code",
   "execution_count": 12,
   "metadata": {
    "ExecuteTime": {
     "end_time": "2019-08-13T10:31:16.697699Z",
     "start_time": "2019-08-13T10:31:16.579514Z"
    }
   },
   "outputs": [],
   "source": [
    "# Gerando Tabela 3\n",
    "gera_tab(15,0.80,0.05)\n",
    "# Gerando tabela 4\n",
    "gera_tab(15,0.85,0.05)"
   ]
  },
  {
   "cell_type": "code",
   "execution_count": 13,
   "metadata": {
    "ExecuteTime": {
     "end_time": "2019-08-13T10:31:17.384631Z",
     "start_time": "2019-08-13T10:31:17.273421Z"
    }
   },
   "outputs": [
    {
     "name": "stdout",
     "output_type": "stream",
     "text": [
      "1\t1.8307680355585083\r\n",
      "2\t1.767386326317396\r\n",
      "3\t1.7635109090094534\r\n",
      "4\t1.8342301801340595\r\n",
      "5\t1.8385360600430847\r\n",
      "6\t1.8275086005280856\r\n",
      "7\t1.7596919703051874\r\n",
      "8\t1.7873624238741401\r\n",
      "9\t1.8114304798966523\r\n",
      "10\t1.783354385084038\r\n",
      "11\t1.8198238553431643\r\n",
      "12\t1.8311169873760622\r\n",
      "13\t1.7719188635226373\r\n",
      "14\t1.794725012954397\r\n",
      "15\t1.7684962877857007\r\n"
     ]
    }
   ],
   "source": [
    "! cat Tabela_L_800.csv"
   ]
  },
  {
   "cell_type": "code",
   "execution_count": 14,
   "metadata": {
    "ExecuteTime": {
     "end_time": "2019-08-13T10:31:18.242111Z",
     "start_time": "2019-08-13T10:31:18.235251Z"
    }
   },
   "outputs": [],
   "source": [
    "# Tabela csv: acrescenta o cabeçalho\n",
    "def gera_tabcsv(n,L,tx):\n",
    "    Nome = str('Tabela_L_')+str(int(L*1000))+'.csv'\n",
    "    f = open(Nome , 'w')\n",
    "    linha='Medida ' + \"\\t\" + \"Período\\n\"\n",
    "    f.write( linha )\n",
    "    for i in range(1,n+1):\n",
    "        linha = str(i)+\"\\t\"+str(periodo_rnd(L,tx)) +\"\\n\"\n",
    "        f.write( linha )\n",
    "    f.close()"
   ]
  },
  {
   "cell_type": "code",
   "execution_count": 15,
   "metadata": {
    "ExecuteTime": {
     "end_time": "2019-08-13T10:31:20.467049Z",
     "start_time": "2019-08-13T10:31:20.403033Z"
    }
   },
   "outputs": [],
   "source": [
    "#Gera tabela csv Com cabeçalho\n",
    "gera_tabcsv(15,0.65,0.05)"
   ]
  },
  {
   "cell_type": "code",
   "execution_count": 16,
   "metadata": {
    "ExecuteTime": {
     "end_time": "2019-08-13T10:31:21.373033Z",
     "start_time": "2019-08-13T10:31:21.261556Z"
    }
   },
   "outputs": [
    {
     "name": "stdout",
     "output_type": "stream",
     "text": [
      "Medida \tPeríodo\r\n",
      "1\t1.6062377945338466\r\n",
      "2\t1.63477293741737\r\n",
      "3\t1.6257955563643303\r\n",
      "4\t1.6382193311432116\r\n",
      "5\t1.6282455022275266\r\n",
      "6\t1.6115986961726898\r\n",
      "7\t1.644071265877963\r\n",
      "8\t1.6534332232709295\r\n",
      "9\t1.5805231542817135\r\n",
      "10\t1.592181372759923\r\n",
      "11\t1.6135585037610356\r\n",
      "12\t1.6185408867823556\r\n",
      "13\t1.5872286614267819\r\n",
      "14\t1.5923064977044181\r\n",
      "15\t1.632309431066494\r\n"
     ]
    }
   ],
   "source": [
    "! cat Tabela_L_650.csv"
   ]
  },
  {
   "cell_type": "code",
   "execution_count": 17,
   "metadata": {
    "ExecuteTime": {
     "end_time": "2019-08-13T10:31:22.117199Z",
     "start_time": "2019-08-13T10:31:21.926382Z"
    }
   },
   "outputs": [],
   "source": [
    "! rm -f Tabela_L_*.csv"
   ]
  },
  {
   "cell_type": "markdown",
   "metadata": {},
   "source": [
    "A seguir mostramos como podemos fazer tudo junto:"
   ]
  },
  {
   "cell_type": "code",
   "execution_count": 18,
   "metadata": {
    "ExecuteTime": {
     "end_time": "2019-08-13T10:31:25.160056Z",
     "start_time": "2019-08-13T10:31:25.143539Z"
    }
   },
   "outputs": [],
   "source": [
    "# Vamos fazer tudo junto\n",
    "N=50\n",
    "tx=0.05\n",
    "# Gera lista automaticamente\n",
    "# Comp = [ i/100 for i in range(50,95,5) ]\n",
    "# Gera lista explicita\n",
    "Comp = [0.70, 0.75, 0.80, 0.85, 0.90]\n",
    "for L in Comp:\n",
    "    Nome='Tabela_L_'+str(int(L*1000))+'.csv'\n",
    "    f = open(Nome, 'w')\n",
    "    linha='Medida ' + \"\\t\" + \"Período\\n\"\n",
    "    f.write( linha )\n",
    "    for i in range(1,N+1):\n",
    "        linha = str(i)+\"\\t\"+str(periodo_rnd(L,tx)) +\"\\n\"\n",
    "        f.write( linha )\n",
    "    f.close()"
   ]
  },
  {
   "cell_type": "markdown",
   "metadata": {},
   "source": [
    " Entretanto não estamos fazendo uso das funções criadas anteriormente, nesse caso teríamos"
   ]
  },
  {
   "cell_type": "code",
   "execution_count": 19,
   "metadata": {
    "ExecuteTime": {
     "end_time": "2019-08-13T10:31:28.079456Z",
     "start_time": "2019-08-13T10:31:27.808071Z"
    }
   },
   "outputs": [
    {
     "name": "stdout",
     "output_type": "stream",
     "text": [
      "-rw-r--r-- 1 salviano salviano  408 ago  9 13:28 Tabela_Final.csv\r\n",
      "-rw-r--r-- 1 salviano salviano 1,1K ago 13 07:31 Tabela_L_700.csv\r\n",
      "-rw-r--r-- 1 salviano salviano 1,1K ago 13 07:31 Tabela_L_750.csv\r\n",
      "-rw-r--r-- 1 salviano salviano 1,1K ago 13 07:31 Tabela_L_800.csv\r\n",
      "-rw-r--r-- 1 salviano salviano 1,1K ago 13 07:31 Tabela_L_850.csv\r\n",
      "-rw-r--r-- 1 salviano salviano 1,1K ago 13 07:31 Tabela_L_900.csv\r\n"
     ]
    }
   ],
   "source": [
    "# Vamos remover todos os arquivos antes\n",
    "! ls -alh *.csv\n",
    "! rm -f *.csv"
   ]
  },
  {
   "cell_type": "code",
   "execution_count": 20,
   "metadata": {
    "ExecuteTime": {
     "end_time": "2019-08-13T10:31:29.815797Z",
     "start_time": "2019-08-13T10:31:29.797950Z"
    }
   },
   "outputs": [
    {
     "name": "stdout",
     "output_type": "stream",
     "text": [
      "L =  0.5\n",
      "L =  0.55\n",
      "L =  0.6\n",
      "L =  0.65\n",
      "L =  0.7\n",
      "L =  0.75\n",
      "L =  0.8\n",
      "L =  0.85\n",
      "L =  0.9\n",
      "L =  0.95\n"
     ]
    }
   ],
   "source": [
    "# Vamos fazer tudo junto\n",
    "N=50\n",
    "tx=0.05\n",
    "# Gera lista automaticamente: [0.70, 0.75, 0.80, 0.85, 0.90, 0.95]\n",
    "Comprimentos = [ i/100 for i in range(50,100,5) ]\n",
    "for L in Comprimentos:\n",
    "    print(\"L = \", L)\n",
    "    gera_tabcsv(N,L,tx)"
   ]
  },
  {
   "cell_type": "code",
   "execution_count": 21,
   "metadata": {
    "ExecuteTime": {
     "end_time": "2019-08-13T10:31:32.641728Z",
     "start_time": "2019-08-13T10:31:32.531443Z"
    }
   },
   "outputs": [
    {
     "name": "stdout",
     "output_type": "stream",
     "text": [
      "Tabela_L_500.csv  Tabela_L_650.csv  Tabela_L_800.csv  Tabela_L_950.csv\r\n",
      "Tabela_L_550.csv  Tabela_L_700.csv  Tabela_L_850.csv\r\n",
      "Tabela_L_600.csv  Tabela_L_750.csv  Tabela_L_900.csv\r\n"
     ]
    }
   ],
   "source": [
    "# No Rwindows dir *.dat\n",
    "! ls *.csv"
   ]
  },
  {
   "cell_type": "code",
   "execution_count": 22,
   "metadata": {
    "ExecuteTime": {
     "end_time": "2019-08-13T10:31:33.318664Z",
     "start_time": "2019-08-13T10:31:33.206106Z"
    }
   },
   "outputs": [
    {
     "name": "stdout",
     "output_type": "stream",
     "text": [
      "Medida \tPeríodo\r\n",
      "1\t1.7683471957782304\r\n",
      "2\t1.816371588732543\r\n",
      "3\t1.7695721349916786\r\n",
      "4\t1.7912211200015424\r\n",
      "5\t1.7528220494736582\r\n",
      "6\t1.8384428622130249\r\n",
      "7\t1.7620145853746723\r\n",
      "8\t1.7658075920381966\r\n",
      "9\t1.770682846164372\r\n",
      "10\t1.7865286015989437\r\n",
      "11\t1.8294742854903854\r\n",
      "12\t1.7831614478737976\r\n",
      "13\t1.7963115049083462\r\n",
      "14\t1.7537850575217133\r\n",
      "15\t1.7750055962331626\r\n",
      "16\t1.8182907897342635\r\n",
      "17\t1.7629520824750202\r\n",
      "18\t1.7865240812556873\r\n",
      "19\t1.7650233661622505\r\n",
      "20\t1.754844919662263\r\n",
      "21\t1.776455617864352\r\n",
      "22\t1.8115874170592337\r\n",
      "23\t1.7568205244426176\r\n",
      "24\t1.8173150156919122\r\n",
      "25\t1.818815817571011\r\n",
      "26\t1.7708587095031108\r\n",
      "27\t1.793796144898158\r\n",
      "28\t1.8359963267982682\r\n",
      "29\t1.751451251628821\r\n",
      "30\t1.764690081074795\r\n",
      "31\t1.8043615618324302\r\n",
      "32\t1.7546323437540938\r\n",
      "33\t1.8196171384325537\r\n",
      "34\t1.7890181235639624\r\n",
      "35\t1.8201886259410425\r\n",
      "36\t1.8304934465329479\r\n",
      "37\t1.8333090614131438\r\n",
      "38\t1.818159865665232\r\n",
      "39\t1.7533687885617952\r\n",
      "40\t1.7735799333509545\r\n",
      "41\t1.761589901322086\r\n",
      "42\t1.766951376564628\r\n",
      "43\t1.7855560370881174\r\n",
      "44\t1.8213200393409588\r\n",
      "45\t1.8044059008112507\r\n",
      "46\t1.7872911276495513\r\n",
      "47\t1.8119893264784728\r\n",
      "48\t1.825483613689005\r\n",
      "49\t1.7684500728930992\r\n",
      "50\t1.8061571225914919\r\n"
     ]
    }
   ],
   "source": [
    "# No Rwindows type Tabela_L_800.dat\n",
    "! cat Tabela_L_800.csv"
   ]
  },
  {
   "cell_type": "code",
   "execution_count": 23,
   "metadata": {
    "ExecuteTime": {
     "end_time": "2019-08-13T10:31:33.778573Z",
     "start_time": "2019-08-13T10:31:33.774516Z"
    }
   },
   "outputs": [
    {
     "name": "stdout",
     "output_type": "stream",
     "text": [
      "['./Tabela_L_650.csv', './Tabela_L_950.csv', './Tabela_L_600.csv', './Tabela_L_800.csv', './Tabela_L_700.csv', './Tabela_L_900.csv', './Tabela_L_750.csv', './Tabela_L_850.csv', './Tabela_L_550.csv', './Tabela_L_500.csv']\n"
     ]
    }
   ],
   "source": [
    "# para obter todos os arquivos com extensão csv no diretório corrente\n",
    "import glob, os\n",
    "#Mudar o diretório caso seja necessário\n",
    "#os.chdir(\"/IYPT\")\n",
    "Arqs=glob.glob('./*.csv')\n",
    "print(Arqs)"
   ]
  },
  {
   "cell_type": "code",
   "execution_count": 24,
   "metadata": {
    "ExecuteTime": {
     "end_time": "2019-08-13T10:31:35.475939Z",
     "start_time": "2019-08-13T10:31:35.472801Z"
    }
   },
   "outputs": [
    {
     "name": "stdout",
     "output_type": "stream",
     "text": [
      "['./Tabela_L_500.csv', './Tabela_L_550.csv', './Tabela_L_600.csv', './Tabela_L_650.csv', './Tabela_L_700.csv', './Tabela_L_750.csv', './Tabela_L_800.csv', './Tabela_L_850.csv', './Tabela_L_900.csv', './Tabela_L_950.csv']\n"
     ]
    }
   ],
   "source": [
    "# Vamos colocar em ordem crescente os arquivos\n",
    "Arqs.sort()\n",
    "print(Arqs)"
   ]
  },
  {
   "cell_type": "code",
   "execution_count": 25,
   "metadata": {
    "ExecuteTime": {
     "end_time": "2019-08-13T10:31:36.351886Z",
     "start_time": "2019-08-13T10:31:36.173529Z"
    }
   },
   "outputs": [],
   "source": [
    "# Vamos ler as cinco tabelas CSV de forma manual\n",
    "TabL1 = pd.read_csv('Tabela_L_700.csv', delimiter='\\t')  #le o conjunto de dados\n",
    "TabL2 = pd.read_csv('Tabela_L_750.csv', delimiter='\\t')  #le o conjunto de dados\n",
    "TabL3 = pd.read_csv('Tabela_L_800.csv', delimiter='\\t')  #le o conjunto de dados\n",
    "TabL4 = pd.read_csv('Tabela_L_850.csv', delimiter='\\t')  #le o conjunto de dados\n",
    "TabL5 = pd.read_csv('Tabela_L_900.csv', delimiter='\\t')  #le o conjunto de dados"
   ]
  },
  {
   "cell_type": "code",
   "execution_count": null,
   "metadata": {
    "ExecuteTime": {
     "end_time": "2019-08-13T10:31:38.897169Z",
     "start_time": "2019-08-13T10:31:38.675973Z"
    }
   },
   "outputs": [],
   "source": [
    "#Para quem fez no excel, faça assim, descomente a linha abaixo e execute\n",
    "#TabL1 = pd.read_excel('Tabela_L_700.xlsx')"
   ]
  },
  {
   "cell_type": "code",
   "execution_count": 28,
   "metadata": {
    "ExecuteTime": {
     "end_time": "2019-08-13T10:31:54.334388Z",
     "start_time": "2019-08-13T10:31:54.321521Z"
    }
   },
   "outputs": [
    {
     "data": {
      "text/html": [
       "<div>\n",
       "<style scoped>\n",
       "    .dataframe tbody tr th:only-of-type {\n",
       "        vertical-align: middle;\n",
       "    }\n",
       "\n",
       "    .dataframe tbody tr th {\n",
       "        vertical-align: top;\n",
       "    }\n",
       "\n",
       "    .dataframe thead th {\n",
       "        text-align: right;\n",
       "    }\n",
       "</style>\n",
       "<table border=\"1\" class=\"dataframe\">\n",
       "  <thead>\n",
       "    <tr style=\"text-align: right;\">\n",
       "      <th></th>\n",
       "      <th>Medida</th>\n",
       "      <th>Período</th>\n",
       "    </tr>\n",
       "  </thead>\n",
       "  <tbody>\n",
       "    <tr>\n",
       "      <th>0</th>\n",
       "      <td>1</td>\n",
       "      <td>1.678697</td>\n",
       "    </tr>\n",
       "    <tr>\n",
       "      <th>1</th>\n",
       "      <td>2</td>\n",
       "      <td>1.655325</td>\n",
       "    </tr>\n",
       "    <tr>\n",
       "      <th>2</th>\n",
       "      <td>3</td>\n",
       "      <td>1.713144</td>\n",
       "    </tr>\n",
       "    <tr>\n",
       "      <th>3</th>\n",
       "      <td>4</td>\n",
       "      <td>1.651010</td>\n",
       "    </tr>\n",
       "    <tr>\n",
       "      <th>4</th>\n",
       "      <td>5</td>\n",
       "      <td>1.654039</td>\n",
       "    </tr>\n",
       "    <tr>\n",
       "      <th>5</th>\n",
       "      <td>6</td>\n",
       "      <td>1.709581</td>\n",
       "    </tr>\n",
       "    <tr>\n",
       "      <th>6</th>\n",
       "      <td>7</td>\n",
       "      <td>1.653853</td>\n",
       "    </tr>\n",
       "    <tr>\n",
       "      <th>7</th>\n",
       "      <td>8</td>\n",
       "      <td>1.691851</td>\n",
       "    </tr>\n",
       "    <tr>\n",
       "      <th>8</th>\n",
       "      <td>9</td>\n",
       "      <td>1.700589</td>\n",
       "    </tr>\n",
       "    <tr>\n",
       "      <th>9</th>\n",
       "      <td>10</td>\n",
       "      <td>1.644689</td>\n",
       "    </tr>\n",
       "    <tr>\n",
       "      <th>10</th>\n",
       "      <td>11</td>\n",
       "      <td>1.711582</td>\n",
       "    </tr>\n",
       "    <tr>\n",
       "      <th>11</th>\n",
       "      <td>12</td>\n",
       "      <td>1.689886</td>\n",
       "    </tr>\n",
       "    <tr>\n",
       "      <th>12</th>\n",
       "      <td>13</td>\n",
       "      <td>1.714412</td>\n",
       "    </tr>\n",
       "    <tr>\n",
       "      <th>13</th>\n",
       "      <td>14</td>\n",
       "      <td>1.717278</td>\n",
       "    </tr>\n",
       "    <tr>\n",
       "      <th>14</th>\n",
       "      <td>15</td>\n",
       "      <td>1.646906</td>\n",
       "    </tr>\n",
       "    <tr>\n",
       "      <th>15</th>\n",
       "      <td>16</td>\n",
       "      <td>1.661087</td>\n",
       "    </tr>\n",
       "    <tr>\n",
       "      <th>16</th>\n",
       "      <td>17</td>\n",
       "      <td>1.656160</td>\n",
       "    </tr>\n",
       "    <tr>\n",
       "      <th>17</th>\n",
       "      <td>18</td>\n",
       "      <td>1.696452</td>\n",
       "    </tr>\n",
       "    <tr>\n",
       "      <th>18</th>\n",
       "      <td>19</td>\n",
       "      <td>1.644503</td>\n",
       "    </tr>\n",
       "    <tr>\n",
       "      <th>19</th>\n",
       "      <td>20</td>\n",
       "      <td>1.652696</td>\n",
       "    </tr>\n",
       "    <tr>\n",
       "      <th>20</th>\n",
       "      <td>21</td>\n",
       "      <td>1.713692</td>\n",
       "    </tr>\n",
       "    <tr>\n",
       "      <th>21</th>\n",
       "      <td>22</td>\n",
       "      <td>1.714780</td>\n",
       "    </tr>\n",
       "    <tr>\n",
       "      <th>22</th>\n",
       "      <td>23</td>\n",
       "      <td>1.644319</td>\n",
       "    </tr>\n",
       "    <tr>\n",
       "      <th>23</th>\n",
       "      <td>24</td>\n",
       "      <td>1.670421</td>\n",
       "    </tr>\n",
       "    <tr>\n",
       "      <th>24</th>\n",
       "      <td>25</td>\n",
       "      <td>1.669873</td>\n",
       "    </tr>\n",
       "    <tr>\n",
       "      <th>25</th>\n",
       "      <td>26</td>\n",
       "      <td>1.715856</td>\n",
       "    </tr>\n",
       "    <tr>\n",
       "      <th>26</th>\n",
       "      <td>27</td>\n",
       "      <td>1.705183</td>\n",
       "    </tr>\n",
       "    <tr>\n",
       "      <th>27</th>\n",
       "      <td>28</td>\n",
       "      <td>1.716847</td>\n",
       "    </tr>\n",
       "    <tr>\n",
       "      <th>28</th>\n",
       "      <td>29</td>\n",
       "      <td>1.700175</td>\n",
       "    </tr>\n",
       "    <tr>\n",
       "      <th>29</th>\n",
       "      <td>30</td>\n",
       "      <td>1.688860</td>\n",
       "    </tr>\n",
       "    <tr>\n",
       "      <th>30</th>\n",
       "      <td>31</td>\n",
       "      <td>1.678664</td>\n",
       "    </tr>\n",
       "    <tr>\n",
       "      <th>31</th>\n",
       "      <td>32</td>\n",
       "      <td>1.664567</td>\n",
       "    </tr>\n",
       "    <tr>\n",
       "      <th>32</th>\n",
       "      <td>33</td>\n",
       "      <td>1.639631</td>\n",
       "    </tr>\n",
       "    <tr>\n",
       "      <th>33</th>\n",
       "      <td>34</td>\n",
       "      <td>1.671132</td>\n",
       "    </tr>\n",
       "    <tr>\n",
       "      <th>34</th>\n",
       "      <td>35</td>\n",
       "      <td>1.661972</td>\n",
       "    </tr>\n",
       "    <tr>\n",
       "      <th>35</th>\n",
       "      <td>36</td>\n",
       "      <td>1.695243</td>\n",
       "    </tr>\n",
       "    <tr>\n",
       "      <th>36</th>\n",
       "      <td>37</td>\n",
       "      <td>1.721763</td>\n",
       "    </tr>\n",
       "    <tr>\n",
       "      <th>37</th>\n",
       "      <td>38</td>\n",
       "      <td>1.690599</td>\n",
       "    </tr>\n",
       "    <tr>\n",
       "      <th>38</th>\n",
       "      <td>39</td>\n",
       "      <td>1.687197</td>\n",
       "    </tr>\n",
       "    <tr>\n",
       "      <th>39</th>\n",
       "      <td>40</td>\n",
       "      <td>1.706246</td>\n",
       "    </tr>\n",
       "    <tr>\n",
       "      <th>40</th>\n",
       "      <td>41</td>\n",
       "      <td>1.675508</td>\n",
       "    </tr>\n",
       "    <tr>\n",
       "      <th>41</th>\n",
       "      <td>42</td>\n",
       "      <td>1.687989</td>\n",
       "    </tr>\n",
       "    <tr>\n",
       "      <th>42</th>\n",
       "      <td>43</td>\n",
       "      <td>1.678642</td>\n",
       "    </tr>\n",
       "    <tr>\n",
       "      <th>43</th>\n",
       "      <td>44</td>\n",
       "      <td>1.670072</td>\n",
       "    </tr>\n",
       "    <tr>\n",
       "      <th>44</th>\n",
       "      <td>45</td>\n",
       "      <td>1.715882</td>\n",
       "    </tr>\n",
       "    <tr>\n",
       "      <th>45</th>\n",
       "      <td>46</td>\n",
       "      <td>1.712654</td>\n",
       "    </tr>\n",
       "    <tr>\n",
       "      <th>46</th>\n",
       "      <td>47</td>\n",
       "      <td>1.688623</td>\n",
       "    </tr>\n",
       "    <tr>\n",
       "      <th>47</th>\n",
       "      <td>48</td>\n",
       "      <td>1.700218</td>\n",
       "    </tr>\n",
       "    <tr>\n",
       "      <th>48</th>\n",
       "      <td>49</td>\n",
       "      <td>1.704148</td>\n",
       "    </tr>\n",
       "    <tr>\n",
       "      <th>49</th>\n",
       "      <td>50</td>\n",
       "      <td>1.674557</td>\n",
       "    </tr>\n",
       "  </tbody>\n",
       "</table>\n",
       "</div>"
      ],
      "text/plain": [
       "    Medida    Período\n",
       "0         1  1.678697\n",
       "1         2  1.655325\n",
       "2         3  1.713144\n",
       "3         4  1.651010\n",
       "4         5  1.654039\n",
       "5         6  1.709581\n",
       "6         7  1.653853\n",
       "7         8  1.691851\n",
       "8         9  1.700589\n",
       "9        10  1.644689\n",
       "10       11  1.711582\n",
       "11       12  1.689886\n",
       "12       13  1.714412\n",
       "13       14  1.717278\n",
       "14       15  1.646906\n",
       "15       16  1.661087\n",
       "16       17  1.656160\n",
       "17       18  1.696452\n",
       "18       19  1.644503\n",
       "19       20  1.652696\n",
       "20       21  1.713692\n",
       "21       22  1.714780\n",
       "22       23  1.644319\n",
       "23       24  1.670421\n",
       "24       25  1.669873\n",
       "25       26  1.715856\n",
       "26       27  1.705183\n",
       "27       28  1.716847\n",
       "28       29  1.700175\n",
       "29       30  1.688860\n",
       "30       31  1.678664\n",
       "31       32  1.664567\n",
       "32       33  1.639631\n",
       "33       34  1.671132\n",
       "34       35  1.661972\n",
       "35       36  1.695243\n",
       "36       37  1.721763\n",
       "37       38  1.690599\n",
       "38       39  1.687197\n",
       "39       40  1.706246\n",
       "40       41  1.675508\n",
       "41       42  1.687989\n",
       "42       43  1.678642\n",
       "43       44  1.670072\n",
       "44       45  1.715882\n",
       "45       46  1.712654\n",
       "46       47  1.688623\n",
       "47       48  1.700218\n",
       "48       49  1.704148\n",
       "49       50  1.674557"
      ]
     },
     "execution_count": 28,
     "metadata": {},
     "output_type": "execute_result"
    }
   ],
   "source": [
    "TabL1"
   ]
  },
  {
   "cell_type": "markdown",
   "metadata": {},
   "source": [
    "Vamos obter os valores médios dos períodos de cada tabela"
   ]
  },
  {
   "cell_type": "code",
   "execution_count": 29,
   "metadata": {
    "ExecuteTime": {
     "end_time": "2019-08-13T10:32:18.804704Z",
     "start_time": "2019-08-13T10:32:18.797368Z"
    }
   },
   "outputs": [
    {
     "name": "stdout",
     "output_type": "stream",
     "text": [
      "Medida     25.500000\n",
      "Período     1.684181\n",
      "dtype: float64\n",
      "1.6841810133001525\n"
     ]
    }
   ],
   "source": [
    "# Média\n",
    "print(TabL1.mean(axis = 0))\n",
    "T1m=TabL1.mean(axis = 0)[1]\n",
    "print(T1m)"
   ]
  },
  {
   "cell_type": "code",
   "execution_count": 30,
   "metadata": {
    "ExecuteTime": {
     "end_time": "2019-08-13T10:32:21.481777Z",
     "start_time": "2019-08-13T10:32:21.477757Z"
    }
   },
   "outputs": [
    {
     "name": "stdout",
     "output_type": "stream",
     "text": [
      "0.024742707540526473\n"
     ]
    }
   ],
   "source": [
    "# Desvio padrão\n",
    "print(TabL1.std()[1])"
   ]
  },
  {
   "cell_type": "code",
   "execution_count": 31,
   "metadata": {
    "ExecuteTime": {
     "end_time": "2019-08-13T10:32:22.146465Z",
     "start_time": "2019-08-13T10:32:22.137577Z"
    }
   },
   "outputs": [],
   "source": [
    "# Definindo os períodos médios\n",
    "T1m = TabL1.mean(axis = 0)[1]\n",
    "T2m = TabL2.mean(axis = 0)[1]\n",
    "T3m = TabL3.mean(axis = 0)[1]\n",
    "T4m = TabL4.mean(axis = 0)[1]\n",
    "T5m = TabL5.mean(axis = 0)[1]"
   ]
  },
  {
   "cell_type": "markdown",
   "metadata": {},
   "source": [
    "\n",
    "| $N$  | $L$ (mm)  | $T$ (s) | $T^2$ (s$^2$) | $L\\cdot T^2$ (m$\\cdot$s$^2$) | $L^2$ (m$^2$) |\n",
    "| ---- | :-------- | :------ | :------------ | :--------------------------- | :------------ |\n",
    "| 1    | 700,00    | 1.4063  | 1.9777        | 1.3844                       | 0.4900        |\n",
    "| 2    | 750,00    | 1.5069  | 2.2707        | 1.7030                       | 0.5625        |\n",
    "| 3    | 800,00    | 1.6073  | 2.5834        | 2.0667                       | 0.6400        |\n",
    "| 4    | 850,00    | 1.7078  | 2.9166        | 2.4791                       | 0.7225        |\n",
    "| $\\sum$ | 3100,00 | 6.2283  | 9.7484        | 7.6332                       | 2.4150        |\n"
   ]
  },
  {
   "cell_type": "code",
   "execution_count": 32,
   "metadata": {
    "ExecuteTime": {
     "end_time": "2019-08-13T10:32:25.499446Z",
     "start_time": "2019-08-13T10:32:25.493622Z"
    }
   },
   "outputs": [],
   "source": [
    "#Cria uma DataFrame\n",
    "Tab = {\n",
    "       'N':[1, 2, 3, 4, 5],\n",
    "       'L':[0.70, 0.75, 0.80, 0.85, 0.90],\n",
    "       'T':[T1m, T2m, T3m, T4m, T5m],\n",
    "       }\n",
    "df = pd.DataFrame(Tab, columns=['N', 'L', 'T'] )"
   ]
  },
  {
   "cell_type": "code",
   "execution_count": 33,
   "metadata": {
    "ExecuteTime": {
     "end_time": "2019-08-13T10:32:27.745622Z",
     "start_time": "2019-08-13T10:32:27.738372Z"
    }
   },
   "outputs": [
    {
     "data": {
      "text/html": [
       "<div>\n",
       "<style scoped>\n",
       "    .dataframe tbody tr th:only-of-type {\n",
       "        vertical-align: middle;\n",
       "    }\n",
       "\n",
       "    .dataframe tbody tr th {\n",
       "        vertical-align: top;\n",
       "    }\n",
       "\n",
       "    .dataframe thead th {\n",
       "        text-align: right;\n",
       "    }\n",
       "</style>\n",
       "<table border=\"1\" class=\"dataframe\">\n",
       "  <thead>\n",
       "    <tr style=\"text-align: right;\">\n",
       "      <th></th>\n",
       "      <th>N</th>\n",
       "      <th>L</th>\n",
       "      <th>T</th>\n",
       "    </tr>\n",
       "  </thead>\n",
       "  <tbody>\n",
       "    <tr>\n",
       "      <th>0</th>\n",
       "      <td>1</td>\n",
       "      <td>0.70</td>\n",
       "      <td>1.684181</td>\n",
       "    </tr>\n",
       "    <tr>\n",
       "      <th>1</th>\n",
       "      <td>2</td>\n",
       "      <td>0.75</td>\n",
       "      <td>1.740857</td>\n",
       "    </tr>\n",
       "    <tr>\n",
       "      <th>2</th>\n",
       "      <td>3</td>\n",
       "      <td>0.80</td>\n",
       "      <td>1.789618</td>\n",
       "    </tr>\n",
       "    <tr>\n",
       "      <th>3</th>\n",
       "      <td>4</td>\n",
       "      <td>0.85</td>\n",
       "      <td>1.847765</td>\n",
       "    </tr>\n",
       "    <tr>\n",
       "      <th>4</th>\n",
       "      <td>5</td>\n",
       "      <td>0.90</td>\n",
       "      <td>1.907378</td>\n",
       "    </tr>\n",
       "  </tbody>\n",
       "</table>\n",
       "</div>"
      ],
      "text/plain": [
       "   N     L         T\n",
       "0  1  0.70  1.684181\n",
       "1  2  0.75  1.740857\n",
       "2  3  0.80  1.789618\n",
       "3  4  0.85  1.847765\n",
       "4  5  0.90  1.907378"
      ]
     },
     "execution_count": 33,
     "metadata": {},
     "output_type": "execute_result"
    }
   ],
   "source": [
    "df"
   ]
  },
  {
   "cell_type": "code",
   "execution_count": 34,
   "metadata": {
    "ExecuteTime": {
     "end_time": "2019-08-13T10:32:31.198817Z",
     "start_time": "2019-08-13T10:32:30.956935Z"
    }
   },
   "outputs": [],
   "source": [
    "# Vamos adicionar as colunas que faltam:\n",
    "df['T2']  = df['T']**2\n",
    "df['LT2'] = df['L']*df['T2']\n",
    "df['L2']  = df['L']*df['L']"
   ]
  },
  {
   "cell_type": "code",
   "execution_count": 35,
   "metadata": {
    "ExecuteTime": {
     "end_time": "2019-08-13T10:32:33.823593Z",
     "start_time": "2019-08-13T10:32:33.811083Z"
    }
   },
   "outputs": [
    {
     "data": {
      "text/html": [
       "<div>\n",
       "<style scoped>\n",
       "    .dataframe tbody tr th:only-of-type {\n",
       "        vertical-align: middle;\n",
       "    }\n",
       "\n",
       "    .dataframe tbody tr th {\n",
       "        vertical-align: top;\n",
       "    }\n",
       "\n",
       "    .dataframe thead th {\n",
       "        text-align: right;\n",
       "    }\n",
       "</style>\n",
       "<table border=\"1\" class=\"dataframe\">\n",
       "  <thead>\n",
       "    <tr style=\"text-align: right;\">\n",
       "      <th></th>\n",
       "      <th>N</th>\n",
       "      <th>L</th>\n",
       "      <th>T</th>\n",
       "      <th>T2</th>\n",
       "      <th>LT2</th>\n",
       "      <th>L2</th>\n",
       "    </tr>\n",
       "  </thead>\n",
       "  <tbody>\n",
       "    <tr>\n",
       "      <th>0</th>\n",
       "      <td>1</td>\n",
       "      <td>0.70</td>\n",
       "      <td>1.684181</td>\n",
       "      <td>2.836466</td>\n",
       "      <td>1.985526</td>\n",
       "      <td>0.4900</td>\n",
       "    </tr>\n",
       "    <tr>\n",
       "      <th>1</th>\n",
       "      <td>2</td>\n",
       "      <td>0.75</td>\n",
       "      <td>1.740857</td>\n",
       "      <td>3.030584</td>\n",
       "      <td>2.272938</td>\n",
       "      <td>0.5625</td>\n",
       "    </tr>\n",
       "    <tr>\n",
       "      <th>2</th>\n",
       "      <td>3</td>\n",
       "      <td>0.80</td>\n",
       "      <td>1.789618</td>\n",
       "      <td>3.202732</td>\n",
       "      <td>2.562186</td>\n",
       "      <td>0.6400</td>\n",
       "    </tr>\n",
       "    <tr>\n",
       "      <th>3</th>\n",
       "      <td>4</td>\n",
       "      <td>0.85</td>\n",
       "      <td>1.847765</td>\n",
       "      <td>3.414236</td>\n",
       "      <td>2.902101</td>\n",
       "      <td>0.7225</td>\n",
       "    </tr>\n",
       "    <tr>\n",
       "      <th>4</th>\n",
       "      <td>5</td>\n",
       "      <td>0.90</td>\n",
       "      <td>1.907378</td>\n",
       "      <td>3.638093</td>\n",
       "      <td>3.274283</td>\n",
       "      <td>0.8100</td>\n",
       "    </tr>\n",
       "  </tbody>\n",
       "</table>\n",
       "</div>"
      ],
      "text/plain": [
       "   N     L         T        T2       LT2      L2\n",
       "0  1  0.70  1.684181  2.836466  1.985526  0.4900\n",
       "1  2  0.75  1.740857  3.030584  2.272938  0.5625\n",
       "2  3  0.80  1.789618  3.202732  2.562186  0.6400\n",
       "3  4  0.85  1.847765  3.414236  2.902101  0.7225\n",
       "4  5  0.90  1.907378  3.638093  3.274283  0.8100"
      ]
     },
     "execution_count": 35,
     "metadata": {},
     "output_type": "execute_result"
    }
   ],
   "source": [
    "df"
   ]
  },
  {
   "cell_type": "code",
   "execution_count": 37,
   "metadata": {
    "ExecuteTime": {
     "end_time": "2019-08-13T10:33:08.619807Z",
     "start_time": "2019-08-13T10:33:08.561773Z"
    }
   },
   "outputs": [
    {
     "data": {
      "text/html": [
       "<div>\n",
       "<style scoped>\n",
       "    .dataframe tbody tr th:only-of-type {\n",
       "        vertical-align: middle;\n",
       "    }\n",
       "\n",
       "    .dataframe tbody tr th {\n",
       "        vertical-align: top;\n",
       "    }\n",
       "\n",
       "    .dataframe thead th {\n",
       "        text-align: right;\n",
       "    }\n",
       "</style>\n",
       "<table border=\"1\" class=\"dataframe\">\n",
       "  <thead>\n",
       "    <tr style=\"text-align: right;\">\n",
       "      <th></th>\n",
       "      <th>N</th>\n",
       "      <th>L</th>\n",
       "      <th>T</th>\n",
       "      <th>T2</th>\n",
       "      <th>LT2</th>\n",
       "      <th>L2</th>\n",
       "    </tr>\n",
       "  </thead>\n",
       "  <tbody>\n",
       "    <tr>\n",
       "      <th>count</th>\n",
       "      <td>5.000000</td>\n",
       "      <td>5.000000</td>\n",
       "      <td>5.000000</td>\n",
       "      <td>5.000000</td>\n",
       "      <td>5.000000</td>\n",
       "      <td>5.000000</td>\n",
       "    </tr>\n",
       "    <tr>\n",
       "      <th>mean</th>\n",
       "      <td>3.000000</td>\n",
       "      <td>0.800000</td>\n",
       "      <td>1.793960</td>\n",
       "      <td>3.224422</td>\n",
       "      <td>2.599407</td>\n",
       "      <td>0.645000</td>\n",
       "    </tr>\n",
       "    <tr>\n",
       "      <th>std</th>\n",
       "      <td>1.581139</td>\n",
       "      <td>0.079057</td>\n",
       "      <td>0.087534</td>\n",
       "      <td>0.314526</td>\n",
       "      <td>0.507912</td>\n",
       "      <td>0.126578</td>\n",
       "    </tr>\n",
       "    <tr>\n",
       "      <th>min</th>\n",
       "      <td>1.000000</td>\n",
       "      <td>0.700000</td>\n",
       "      <td>1.684181</td>\n",
       "      <td>2.836466</td>\n",
       "      <td>1.985526</td>\n",
       "      <td>0.490000</td>\n",
       "    </tr>\n",
       "    <tr>\n",
       "      <th>25%</th>\n",
       "      <td>2.000000</td>\n",
       "      <td>0.750000</td>\n",
       "      <td>1.740857</td>\n",
       "      <td>3.030584</td>\n",
       "      <td>2.272938</td>\n",
       "      <td>0.562500</td>\n",
       "    </tr>\n",
       "    <tr>\n",
       "      <th>50%</th>\n",
       "      <td>3.000000</td>\n",
       "      <td>0.800000</td>\n",
       "      <td>1.789618</td>\n",
       "      <td>3.202732</td>\n",
       "      <td>2.562186</td>\n",
       "      <td>0.640000</td>\n",
       "    </tr>\n",
       "    <tr>\n",
       "      <th>75%</th>\n",
       "      <td>4.000000</td>\n",
       "      <td>0.850000</td>\n",
       "      <td>1.847765</td>\n",
       "      <td>3.414236</td>\n",
       "      <td>2.902101</td>\n",
       "      <td>0.722500</td>\n",
       "    </tr>\n",
       "    <tr>\n",
       "      <th>max</th>\n",
       "      <td>5.000000</td>\n",
       "      <td>0.900000</td>\n",
       "      <td>1.907378</td>\n",
       "      <td>3.638093</td>\n",
       "      <td>3.274283</td>\n",
       "      <td>0.810000</td>\n",
       "    </tr>\n",
       "  </tbody>\n",
       "</table>\n",
       "</div>"
      ],
      "text/plain": [
       "              N         L         T        T2       LT2        L2\n",
       "count  5.000000  5.000000  5.000000  5.000000  5.000000  5.000000\n",
       "mean   3.000000  0.800000  1.793960  3.224422  2.599407  0.645000\n",
       "std    1.581139  0.079057  0.087534  0.314526  0.507912  0.126578\n",
       "min    1.000000  0.700000  1.684181  2.836466  1.985526  0.490000\n",
       "25%    2.000000  0.750000  1.740857  3.030584  2.272938  0.562500\n",
       "50%    3.000000  0.800000  1.789618  3.202732  2.562186  0.640000\n",
       "75%    4.000000  0.850000  1.847765  3.414236  2.902101  0.722500\n",
       "max    5.000000  0.900000  1.907378  3.638093  3.274283  0.810000"
      ]
     },
     "execution_count": 37,
     "metadata": {},
     "output_type": "execute_result"
    }
   ],
   "source": [
    "# Fornece informações a respeito dos dados\n",
    "df.describe()"
   ]
  },
  {
   "cell_type": "code",
   "execution_count": 38,
   "metadata": {
    "ExecuteTime": {
     "end_time": "2019-08-13T10:34:54.002352Z",
     "start_time": "2019-08-13T10:34:53.979101Z"
    }
   },
   "outputs": [],
   "source": [
    "# Vamos exportar essa tabela organizada para um arquivo csv\n",
    "Nome='Tabela_Final.csv'\n",
    "df.to_csv(Nome, sep='\\t')"
   ]
  },
  {
   "cell_type": "code",
   "execution_count": 39,
   "metadata": {
    "ExecuteTime": {
     "end_time": "2019-08-13T10:34:56.158783Z",
     "start_time": "2019-08-13T10:34:56.046181Z"
    }
   },
   "outputs": [
    {
     "name": "stdout",
     "output_type": "stream",
     "text": [
      "\tN\tL\tT\tT2\tLT2\tL2\r\n",
      "0\t1\t0.7\t1.6841810133001525\t2.836465685560728\t1.9855259798925096\t0.48999999999999994\r\n",
      "1\t2\t0.75\t1.7408573721283473\t3.0305843900936154\t2.2729382925702115\t0.5625\r\n",
      "2\t3\t0.8\t1.7896178804338576\t3.202732157968573\t2.5621857263748584\t0.6400000000000001\r\n",
      "3\t4\t0.85\t1.8477652396837723\t3.4142363809836285\t2.902100923836084\t0.7224999999999999\r\n",
      "4\t5\t0.9\t1.9073784479517275\t3.6380925437107408\t3.274283289339667\t0.81\r\n"
     ]
    }
   ],
   "source": [
    "# Vamos ver como ficou a tabela\n",
    "! cat Tabela_Final.csv"
   ]
  },
  {
   "cell_type": "code",
   "execution_count": 40,
   "metadata": {
    "ExecuteTime": {
     "end_time": "2019-08-13T10:34:57.057701Z",
     "start_time": "2019-08-13T10:34:57.053565Z"
    }
   },
   "outputs": [],
   "source": [
    "# Vamos calcular as somas:\n",
    "SL=df['L'].sum()\n",
    "SL2=df['L2'].sum()\n",
    "SLT2=df['LT2'].sum()\n",
    "ST2=df['T2'].sum()"
   ]
  },
  {
   "cell_type": "code",
   "execution_count": 41,
   "metadata": {
    "ExecuteTime": {
     "end_time": "2019-08-13T10:35:01.044287Z",
     "start_time": "2019-08-13T10:35:01.037673Z"
    }
   },
   "outputs": [
    {
     "name": "stdout",
     "output_type": "stream",
     "text": [
      "0.04537310015939511 3.973811414380066\n"
     ]
    }
   ],
   "source": [
    "n = 5 # Número de linha \n",
    "A = (SL2*ST2-SL*SLT2)/(n*SL2-SL*SL)\n",
    "B = (n*SLT2-SL*ST2)/(n*SL2-SL*SL)\n",
    "print(A, B)"
   ]
  },
  {
   "cell_type": "code",
   "execution_count": 42,
   "metadata": {
    "ExecuteTime": {
     "end_time": "2019-08-13T10:35:02.858259Z",
     "start_time": "2019-08-13T10:35:02.854575Z"
    }
   },
   "outputs": [
    {
     "name": "stdout",
     "output_type": "stream",
     "text": [
      "0.04537310015939511 3.973811414380066\n"
     ]
    }
   ],
   "source": [
    "print(A, B)"
   ]
  },
  {
   "cell_type": "markdown",
   "metadata": {},
   "source": [
    "A reta que estamos procurando erá:\n",
    "\n",
    "$$\n",
    "T^2 (L) = A + B*L\n",
    "$$"
   ]
  },
  {
   "cell_type": "code",
   "execution_count": 43,
   "metadata": {
    "ExecuteTime": {
     "end_time": "2019-08-13T10:35:06.402748Z",
     "start_time": "2019-08-13T10:35:04.814497Z"
    }
   },
   "outputs": [],
   "source": [
    "# Vamos primeiro vfazer um ajuste com a scipy\n",
    "from scipy.optimize import curve_fit\n",
    "\n",
    "def Reta(t, a, b):\n",
    "    return a + b*t "
   ]
  },
  {
   "cell_type": "code",
   "execution_count": 44,
   "metadata": {
    "ExecuteTime": {
     "end_time": "2019-08-13T10:35:06.881626Z",
     "start_time": "2019-08-13T10:35:06.641506Z"
    }
   },
   "outputs": [
    {
     "name": "stdout",
     "output_type": "stream",
     "text": [
      "Coeficientes do ajuste:  [0.0453731  3.97381141]\n",
      "Coeficientes da Regressão Linear):  0.04537310015939511 3.973811414380066\n",
      "\n",
      "Matriz de Covariância:\n",
      " [[ 0.00797185 -0.00988757]\n",
      " [-0.00988757  0.01235946]]\n"
     ]
    }
   ],
   "source": [
    "l = np.array([0.70, 0.75, 0.80, 0.85, 0.90])\n",
    "p = df['T2'].to_numpy()\n",
    "fitParams, fitCovariances = curve_fit(Reta, l, p)\n",
    "print ('Coeficientes do ajuste: ', fitParams)\n",
    "print ('Coeficientes da Regressão Linear): ', A, B)\n",
    "print ('\\nMatriz de Covariância:\\n', fitCovariances)"
   ]
  },
  {
   "cell_type": "code",
   "execution_count": 45,
   "metadata": {
    "ExecuteTime": {
     "end_time": "2019-08-13T10:35:09.160657Z",
     "start_time": "2019-08-13T10:35:08.720833Z"
    }
   },
   "outputs": [
    {
     "data": {
      "image/png": "[encoded data removed]",
      "text/plain": [
       "<Figure size 720x432 with 1 Axes>"
      ]
     },
     "metadata": {
      "needs_background": "light"
     },
     "output_type": "display_data"
    },
    {
     "data": {
      "text/plain": [
       "<Figure size 432x288 with 0 Axes>"
      ]
     },
     "metadata": {},
     "output_type": "display_data"
    }
   ],
   "source": [
    "largura = 10  # Largura da figura\n",
    "altura  = 6   # Altura da figura\n",
    "plt.figure(figsize =(largura, altura))     # Define o tamanho do gráfico\n",
    "#plt.figure(figsize =(largura, altura), tight_layout=True)     # Define o tamanho do gráfico\n",
    "\n",
    "plt.xlabel('L (m)', fontsize = 16)\n",
    "plt.ylabel('T2 (s2)', fontsize = 16)\n",
    "plt.title('O período quadrado em função do comprimento', fontsize=16, color='r')\n",
    "\n",
    "\n",
    "#plt.xlim(0,4.1)\n",
    "# Faz o gráfico dos dados como círculos vermelhos e com barras de erro verticais\n",
    "plt.errorbar(l, p, fmt = 'ro', yerr = 0.2)\n",
    "# agora o gráfico da curva de melhor ajuste e também as curvas sigma +- 1 \n",
    "# (A raiz quadrada do elemento da diagonal da matriz de covariância é a \n",
    "#  incerteza no parâmetro de ajuste.)\n",
    "sigma = [np.sqrt(fitCovariances[0,0]), \\\n",
    "         np.sqrt(fitCovariances[1,1]) ]\n",
    "plt.plot(l, Reta(l, fitParams[0], fitParams[1]),\\\n",
    "         l, Reta(l, fitParams[0] + sigma[0], fitParams[1] - sigma[1]),\\\n",
    "         l, Reta(l, fitParams[0] - sigma[0], fitParams[1] + sigma[1]) \\\n",
    "         )\n",
    "plt.show()\n",
    "# Salvar um gráfico em um arquivo\n",
    "plt.savefig('DataFitted.pdf', bbox_inches=0, dpi=600)"
   ]
  },
  {
   "cell_type": "markdown",
   "metadata": {},
   "source": [
    "## Usando a scikit-learn"
   ]
  },
  {
   "cell_type": "code",
   "execution_count": 46,
   "metadata": {
    "ExecuteTime": {
     "end_time": "2019-08-13T10:35:19.841121Z",
     "start_time": "2019-08-13T10:35:17.582219Z"
    }
   },
   "outputs": [],
   "source": [
    "# Para a usar a biblioteca scikit-learn\n",
    "from sklearn.linear_model import LinearRegression  # Faz a regressão linear"
   ]
  },
  {
   "cell_type": "code",
   "execution_count": 47,
   "metadata": {
    "ExecuteTime": {
     "end_time": "2019-08-13T10:35:19.881880Z",
     "start_time": "2019-08-13T10:35:19.878261Z"
    }
   },
   "outputs": [],
   "source": [
    "# Preparando dados para a regressão linear\n",
    "l = df['L'].values.reshape(-1, 1)  # valores convertidos em um array do numpy \n",
    "P = df['T2'].values.reshape(-1, 1)  # valores convertidos em um array do numpy "
   ]
  },
  {
   "cell_type": "code",
   "execution_count": 48,
   "metadata": {
    "ExecuteTime": {
     "end_time": "2019-08-13T10:35:20.111920Z",
     "start_time": "2019-08-13T10:35:20.083175Z"
    }
   },
   "outputs": [],
   "source": [
    "linear_reg = LinearRegression()     # cria o objeto para a classe\n",
    "linear_reg.fit(l, P)                # realiza a regressão linear\n",
    "T_pred = linear_reg.predict(l)      # faz as predições"
   ]
  },
  {
   "cell_type": "code",
   "execution_count": 49,
   "metadata": {
    "ExecuteTime": {
     "end_time": "2019-08-13T10:35:21.177758Z",
     "start_time": "2019-08-13T10:35:21.173841Z"
    }
   },
   "outputs": [
    {
     "name": "stdout",
     "output_type": "stream",
     "text": [
      "[0.0453731]\n",
      "[[3.97381141]]\n"
     ]
    }
   ],
   "source": [
    "# Para obter os coeficientes da regressão linear \n",
    "As = linear_reg.intercept_    # O coeficiente de intercepatação da reta como eixo da ordenada\n",
    "Bs = linear_reg.coef_         # O coeficiente angular da reta\n",
    "print(linear_reg.intercept_)  # To retrieve the intercept:\n",
    "print(linear_reg.coef_)       # O coeficiente angular da reta"
   ]
  },
  {
   "cell_type": "code",
   "execution_count": 50,
   "metadata": {
    "ExecuteTime": {
     "end_time": "2019-08-13T10:35:23.951890Z",
     "start_time": "2019-08-13T10:35:23.944709Z"
    }
   },
   "outputs": [
    {
     "name": "stdout",
     "output_type": "stream",
     "text": [
      "0.04537310015939511 3.973811414380066\n"
     ]
    }
   ],
   "source": [
    "print(A,B)"
   ]
  },
  {
   "cell_type": "markdown",
   "metadata": {},
   "source": [
    "Obtivemos as  predições do T_pred. Agora vamos visualizar o conjunto de dados e a linha de regressão:"
   ]
  },
  {
   "cell_type": "code",
   "execution_count": 51,
   "metadata": {
    "ExecuteTime": {
     "end_time": "2019-08-13T10:35:25.802803Z",
     "start_time": "2019-08-13T10:35:25.572619Z"
    },
    "scrolled": true
   },
   "outputs": [
    {
     "data": {
      "image/png": "[encoded data removed]",
      "text/plain": [
       "<Figure size 720x432 with 1 Axes>"
      ]
     },
     "metadata": {
      "needs_background": "light"
     },
     "output_type": "display_data"
    }
   ],
   "source": [
    "largura = 10  # Largura da figura\n",
    "altura  = 6   # Altura da figura\n",
    "plt.figure(figsize =(largura, altura))     # Define o tamanho do gráfico\n",
    "plt.scatter(l, P,color='red', label=\"Dados\")\n",
    "plt.plot(l, T_pred, color='blue', label=\"Ajuste\")\n",
    "plt.legend()\n",
    "plt.show()"
   ]
  },
  {
   "cell_type": "code",
   "execution_count": null,
   "metadata": {
    "ExecuteTime": {
     "end_time": "2019-08-08T20:07:00.705752Z",
     "start_time": "2019-08-08T20:06:55.576794Z"
    }
   },
   "outputs": [],
   "source": []
  }
 ],
 "metadata": {
  "kernelspec": {
   "display_name": "Python 3",
   "language": "python",
   "name": "python3"
  },
  "language_info": {
   "codemirror_mode": {
    "name": "ipython",
    "version": 3
   },
   "file_extension": ".py",
   "mimetype": "text/x-python",
   "name": "python",
   "nbconvert_exporter": "python",
   "pygments_lexer": "ipython3",
   "version": "3.6.8"
  },
  "latex_envs": {
   "LaTeX_envs_menu_present": true,
   "autoclose": false,
   "autocomplete": false,
   "bibliofile": "biblio.bib",
   "cite_by": "apalike",
   "current_citInitial": 1,
   "eqLabelWithNumbers": true,
   "eqNumInitial": 1,
   "hotkeys": {
    "equation": "Ctrl-E",
    "itemize": "Ctrl-I"
   },
   "labels_anchors": false,
   "latex_user_defs": false,
   "report_style_numbering": false,
   "user_envs_cfg": false
  },
  "nbTranslate": {
   "displayLangs": [
    "*"
   ],
   "hotkey": "alt-t",
   "langInMainMenu": true,
   "sourceLang": "en",
   "targetLang": "fr",
   "useGoogleTranslate": true
  },
  "toc": {
   "base_numbering": 1,
   "nav_menu": {},
   "number_sections": true,
   "sideBar": true,
   "skip_h1_title": false,
   "title_cell": "Table of Contents",
   "title_sidebar": "Contents",
   "toc_cell": false,
   "toc_position": {},
   "toc_section_display": true,
   "toc_window_display": false
  },
  "varInspector": {
   "cols": {
    "lenName": 16,
    "lenType": 16,
    "lenVar": 40
   },
   "kernels_config": {
    "python": {
     "delete_cmd_postfix": "",
     "delete_cmd_prefix": "del ",
     "library": "var_list.py",
     "varRefreshCmd": "print(var_dic_list())"
    },
    "r": {
     "delete_cmd_postfix": ") ",
     "delete_cmd_prefix": "rm(",
     "library": "var_list.r",
     "varRefreshCmd": "cat(var_dic_list()) "
    }
   },
   "types_to_exclude": [
    "module",
    "function",
    "builtin_function_or_method",
    "instance",
    "_Feature"
   ],
   "window_display": false
  }
 },
 "nbformat": 4,
 "nbformat_minor": 2
}
