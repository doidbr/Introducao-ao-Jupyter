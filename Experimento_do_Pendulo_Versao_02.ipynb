{
 "cells": [
  {
   "cell_type": "markdown",
   "metadata": {},
   "source": [
    "# Experimentos: Medida do período de um pêndulo simples"
   ]
  },
  {
   "cell_type": "markdown",
   "metadata": {},
   "source": [
    "## Medição do período na aproximação de pequenos ângulos.\n",
    "\n",
    "\n",
    "A medida deve ser feita para 4 comprimento diferentes. Note que o erro da media do comprimento $U_l$ é dado por:\n",
    "\n",
    "$$\n",
    "u_l=\\frac{\\Delta r}{\\sqrt{3}} \n",
    "$$\n",
    "\n",
    "mas como $\\Delta r = 1,0$ mm, temos então que $u_l=0,58$ mm.\n",
    "\n",
    "\n",
    "| Comprimento | Tamanho (mm) | Erro $u_l$  (mm) |\n",
    "| :---------- | ------------ | ---------------- |\n",
    "| $L_1$       | 700,00       | 0,58             |\n",
    "| $L_2$       | 750,00       | 0,58             |\n",
    "| $L_3$       | 800,00       | 0,58             |\n",
    "| $L_4$       | 850,00       | 0,58             |\n",
    "\n",
    "Para cada comprimento devemos medir 15 vezes o valor do período. Considerando $g=9.78$ m/s$^2$\n",
    "\n",
    " \n",
    "\n",
    "| Medida ($L_1 = 700,00$ mm) | Período |\n",
    "| -------------------------- | ------- |\n",
    "| 1                          | 1.4063  |\n",
    "| 2                          | 1.4063  |\n",
    "| ...                        | ...     |\n",
    "| 14                         | 1.4063  |\n",
    "| 15                         | 1.4063  |\n",
    "| Média                      | 1.4063  |\n",
    "| Desvio padrão              | 0       |\n",
    "\n",
    "\n",
    "\n",
    "| Medida ($L_2 = 750,00$ mm) | Período |\n",
    "| -------------------------- | ------- |\n",
    "| 1                          | 1.5069  |\n",
    "| 2                          | 1.5069  |\n",
    "| ...                        | ...     |\n",
    "| 14                         | 1.5069  |\n",
    "| 15                         | 1.5069  |\n",
    "| Média                      | 1.5069  |\n",
    "| Desvio padrão              | 0       |\n",
    "\n",
    "\n",
    "\n",
    "| Medida ($L_3 = 800,00$ mm) | Período |\n",
    "| -------------------------- | ------- |\n",
    "| 1                          | 1.6073  |\n",
    "| 2                          | 1.6073  |\n",
    "| ...                        | ...     |\n",
    "| 14                         | 1.6073  |\n",
    "| 15                         | 1.6073  |\n",
    "| Média                      | 1.6073  |\n",
    "| Desvio padrão              | 0       |\n",
    "\n",
    "\n",
    "\n",
    "| Medida ($L_4 = 850,00$ mm) | Período |\n",
    "| -------------------------- | ------- |\n",
    "| 1                          | 1.7078  |\n",
    "| 2                          | 1.7078  |\n",
    "| ...                        | ...     |\n",
    "| 14                         | 1.7078  |\n",
    "| 15                         | 1.7078  |\n",
    "| Média                      | 1.7078  |\n",
    "| Desvio padrão              | 0       |\n",
    "\n",
    "\n",
    "Solte o pêndulo de um ângulo menor ou igual a $10^{\\circ}$, conforme ilustrado pela figura ao lado. Meça três vezes o período de uma oscilação completa com o cronômetro.\n",
    "\n",
    "- **Período do pêndulo para  $L_1$ :** 1.4063 s\n",
    "- **Período do pêndulo para  $L_2$ :** 1.5069 s\n",
    "- **Período do pêndulo para  $L_3$ :** 1.6073 s\n",
    "- **Período do pêndulo para  $L_4$ :** 1.7078 s\n",
    "\n",
    "\n",
    "$$\n",
    "\\boxed{ T^2 =\\frac{4\\pi^2}{g} \\ell} \\qquad\\qquad \\text{ou} \\qquad\\qquad \\boxed{ T = \\sqrt{\\frac{4\\pi^2}{g} \\ell} }\n",
    "$$\n",
    "\n",
    "\n",
    "\n",
    "| $N$  | $L$ (mm)  | $T$ (s) | $T^2$ (s$^2$) | $L\\cdot T^2$ (m$\\cdot$s$^2$) | $L^2$ (m$^2$) |\n",
    "| ---- | :-------- | :------ | :------------ | :--------------------------- | :------------ |\n",
    "| 1    | 700,00    | 1.4063  | 1.9777        | 1.3844                       | 0.4900        |\n",
    "| 2    | 750,00    | 1.5069  | 2.2707        | 1.7030                       | 0.5625        |\n",
    "| 3    | 800,00    | 1.6073  | 2.5834        | 2.0667                       | 0.6400        |\n",
    "| 4    | 850,00    | 1.7078  | 2.9166        | 2.4791                       | 0.7225        |\n",
    "| $\\sum$ | 3100,00 | 6.2283  | 9.7484        | 7.6332                       | 2.4150        |\n"
   ]
  },
  {
   "cell_type": "markdown",
   "metadata": {},
   "source": [
    "# Gerando os resultado experimentais "
   ]
  },
  {
   "cell_type": "markdown",
   "metadata": {},
   "source": [
    "Será necessário instalar a biblioteca \n",
    "\n",
    "```bash\n",
    "sudo -H pip3 install scikit-learn\n",
    "```\n",
    " \n",
    "Para os usuários do Anaconda\n",
    "\n",
    "\n",
    "```bash\n",
    "conda install scikit-learn\n",
    "```\n",
    " \n",
    "Para os usuários do Anaconda\n",
    "\n",
    "\n",
    "\n",
    "Para maiores detalhes sobre a biblioteca pandas veja:\n",
    "\n",
    "- [Pandas](https://pandas.pydata.org/pandas-docs/stable/ecosystem.html)\n",
    "\n",
    "- [scikit-learn](https://scikit-learn.org/stable/documentation.html)\n",
    "\n",
    "- [Estatística Descritiva com Python](http://felipegalvao.com.br/blog/2016/03/31/estatistica-descritiva-com-python/)\n"
   ]
  },
  {
   "cell_type": "code",
   "execution_count": 1,
   "metadata": {
    "ExecuteTime": {
     "end_time": "2019-08-09T00:19:46.967384Z",
     "start_time": "2019-08-09T00:19:46.074772Z"
    }
   },
   "outputs": [],
   "source": [
    "# Importando as biblioteca a serem usada\n",
    "import numpy as np                  # obtém acesso aos rápidos arrays da numpy \n",
    "import matplotlib.pyplot as plt     # Para fazer os gráficos das funções\n",
    "import pandas as pd                 # Para ler e fazer as tabelas de dados\n",
    "from sklearn.linear_model import LinearRegression  # Faz a regressão linear\n",
    "# permite que se mostre os gráficos nesse ambiente\n",
    "%matplotlib inline "
   ]
  },
  {
   "cell_type": "code",
   "execution_count": 2,
   "metadata": {
    "ExecuteTime": {
     "end_time": "2019-08-09T00:19:47.807580Z",
     "start_time": "2019-08-09T00:19:47.803647Z"
    }
   },
   "outputs": [
    {
     "name": "stdout",
     "output_type": "stream",
     "text": [
      "0.3830588904846537\n"
     ]
    }
   ],
   "source": [
    "# Essa função gera um número aleatório\n",
    "a = np.random.rand()\n",
    "print(a)"
   ]
  },
  {
   "cell_type": "code",
   "execution_count": 3,
   "metadata": {
    "ExecuteTime": {
     "end_time": "2019-08-09T00:19:50.198094Z",
     "start_time": "2019-08-09T00:19:50.189282Z"
    }
   },
   "outputs": [],
   "source": [
    "g=9.782\n",
    "def periodo_rnd(l, taxa):\n",
    "    aux = l*((4.0*np.pi*np.pi)/g)\n",
    "    if np.random.rand() >= 0.50 :\n",
    "        t = aux + taxa*aux*np.random.rand()\n",
    "    else:\n",
    "        t = aux - taxa*aux*np.random.rand()\n",
    "    return np.sqrt(t)    "
   ]
  },
  {
   "cell_type": "code",
   "execution_count": 4,
   "metadata": {
    "ExecuteTime": {
     "end_time": "2019-08-09T00:19:52.346338Z",
     "start_time": "2019-08-09T00:19:52.340194Z"
    }
   },
   "outputs": [
    {
     "name": "stdout",
     "output_type": "stream",
     "text": [
      "1.7077076074452833\n",
      "1.7103272998348968\n",
      "1.7111018177378943\n",
      "1.6416238279257962\n",
      "1.6651256148666773\n",
      "1.6412449221655454\n",
      "1.6639760815252473\n",
      "1.6875432198768572\n",
      "1.6887908277823405\n",
      "1.6884209159902686\n"
     ]
    }
   ],
   "source": [
    "# Aqui vemos que há um resultado diferente toda vez que a função é chamada\n",
    "tx =0.05\n",
    "for x in range(0,10):\n",
    "    print(periodo_rnd(0.7, tx))"
   ]
  },
  {
   "cell_type": "code",
   "execution_count": 5,
   "metadata": {
    "ExecuteTime": {
     "end_time": "2019-08-09T00:19:53.579406Z",
     "start_time": "2019-08-09T00:19:53.574194Z"
    }
   },
   "outputs": [
    {
     "data": {
      "text/plain": [
       "1.680796206157556"
      ]
     },
     "execution_count": 5,
     "metadata": {},
     "output_type": "execute_result"
    }
   ],
   "source": [
    "periodo_rnd(0.7,0.0)"
   ]
  },
  {
   "cell_type": "markdown",
   "metadata": {},
   "source": [
    "Vamoas construir o primeiro conjunto de dados"
   ]
  },
  {
   "cell_type": "code",
   "execution_count": 6,
   "metadata": {
    "ExecuteTime": {
     "end_time": "2019-08-09T00:19:59.548664Z",
     "start_time": "2019-08-09T00:19:59.535938Z"
    }
   },
   "outputs": [],
   "source": [
    "# Tabela 1\n",
    "n=15   # Número de medidas\n",
    "L=0.7\n",
    "tx=0.05\n",
    "Nome = str('Tabela_L_')+str(int(L*1000))+'.dat'\n",
    "f = open(Nome , 'w')\n",
    "for i in range(1,n+1):\n",
    "    linha = str(i)+\"\\t\"+str(periodo_rnd(L,tx)) +\"\\n\"\n",
    "    f.write( linha )\n",
    "f.close()"
   ]
  },
  {
   "cell_type": "code",
   "execution_count": 7,
   "metadata": {
    "ExecuteTime": {
     "end_time": "2019-08-09T00:20:05.584860Z",
     "start_time": "2019-08-09T00:20:05.467654Z"
    }
   },
   "outputs": [
    {
     "name": "stdout",
     "output_type": "stream",
     "text": [
      "1\t1.6435765816256314\r\n",
      "2\t1.670767349639648\r\n",
      "3\t1.6457795973403115\r\n",
      "4\t1.691934163017841\r\n",
      "5\t1.7064718446296083\r\n",
      "6\t1.6386931012230856\r\n",
      "7\t1.6580869400785616\r\n",
      "8\t1.6907244051319323\r\n",
      "9\t1.6916533305684436\r\n",
      "10\t1.6811370102751677\r\n",
      "11\t1.6781603370782145\r\n",
      "12\t1.68564361624387\r\n",
      "13\t1.6567555345943474\r\n",
      "14\t1.718135906076004\r\n",
      "15\t1.6807604114587917\r\n"
     ]
    }
   ],
   "source": [
    "! cat Tabela_L_700.dat"
   ]
  },
  {
   "cell_type": "code",
   "execution_count": 8,
   "metadata": {
    "ExecuteTime": {
     "end_time": "2019-08-09T00:20:08.757050Z",
     "start_time": "2019-08-09T00:20:08.639806Z"
    }
   },
   "outputs": [],
   "source": [
    "# Remove o arquivo anterior\n",
    "! rm -f Tabela_L_700.dat"
   ]
  },
  {
   "cell_type": "code",
   "execution_count": 9,
   "metadata": {
    "ExecuteTime": {
     "end_time": "2019-08-09T00:20:11.098340Z",
     "start_time": "2019-08-09T00:20:11.093813Z"
    }
   },
   "outputs": [],
   "source": [
    "# Gera tabela dat/csv sem cabeçalho\n",
    "def gera_tab(n,L,tx):\n",
    "    Nome = str('Tabela_L_')+str(int(L*1000))+'.csv'\n",
    "    f = open(Nome , 'w')\n",
    "    for i in range(1,n+1):\n",
    "        linha = str(i)+\"\\t\"+str(periodo_rnd(L,tx)) +\"\\n\"\n",
    "        f.write( linha )\n",
    "    f.close()"
   ]
  },
  {
   "cell_type": "code",
   "execution_count": 10,
   "metadata": {
    "ExecuteTime": {
     "end_time": "2019-08-09T00:20:12.047738Z",
     "start_time": "2019-08-09T00:20:12.043052Z"
    }
   },
   "outputs": [],
   "source": [
    "# Tabela 2\n",
    "gera_tab(15,0.75,0.05)"
   ]
  },
  {
   "cell_type": "code",
   "execution_count": 11,
   "metadata": {
    "ExecuteTime": {
     "end_time": "2019-08-09T00:20:12.920732Z",
     "start_time": "2019-08-09T00:20:12.799508Z"
    }
   },
   "outputs": [
    {
     "name": "stdout",
     "output_type": "stream",
     "text": [
      "1\t1.735724020826028\r\n",
      "2\t1.7027174104576785\r\n",
      "3\t1.7195921584120555\r\n",
      "4\t1.7571146422108437\r\n",
      "5\t1.7555098733676777\r\n",
      "6\t1.700766785242155\r\n",
      "7\t1.7255899007972662\r\n",
      "8\t1.7758565074354575\r\n",
      "9\t1.772907795084369\r\n",
      "10\t1.7594957068954773\r\n",
      "11\t1.729370739822112\r\n",
      "12\t1.7296160380181909\r\n",
      "13\t1.7332495026052812\r\n",
      "14\t1.6959946229137135\r\n",
      "15\t1.731996735979773\r\n"
     ]
    }
   ],
   "source": [
    "! cat Tabela_L_750.csv"
   ]
  },
  {
   "cell_type": "code",
   "execution_count": 12,
   "metadata": {
    "ExecuteTime": {
     "end_time": "2019-08-09T00:20:15.874540Z",
     "start_time": "2019-08-09T00:20:15.870444Z"
    }
   },
   "outputs": [],
   "source": [
    "# Gerando Tabela 3\n",
    "gera_tab(15,0.80,0.05)\n",
    "# Gerando tabela 4\n",
    "gera_tab(15,0.85,0.05)"
   ]
  },
  {
   "cell_type": "code",
   "execution_count": 13,
   "metadata": {
    "ExecuteTime": {
     "end_time": "2019-08-09T00:20:17.691107Z",
     "start_time": "2019-08-09T00:20:17.573100Z"
    }
   },
   "outputs": [
    {
     "name": "stdout",
     "output_type": "stream",
     "text": [
      "1\t1.7704394548133129\r\n",
      "2\t1.7780973249525651\r\n",
      "3\t1.8006309668657507\r\n",
      "4\t1.798208828510247\r\n",
      "5\t1.8123800383845114\r\n",
      "6\t1.766935948800254\r\n",
      "7\t1.752113556510258\r\n",
      "8\t1.7538886841712038\r\n",
      "9\t1.8117466671384186\r\n",
      "10\t1.838042072416483\r\n",
      "11\t1.8118926556645996\r\n",
      "12\t1.7606013670931482\r\n",
      "13\t1.816589384714246\r\n",
      "14\t1.8099253561118054\r\n",
      "15\t1.751716752225441\r\n"
     ]
    }
   ],
   "source": [
    "! cat Tabela_L_800.csv"
   ]
  },
  {
   "cell_type": "code",
   "execution_count": 14,
   "metadata": {
    "ExecuteTime": {
     "end_time": "2019-08-09T00:20:20.198931Z",
     "start_time": "2019-08-09T00:20:20.078786Z"
    }
   },
   "outputs": [],
   "source": [
    "# Remove os arquivos anteriores\n",
    "! rm -f Tabela_L_*.csv"
   ]
  },
  {
   "cell_type": "code",
   "execution_count": 15,
   "metadata": {
    "ExecuteTime": {
     "end_time": "2019-08-09T00:20:21.752690Z",
     "start_time": "2019-08-09T00:20:21.742816Z"
    }
   },
   "outputs": [],
   "source": [
    "# Tabela csv: acrescenta o cabeçalho\n",
    "def gera_tabcsv(n,L,tx):\n",
    "    Nome = str('Tabela_L_')+str(int(L*1000))+'.csv'\n",
    "    f = open(Nome , 'w')\n",
    "    linha='Medida ' + \"\\t\" + \"Período\\n\"\n",
    "    f.write( linha )\n",
    "    for i in range(1,n+1):\n",
    "        linha = str(i)+\"\\t\"+str(periodo_rnd(L,tx)) +\"\\n\"\n",
    "        f.write( linha )\n",
    "    f.close()"
   ]
  },
  {
   "cell_type": "code",
   "execution_count": 16,
   "metadata": {
    "ExecuteTime": {
     "end_time": "2019-08-09T00:20:24.223221Z",
     "start_time": "2019-08-09T00:20:24.219467Z"
    }
   },
   "outputs": [],
   "source": [
    "#Gera tabela csv Com cabeçalho\n",
    "gera_tabcsv(15,0.65,0.05)"
   ]
  },
  {
   "cell_type": "code",
   "execution_count": 17,
   "metadata": {
    "ExecuteTime": {
     "end_time": "2019-08-09T00:20:25.087388Z",
     "start_time": "2019-08-09T00:20:24.972242Z"
    }
   },
   "outputs": [
    {
     "name": "stdout",
     "output_type": "stream",
     "text": [
      "Medida \tPeríodo\r\n",
      "1\t1.5916048315566662\r\n",
      "2\t1.6398671193310923\r\n",
      "3\t1.5853219212855654\r\n",
      "4\t1.5985657739821613\r\n",
      "5\t1.632411495783541\r\n",
      "6\t1.6105066173632685\r\n",
      "7\t1.584903798625867\r\n",
      "8\t1.6312061418082557\r\n",
      "9\t1.6043787393765199\r\n",
      "10\t1.625871023029289\r\n",
      "11\t1.611276756978416\r\n",
      "12\t1.5890339317713575\r\n",
      "13\t1.655109170941922\r\n",
      "14\t1.5811834340655524\r\n",
      "15\t1.6207668962438093\r\n"
     ]
    }
   ],
   "source": [
    "! cat Tabela_L_650.csv"
   ]
  },
  {
   "cell_type": "code",
   "execution_count": 18,
   "metadata": {
    "ExecuteTime": {
     "end_time": "2019-08-09T00:20:27.751534Z",
     "start_time": "2019-08-09T00:20:27.631541Z"
    }
   },
   "outputs": [],
   "source": [
    "! rm -f Tabela_L_*.csv"
   ]
  },
  {
   "cell_type": "markdown",
   "metadata": {},
   "source": [
    "A seguir mostramos como podemos fazer tudo junto:"
   ]
  },
  {
   "cell_type": "code",
   "execution_count": 25,
   "metadata": {
    "ExecuteTime": {
     "end_time": "2019-08-09T00:24:55.496050Z",
     "start_time": "2019-08-09T00:24:55.481014Z"
    }
   },
   "outputs": [
    {
     "name": "stdout",
     "output_type": "stream",
     "text": [
      "L =  0.7\n",
      "L =  0.75\n",
      "L =  0.8\n",
      "L =  0.85\n",
      "L =  0.9\n"
     ]
    }
   ],
   "source": [
    "# Vamos fazer tudo junto\n",
    "N=50\n",
    "tx=0.05\n",
    "# Lista elas podem ser de ambas as formas, a primeira é mais geral\n",
    "#Comp = [i/100 for i in range(70,95,5)]\n",
    "Comp = [0.70, 0.75, 0.80, 0.85, 0.90]\n",
    "for L in Comp:\n",
    "    print(\"L = \", L)\n",
    "    Nome='Tabela_L_'+str(int(L*1000))+'.csv'\n",
    "    f = open(Nome, 'w')\n",
    "    for i in range(1,N+1):\n",
    "        linha = str(i)+\"\\t\"+str(periodo_rnd(L,tx)) +\"\\n\"\n",
    "        f.write( linha )\n",
    "    f.close()"
   ]
  },
  {
   "cell_type": "markdown",
   "metadata": {},
   "source": [
    " Entretanto não estamos fazendo uso das funções criadas anteriormente, nesse caso teríamos"
   ]
  },
  {
   "cell_type": "code",
   "execution_count": 26,
   "metadata": {
    "ExecuteTime": {
     "end_time": "2019-08-09T00:27:44.543091Z",
     "start_time": "2019-08-09T00:27:44.426471Z"
    }
   },
   "outputs": [],
   "source": [
    "# Vamos remover todos os arquivos antes\n",
    "! rm -f *.csv"
   ]
  },
  {
   "cell_type": "code",
   "execution_count": 29,
   "metadata": {
    "ExecuteTime": {
     "end_time": "2019-08-09T00:31:56.753623Z",
     "start_time": "2019-08-09T00:31:56.738580Z"
    }
   },
   "outputs": [
    {
     "name": "stdout",
     "output_type": "stream",
     "text": [
      "L =  0.5\n",
      "L =  0.55\n",
      "L =  0.6\n",
      "L =  0.65\n",
      "L =  0.7\n",
      "L =  0.75\n",
      "L =  0.8\n",
      "L =  0.85\n",
      "L =  0.9\n",
      "L =  0.95\n"
     ]
    }
   ],
   "source": [
    "# Vamos fazer tudo junto\n",
    "N=50\n",
    "tx=0.05\n",
    "Comprimentos = [ i/100 for i in range(50,100,5) ]\n",
    "for L in Comprimentos:\n",
    "    print(\"L = \", L)\n",
    "    gera_tabcsv(N,L,tx)"
   ]
  },
  {
   "cell_type": "code",
   "execution_count": 39,
   "metadata": {
    "ExecuteTime": {
     "end_time": "2019-08-09T00:40:29.701836Z",
     "start_time": "2019-08-09T00:40:29.692392Z"
    }
   },
   "outputs": [
    {
     "name": "stdout",
     "output_type": "stream",
     "text": [
      "['./Tabela_L_550.csv', './Tabela_L_850.csv', './Tabela_L_950.csv', './Tabela_L_650.csv', './Tabela_L_700.csv', './Tabela_L_750.csv', './Tabela_L_500.csv', './Tabela_L_600.csv', './Tabela_L_900.csv', './Tabela_L_800.csv']\n"
     ]
    }
   ],
   "source": [
    "# Para obter todos os arquivos com extensão csv no diretório corrente\n",
    "import glob, os\n",
    "#Mudar o diretório caso seja necessário\n",
    "#os.chdir(\"/IYPT\")\n",
    "Arqs=glob.glob('./*.csv')\n",
    "print(Arqs)"
   ]
  },
  {
   "cell_type": "code",
   "execution_count": 40,
   "metadata": {
    "ExecuteTime": {
     "end_time": "2019-08-09T00:41:06.607010Z",
     "start_time": "2019-08-09T00:41:06.602052Z"
    }
   },
   "outputs": [
    {
     "name": "stdout",
     "output_type": "stream",
     "text": [
      "['./Tabela_L_500.csv', './Tabela_L_550.csv', './Tabela_L_600.csv', './Tabela_L_650.csv', './Tabela_L_700.csv', './Tabela_L_750.csv', './Tabela_L_800.csv', './Tabela_L_850.csv', './Tabela_L_900.csv', './Tabela_L_950.csv']\n"
     ]
    }
   ],
   "source": [
    "# Vamos colocar em ordem crescente os arquivos\n",
    "Arqs.sort()\n",
    "print(Arqs)"
   ]
  },
  {
   "cell_type": "code",
   "execution_count": 41,
   "metadata": {
    "ExecuteTime": {
     "end_time": "2019-08-09T00:41:11.775507Z",
     "start_time": "2019-08-09T00:41:11.772142Z"
    }
   },
   "outputs": [
    {
     "name": "stdout",
     "output_type": "stream",
     "text": [
      "10\n"
     ]
    }
   ],
   "source": [
    "# O número de arquivos encontrados é\n",
    "print(len(Arqs))"
   ]
  },
  {
   "cell_type": "code",
   "execution_count": 53,
   "metadata": {
    "ExecuteTime": {
     "end_time": "2019-08-09T00:58:14.316793Z",
     "start_time": "2019-08-09T00:58:14.285162Z"
    }
   },
   "outputs": [],
   "source": [
    "# Vamos criar uma matriz numpy cujas as linhas \n",
    "# são o número de medidas e as colunas são o número de arquivos encontrados\n",
    "nl = N\n",
    "nc = len(Arqs)\n",
    "MatP=np.zeros((nl,nc))  # Matriz com todas medidas dos períodos\n",
    "Pmed = []   # Lista vazia para inserir os períodos médios\n",
    "# Vamos iniciar o tratamento dos dados\n",
    "i = 0\n",
    "for arq in Arqs :\n",
    "    TabL = pd.read_csv(arq, delimiter='\\t')     # lê o conjunto de dados\n",
    "    X1 = TabL.iloc[:, 0].values.reshape(-1, 1)  # valores convertidos em um array do numpy \n",
    "    T  = TabL.iloc[:, 1].values.reshape(-1, 1)  # -1 significa calcula a dimensão das linhas, mas tem uma 1 coluna\n",
    "    MatP[:,i]= T[:,0]\n",
    "    Pmed.append(TabL.mean(axis = 0)[1])         # Obtenho o período médio\n",
    "    i = i + 1"
   ]
  },
  {
   "cell_type": "code",
   "execution_count": 52,
   "metadata": {
    "ExecuteTime": {
     "end_time": "2019-08-09T00:57:59.162316Z",
     "start_time": "2019-08-09T00:57:59.158859Z"
    }
   },
   "outputs": [
    {
     "name": "stdout",
     "output_type": "stream",
     "text": [
      "[1.4201427937299673, 1.4898440802842614, 1.5585318459982591, 1.616912762409664, 1.686200129119267, 1.7440473673135932, 1.7963900482284043, 1.8439029181233542, 1.903946862255491, 1.959503245443276]\n"
     ]
    }
   ],
   "source": [
    "print(Pmed)"
   ]
  },
  {
   "cell_type": "markdown",
   "metadata": {},
   "source": [
    "Precisamos da seguinte tabela:\n",
    "\n",
    "\n",
    "| $N$  | $L$ (mm)  | $T$ (s) | $T^2$ (s$^2$) | $L\\cdot T^2$ (m$\\cdot$s$^2$) | $L^2$ (m$^2$) |\n",
    "| ---- | :-------- | :------ | :------------ | :--------------------------- | :------------ |\n",
    "| 1    | 700,00    | 1.4063  | 1.9777        | 1.3844                       | 0.4900        |\n",
    "| 2    | 750,00    | 1.5069  | 2.2707        | 1.7030                       | 0.5625        |\n",
    "| 3    | 800,00    | 1.6073  | 2.5834        | 2.0667                       | 0.6400        |\n",
    "| 4    | 850,00    | 1.7078  | 2.9166        | 2.4791                       | 0.7225        |\n",
    "| $\\sum$ | 3100,00 | 6.2283  | 9.7484        | 7.6332                       | 2.4150        |\n",
    "\n",
    "\n",
    "Vamos contruir ela"
   ]
  },
  {
   "cell_type": "code",
   "execution_count": 55,
   "metadata": {
    "ExecuteTime": {
     "end_time": "2019-08-09T01:01:44.463426Z",
     "start_time": "2019-08-09T01:01:44.457361Z"
    }
   },
   "outputs": [],
   "source": [
    "#Cria uma DataFrame com os daodos\n",
    "Tab = {\n",
    "       'N':[i for i in range(1,nc+1)],\n",
    "       'L':Comprimentos,\n",
    "       'T':Pmed,\n",
    "       }\n",
    "df = pd.DataFrame(Tab, columns=['N', 'L', 'T'] )"
   ]
  },
  {
   "cell_type": "code",
   "execution_count": 56,
   "metadata": {
    "ExecuteTime": {
     "end_time": "2019-08-09T01:01:48.054363Z",
     "start_time": "2019-08-09T01:01:48.041379Z"
    }
   },
   "outputs": [
    {
     "data": {
      "text/html": [
       "<div>\n",
       "<style scoped>\n",
       "    .dataframe tbody tr th:only-of-type {\n",
       "        vertical-align: middle;\n",
       "    }\n",
       "\n",
       "    .dataframe tbody tr th {\n",
       "        vertical-align: top;\n",
       "    }\n",
       "\n",
       "    .dataframe thead th {\n",
       "        text-align: right;\n",
       "    }\n",
       "</style>\n",
       "<table border=\"1\" class=\"dataframe\">\n",
       "  <thead>\n",
       "    <tr style=\"text-align: right;\">\n",
       "      <th></th>\n",
       "      <th>N</th>\n",
       "      <th>L</th>\n",
       "      <th>T</th>\n",
       "    </tr>\n",
       "  </thead>\n",
       "  <tbody>\n",
       "    <tr>\n",
       "      <th>0</th>\n",
       "      <td>1</td>\n",
       "      <td>0.50</td>\n",
       "      <td>1.420143</td>\n",
       "    </tr>\n",
       "    <tr>\n",
       "      <th>1</th>\n",
       "      <td>2</td>\n",
       "      <td>0.55</td>\n",
       "      <td>1.489844</td>\n",
       "    </tr>\n",
       "    <tr>\n",
       "      <th>2</th>\n",
       "      <td>3</td>\n",
       "      <td>0.60</td>\n",
       "      <td>1.558532</td>\n",
       "    </tr>\n",
       "    <tr>\n",
       "      <th>3</th>\n",
       "      <td>4</td>\n",
       "      <td>0.65</td>\n",
       "      <td>1.616913</td>\n",
       "    </tr>\n",
       "    <tr>\n",
       "      <th>4</th>\n",
       "      <td>5</td>\n",
       "      <td>0.70</td>\n",
       "      <td>1.686200</td>\n",
       "    </tr>\n",
       "    <tr>\n",
       "      <th>5</th>\n",
       "      <td>6</td>\n",
       "      <td>0.75</td>\n",
       "      <td>1.744047</td>\n",
       "    </tr>\n",
       "    <tr>\n",
       "      <th>6</th>\n",
       "      <td>7</td>\n",
       "      <td>0.80</td>\n",
       "      <td>1.796390</td>\n",
       "    </tr>\n",
       "    <tr>\n",
       "      <th>7</th>\n",
       "      <td>8</td>\n",
       "      <td>0.85</td>\n",
       "      <td>1.843903</td>\n",
       "    </tr>\n",
       "    <tr>\n",
       "      <th>8</th>\n",
       "      <td>9</td>\n",
       "      <td>0.90</td>\n",
       "      <td>1.903947</td>\n",
       "    </tr>\n",
       "    <tr>\n",
       "      <th>9</th>\n",
       "      <td>10</td>\n",
       "      <td>0.95</td>\n",
       "      <td>1.959503</td>\n",
       "    </tr>\n",
       "  </tbody>\n",
       "</table>\n",
       "</div>"
      ],
      "text/plain": [
       "    N     L         T\n",
       "0   1  0.50  1.420143\n",
       "1   2  0.55  1.489844\n",
       "2   3  0.60  1.558532\n",
       "3   4  0.65  1.616913\n",
       "4   5  0.70  1.686200\n",
       "5   6  0.75  1.744047\n",
       "6   7  0.80  1.796390\n",
       "7   8  0.85  1.843903\n",
       "8   9  0.90  1.903947\n",
       "9  10  0.95  1.959503"
      ]
     },
     "execution_count": 56,
     "metadata": {},
     "output_type": "execute_result"
    }
   ],
   "source": [
    "df"
   ]
  },
  {
   "cell_type": "code",
   "execution_count": 63,
   "metadata": {
    "ExecuteTime": {
     "end_time": "2019-08-09T01:07:51.977924Z",
     "start_time": "2019-08-09T01:07:51.970440Z"
    }
   },
   "outputs": [],
   "source": [
    "# Vamos adicionar as colunas que faltam:\n",
    "df['T2']=df['T']**2\n",
    "df['LT2'] = df['L']*df['T2']\n",
    "df['L2'] = df['L']*df['L']"
   ]
  },
  {
   "cell_type": "code",
   "execution_count": 65,
   "metadata": {
    "ExecuteTime": {
     "end_time": "2019-08-09T01:15:18.583323Z",
     "start_time": "2019-08-09T01:15:18.572563Z"
    }
   },
   "outputs": [
    {
     "data": {
      "text/html": [
       "<div>\n",
       "<style scoped>\n",
       "    .dataframe tbody tr th:only-of-type {\n",
       "        vertical-align: middle;\n",
       "    }\n",
       "\n",
       "    .dataframe tbody tr th {\n",
       "        vertical-align: top;\n",
       "    }\n",
       "\n",
       "    .dataframe thead th {\n",
       "        text-align: right;\n",
       "    }\n",
       "</style>\n",
       "<table border=\"1\" class=\"dataframe\">\n",
       "  <thead>\n",
       "    <tr style=\"text-align: right;\">\n",
       "      <th></th>\n",
       "      <th>N</th>\n",
       "      <th>L</th>\n",
       "      <th>T</th>\n",
       "      <th>T2</th>\n",
       "      <th>LT2</th>\n",
       "      <th>L2</th>\n",
       "    </tr>\n",
       "  </thead>\n",
       "  <tbody>\n",
       "    <tr>\n",
       "      <th>0</th>\n",
       "      <td>1</td>\n",
       "      <td>0.50</td>\n",
       "      <td>1.420143</td>\n",
       "      <td>2.016806</td>\n",
       "      <td>1.008403</td>\n",
       "      <td>0.2500</td>\n",
       "    </tr>\n",
       "    <tr>\n",
       "      <th>1</th>\n",
       "      <td>2</td>\n",
       "      <td>0.55</td>\n",
       "      <td>1.489844</td>\n",
       "      <td>2.219635</td>\n",
       "      <td>1.220799</td>\n",
       "      <td>0.3025</td>\n",
       "    </tr>\n",
       "    <tr>\n",
       "      <th>2</th>\n",
       "      <td>3</td>\n",
       "      <td>0.60</td>\n",
       "      <td>1.558532</td>\n",
       "      <td>2.429022</td>\n",
       "      <td>1.457413</td>\n",
       "      <td>0.3600</td>\n",
       "    </tr>\n",
       "    <tr>\n",
       "      <th>3</th>\n",
       "      <td>4</td>\n",
       "      <td>0.65</td>\n",
       "      <td>1.616913</td>\n",
       "      <td>2.614407</td>\n",
       "      <td>1.699364</td>\n",
       "      <td>0.4225</td>\n",
       "    </tr>\n",
       "    <tr>\n",
       "      <th>4</th>\n",
       "      <td>5</td>\n",
       "      <td>0.70</td>\n",
       "      <td>1.686200</td>\n",
       "      <td>2.843271</td>\n",
       "      <td>1.990290</td>\n",
       "      <td>0.4900</td>\n",
       "    </tr>\n",
       "    <tr>\n",
       "      <th>5</th>\n",
       "      <td>6</td>\n",
       "      <td>0.75</td>\n",
       "      <td>1.744047</td>\n",
       "      <td>3.041701</td>\n",
       "      <td>2.281276</td>\n",
       "      <td>0.5625</td>\n",
       "    </tr>\n",
       "    <tr>\n",
       "      <th>6</th>\n",
       "      <td>7</td>\n",
       "      <td>0.80</td>\n",
       "      <td>1.796390</td>\n",
       "      <td>3.227017</td>\n",
       "      <td>2.581614</td>\n",
       "      <td>0.6400</td>\n",
       "    </tr>\n",
       "    <tr>\n",
       "      <th>7</th>\n",
       "      <td>8</td>\n",
       "      <td>0.85</td>\n",
       "      <td>1.843903</td>\n",
       "      <td>3.399978</td>\n",
       "      <td>2.889981</td>\n",
       "      <td>0.7225</td>\n",
       "    </tr>\n",
       "    <tr>\n",
       "      <th>8</th>\n",
       "      <td>9</td>\n",
       "      <td>0.90</td>\n",
       "      <td>1.903947</td>\n",
       "      <td>3.625014</td>\n",
       "      <td>3.262512</td>\n",
       "      <td>0.8100</td>\n",
       "    </tr>\n",
       "    <tr>\n",
       "      <th>9</th>\n",
       "      <td>10</td>\n",
       "      <td>0.95</td>\n",
       "      <td>1.959503</td>\n",
       "      <td>3.839653</td>\n",
       "      <td>3.647670</td>\n",
       "      <td>0.9025</td>\n",
       "    </tr>\n",
       "  </tbody>\n",
       "</table>\n",
       "</div>"
      ],
      "text/plain": [
       "    N     L         T        T2       LT2      L2\n",
       "0   1  0.50  1.420143  2.016806  1.008403  0.2500\n",
       "1   2  0.55  1.489844  2.219635  1.220799  0.3025\n",
       "2   3  0.60  1.558532  2.429022  1.457413  0.3600\n",
       "3   4  0.65  1.616913  2.614407  1.699364  0.4225\n",
       "4   5  0.70  1.686200  2.843271  1.990290  0.4900\n",
       "5   6  0.75  1.744047  3.041701  2.281276  0.5625\n",
       "6   7  0.80  1.796390  3.227017  2.581614  0.6400\n",
       "7   8  0.85  1.843903  3.399978  2.889981  0.7225\n",
       "8   9  0.90  1.903947  3.625014  3.262512  0.8100\n",
       "9  10  0.95  1.959503  3.839653  3.647670  0.9025"
      ]
     },
     "execution_count": 65,
     "metadata": {},
     "output_type": "execute_result"
    }
   ],
   "source": [
    "df"
   ]
  },
  {
   "cell_type": "code",
   "execution_count": null,
   "metadata": {},
   "outputs": [],
   "source": [
    "# Fornece informações a respeito dos dados\n",
    "df.describe()"
   ]
  },
  {
   "cell_type": "code",
   "execution_count": 66,
   "metadata": {
    "ExecuteTime": {
     "end_time": "2019-08-09T01:16:48.946166Z",
     "start_time": "2019-08-09T01:16:48.925143Z"
    }
   },
   "outputs": [],
   "source": [
    "# Vamos exportar essa tabela organizada para um arquivo csv\n",
    "Nome='Tabela_Final.csv'\n",
    "df.to_csv(Nome, sep='\\t')"
   ]
  },
  {
   "cell_type": "code",
   "execution_count": 67,
   "metadata": {
    "ExecuteTime": {
     "end_time": "2019-08-09T01:17:05.528462Z",
     "start_time": "2019-08-09T01:17:05.413936Z"
    }
   },
   "outputs": [
    {
     "name": "stdout",
     "output_type": "stream",
     "text": [
      "\tN\tL\tT\tT2\tLT2\tL2\r\n",
      "0\t1\t0.5\t1.4201427937299673\t2.0168055545831565\t1.0084027772915782\t0.25\r\n",
      "1\t2\t0.55\t1.4898440802842614\t2.2196353835580567\t1.2207994609569313\t0.30250000000000005\r\n",
      "2\t3\t0.6\t1.5585318459982591\t2.4290215149907413\t1.4574129089944448\t0.36\r\n",
      "3\t4\t0.65\t1.616912762409664\t2.6144068812432506\t1.699364472808113\t0.42250000000000004\r\n",
      "4\t5\t0.7\t1.686200129119267\t2.8432708754418328\t1.9902896128092828\t0.48999999999999994\r\n",
      "5\t6\t0.75\t1.7440473673135932\t3.0417012194334756\t2.2812759145751067\t0.5625\r\n",
      "6\t7\t0.8\t1.7963900482284043\t3.227017205374049\t2.5816137642992394\t0.6400000000000001\r\n",
      "7\t8\t0.85\t1.8439029181233542\t3.3999779714638207\t2.8899812757442476\t0.7224999999999999\r\n",
      "8\t9\t0.9\t1.903946862255491\t3.6250136542925295\t3.2625122888632765\t0.81\r\n",
      "9\t10\t0.95\t1.959503245443276\t3.8396529689027314\t3.647670320457595\t0.9025\r\n"
     ]
    }
   ],
   "source": [
    "! cat Tabela_Final.csv"
   ]
  },
  {
   "cell_type": "code",
   "execution_count": 82,
   "metadata": {
    "ExecuteTime": {
     "end_time": "2019-08-09T02:22:03.940990Z",
     "start_time": "2019-08-09T02:22:03.934375Z"
    }
   },
   "outputs": [],
   "source": [
    "# Vamos calcular as somas:\n",
    "SL=df['L'].sum()\n",
    "SL2=df['L2'].sum()\n",
    "SLT2=df['LT2'].sum()\n",
    "ST2=df['T2'].sum()"
   ]
  },
  {
   "cell_type": "code",
   "execution_count": 83,
   "metadata": {
    "ExecuteTime": {
     "end_time": "2019-08-09T02:22:05.963643Z",
     "start_time": "2019-08-09T02:22:05.957953Z"
    }
   },
   "outputs": [
    {
     "name": "stdout",
     "output_type": "stream",
     "text": [
      "0.013846600321578466 4.016280996699014\n"
     ]
    }
   ],
   "source": [
    "A = (SL2*ST2-SL*SLT2)/(nc*SL2-SL*SL)\n",
    "B = (nc*SLT2-SL*ST2)/(nc*SL2-SL*SL)\n",
    "print(A, B)"
   ]
  },
  {
   "cell_type": "markdown",
   "metadata": {},
   "source": [
    "A reta que estamos procurando erá:\n",
    "\n",
    "$$\n",
    "T^2 (L) = A + B*L\n",
    "$$"
   ]
  },
  {
   "cell_type": "code",
   "execution_count": 68,
   "metadata": {
    "ExecuteTime": {
     "end_time": "2019-08-09T01:21:35.019432Z",
     "start_time": "2019-08-09T01:21:35.015196Z"
    }
   },
   "outputs": [],
   "source": [
    "# Vamos primeiro vfazer um ajuste com a scipy\n",
    "from scipy.optimize import curve_fit\n",
    "\n",
    "def Reta(t, a, b):\n",
    "    return a + b*t "
   ]
  },
  {
   "cell_type": "code",
   "execution_count": 84,
   "metadata": {
    "ExecuteTime": {
     "end_time": "2019-08-09T02:23:15.095733Z",
     "start_time": "2019-08-09T02:23:15.085523Z"
    }
   },
   "outputs": [
    {
     "name": "stdout",
     "output_type": "stream",
     "text": [
      "Coeficientes do ajuste:  [0.0138466 4.016281 ]\n",
      "Coeficientes da Regressão Linear):  0.013846600321578466 4.016280996699014\n",
      "\n",
      "Matriz de Covariância:\n",
      " [[ 0.00053733 -0.00071316]\n",
      " [-0.00071316  0.00098367]]\n"
     ]
    }
   ],
   "source": [
    "l = np.array(Comprimentos)\n",
    "p = df['T2'].to_numpy()\n",
    "fitParams, fitCovariances = curve_fit(Reta, l, p)\n",
    "print ('Coeficientes do ajuste: ', fitParams)\n",
    "print ('Coeficientes da Regressão Linear): ', A, B)\n",
    "print ('\\nMatriz de Covariância:\\n', fitCovariances)"
   ]
  },
  {
   "cell_type": "code",
   "execution_count": 85,
   "metadata": {
    "ExecuteTime": {
     "end_time": "2019-08-09T02:23:31.527996Z",
     "start_time": "2019-08-09T02:23:31.227872Z"
    }
   },
   "outputs": [
    {
     "data": {
      "image/png": "[encoded data removed]",
      "text/plain": [
       "<Figure size 720x432 with 1 Axes>"
      ]
     },
     "metadata": {
      "needs_background": "light"
     },
     "output_type": "display_data"
    },
    {
     "data": {
      "text/plain": [
       "<Figure size 432x288 with 0 Axes>"
      ]
     },
     "metadata": {},
     "output_type": "display_data"
    }
   ],
   "source": [
    "largura = 10  # Largura da figura\n",
    "altura  = 6   # Altura da figura\n",
    "plt.figure(figsize =(largura, altura))     # Define o tamanho do gráfico\n",
    "#plt.figure(figsize =(largura, altura), tight_layout=True)     # Define o tamanho do gráfico\n",
    "\n",
    "plt.xlabel('L (m)', fontsize = 16)\n",
    "plt.ylabel('T2 (s2)', fontsize = 16)\n",
    "plt.title('O período quadrado em função do comprimento', fontsize=16, color='r')\n",
    "\n",
    "\n",
    "#plt.xlim(0,4.1)\n",
    "# Faz o gráfico dos dados como círculos vermelhos e com barras de erro verticais\n",
    "plt.errorbar(l, p, fmt = 'ro', yerr = 0.2)\n",
    "# agora o gráfico da curva de melhor ajuste e também as curvas sigma +- 1 \n",
    "# (A raiz quadrada do elemento da diagonal da matriz de covariância é a \n",
    "#  incerteza no parâmetro de ajuste.)\n",
    "sigma = [np.sqrt(fitCovariances[0,0]), \\\n",
    "         np.sqrt(fitCovariances[1,1]) ]\n",
    "plt.plot(l, Reta(l, fitParams[0], fitParams[1]),\\\n",
    "         l, Reta(l, fitParams[0] + sigma[0], fitParams[1] - sigma[1]),\\\n",
    "         l, Reta(l, fitParams[0] - sigma[0], fitParams[1] + sigma[1]) \\\n",
    "         )\n",
    "plt.show()\n",
    "# Salvar um gráfico em um arquivo\n",
    "plt.savefig('DataFitted.pdf', bbox_inches=0, dpi=600)"
   ]
  },
  {
   "cell_type": "code",
   "execution_count": null,
   "metadata": {},
   "outputs": [],
   "source": []
  }
 ],
 "metadata": {
  "kernelspec": {
   "display_name": "Python 3",
   "language": "python",
   "name": "python3"
  },
  "language_info": {
   "codemirror_mode": {
    "name": "ipython",
    "version": 3
   },
   "file_extension": ".py",
   "mimetype": "text/x-python",
   "name": "python",
   "nbconvert_exporter": "python",
   "pygments_lexer": "ipython3",
   "version": "3.6.8"
  },
  "latex_envs": {
   "LaTeX_envs_menu_present": true,
   "autoclose": false,
   "autocomplete": false,
   "bibliofile": "biblio.bib",
   "cite_by": "apalike",
   "current_citInitial": 1,
   "eqLabelWithNumbers": true,
   "eqNumInitial": 1,
   "hotkeys": {
    "equation": "Ctrl-E",
    "itemize": "Ctrl-I"
   },
   "labels_anchors": false,
   "latex_user_defs": false,
   "report_style_numbering": false,
   "user_envs_cfg": false
  },
  "nbTranslate": {
   "displayLangs": [
    "*"
   ],
   "hotkey": "alt-t",
   "langInMainMenu": true,
   "sourceLang": "en",
   "targetLang": "fr",
   "useGoogleTranslate": true
  },
  "toc": {
   "base_numbering": 1,
   "nav_menu": {},
   "number_sections": true,
   "sideBar": true,
   "skip_h1_title": false,
   "title_cell": "Table of Contents",
   "title_sidebar": "Contents",
   "toc_cell": false,
   "toc_position": {},
   "toc_section_display": true,
   "toc_window_display": false
  },
  "varInspector": {
   "cols": {
    "lenName": 16,
    "lenType": 16,
    "lenVar": 40
   },
   "kernels_config": {
    "python": {
     "delete_cmd_postfix": "",
     "delete_cmd_prefix": "del ",
     "library": "var_list.py",
     "varRefreshCmd": "print(var_dic_list())"
    },
    "r": {
     "delete_cmd_postfix": ") ",
     "delete_cmd_prefix": "rm(",
     "library": "var_list.r",
     "varRefreshCmd": "cat(var_dic_list()) "
    }
   },
   "types_to_exclude": [
    "module",
    "function",
    "builtin_function_or_method",
    "instance",
    "_Feature"
   ],
   "window_display": false
  }
 },
 "nbformat": 4,
 "nbformat_minor": 2
}
