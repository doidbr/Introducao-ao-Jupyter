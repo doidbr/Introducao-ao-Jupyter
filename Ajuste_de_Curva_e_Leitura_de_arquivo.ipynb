{
 "cells": [
  {
   "cell_type": "markdown",
   "metadata": {},
   "source": [
    "# Ajuste de Curvas (Fitting) usando a SciPy"
   ]
  },
  {
   "cell_type": "markdown",
   "metadata": {},
   "source": [
    "Uma das tarefas comuns mais importantes que um físico (e até mesmo químicos) tem que fazer é a de ajustar os dados experimentais em um modelo teórico. Neste Notebook, no primeiro exemplo mostra-se como fazer o ajuste de dados em um modelo teórico e o segundo exemplo ilustra uma das armadilhas comuns na montagem de curva (não convergente para um ajuste aceitável) e como remediar a situação.\n",
    "\n",
    "Não iremos lidar com a leitura de um arquivo de dados neste Notebook (apenas para que possamos nos concentrar no ajuste da curva), serão gerados alguns dados falsos, adicionando ruído aleatório a uma função analítica. Esta função é, na verdade, nossa função modelo para ajustar nossos dados. Quando se ajusta os dados de um experimento real, é necessário usar um função personalizada  apropriada ao modelo teórico que descreve o experimento e a função `curve_fit` da SciPy irá usar essa função para ajustar seus dados.\n",
    "\n",
    "Então, aqui estão as bibliotecas necessárias e nossa função de modelagem (que também será usada para gerar dados falsos):\n",
    "\n",
    "[//]: \\begin{equation}\n",
    "i \\hbar \\frac{\\partial \\psi}{\\partial t} = H \\psi\n",
    "\\end{equation}\n",
    "\n"
   ]
  },
  {
   "cell_type": "code",
   "execution_count": null,
   "metadata": {
    "ExecuteTime": {
     "start_time": "2019-03-04T16:17:53.814Z"
    }
   },
   "outputs": [],
   "source": [
    "%matplotlib inline"
   ]
  },
  {
   "cell_type": "code",
   "execution_count": null,
   "metadata": {
    "ExecuteTime": {
     "end_time": "2019-05-02T19:55:46.292125Z",
     "start_time": "2019-05-02T19:55:45.093814Z"
    }
   },
   "outputs": [],
   "source": [
    "import numpy as np\n",
    "import matplotlib.pyplot as plt\n",
    "from scipy.optimize import curve_fit\n",
    "\n",
    "def fitFunc(t, a, b, c):\n",
    "    return a*np.exp(-b*t) + c\n"
   ]
  },
  {
   "cell_type": "markdown",
   "metadata": {},
   "source": [
    "Agora criamos\n",
    "\n",
    "- (1) uma matriz numpy (t) com 50 pontos espaçados linearmente entre 0 e 4,\n",
    "- (2) uma matriz numpy (temp) com 50 temperaturas usando a = 5.0, b = 1.5 e c = 0.5\n",
    "- (3) uma matriz numpy (ruídosa) com ruído gaussiano adicionado à  matriz da temperatura e, então, usamos a função da SciPy `curve_fit` para encontrar os melhores parâmetros de ajuste da função fitFunc; Os retornos da função `curve_fit` são a matriz de coeficientes de ajuste e uma matriz de covariâncias de ajuste (as diagonais dos quais são os quadrados das incertezas de 1 sigma nos coeficientes de ajuste):"
   ]
  },
  {
   "cell_type": "code",
   "execution_count": null,
   "metadata": {
    "ExecuteTime": {
     "end_time": "2019-05-02T19:55:59.416842Z",
     "start_time": "2019-05-02T19:55:59.326041Z"
    }
   },
   "outputs": [],
   "source": [
    "t0 = 0\n",
    "tf = 4\n",
    "N  = 51  # Numero de pontos\n",
    "t = np.linspace(t0,tf,N)\n",
    "temp = fitFunc(t, 5.0, 1.5, 0.5) # função\n",
    "ruido = temp + 0.25*np.random.normal(size=len(temp))\n",
    "fitParams, fitCovariances = curve_fit(fitFunc, t, ruido)\n",
    "print ('Coeficientes do ajuste:\\n', fitParams)\n",
    "print ('Matriz de Covariância:\\n', fitCovariances)"
   ]
  },
  {
   "cell_type": "markdown",
   "metadata": {},
   "source": [
    "Aqui está um gráfico dos dados (falso) e o melhor ajuste:"
   ]
  },
  {
   "cell_type": "code",
   "execution_count": null,
   "metadata": {
    "ExecuteTime": {
     "end_time": "2019-05-02T19:56:03.718930Z",
     "start_time": "2019-05-02T19:56:03.388688Z"
    }
   },
   "outputs": [],
   "source": [
    "largura = 10  # Largura da figura\n",
    "altura  = 6   # Altura da figura\n",
    "plt.figure(figsize =(largura, altura))     # Define o tamanho do gráfico\n",
    "\n",
    "plt.ylabel('Temperatura (C)', fontsize = 16)\n",
    "plt.xlabel('tempo (s)', fontsize = 16)\n",
    "plt.xlim(0,4.1)\n",
    "# Faz o gráfico dos dados como círculos vermelhos e com barras de erro verticais\n",
    "plt.errorbar(t, ruido, fmt = 'ro', yerr = 0.2)\n",
    "# agora o gráfico da curva de melhor ajuste e também as curvas sigma +- 1 \n",
    "# (A raiz quadrada do elemento da diagonal da matriz de covariância é a \n",
    "#  incerteza no parâmetro de ajuste.)\n",
    "sigma = [np.sqrt(fitCovariances[0,0]), \\\n",
    "         np.sqrt(fitCovariances[1,1]), \\\n",
    "         np.sqrt(fitCovariances[2,2]) ]\n",
    "plt.plot(t, fitFunc(t, fitParams[0], fitParams[1], fitParams[2]),\\\n",
    "         t, fitFunc(t, fitParams[0] + sigma[0], fitParams[1] - sigma[1], fitParams[2] + sigma[2]),\\\n",
    "         t, fitFunc(t, fitParams[0] - sigma[0], fitParams[1] + sigma[1], fitParams[2] - sigma[2])\\\n",
    "         )\n",
    "plt.show()\n",
    "# Salvar um gráfico em um arquivo\n",
    "plt.savefig('dataFitted.pdf', bbox_inches=0, dpi=600)"
   ]
  },
  {
   "cell_type": "markdown",
   "metadata": {},
   "source": [
    "# Outro exemplo com hipótese iniciais para parâmetros de ajuste"
   ]
  },
  {
   "cell_type": "markdown",
   "metadata": {},
   "source": [
    "A função `curve_fit` da SciPy usa valores de 1.0 como *chutes iniciais* para os parâmetros de ajuste. Isso funcionou bem no problema anterior, mas, às vezes, é confrontado com uma situação em que o ajuste não converge, e neste caso, você (como o usuário inteligente) deve fornecer uma estimativa inteligente para um ponto de partida.\n",
    "\n",
    "Aqui eu defino alguns dados igualmente espaçados no tempo, e uma série de termperaturas que esperamos encaixar em um exponencial que remanesce de um capacitor de carga. Eu levo essa variedade de temperaturas e adiciono algum ruído aleatório e também define barras de erro nos valores de duração: \n"
   ]
  },
  {
   "cell_type": "code",
   "execution_count": null,
   "metadata": {
    "ExecuteTime": {
     "end_time": "2019-05-02T20:03:18.737689Z",
     "start_time": "2019-05-02T20:03:18.728498Z"
    }
   },
   "outputs": [],
   "source": [
    "def cap(x, a, b):\n",
    "    return a*(1.0-np.exp(b*x))\n",
    "t = np.linspace(0.4,2.0, 9)\n",
    "#temps = cap(t,25,-2)\n",
    "temps = np.array([13.76, 17.47, 19.95, 21.62, 22.73, 23.48, 23.98, 24.32, 24.54])\n",
    "temps = temps + 0.4*np.random.normal(size=len(temps))\n",
    "dTemps = np.array([1.2, 0.9, 1.0, 0.8, 0.7, 0.7, 0.6, 0.5, 0.5])"
   ]
  },
  {
   "cell_type": "code",
   "execution_count": null,
   "metadata": {},
   "outputs": [],
   "source": [
    "# Se você executar este código, não funcionará. Olhe a mensagem de erro resultante:\n",
    "fitParams, fitCovariances = curve_fit(cap, t, temps)\n",
    "print (fitParams)\n",
    "print (fitCovariances)"
   ]
  },
  {
   "cell_type": "markdown",
   "metadata": {},
   "source": [
    "Agora eu adiciono algumas hipóteses iniciais para a e b; Observe o ajuste agora funciona bem (pense em p0 como uma matriz de valores de parâmetro em t = 0):"
   ]
  },
  {
   "cell_type": "code",
   "execution_count": null,
   "metadata": {
    "ExecuteTime": {
     "end_time": "2018-11-09T10:00:21.687786Z",
     "start_time": "2018-11-09T10:00:21.680029Z"
    }
   },
   "outputs": [],
   "source": [
    "fitParams, fitCovariances = curve_fit(cap, t, temps, p0 = [25.0, -1.0])\n",
    "print ('Coeficientes do ajuste:\\n', fitParams)\n",
    "print ('Matriz de Covariância:\\n', fitCovariances)"
   ]
  },
  {
   "cell_type": "code",
   "execution_count": null,
   "metadata": {
    "ExecuteTime": {
     "end_time": "2018-11-09T10:00:30.292471Z",
     "start_time": "2018-11-09T10:00:30.099091Z"
    }
   },
   "outputs": [],
   "source": [
    "largura = 10  # Largura da figura\n",
    "altura  = 6  # Altura da figura\n",
    "plt.figure(figsize =(largura, altura))     # Define o tamanho do gráfico\n",
    "#\n",
    "plt.ylabel('Temperatura (C)', fontsize = 16)\n",
    "plt.xlabel('tempo (s)', fontsize = 16)\n",
    "plt.xlim(0,2.2)\n",
    "plt.ylim(12, 26)\n",
    "plt.errorbar(t, temps, yerr = dTemps, xerr = 0.1, fmt='ro')\n",
    "plt.plot(t, cap(t, fitParams[0], fitParams[1]),\n",
    "     t, cap(t, fitParams[0] + np.sqrt(fitCovariances[0,0]), fitParams[1] - np.sqrt(fitCovariances[1,1])),\n",
    "     t, cap(t, fitParams[0] - np.sqrt(fitCovariances[0,0]), fitParams[1] + np.sqrt(fitCovariances[1,1]))\n",
    "     )\n",
    "plt.show()"
   ]
  },
  {
   "cell_type": "markdown",
   "metadata": {
    "collapsed": true
   },
   "source": [
    "# Numpy Ajuste de Cuvas com Incertezas de $1\\sigma$ e $3\\sigma$ "
   ]
  },
  {
   "cell_type": "markdown",
   "metadata": {
    "collapsed": true
   },
   "source": [
    "Agora será criado um ruído em cima de uma decomposição exponencial (que é tratada como dados falsos), usa a função `curve_fit` da Scipy para encontrar os melhores valores de ajuste e incertezas associadas. Então, cria-se todos os 8 únicos e possíveis ajustes permitidos pelas 3 parâmetros $\\pm$ incertezas, calcula-se o desvio padrão de seus valores em cada tempo (eixo dos x) e usa-se isso para fazer o gráfico barras de erro de $1\\sigma$ e $3\\sigma$ das curvas para ajudar o usuário a visualizar a incerteza sobre o ajuste."
   ]
  },
  {
   "cell_type": "code",
   "execution_count": null,
   "metadata": {
    "ExecuteTime": {
     "end_time": "2018-11-09T10:00:34.414025Z",
     "start_time": "2018-11-09T10:00:34.403629Z"
    }
   },
   "outputs": [],
   "source": [
    "import numpy as np\n",
    "import matplotlib.pyplot as plt\n",
    "from scipy.optimize import curve_fit\n",
    "\n",
    "def func(x, a, b, c):\n",
    "    return a*np.exp(-b*x) + c\n",
    "\n",
    "# O usuário fornece o código LaTeX para a função para uso posterior:\n",
    "fitEquation = r\"$\\displaystyle\\mathrm{fit}(t) =  a e^{-b t} + c$\"\n",
    "\n",
    "N=100\n",
    "x = np.linspace(0,4, N)       ## foi usado arbitrariamente N = 100 pontos\n",
    "dx = (max(x) - min(x))/N\n",
    "y = func(x, 2.5, 1.3, 0.5)    # função base\n",
    "yn = y + 0.2*np.random.normal(size=len(x))  # adicionando o ruído \n",
    "# ajuste da curva\n",
    "popt, pcov = curve_fit(func, x, yn)  # popt = Parâmetros ótimos para o ajuste; Matriz de Covariância\n",
    "\n",
    "# sqrt(elementos diagonais ) de pcov são desvios de 1 sigma \n",
    "sigma = np.sqrt([pcov[0,0], pcov[1,1], pcov[2,2]])\n",
    "\n",
    "print ('Coeficientes do ajuste:\\n', popt)\n",
    "print ('Matriz de Covariância: \\n', pcov)\n"
   ]
  },
  {
   "cell_type": "markdown",
   "metadata": {},
   "source": [
    "A próxima célula é grosseira, e eu só queria uma resposta.\n",
    "\n",
    "(TODO :) Sem dúvida, eu poderia generalizar este código para que ele olhasse a quantidade de parâmetros na função de ajuste fornecida pelo usuário, e então resolver todas as possibilidades combinatórias para curvas de ajuste."
   ]
  },
  {
   "cell_type": "code",
   "execution_count": null,
   "metadata": {
    "ExecuteTime": {
     "end_time": "2018-11-09T10:00:37.863309Z",
     "start_time": "2018-11-09T10:00:37.853135Z"
    }
   },
   "outputs": [],
   "source": [
    "valores = np.array([\n",
    "    func(x, popt[0] + sigma[0], popt[1] + sigma[1], popt[2] + sigma[2]), \n",
    "    func(x, popt[0] + sigma[0], popt[1] - sigma[1], popt[2] + sigma[2]),   \n",
    "    func(x, popt[0] + sigma[0], popt[1] + sigma[1], popt[2] - sigma[2]), \n",
    "    func(x, popt[0] + sigma[0], popt[1] - sigma[1], popt[2] - sigma[2]), \n",
    "    func(x, popt[0] - sigma[0], popt[1] + sigma[1], popt[2] + sigma[2]), \n",
    "    func(x, popt[0] - sigma[0], popt[1] - sigma[1], popt[2] + sigma[2]),\n",
    "    func(x, popt[0] - sigma[0], popt[1] + sigma[1], popt[2] - sigma[2]), \n",
    "    func(x, popt[0] - sigma[0], popt[1] - sigma[1], popt[2] - sigma[2]) \n",
    "    ])"
   ]
  },
  {
   "cell_type": "code",
   "execution_count": null,
   "metadata": {
    "ExecuteTime": {
     "end_time": "2018-11-09T10:00:40.131916Z",
     "start_time": "2018-11-09T10:00:40.124763Z"
    }
   },
   "outputs": [],
   "source": [
    "#print (valores)\n",
    "print (valores[ : ,0])"
   ]
  },
  {
   "cell_type": "markdown",
   "metadata": {},
   "source": [
    "A seguir o erro de ajuste representa o desvio padrão de todos os possíveis ajustes $\\pm$ incerteza dos valores em cada posição x. Pode-se imaginar obter os desvios mínimos e máximos possíveis, mas este é um comando de uma linha que é bastante simples e rápido."
   ]
  },
  {
   "cell_type": "code",
   "execution_count": null,
   "metadata": {
    "ExecuteTime": {
     "end_time": "2018-11-09T10:00:43.839764Z",
     "start_time": "2018-11-09T10:00:43.836496Z"
    }
   },
   "outputs": [],
   "source": [
    "#print (fitError)\n",
    "fitError = np.std(valores, axis=0)"
   ]
  },
  {
   "cell_type": "code",
   "execution_count": null,
   "metadata": {
    "ExecuteTime": {
     "end_time": "2018-11-09T10:00:48.512147Z",
     "start_time": "2018-11-09T10:00:46.316761Z"
    },
    "scrolled": false
   },
   "outputs": [],
   "source": [
    "from matplotlib.ticker import MaxNLocator\n",
    "\n",
    "nSigma = 3\n",
    "plt.rc('text', usetex=True)\n",
    "plt.rc('font', family='serif')\n",
    "plt.rc('xtick', labelsize=20) \n",
    "plt.rc('ytick', labelsize=20)\n",
    "plt.rcParams['xtick.major.pad'] = 10\n",
    "plt.rcParams['ytick.major.pad'] = 10\n",
    "\n",
    "fig = plt.figure(figsize=(12,8), dpi=100, facecolor='w', edgecolor='k')\n",
    "ax = fig.add_subplot(111)\n",
    "ax.xaxis.labelpad = 20\n",
    "ax.yaxis.labelpad = 20\n",
    "curveFit = func(x,popt[0], popt[1], popt[2] )\n",
    "plt.plot(x, yn, 'o')\n",
    "#plt.hold(True)\n",
    "plt.plot(x, curveFit, \n",
    "    linewidth=2.5, \n",
    "    color = 'green',\n",
    "    alpha = 0.6,\n",
    "    label = fitEquation)\n",
    "\n",
    "plt.bar(x, \n",
    "    height = 2*nSigma*fitError,  \n",
    "    width=dx, \n",
    "    bottom = curveFit - nSigma*fitError, \n",
    "    orientation = 'vertical', \n",
    "    alpha=0.2, \n",
    "    color = 'purple',\n",
    "    edgecolor = None,\n",
    "    label = r\"$\\mathrm{Barras\\;\\;de\\;\\;erros\\;\\;de\\;}\\displaystyle \\pm 3\\sigma$\")\n",
    "\n",
    "plt.plot(x, curveFit+fitError, \n",
    "    linewidth = 1.0, \n",
    "    alpha = 0.8, \n",
    "    color = 'red',\n",
    "    label = r\"Erro de $\\pm 1\\sigma$\")\n",
    "\n",
    "plt.plot(x, curveFit-fitError, \n",
    "    linewidth = 1.0, \n",
    "    alpha = 0.8, \n",
    "    color = 'red')\n",
    "props = dict(boxstyle='round', facecolor='wheat', alpha=0.2)\n",
    "plt.text(2.8, 1.2, \n",
    "    (\"$\\mathrm{Valores\\;\\;da\\;\\;curva\\;\\;ajustada:\\;}$\\n a = %.3f\\t $\\pm$ %.3f\\n b = %.3f\\t $\\pm$ %.3f \\n c = %.3f\\t $\\pm$ %.3f\" \n",
    "    % (popt[0], sigma[0], popt[1], sigma[1], popt[2], sigma[2])), fontsize=16,bbox=props )\n",
    "plt.xlabel(r'\\textrm{tempo (s)}', fontsize=24)\n",
    "plt.ylabel(r'\\textrm{temperatura (K)}',fontsize=24)\n",
    "plt.title(r\"Ajuste exponencial com erros de $\\pm 1\\sigma$ e $\\pm 3\\sigma$\",\n",
    "      fontsize=28, color='k')\n",
    "ax.legend(fontsize=18)\n",
    "plt.gca().xaxis.set_major_locator(MaxNLocator(prune='lower'))\n",
    "plt.savefig('3sigmaPlot.pdf', figsize=(6,4), dpi=600)\n",
    "plt.show()"
   ]
  },
  {
   "cell_type": "markdown",
   "metadata": {},
   "source": [
    "## Exemplo"
   ]
  },
  {
   "cell_type": "code",
   "execution_count": null,
   "metadata": {
    "ExecuteTime": {
     "end_time": "2018-11-09T10:00:57.405899Z",
     "start_time": "2018-11-09T10:00:57.142851Z"
    }
   },
   "outputs": [],
   "source": [
    "import numpy as np\n",
    "from matplotlib import pyplot as plt\n",
    "from matplotlib.ticker import MaxNLocator\n",
    "\n",
    "plt.figure(figsize=(12,8))\n",
    "plt.imshow( np.random.random((100,100)))\n",
    "plt.gca().xaxis.set_major_locator( MaxNLocator(nbins = 7, prune = 'lower') )\n",
    "plt.gca().yaxis.set_major_locator( MaxNLocator(nbins = 6) )\n",
    "cbar = plt.colorbar()\n",
    "cbar.locator = MaxNLocator( nbins = 6)\n",
    "plt.show()"
   ]
  },
  {
   "cell_type": "markdown",
   "metadata": {},
   "source": [
    "# Leitura e Escrita de Arquivos de dados"
   ]
  },
  {
   "cell_type": "markdown",
   "metadata": {},
   "source": [
    "Aqui está um programa que\n",
    "\n",
    "1. grava algum texto em um arquivo com o nome `texto.txt`,\n",
    "\n",
    "2. e depois lê o texto novamente e\n",
    "\n",
    "3. imprime-o na tela.\n",
    "\n",
    "\n",
    "<!-- -->\n",
    "\n",
    "\n",
    "Os dados armazenados no arquivo `texto.txt` são:\n",
    "\n",
    "```\n",
    "Escrevendo um texto para o arquivo. Essa é a primeira linha do arquivo.\n",
    "Já essa é a segunda linha do arquivo.\n",
    "```\n",
    "\n",
    "Em mais detalhes, você abriu um arquivo com o comando `open` e atribuiu esse objeto de arquivo aberto à variável `out_file`. Em seguida, escrevemos dados para o arquivo usando o método `out_file.write`. Observe que no exemplo acima, damos uma string ao método `write`. Podemos, é claro, usar toda a formatação que discutimos anteriormente - veja [Impressão formatada](#IO-imp-form) e [Novo estilo de formatar string](#IO-form-str-new). Por exemplo, para gravar este arquivo com a tabela de nomes `tabela.txt`, podemos usar este programa Python. É uma boa prática fechar `close()` os arquivos quando concluímos a sua leitura e a escrita. Se um programa Python for deixado de forma controlada (ou seja, não através de um corte de energia ou de um erro improvável no idioma Python ou no sistema operacional), ele fechará todos os arquivos abertos assim que os objetos do arquivo forem destruídos. No entanto, fechá-los ativamente logo que possível é melhor estilo e o mais seguro.\n",
    "\n",
    "\n",
    "\n",
    "### Exemplo de leitura de arquivos <a name=\"IO-exemp-ler-arq\"></a>\n",
    "\n",
    "\n",
    "Utilizamos um arquivo chamado `meu-arq.txt` contendo as seguintes 3 linhas de texto para os exemplos abaixo:\n",
    "\n",
    "\n",
    "   > Esta é a primeira linha.\n",
    "     Esta é a segunda linha.\n",
    "     Esta é a terceira e última linha.\n",
    "     \n",
    "Vamos abrir ele com o comando `open()`, o qual retorna um objeto de arquivo, e é comumente usado com dois argumentos: `open(nome-do-arquivo, mode)`.\n",
    "\n",
    "O primeiro argumento é uma string contendo o nome do arquivo. O segundo argumento é uma outra string contendo alguns caracteres os quais descrevem a maneira que o arquivo será usado. O modo pode ser `'r'` quando o arquivo só será lido, `'w'` apenas para escrever (um arquivo existente com o mesmo nome será apagado) e `'a'` abre o arquivo para acrescentar; quaisquer dados gravados ao arquivo são automaticamente adicionados ao final. `'r+'` abre o arquivo para leitura e escrita. O argumento mode é opcional; `'r'` será assumido se for omitido.\n",
    "\n",
    "Normalmente, os arquivos são abertos no modo de texto, ou seja, você lê e escreve strings de e para o arquivo, que são codificados em uma codificação específica. Se a codificação não for especificada, o padrão é dependente da plataforma (consulte o manual do comando `open()`). A opção `'b'` anexado ao modo abre o arquivo no modo binário: agora os dados são lidos e escritos sob a forma de objetos bytes. Este modo deve ser usado para todos os arquivos que não contêm texto.\n",
    "\n",
    "No modo de texto, o padrão quando se lê é converter terminais de linha específicos da plataforma (`\\n` no Unix, `\\r\\n` no Windows) para apenas `\\n`. Ao escrever no modo de texto, o padrão é converter ocorrências de `\\n` de volta para terminações de linha específicas da plataforma. Esta modificação nos bastidores dos dados de arquivos é ótima para arquivos de texto, mas corromperá dados binários como os arquivos JPEG ou EXE. Tenha muito cuidado para usar o modo binário ao ler e gravar esses arquivos."
   ]
  },
  {
   "cell_type": "code",
   "execution_count": 1,
   "metadata": {
    "ExecuteTime": {
     "end_time": "2019-07-15T19:58:21.360426Z",
     "start_time": "2019-07-15T19:58:21.338082Z"
    }
   },
   "outputs": [],
   "source": [
    "f = open('Meu_Arquivo.txt', 'w')\n",
    "f.write('Esta é a primeira linha.\\n'\n",
    "        'Esta é a segunda linha.\\n'\n",
    "        'Esta é a terceira e última linha.')\n",
    "f.close()"
   ]
  },
  {
   "cell_type": "code",
   "execution_count": 2,
   "metadata": {
    "ExecuteTime": {
     "end_time": "2019-07-15T19:58:24.413071Z",
     "start_time": "2019-07-15T19:58:24.296434Z"
    }
   },
   "outputs": [
    {
     "name": "stdout",
     "output_type": "stream",
     "text": [
      "Esta é a primeira linha.\r\n",
      "Esta é a segunda linha.\r\n",
      "Esta é a terceira e última linha."
     ]
    }
   ],
   "source": [
    "# Para verificar o conteudo do arquivo\n",
    "!cat Meu_Arquivo.txt"
   ]
  },
  {
   "cell_type": "markdown",
   "metadata": {},
   "source": [
    "#### fileobject.read()\n",
    "\n",
    "O método `fileobject.read()` lê todo o arquivo e o retorna como uma string (incluindo novos caracteres de linha)."
   ]
  },
  {
   "cell_type": "code",
   "execution_count": 3,
   "metadata": {
    "ExecuteTime": {
     "end_time": "2019-07-15T19:58:45.845108Z",
     "start_time": "2019-07-15T19:58:45.840805Z"
    }
   },
   "outputs": [
    {
     "name": "stdout",
     "output_type": "stream",
     "text": [
      "['Esta é a primeira linha.', 'Esta é a segunda linha.', 'Esta é a terceira e última linha.']\n"
     ]
    }
   ],
   "source": [
    "f = open('Meu_Arquivo.txt', 'r')\n",
    "texto=f.read()\n",
    "texto1= texto.split(\"\\n\")\n",
    "print(texto1[:])"
   ]
  },
  {
   "cell_type": "code",
   "execution_count": 4,
   "metadata": {
    "ExecuteTime": {
     "end_time": "2019-07-15T19:58:54.809117Z",
     "start_time": "2019-07-15T19:58:54.805124Z"
    }
   },
   "outputs": [],
   "source": [
    "# Para fechar o arquivo\n",
    "f.close()"
   ]
  },
  {
   "cell_type": "markdown",
   "metadata": {},
   "source": [
    "#### fileobject.readlines()\n",
    "\n",
    "O método `fileobject.readlines()` retorna uma lista de strings, onde cada elemento da lista corresponde a uma linha na string:\n"
   ]
  },
  {
   "cell_type": "code",
   "execution_count": 5,
   "metadata": {
    "ExecuteTime": {
     "end_time": "2019-07-15T19:59:03.285858Z",
     "start_time": "2019-07-15T19:59:03.262495Z"
    }
   },
   "outputs": [
    {
     "data": {
      "text/plain": [
       "['Esta é a primeira linha.\\n',\n",
       " 'Esta é a segunda linha.\\n',\n",
       " 'Esta é a terceira e última linha.']"
      ]
     },
     "execution_count": 5,
     "metadata": {},
     "output_type": "execute_result"
    }
   ],
   "source": [
    "f = open('Meu_Arquivo.txt', 'r')\n",
    "f.readlines()"
   ]
  },
  {
   "cell_type": "code",
   "execution_count": 6,
   "metadata": {
    "ExecuteTime": {
     "end_time": "2019-07-15T19:59:12.265115Z",
     "start_time": "2019-07-15T19:59:12.259472Z"
    }
   },
   "outputs": [],
   "source": [
    "# Para fechar o arquivo\n",
    "f.close()"
   ]
  },
  {
   "cell_type": "markdown",
   "metadata": {},
   "source": [
    "Isso é freqüentemente usado para iterar sobre as linhas e fazer algo com cada linha. Por exemplo:"
   ]
  },
  {
   "cell_type": "code",
   "execution_count": 7,
   "metadata": {
    "ExecuteTime": {
     "end_time": "2019-07-15T19:59:15.906590Z",
     "start_time": "2019-07-15T19:59:15.901514Z"
    }
   },
   "outputs": [
    {
     "name": "stdout",
     "output_type": "stream",
     "text": [
      "25 characters\n",
      "24 characters\n",
      "33 characters\n"
     ]
    }
   ],
   "source": [
    "f = open('Meu_Arquivo.txt', 'r')\n",
    "for line in f.readlines():\n",
    "    print(\"%d characters\" % len(line))\n",
    "f.close()"
   ]
  },
  {
   "cell_type": "markdown",
   "metadata": {},
   "source": [
    "Vamos tratar dados agora, para isso vamos começar criando um subdiretório no sistema"
   ]
  },
  {
   "cell_type": "code",
   "execution_count": null,
   "metadata": {
    "ExecuteTime": {
     "end_time": "2018-11-09T10:11:48.890279Z",
     "start_time": "2018-11-09T10:11:48.777374Z"
    }
   },
   "outputs": [],
   "source": [
    "# Esse comando cria um subdiretório, e ele é específico do linux\n",
    "! mkdir -p Dados"
   ]
  },
  {
   "cell_type": "markdown",
   "metadata": {},
   "source": [
    "Na linha seguinte vou escrever os meus dados em um arquivo `Dados/dados0.dat` no subdiretório `Dados`"
   ]
  },
  {
   "cell_type": "code",
   "execution_count": 8,
   "metadata": {
    "ExecuteTime": {
     "end_time": "2019-07-15T19:59:24.183314Z",
     "start_time": "2019-07-15T19:59:24.164563Z"
    }
   },
   "outputs": [
    {
     "name": "stdout",
     "output_type": "stream",
     "text": [
      "Overwriting dados0.dat\n"
     ]
    }
   ],
   "source": [
    "%%writefile dados0.dat\n",
    "# x   y    erro_x erro_y\n",
    "  1   3     0.5    0.5\n",
    "  4   19    0.5    0.5\n",
    "  6   28    0.5    1.5\n",
    "  12  44    0.5    2.5\n",
    "  20  83    0.5    3.5"
   ]
  },
  {
   "cell_type": "code",
   "execution_count": 11,
   "metadata": {
    "ExecuteTime": {
     "end_time": "2019-07-15T19:59:39.776823Z",
     "start_time": "2019-07-15T19:59:39.664021Z"
    }
   },
   "outputs": [
    {
     "name": "stdout",
     "output_type": "stream",
     "text": [
      "# x   y    erro_x erro_y\r\n",
      "  1   3     0.5    0.5\r\n",
      "  4   19    0.5    0.5\r\n",
      "  6   28    0.5    1.5\r\n",
      "  12  44    0.5    2.5\r\n",
      "  20  83    0.5    3.5\r\n"
     ]
    }
   ],
   "source": [
    "# Verificando o conteúdo do arquivo. Comando específico do linux\n",
    "!cat  dados0.dat"
   ]
  },
  {
   "cell_type": "markdown",
   "metadata": {},
   "source": [
    "Agora vamos ler e fazer um gráfico do arquivo"
   ]
  },
  {
   "cell_type": "code",
   "execution_count": 14,
   "metadata": {
    "ExecuteTime": {
     "end_time": "2019-07-15T20:00:54.753675Z",
     "start_time": "2019-07-15T20:00:54.637969Z"
    }
   },
   "outputs": [
    {
     "name": "stdout",
     "output_type": "stream",
     "text": [
      "dados0.dat\r\n"
     ]
    }
   ],
   "source": [
    "! ls *.dat"
   ]
  },
  {
   "cell_type": "code",
   "execution_count": 12,
   "metadata": {
    "ExecuteTime": {
     "end_time": "2019-07-15T19:59:51.095687Z",
     "start_time": "2019-07-15T19:59:51.086783Z"
    }
   },
   "outputs": [
    {
     "name": "stdout",
     "output_type": "stream",
     "text": [
      "# x   y    erro_x erro_y\n",
      "\n",
      "1 3 0.5 0.5  =>  1 3 0.5 0.5\n",
      "4 19 0.5 0.5  =>  4 19 0.5 0.5\n",
      "6 28 0.5 1.5  =>  6 28 0.5 1.5\n",
      "12 44 0.5 2.5  =>  12 44 0.5 2.5\n",
      "20 83 0.5 3.5  =>  20 83 0.5 3.5\n"
     ]
    }
   ],
   "source": [
    "f = open('dados0.dat', 'r')\n",
    "head0 = f.readline()\n",
    "#linhas = f.readlines()\n",
    "print(head0)\n",
    "linha=[]\n",
    "for i in range(5):\n",
    "    linha = f.readline()\n",
    "    #print(linha)\n",
    "    c = \" \".join(linha.split())\n",
    "    #print(type(c[0]))\n",
    "    l = c.split()\n",
    "    x = int(l[0])\n",
    "    y = int(l[1])\n",
    "    xe = float(l[2])\n",
    "    ye = float(l[3])\n",
    "    print(c,\" => \", x, y, xe, ye)\n",
    "f.close()"
   ]
  },
  {
   "cell_type": "markdown",
   "metadata": {},
   "source": [
    "Uma segunda forma é "
   ]
  },
  {
   "cell_type": "code",
   "execution_count": 13,
   "metadata": {
    "ExecuteTime": {
     "end_time": "2019-07-15T20:00:05.839662Z",
     "start_time": "2019-07-15T20:00:05.834397Z"
    }
   },
   "outputs": [
    {
     "name": "stdout",
     "output_type": "stream",
     "text": [
      "# x   y    erro_x erro_y\n",
      "\n",
      "['1', '3', '0.5', '0.5']\n",
      "['4', '19', '0.5', '0.5']\n",
      "['6', '28', '0.5', '1.5']\n",
      "['12', '44', '0.5', '2.5']\n",
      "['20', '83', '0.5', '3.5']\n"
     ]
    }
   ],
   "source": [
    "f = open('dados0.dat', 'r')\n",
    "head0 = f.readline()\n",
    "#linhas = f.readlines()\n",
    "print(head0)\n",
    "linha=[]\n",
    "for i in range(5):\n",
    "    linha = f.readline()\n",
    "    c = linha.lstrip()\n",
    "    l = c.split()\n",
    "    print(l)\n",
    "f.close()"
   ]
  },
  {
   "cell_type": "markdown",
   "metadata": {},
   "source": [
    "Observe que isso irá ler o arquivo completo em uma lista de strings quando o método `readlines()` é chamado. Isso não é problema se soubermos que o arquivo é pequeno e cabe na memória da máquina.\n",
    "\n",
    "Se assim for, também podemos fechar o arquivo antes de processarmos os dados, por exemplo:"
   ]
  },
  {
   "cell_type": "code",
   "execution_count": null,
   "metadata": {
    "ExecuteTime": {
     "end_time": "2018-11-09T10:19:09.688027Z",
     "start_time": "2018-11-09T10:19:09.681673Z"
    }
   },
   "outputs": [],
   "source": [
    "f = open('Meu_Arquivo.txt', 'r')\n",
    "lines = f.readlines()\n",
    "f.close()\n",
    "for line in lines:\n",
    "    print(\"%d characters\" % len(line))"
   ]
  },
  {
   "cell_type": "markdown",
   "metadata": {},
   "source": [
    "#### Iterando sobre linhas (objeto de arquivo)\n",
    "\n",
    "Existe uma possibilidade mais nítida de ler um arquivo linha a linha, o qual (i) só lerá uma linha de cada vez (e é, portanto, adequado para arquivos grandes também) e (ii) resulta em código mais compacto:\n"
   ]
  },
  {
   "cell_type": "code",
   "execution_count": null,
   "metadata": {
    "ExecuteTime": {
     "end_time": "2018-11-09T10:20:17.666139Z",
     "start_time": "2018-11-09T10:20:17.661406Z"
    }
   },
   "outputs": [],
   "source": [
    "f = open('Meu_Arquivo.txt', 'r')\n",
    "for line in f:\n",
    "    print(\"%d characters\" % len(line))\n",
    "    print(\"%s\" % line)\n",
    "f.close()"
   ]
  },
  {
   "cell_type": "code",
   "execution_count": 15,
   "metadata": {
    "ExecuteTime": {
     "end_time": "2019-07-15T20:04:24.873586Z",
     "start_time": "2019-07-15T20:04:24.863427Z"
    }
   },
   "outputs": [
    {
     "name": "stdout",
     "output_type": "stream",
     "text": [
      "# x   y    erro_x erro_y\n",
      "\n",
      "x =( 1 +/- 0.5 )  e  y = ( 3 +/- 0.5 )\n",
      "x =( 4 +/- 0.5 )  e  y = ( 19 +/- 0.5 )\n",
      "x =( 6 +/- 0.5 )  e  y = ( 28 +/- 1.5 )\n",
      "x =( 12 +/- 0.5 )  e  y = ( 44 +/- 2.5 )\n",
      "x =( 20 +/- 0.5 )  e  y = ( 83 +/- 3.5 )\n"
     ]
    }
   ],
   "source": [
    "f=open('dados0.dat','r')\n",
    "line = f.readline()  # Lê a primeira linha com o cabeçalho\n",
    "print(line)\n",
    "for line in f:\n",
    "    line = line.rstrip() # remove \"\\n\"\n",
    "    c = \" \".join(line.split()) # Remove espaços em brancos extras\n",
    "    (x, y, xe, ye) = c.split(' ') # Separa as colunas da linha\n",
    "    print('x =(',x,'+/-',xe,')  e  y = (',y,'+/-',ye,')')\n",
    "f.close()"
   ]
  },
  {
   "cell_type": "markdown",
   "metadata": {},
   "source": [
    "Aqui, o manipulador de arquivos `f` atua como no iterador e retornará a próxima linha em cada iteração subsequente do loop for até o final do arquivo ser alcançado (e então o loop for é terminado).\n",
    "\n",
    "\n",
    "##### Mais leitura\n",
    "\n",
    "[Methods of File objects, Tutorial, Section 7.2.1](http://docs.python.org/tutorial/inputoutput.html#methods-of-file-objects)"
   ]
  },
  {
   "cell_type": "markdown",
   "metadata": {},
   "source": [
    "## Códigos Para Estrutura e Análise de Dados\n",
    "\n",
    "Vamos gravar os pontos de uma função em um arquivo e depois vamos ler o arquivo e fazer o gráfico dele:"
   ]
  },
  {
   "cell_type": "code",
   "execution_count": null,
   "metadata": {
    "ExecuteTime": {
     "end_time": "2018-11-11T16:21:11.477514Z",
     "start_time": "2018-11-11T16:21:10.453112Z"
    }
   },
   "outputs": [],
   "source": [
    "# permite que se mostre os gráficos nesse ambiente\n",
    "%matplotlib inline "
   ]
  },
  {
   "cell_type": "code",
   "execution_count": null,
   "metadata": {
    "ExecuteTime": {
     "end_time": "2018-11-11T16:21:13.428105Z",
     "start_time": "2018-11-11T16:21:13.418610Z"
    }
   },
   "outputs": [],
   "source": [
    "# Fazendo o gráfico da função\n",
    "import numpy as np                  # obtém acesso aos rápidos arrays da numpy \n",
    "import matplotlib.pyplot as plt     # Para fazer os gráficos das funções\n",
    "\n",
    "# Definindo a função\n",
    "def f(x):\n",
    "    return np.exp(x) - 6*x\n",
    "\n",
    "x0 = -5     # Valor inicial de x\n",
    "xf = 5      # Valor final de x\n",
    "dx = 0.1    # Passo da discretização dx = (xf - x0)/(np-1)\n",
    "\n",
    "x = np.arange(x0, xf, dx)           # cria um vetor de dados x-data\n",
    "y = f(x)                            # calcula o vetor de dados y-data\n",
    "y1 = np.exp(x)\n",
    "\n",
    "n=len(x)\n",
    "\n",
    "print(n)"
   ]
  },
  {
   "cell_type": "code",
   "execution_count": null,
   "metadata": {
    "ExecuteTime": {
     "end_time": "2018-11-09T10:23:52.914036Z",
     "start_time": "2018-11-09T10:23:52.902796Z"
    }
   },
   "outputs": [],
   "source": [
    "# Cria um arquivo de dados sem formatação\n",
    "f = open('Dados1.dat', 'w')\n",
    "for i in range(n):\n",
    "    f.write(str(x[i])+'\\t'+str(y[i])+'\\t'+str(y1[i])+'\\n')\n",
    "f.close()"
   ]
  },
  {
   "cell_type": "code",
   "execution_count": null,
   "metadata": {
    "ExecuteTime": {
     "end_time": "2018-11-09T10:24:23.633585Z",
     "start_time": "2018-11-09T10:24:23.520685Z"
    }
   },
   "outputs": [],
   "source": [
    "# Mostra o conteúdo das primeiras linhas do arquivo\n",
    "!head Dados1.dat"
   ]
  },
  {
   "cell_type": "code",
   "execution_count": null,
   "metadata": {
    "ExecuteTime": {
     "end_time": "2018-11-09T10:24:51.364664Z",
     "start_time": "2018-11-09T10:24:51.252580Z"
    },
    "scrolled": true
   },
   "outputs": [],
   "source": [
    "# Mostra o conteúdo das últimas linhas do arquivo\n",
    "!tail Dados1.dat"
   ]
  },
  {
   "cell_type": "code",
   "execution_count": null,
   "metadata": {
    "ExecuteTime": {
     "end_time": "2018-11-09T10:25:15.569547Z",
     "start_time": "2018-11-09T10:25:15.458101Z"
    }
   },
   "outputs": [],
   "source": [
    "# conta o número de linhas do arquivo\n",
    "!wc -l Dados1.dat"
   ]
  },
  {
   "cell_type": "code",
   "execution_count": null,
   "metadata": {
    "ExecuteTime": {
     "end_time": "2018-11-09T10:25:25.310576Z",
     "start_time": "2018-11-09T10:25:25.306079Z"
    }
   },
   "outputs": [],
   "source": [
    "# Cria um arquivo de dados com formatação\n",
    "f = open('Dados2.dat', 'w')\n",
    "for i in range(n):\n",
    "    a = \"{0:5.2f}\\t\\t{1:8.4f}\\t\\t{2:0<14.9g}\\n\".format(x[i],y[i],y1[i])\n",
    "    f.write(a)\n",
    "f.close()"
   ]
  },
  {
   "cell_type": "code",
   "execution_count": null,
   "metadata": {
    "ExecuteTime": {
     "end_time": "2018-11-09T10:25:34.405058Z",
     "start_time": "2018-11-09T10:25:34.293596Z"
    },
    "scrolled": true
   },
   "outputs": [],
   "source": [
    "!head Dados2.dat"
   ]
  },
  {
   "cell_type": "code",
   "execution_count": null,
   "metadata": {
    "ExecuteTime": {
     "end_time": "2018-11-09T10:25:48.842884Z",
     "start_time": "2018-11-09T10:25:48.730355Z"
    }
   },
   "outputs": [],
   "source": [
    "!tail Dados2.dat"
   ]
  },
  {
   "cell_type": "markdown",
   "metadata": {},
   "source": [
    "Vamos usar a biblioteca do numpy para ler o arquivo:"
   ]
  },
  {
   "cell_type": "code",
   "execution_count": 14,
   "metadata": {
    "ExecuteTime": {
     "end_time": "2019-05-02T20:16:39.274946Z",
     "start_time": "2019-05-02T20:16:39.266022Z"
    }
   },
   "outputs": [],
   "source": [
    "np.loadtxt?"
   ]
  },
  {
   "cell_type": "code",
   "execution_count": 15,
   "metadata": {
    "ExecuteTime": {
     "end_time": "2019-05-02T20:17:05.435848Z",
     "start_time": "2019-05-02T20:17:05.430234Z"
    }
   },
   "outputs": [],
   "source": [
    "Dados= np.loadtxt('dados0.dat',skiprows=1) # Lê o arquivo de dados"
   ]
  },
  {
   "cell_type": "code",
   "execution_count": 16,
   "metadata": {
    "ExecuteTime": {
     "end_time": "2019-05-02T20:17:10.505937Z",
     "start_time": "2019-05-02T20:17:10.501785Z"
    }
   },
   "outputs": [
    {
     "data": {
      "text/plain": [
       "(5, 4)"
      ]
     },
     "execution_count": 16,
     "metadata": {},
     "output_type": "execute_result"
    }
   ],
   "source": [
    "np.shape(Dados) # Mostra a forma da matriz usada para armazenar os dados lidos"
   ]
  },
  {
   "cell_type": "code",
   "execution_count": 18,
   "metadata": {
    "ExecuteTime": {
     "end_time": "2019-05-02T20:17:17.656377Z",
     "start_time": "2019-05-02T20:17:17.649905Z"
    }
   },
   "outputs": [
    {
     "data": {
      "text/plain": [
       "array([ 1.,  4.,  6., 12., 20.])"
      ]
     },
     "execution_count": 18,
     "metadata": {},
     "output_type": "execute_result"
    }
   ],
   "source": [
    "Dados[:,0]"
   ]
  },
  {
   "cell_type": "code",
   "execution_count": 19,
   "metadata": {
    "ExecuteTime": {
     "end_time": "2019-05-02T20:17:21.815842Z",
     "start_time": "2019-05-02T20:17:21.810759Z"
    }
   },
   "outputs": [
    {
     "data": {
      "text/plain": [
       "array([[ 1. ,  3. ,  0.5,  0.5],\n",
       "       [ 4. , 19. ,  0.5,  0.5],\n",
       "       [ 6. , 28. ,  0.5,  1.5],\n",
       "       [12. , 44. ,  0.5,  2.5],\n",
       "       [20. , 83. ,  0.5,  3.5]])"
      ]
     },
     "execution_count": 19,
     "metadata": {},
     "output_type": "execute_result"
    }
   ],
   "source": [
    "Dados"
   ]
  },
  {
   "cell_type": "code",
   "execution_count": 11,
   "metadata": {
    "ExecuteTime": {
     "end_time": "2019-05-02T20:14:51.627241Z",
     "start_time": "2019-05-02T20:14:51.565649Z"
    }
   },
   "outputs": [
    {
     "ename": "NameError",
     "evalue": "name 'n' is not defined",
     "output_type": "error",
     "traceback": [
      "\u001b[0;31m---------------------------------------------------------------------------\u001b[0m",
      "\u001b[0;31mNameError\u001b[0m                                 Traceback (most recent call last)",
      "\u001b[0;32m<ipython-input-11-0566e7f3de54>\u001b[0m in \u001b[0;36m<module>\u001b[0;34m\u001b[0m\n\u001b[1;32m      1\u001b[0m \u001b[0;31m# Ajustando os dados para vetores\u001b[0m\u001b[0;34m\u001b[0m\u001b[0;34m\u001b[0m\u001b[0;34m\u001b[0m\u001b[0m\n\u001b[1;32m      2\u001b[0m \u001b[0;31m# Forma mais simples\u001b[0m\u001b[0;34m\u001b[0m\u001b[0;34m\u001b[0m\u001b[0;34m\u001b[0m\u001b[0m\n\u001b[0;32m----> 3\u001b[0;31m \u001b[0mx1\u001b[0m\u001b[0;34m=\u001b[0m\u001b[0mDados\u001b[0m\u001b[0;34m[\u001b[0m\u001b[0;36m0\u001b[0m\u001b[0;34m:\u001b[0m\u001b[0mn\u001b[0m\u001b[0;34m-\u001b[0m\u001b[0;36m1\u001b[0m\u001b[0;34m,\u001b[0m\u001b[0;36m0\u001b[0m\u001b[0;34m]\u001b[0m\u001b[0;34m\u001b[0m\u001b[0;34m\u001b[0m\u001b[0m\n\u001b[0m\u001b[1;32m      4\u001b[0m \u001b[0my1\u001b[0m\u001b[0;34m=\u001b[0m\u001b[0mDados\u001b[0m\u001b[0;34m[\u001b[0m\u001b[0;36m0\u001b[0m\u001b[0;34m:\u001b[0m\u001b[0mn\u001b[0m\u001b[0;34m-\u001b[0m\u001b[0;36m1\u001b[0m\u001b[0;34m,\u001b[0m\u001b[0;36m1\u001b[0m\u001b[0;34m]\u001b[0m\u001b[0;34m\u001b[0m\u001b[0;34m\u001b[0m\u001b[0m\n\u001b[1;32m      5\u001b[0m \u001b[0my11\u001b[0m\u001b[0;34m=\u001b[0m\u001b[0mDados\u001b[0m\u001b[0;34m[\u001b[0m\u001b[0;36m0\u001b[0m\u001b[0;34m:\u001b[0m\u001b[0mn\u001b[0m\u001b[0;34m-\u001b[0m\u001b[0;36m1\u001b[0m\u001b[0;34m,\u001b[0m\u001b[0;36m2\u001b[0m\u001b[0;34m]\u001b[0m\u001b[0;34m\u001b[0m\u001b[0;34m\u001b[0m\u001b[0m\n",
      "\u001b[0;31mNameError\u001b[0m: name 'n' is not defined"
     ]
    }
   ],
   "source": [
    "# Ajustando os dados para vetores\n",
    "# Forma mais simples\n",
    "x1=Dados[0:n-1,0]\n",
    "y1=Dados[0:n-1,1]\n",
    "y11=Dados[0:n-1,2]"
   ]
  },
  {
   "cell_type": "code",
   "execution_count": null,
   "metadata": {
    "ExecuteTime": {
     "end_time": "2018-11-09T10:28:51.753662Z",
     "start_time": "2018-11-09T10:28:51.750145Z"
    }
   },
   "outputs": [],
   "source": [
    "# Forma mais trabalhosa\n",
    "for i in range(n-1):\n",
    "    x[i] = Dados[i,0]          # cria um vetor de dados x-data\n",
    "    y[i] = Dados[i,1]          # calcula o vetor de dados y-data\n",
    "    y1[i] = Dados[i,2]"
   ]
  },
  {
   "cell_type": "code",
   "execution_count": null,
   "metadata": {
    "ExecuteTime": {
     "end_time": "2018-11-09T10:29:03.197290Z",
     "start_time": "2018-11-09T10:29:01.671473Z"
    }
   },
   "outputs": [],
   "source": [
    "# Fazendo um gráfico do resultado\n",
    "largura = 10  # Largura da figura\n",
    "altura  = 5   # Altura da figura\n",
    "plt.figure(figsize =(largura, altura))     # Define o tamanho do gráfico\n",
    "plt.grid()                       # Habilita a grade \n",
    "plt.xlabel('x')\n",
    "plt.ylabel('y')\n",
    "plt.title('Função transcendental')\n",
    "plt.plot(x1, y1)   # Faz o gráfico\n",
    "plt.plot(x1, y11)\n",
    "plt.show()"
   ]
  },
  {
   "cell_type": "markdown",
   "metadata": {},
   "source": [
    "## Algumas referências"
   ]
  },
  {
   "cell_type": "markdown",
   "metadata": {},
   "source": [
    "A biblioteca [Matplotlib](http://matplotlib.org), possui uma vasta documentação além de muitos exemplos. Veja por exemplo:\n",
    "\n",
    "- 1. Para técnicas de visualização de dados veja: http://matplotlib.org/users/recipes.html  \n",
    "- 2. Para iniciar consulte o guia dos usuários: http://matplotlib.org/users/index.html"
   ]
  },
  {
   "cell_type": "code",
   "execution_count": null,
   "metadata": {},
   "outputs": [],
   "source": []
  }
 ],
 "metadata": {
  "jupytext": {},
  "kernelspec": {
   "display_name": "Python 3",
   "language": "python",
   "name": "python3"
  },
  "language_info": {
   "codemirror_mode": {
    "name": "ipython",
    "version": 3
   },
   "file_extension": ".py",
   "mimetype": "text/x-python",
   "name": "python",
   "nbconvert_exporter": "python",
   "pygments_lexer": "ipython3",
   "version": "3.6.8"
  },
  "latex_envs": {
   "LaTeX_envs_menu_present": true,
   "autoclose": false,
   "autocomplete": false,
   "bibliofile": "biblio.bib",
   "cite_by": "apalike",
   "current_citInitial": 1,
   "eqLabelWithNumbers": true,
   "eqNumInitial": 1,
   "hotkeys": {
    "equation": "Ctrl-E",
    "itemize": "Ctrl-I"
   },
   "labels_anchors": false,
   "latex_user_defs": false,
   "report_style_numbering": false,
   "user_envs_cfg": false
  },
  "nbTranslate": {
   "displayLangs": [
    "pt",
    "en"
   ],
   "hotkey": "alt-t",
   "langInMainMenu": true,
   "sourceLang": "en",
   "targetLang": "pt",
   "useGoogleTranslate": true
  },
  "toc": {
   "base_numbering": 1,
   "nav_menu": {},
   "number_sections": true,
   "sideBar": true,
   "skip_h1_title": false,
   "title_cell": "Table of Contents",
   "title_sidebar": "Contents",
   "toc_cell": false,
   "toc_position": {},
   "toc_section_display": "block",
   "toc_window_display": false
  },
  "varInspector": {
   "cols": {
    "lenName": 16,
    "lenType": 16,
    "lenVar": 40
   },
   "kernels_config": {
    "python": {
     "delete_cmd_postfix": "",
     "delete_cmd_prefix": "del ",
     "library": "var_list.py",
     "varRefreshCmd": "print(var_dic_list())"
    },
    "r": {
     "delete_cmd_postfix": ") ",
     "delete_cmd_prefix": "rm(",
     "library": "var_list.r",
     "varRefreshCmd": "cat(var_dic_list()) "
    }
   },
   "types_to_exclude": [
    "module",
    "function",
    "builtin_function_or_method",
    "instance",
    "_Feature"
   ],
   "window_display": false
  }
 },
 "nbformat": 4,
 "nbformat_minor": 1
}
