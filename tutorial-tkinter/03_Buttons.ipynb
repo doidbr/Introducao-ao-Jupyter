{
 "cells": [
  {
   "cell_type": "markdown",
   "metadata": {},
   "source": [
    "# Os botões Tkinter"
   ]
  },
  {
   "cell_type": "markdown",
   "metadata": {
    "lang": "pt"
   },
   "source": [
    "- Os botoẽs `button` é uma outra widget padrão no python da biblioteca tkinter\n",
    "- Com o botão você pode interagir com o programa\n",
    "- No rótulo texto pode ser exibido em fonte diferente, mas em um único botão\n",
    "- No botão você pode usar texto, bem como Imagem"
   ]
  },
  {
   "cell_type": "markdown",
   "metadata": {},
   "source": [
    "## Botões normais"
   ]
  },
  {
   "cell_type": "code",
   "execution_count": null,
   "metadata": {
    "ExecuteTime": {
     "end_time": "2019-08-14T23:35:33.189204Z",
     "start_time": "2019-08-14T23:35:33.179065Z"
    }
   },
   "outputs": [],
   "source": [
    "import tkinter as tk\n",
    "import time"
   ]
  },
  {
   "cell_type": "code",
   "execution_count": null,
   "metadata": {
    "ExecuteTime": {
     "end_time": "2019-08-14T23:35:33.704713Z",
     "start_time": "2019-08-14T23:35:33.620736Z"
    }
   },
   "outputs": [],
   "source": [
    "root = tk.Tk()"
   ]
  },
  {
   "cell_type": "code",
   "execution_count": null,
   "metadata": {
    "ExecuteTime": {
     "end_time": "2019-08-14T23:35:34.006988Z",
     "start_time": "2019-08-14T23:35:34.001933Z"
    }
   },
   "outputs": [],
   "source": [
    "def start_button():\n",
    "    print(\"O botão para iniciar à funcionar\")"
   ]
  },
  {
   "cell_type": "code",
   "execution_count": null,
   "metadata": {
    "ExecuteTime": {
     "end_time": "2019-08-14T23:35:34.370403Z",
     "start_time": "2019-08-14T23:35:34.367466Z"
    }
   },
   "outputs": [],
   "source": [
    "def stop_button():\n",
    "    print(\"O botão para parar de funcionar\")"
   ]
  },
  {
   "cell_type": "code",
   "execution_count": null,
   "metadata": {
    "ExecuteTime": {
     "end_time": "2019-08-14T23:35:34.749585Z",
     "start_time": "2019-08-14T23:35:34.725409Z"
    }
   },
   "outputs": [],
   "source": [
    "button_start = tk.Button(root,\n",
    "                      text=\"Iniciar\",\n",
    "                      width=15,\n",
    "                      command=start_button)\n",
    "\n",
    "button_stop = tk.Button(root,\n",
    "                     text=\"Parar\",\n",
    "                     width=15,\n",
    "                     command=stop_button)\n",
    "\n",
    "button_start.pack()\n",
    "button_stop.pack()"
   ]
  },
  {
   "cell_type": "code",
   "execution_count": null,
   "metadata": {
    "ExecuteTime": {
     "end_time": "2019-08-14T23:35:39.318141Z",
     "start_time": "2019-08-14T23:35:35.811490Z"
    }
   },
   "outputs": [],
   "source": [
    "root.mainloop()"
   ]
  },
  {
   "cell_type": "markdown",
   "metadata": {},
   "source": [
    "## Botão Radio"
   ]
  },
  {
   "cell_type": "markdown",
   "metadata": {
    "lang": "pt"
   },
   "source": [
    "- Botão `radio`, às vezes chamado de botão de opção, que permite ao usuário escolher um dos conjuntos predefinidos de opções.\n",
    "- O botão `radio` pode conter texto ou imagens\n",
    "- O botão só pode exibir texto em fonte única\n",
    "- Uma função ou um método python pode ser associado ao botão de opções `radio`. Essa função ou método será chamado quando você pressionar este botão de `radio`"
   ]
  },
  {
   "cell_type": "code",
   "execution_count": null,
   "metadata": {
    "ExecuteTime": {
     "end_time": "2019-08-14T23:35:43.593432Z",
     "start_time": "2019-08-14T23:35:43.551234Z"
    }
   },
   "outputs": [],
   "source": [
    "import tkinter as tk\n",
    "root = tk.Tk()\n",
    "root.title(\"Botão Radio\")"
   ]
  },
  {
   "cell_type": "code",
   "execution_count": null,
   "metadata": {
    "ExecuteTime": {
     "end_time": "2019-08-14T23:35:45.237826Z",
     "start_time": "2019-08-14T23:35:45.216325Z"
    }
   },
   "outputs": [],
   "source": [
    "tk.Label(root, \n",
    "             text=\"Selecione: Verdade ou Falso\", \n",
    "             fg='red',\n",
    "             bg='yellow',\n",
    "             font=(\"Helvetica\", 16),\n",
    "             justify=\"left\"\n",
    "            ).pack()"
   ]
  },
  {
   "cell_type": "markdown",
   "metadata": {},
   "source": [
    "#### Variáveis no Tkinter:\n",
    "\n",
    "| Método         | Ação                                          |\n",
    "| -------------- | --------------------------------------------- |\n",
    "| `StringVar()`  | Mantenha uma string e o valor padrão é \"\"     |\n",
    "| `IntVar()`     | Mantém um inteiro e o valor padrão é 0        |\n",
    "| `DoubleVar()`  | Mantém um float e o valor padrão é 0.0        |\n",
    "| `BooleanVar()` | Mantém um booleano e retorna True ou False    |"
   ]
  },
  {
   "cell_type": "code",
   "execution_count": null,
   "metadata": {
    "ExecuteTime": {
     "end_time": "2019-08-14T23:35:53.327551Z",
     "start_time": "2019-08-14T23:35:53.323395Z"
    }
   },
   "outputs": [],
   "source": [
    "data = tk.BooleanVar()\n",
    "\n",
    "def data_print():\n",
    "    print(data.get())"
   ]
  },
  {
   "cell_type": "code",
   "execution_count": null,
   "metadata": {
    "ExecuteTime": {
     "end_time": "2019-08-14T23:35:55.433105Z",
     "start_time": "2019-08-14T23:35:55.423614Z"
    }
   },
   "outputs": [],
   "source": [
    "true_button = tk.Radiobutton(root,\n",
    "                          text = \"Verdade\",\n",
    "                          variable=data,\n",
    "                          value= True,\n",
    "                          padx=20,\n",
    "                          pady=5,\n",
    "                          command = data_print\n",
    "                          )\n",
    "\n",
    "false_button = tk.Radiobutton(root,\n",
    "                           text = \"Falso\",\n",
    "                           variable=data,\n",
    "                           value= False,\n",
    "                           padx=20,\n",
    "                           pady=5,\n",
    "                           command = data_print\n",
    "                          )\n",
    "true_button.pack()\n",
    "false_button.pack()"
   ]
  },
  {
   "cell_type": "code",
   "execution_count": null,
   "metadata": {
    "ExecuteTime": {
     "end_time": "2019-08-14T23:36:02.669164Z",
     "start_time": "2019-08-14T23:35:57.176149Z"
    }
   },
   "outputs": [],
   "source": [
    "root.mainloop()"
   ]
  },
  {
   "cell_type": "code",
   "execution_count": null,
   "metadata": {},
   "outputs": [],
   "source": []
  }
 ],
 "metadata": {
  "kernelspec": {
   "display_name": "Python 3",
   "language": "python",
   "name": "python3"
  },
  "language_info": {
   "codemirror_mode": {
    "name": "ipython",
    "version": 3
   },
   "file_extension": ".py",
   "mimetype": "text/x-python",
   "name": "python",
   "nbconvert_exporter": "python",
   "pygments_lexer": "ipython3",
   "version": "3.6.8"
  },
  "latex_envs": {
   "LaTeX_envs_menu_present": true,
   "autoclose": false,
   "autocomplete": false,
   "bibliofile": "biblio.bib",
   "cite_by": "apalike",
   "current_citInitial": 1,
   "eqLabelWithNumbers": true,
   "eqNumInitial": 1,
   "hotkeys": {
    "equation": "Ctrl-E",
    "itemize": "Ctrl-I"
   },
   "labels_anchors": false,
   "latex_user_defs": false,
   "report_style_numbering": false,
   "user_envs_cfg": false
  },
  "nbTranslate": {
   "displayLangs": [
    "pt",
    "en"
   ],
   "hotkey": "alt-t",
   "langInMainMenu": true,
   "sourceLang": "en",
   "targetLang": "pt",
   "useGoogleTranslate": true
  },
  "toc": {
   "base_numbering": 1,
   "nav_menu": {},
   "number_sections": true,
   "sideBar": true,
   "skip_h1_title": false,
   "title_cell": "Table of Contents",
   "title_sidebar": "Contents",
   "toc_cell": false,
   "toc_position": {},
   "toc_section_display": true,
   "toc_window_display": false
  }
 },
 "nbformat": 4,
 "nbformat_minor": 2
}
