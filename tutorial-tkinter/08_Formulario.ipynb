{
 "cells": [
  {
   "cell_type": "markdown",
   "metadata": {},
   "source": [
    "# Registration-Form-using-Python-GUI-\n",
    "\n",
    "<https://github.com/abhishek305/Registration-Form-using-Python-GUI->"
   ]
  },
  {
   "cell_type": "code",
   "execution_count": 13,
   "metadata": {
    "ExecuteTime": {
     "end_time": "2019-08-15T00:08:38.033090Z",
     "start_time": "2019-08-15T00:08:07.470543Z"
    }
   },
   "outputs": [],
   "source": [
    "from tkinter import *\n",
    "\n",
    "root = Tk()\n",
    "root.geometry('500x500')\n",
    "root.title(\"Formulário de Registro\")\n",
    "\n",
    "label_0 = Label(root, text=\"Formulário de registro\",width=20,font=(\"bold\", 20))\n",
    "label_0.place(x=90,y=53)\n",
    "\n",
    "\n",
    "label_1 = Label(root, text=\"Nome completo\",width=20,font=(\"bold\", 10))\n",
    "label_1.place(x=80,y=130)\n",
    "\n",
    "entry_1 = Entry(root)\n",
    "entry_1.place(x=240,y=130)\n",
    "\n",
    "label_2 = Label(root, text=\"Email\",width=20,font=(\"bold\", 10))\n",
    "label_2.place(x=68,y=180)\n",
    "\n",
    "entry_2 = Entry(root)\n",
    "entry_2.place(x=240,y=180)\n",
    "\n",
    "label_3 = Label(root, text=\"Gênero\",width=20,font=(\"bold\", 10))\n",
    "label_3.place(x=70,y=230)\n",
    "var = IntVar()\n",
    "Radiobutton(root, text=\"Masculino\",padx = 1, variable=var, value=1).place(x=230,y=230)\n",
    "Radiobutton(root, text=\"Feminino\",padx = 1, variable=var, value=2).place(x=330,y=230)\n",
    "\n",
    "label_4 = Label(root, text=\"País\",width=20,font=(\"bold\", 10))\n",
    "label_4.place(x=70,y=280)\n",
    "\n",
    "list1 = ['Canada','India','UK','Nepal','Iceland','South Africa', 'Brazil', 'USA'];\n",
    "c=StringVar()\n",
    "droplist=OptionMenu(root,c, *list1)\n",
    "droplist.config(width=15)\n",
    "c.set('Selecione seu país') \n",
    "droplist.place(x=240,y=280)\n",
    "\n",
    "label_4 = Label(root, text=\"Programa\",width=20,font=(\"bold\", 10))\n",
    "label_4.place(x=85,y=330)\n",
    "var1 = IntVar()\n",
    "Checkbutton(root, text=\"java\", variable=var1).place(x=235,y=330)\n",
    "var2 = IntVar()\n",
    "Checkbutton(root, text=\"python\", variable=var2).place(x=290,y=330)\n",
    "\n",
    "Button(root, text='Enviar',width=20,bg='brown',fg='white').place(x=180,y=380)\n",
    "\n",
    "root.mainloop()"
   ]
  },
  {
   "cell_type": "code",
   "execution_count": null,
   "metadata": {},
   "outputs": [],
   "source": []
  }
 ],
 "metadata": {
  "kernelspec": {
   "display_name": "Python 3",
   "language": "python",
   "name": "python3"
  },
  "language_info": {
   "codemirror_mode": {
    "name": "ipython",
    "version": 3
   },
   "file_extension": ".py",
   "mimetype": "text/x-python",
   "name": "python",
   "nbconvert_exporter": "python",
   "pygments_lexer": "ipython3",
   "version": "3.6.8"
  },
  "latex_envs": {
   "LaTeX_envs_menu_present": true,
   "autoclose": false,
   "autocomplete": false,
   "bibliofile": "biblio.bib",
   "cite_by": "apalike",
   "current_citInitial": 1,
   "eqLabelWithNumbers": true,
   "eqNumInitial": 1,
   "hotkeys": {
    "equation": "Ctrl-E",
    "itemize": "Ctrl-I"
   },
   "labels_anchors": false,
   "latex_user_defs": false,
   "report_style_numbering": false,
   "user_envs_cfg": false
  },
  "nbTranslate": {
   "displayLangs": [
    "pt",
    "en"
   ],
   "hotkey": "alt-t",
   "langInMainMenu": true,
   "sourceLang": "en",
   "targetLang": "pt",
   "useGoogleTranslate": true
  },
  "toc": {
   "base_numbering": 1,
   "nav_menu": {},
   "number_sections": true,
   "sideBar": true,
   "skip_h1_title": false,
   "title_cell": "Table of Contents",
   "title_sidebar": "Contents",
   "toc_cell": false,
   "toc_position": {},
   "toc_section_display": true,
   "toc_window_display": false
  }
 },
 "nbformat": 4,
 "nbformat_minor": 2
}
