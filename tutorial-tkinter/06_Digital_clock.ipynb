{
 "cells": [
  {
   "cell_type": "code",
   "execution_count": 6,
   "metadata": {
    "ExecuteTime": {
     "end_time": "2019-08-14T23:38:58.543600Z",
     "start_time": "2019-08-14T23:38:56.234008Z"
    },
    "lang": "en"
   },
   "outputs": [],
   "source": [
    "import tkinter as tk\n",
    "import time\n",
    "root = tk.Tk()\n",
    "\n",
    "time1 = ''\n",
    "clock = tk.Label(root, font=('times', 30, 'bold'), bg='blue')\n",
    "\n",
    "clock.pack(fill=\"both\", expand=1)\n",
    "\n",
    "def tick():\n",
    "    global time1\n",
    "    \n",
    "    # obtém a hora local atual do PC\n",
    "    time2 = time.strftime('%H:%M:%S')\n",
    "\n",
    "    # Se a string do tempo foi alterada, atualize-a\n",
    "    if time2 != time1:\n",
    "        time1 = time2\n",
    "        clock.config(text=time2)\n",
    "    \n",
    "    # chama-se a cada 200 milissegundos\n",
    "    # chama-se a cada 200 milissegundos\n",
    "    clock.after(200, tick)\n",
    "\n",
    "tick()\n",
    "root.mainloop()"
   ]
  },
  {
   "cell_type": "code",
   "execution_count": null,
   "metadata": {},
   "outputs": [],
   "source": []
  }
 ],
 "metadata": {
  "kernelspec": {
   "display_name": "Python 3",
   "language": "python",
   "name": "python3"
  },
  "language_info": {
   "codemirror_mode": {
    "name": "ipython",
    "version": 3
   },
   "file_extension": ".py",
   "mimetype": "text/x-python",
   "name": "python",
   "nbconvert_exporter": "python",
   "pygments_lexer": "ipython3",
   "version": "3.6.8"
  },
  "latex_envs": {
   "LaTeX_envs_menu_present": true,
   "autoclose": false,
   "autocomplete": false,
   "bibliofile": "biblio.bib",
   "cite_by": "apalike",
   "current_citInitial": 1,
   "eqLabelWithNumbers": true,
   "eqNumInitial": 1,
   "hotkeys": {
    "equation": "Ctrl-E",
    "itemize": "Ctrl-I"
   },
   "labels_anchors": false,
   "latex_user_defs": false,
   "report_style_numbering": false,
   "user_envs_cfg": false
  },
  "nbTranslate": {
   "displayLangs": [
    "pt",
    "en"
   ],
   "hotkey": "alt-t",
   "langInMainMenu": true,
   "sourceLang": "en",
   "targetLang": "pt",
   "useGoogleTranslate": true
  },
  "toc": {
   "base_numbering": 1,
   "nav_menu": {},
   "number_sections": true,
   "sideBar": true,
   "skip_h1_title": false,
   "title_cell": "Table of Contents",
   "title_sidebar": "Contents",
   "toc_cell": false,
   "toc_position": {},
   "toc_section_display": true,
   "toc_window_display": false
  }
 },
 "nbformat": 4,
 "nbformat_minor": 2
}
