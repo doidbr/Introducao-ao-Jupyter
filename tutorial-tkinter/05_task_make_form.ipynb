{
 "cells": [
  {
   "cell_type": "markdown",
   "metadata": {
    "lang": "pt"
   },
   "source": [
    "## Criando formulário de entrada automático"
   ]
  },
  {
   "cell_type": "markdown",
   "metadata": {
    "lang": "pt"
   },
   "source": [
    "Faça um formulário com os campos 'Primeiro nome', 'Sobrenome', 'País', 'Estado', 'Cidade', 'Número do celular'; que levará dados do usuário. Adicione dois botões para mostrar os dados digitados pelo usuário e formar bastante."
   ]
  },
  {
   "cell_type": "code",
   "execution_count": 9,
   "metadata": {
    "ExecuteTime": {
     "end_time": "2019-08-14T23:33:39.118705Z",
     "start_time": "2019-08-14T23:33:35.234851Z"
    }
   },
   "outputs": [],
   "source": [
    "import tkinter as tk\n",
    "\n",
    "fields = 'Primeiro nome', 'Sobrenome', 'País', 'Estado', 'Cidade', 'Número do celular'\n",
    "\n",
    "\n",
    "def fetch(entries):\n",
    "    for entry in entries:\n",
    "        field = entry[0]\n",
    "        text = entry[1].get()\n",
    "        print(\"%s:%s\"%(field, text))\n",
    "\n",
    "def makeform(root, fields):\n",
    "    entries = []\n",
    "    for field in fields:\n",
    "        row = tk.Frame(root)\n",
    "        lab = tk.Label(row, width=15, text=field, anchor='w')\n",
    "        ent = tk.Entry(row)\n",
    "        row.pack(side=\"top\", fill='x', padx=5, pady=5)\n",
    "        lab.pack(side=\"left\")\n",
    "        ent.pack(side=\"right\", expand=0, fill='x')\n",
    "        entries.append((field, ent))\n",
    "    return entries\n",
    "\n",
    "if __name__ == '__main__':\n",
    "    root = tk.Tk()\n",
    "    ents = makeform(root, fields)\n",
    "    \n",
    "    b_show = tk.Button(root,\n",
    "                   text='Mostra',\n",
    "                   command=(lambda e=ents: fetch(ents))\n",
    "                   )\n",
    "    b_stop = tk.Button(root,\n",
    "                   text='Fim',\n",
    "                   command=root.destroy)\n",
    "\n",
    "    b_show.pack(side=\"left\", padx=5, pady=5)\n",
    "    b_stop.pack(side=\"left\", padx=5, pady=5)\n",
    "\n",
    "    root.mainloop()"
   ]
  },
  {
   "cell_type": "code",
   "execution_count": null,
   "metadata": {
    "collapsed": true
   },
   "outputs": [],
   "source": []
  }
 ],
 "metadata": {
  "kernelspec": {
   "display_name": "Python 3",
   "language": "python",
   "name": "python3"
  },
  "language_info": {
   "codemirror_mode": {
    "name": "ipython",
    "version": 3
   },
   "file_extension": ".py",
   "mimetype": "text/x-python",
   "name": "python",
   "nbconvert_exporter": "python",
   "pygments_lexer": "ipython3",
   "version": "3.6.8"
  },
  "latex_envs": {
   "LaTeX_envs_menu_present": true,
   "autoclose": false,
   "autocomplete": false,
   "bibliofile": "biblio.bib",
   "cite_by": "apalike",
   "current_citInitial": 1,
   "eqLabelWithNumbers": true,
   "eqNumInitial": 1,
   "hotkeys": {
    "equation": "Ctrl-E",
    "itemize": "Ctrl-I"
   },
   "labels_anchors": false,
   "latex_user_defs": false,
   "report_style_numbering": false,
   "user_envs_cfg": false
  },
  "nbTranslate": {
   "displayLangs": [
    "pt",
    "en"
   ],
   "hotkey": "alt-t",
   "langInMainMenu": true,
   "sourceLang": "en",
   "targetLang": "pt",
   "useGoogleTranslate": true
  },
  "toc": {
   "base_numbering": 1,
   "nav_menu": {},
   "number_sections": true,
   "sideBar": true,
   "skip_h1_title": false,
   "title_cell": "Table of Contents",
   "title_sidebar": "Contents",
   "toc_cell": false,
   "toc_position": {},
   "toc_section_display": true,
   "toc_window_display": false
  }
 },
 "nbformat": 4,
 "nbformat_minor": 2
}
