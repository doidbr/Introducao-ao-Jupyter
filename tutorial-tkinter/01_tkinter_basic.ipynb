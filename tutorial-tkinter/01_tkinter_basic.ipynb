{
 "cells": [
  {
   "cell_type": "markdown",
   "metadata": {},
   "source": [
    "# Noções básicas do Python-Tkinter"
   ]
  },
  {
   "cell_type": "markdown",
   "metadata": {
    "lang": "pt"
   },
   "source": [
    "\n",
    "1. Por que GUI?\n",
    "    - Em palavras simples para fornecer interface gráfica simples para usuários finais.\n",
    "2. O que é o Tkinter?\n",
    "      - Tkinter é interface python para tk ()\n",
    "      - O primeiro lançamento do Tkinter foi em 1991\n",
    "3. Por que Tkinter?\n",
    "4. Outros pacotes?\n",
    "\n",
    "\n",
    "## Referências\n",
    "\n",
    "1. <https://docs.python.org/3/library/tk.html>"
   ]
  },
  {
   "cell_type": "markdown",
   "metadata": {},
   "source": [
    "## Relação do métodos Widgets\n",
    "\n",
    "- `button`\n",
    "- `canvas`\n",
    "- `checkbutton`\n",
    "- `combobox`\n",
    "- `entry`\n",
    "- `frame`\n",
    "- `label`\n",
    "- `labelframe`\n",
    "- `listbox`\n",
    "- `menu`\n",
    "- `menubutton`\n",
    "- `message`\n",
    "- `notebook`\n",
    "- `tk_optionMenu`\n",
    "- `panedwindow`\n",
    "- `progressbar`\n",
    "- `radiobutton`\n",
    "- `scale`\n",
    "- `scrollbar`\n",
    "- `separator`\n",
    "- `sizegrip`\n",
    "- `spinbox`\n",
    "- `text`\n",
    "- `treeview`"
   ]
  },
  {
   "cell_type": "markdown",
   "metadata": {
    "lang": "en"
   },
   "source": [
    "## Relação de janelas de nível superior :\n",
    "\n",
    "| Método               | Ação                                                         |\n",
    "| -------------------- | ------------------------------------------------------------ |\n",
    "| `tk_chooseColorpops` | abre uma caixa de diálogo para o usuário selecionar uma cor. |\n",
    "| `tk_chooseDirectory` | abre uma caixa de diálogo para o usuário selecionar um diretório. |\n",
    "| `tk_dialog`          | cria um diálogo modal e aguarda uma resposta.                |\n",
    "| `tk_getOpenFile`     | abre uma caixa de diálogo para o usuário selecionar um arquivo para abrir. |\n",
    "| `tk_getSaveFile`     | abre uma caixa de diálogo para o usuário selecionar um arquivo para salvar. |\n",
    "| `tk_messageBox`      | abre uma janela de mensagem e aguarda uma resposta do usuário. |\n",
    "| `tk_popup`           | abre um menu popup.                                         |\n",
    "| `toplevel`           | cria e manipula widgets de nível superior.                   |\n"
   ]
  },
  {
   "cell_type": "markdown",
   "metadata": {
    "lang": "pt"
   },
   "source": [
    "## Gerentes de Geometria:\n",
    "\n",
    "| Método    | Ação                                            |\n",
    "| --------- | ----------------------------------------------- |\n",
    "| `place`   | posicionará as widgets em locais absolutos      |\n",
    "| `grid`    | organizará as widgets em uma grade              |\n",
    "| `pack`    | embalará as widgets em uma cavidade             |\n"
   ]
  },
  {
   "cell_type": "markdown",
   "metadata": {},
   "source": [
    "## A instalação do pacote Python\n",
    "\n",
    "```bash\n",
    "> sudo -H pip3 install -U tkinter\n",
    "```"
   ]
  },
  {
   "cell_type": "markdown",
   "metadata": {},
   "source": [
    "## Exemplo de uso"
   ]
  },
  {
   "cell_type": "code",
   "execution_count": 5,
   "metadata": {
    "collapsed": true
   },
   "outputs": [],
   "source": [
    "import tkinter as tk"
   ]
  },
  {
   "cell_type": "code",
   "execution_count": 8,
   "metadata": {
    "collapsed": true
   },
   "outputs": [],
   "source": [
    "# adiciona uma widget primária\n",
    "root = tk.Tk()\n",
    "\n",
    "# adicione o seu \"data frame\"  aqui\n"
   ]
  },
  {
   "cell_type": "code",
   "execution_count": 9,
   "metadata": {
    "collapsed": true
   },
   "outputs": [],
   "source": [
    "# fecha o loop principal\n",
    "root.mainloop()"
   ]
  },
  {
   "cell_type": "code",
   "execution_count": null,
   "metadata": {
    "collapsed": true
   },
   "outputs": [],
   "source": []
  }
 ],
 "metadata": {
  "kernelspec": {
   "display_name": "Python 3",
   "language": "python",
   "name": "python3"
  },
  "language_info": {
   "codemirror_mode": {
    "name": "ipython",
    "version": 3
   },
   "file_extension": ".py",
   "mimetype": "text/x-python",
   "name": "python",
   "nbconvert_exporter": "python",
   "pygments_lexer": "ipython3",
   "version": "3.6.8"
  },
  "latex_envs": {
   "LaTeX_envs_menu_present": true,
   "autoclose": false,
   "autocomplete": false,
   "bibliofile": "biblio.bib",
   "cite_by": "apalike",
   "current_citInitial": 1,
   "eqLabelWithNumbers": true,
   "eqNumInitial": 1,
   "hotkeys": {
    "equation": "Ctrl-E",
    "itemize": "Ctrl-I"
   },
   "labels_anchors": false,
   "latex_user_defs": false,
   "report_style_numbering": false,
   "user_envs_cfg": false
  },
  "nbTranslate": {
   "displayLangs": [
    "pt",
    "en"
   ],
   "hotkey": "alt-t",
   "langInMainMenu": true,
   "sourceLang": "en",
   "targetLang": "pt",
   "useGoogleTranslate": true
  },
  "toc": {
   "base_numbering": 1,
   "nav_menu": {},
   "number_sections": true,
   "sideBar": true,
   "skip_h1_title": false,
   "title_cell": "Table of Contents",
   "title_sidebar": "Contents",
   "toc_cell": false,
   "toc_position": {},
   "toc_section_display": true,
   "toc_window_display": false
  }
 },
 "nbformat": 4,
 "nbformat_minor": 2
}
