{
 "cells": [
  {
   "cell_type": "markdown",
   "metadata": {},
   "source": [
    "# Os rótulos  ` Labels`  do Tkinter:"
   ]
  },
  {
   "cell_type": "markdown",
   "metadata": {
    "lang": "pt"
   },
   "source": [
    "- `Label` é um modo simples para exibir apenas dados\n",
    "- Com um rótulo `Label` você não pode interagir\n",
    "- Há principalmente dois tipos de rótulos (`Label`)\n",
    "    1. etiqueta de texto\n",
    "    2. rótulo de imagem"
   ]
  },
  {
   "cell_type": "markdown",
   "metadata": {},
   "source": [
    "## Uso normal do  `Label`"
   ]
  },
  {
   "cell_type": "code",
   "execution_count": 2,
   "metadata": {
    "ExecuteTime": {
     "end_time": "2019-08-14T20:31:31.377871Z",
     "start_time": "2019-08-14T20:31:31.373620Z"
    }
   },
   "outputs": [],
   "source": [
    "import tkinter as tk"
   ]
  },
  {
   "cell_type": "code",
   "execution_count": 3,
   "metadata": {
    "ExecuteTime": {
     "end_time": "2019-08-14T20:31:32.406102Z",
     "start_time": "2019-08-14T20:31:32.313211Z"
    }
   },
   "outputs": [],
   "source": [
    "root = tk.Tk()"
   ]
  },
  {
   "cell_type": "code",
   "execution_count": 4,
   "metadata": {
    "ExecuteTime": {
     "end_time": "2019-08-14T20:31:33.241077Z",
     "start_time": "2019-08-14T20:31:33.220730Z"
    }
   },
   "outputs": [],
   "source": [
    "w = tk.Label(root,\n",
    "          text=\"Hello Tkinter\")"
   ]
  },
  {
   "cell_type": "code",
   "execution_count": 5,
   "metadata": {
    "ExecuteTime": {
     "end_time": "2019-08-14T20:31:34.152447Z",
     "start_time": "2019-08-14T20:31:34.149376Z"
    }
   },
   "outputs": [],
   "source": [
    "w.pack()"
   ]
  },
  {
   "cell_type": "markdown",
   "metadata": {},
   "source": [
    ".pack() method tell Tk to fit the size of window to the given text"
   ]
  },
  {
   "cell_type": "code",
   "execution_count": 28,
   "metadata": {
    "ExecuteTime": {
     "end_time": "2019-08-14T21:01:40.699228Z",
     "start_time": "2019-08-14T21:01:40.695784Z"
    }
   },
   "outputs": [],
   "source": [
    "# Finaliza o loop principal\n",
    "root.mainloop()"
   ]
  },
  {
   "cell_type": "markdown",
   "metadata": {
    "lang": "pt"
   },
   "source": [
    "## Altere dinamicamente o valor do `Label`"
   ]
  },
  {
   "cell_type": "code",
   "execution_count": 29,
   "metadata": {
    "ExecuteTime": {
     "end_time": "2019-08-14T21:04:11.882735Z",
     "start_time": "2019-08-14T21:04:11.878461Z"
    }
   },
   "outputs": [],
   "source": [
    "import tkinter as tk"
   ]
  },
  {
   "cell_type": "code",
   "execution_count": 30,
   "metadata": {
    "ExecuteTime": {
     "end_time": "2019-08-14T21:04:12.537784Z",
     "start_time": "2019-08-14T21:04:12.507939Z"
    }
   },
   "outputs": [],
   "source": [
    "root = tk.Tk()"
   ]
  },
  {
   "cell_type": "code",
   "execution_count": 31,
   "metadata": {
    "ExecuteTime": {
     "end_time": "2019-08-14T21:04:13.125785Z",
     "start_time": "2019-08-14T21:04:13.121158Z"
    }
   },
   "outputs": [
    {
     "data": {
      "text/plain": [
       "''"
      ]
     },
     "execution_count": 31,
     "metadata": {},
     "output_type": "execute_result"
    }
   ],
   "source": [
    "root.title(\"Rótulo Dinâmico\")"
   ]
  },
  {
   "cell_type": "code",
   "execution_count": 32,
   "metadata": {
    "ExecuteTime": {
     "end_time": "2019-08-14T21:04:13.961362Z",
     "start_time": "2019-08-14T21:04:13.958494Z"
    }
   },
   "outputs": [],
   "source": [
    "def stop():\n",
    "    root.destroy()"
   ]
  },
  {
   "cell_type": "code",
   "execution_count": 33,
   "metadata": {
    "ExecuteTime": {
     "end_time": "2019-08-14T21:04:14.796282Z",
     "start_time": "2019-08-14T21:04:14.793364Z"
    }
   },
   "outputs": [],
   "source": [
    "c=0"
   ]
  },
  {
   "cell_type": "code",
   "execution_count": 34,
   "metadata": {
    "ExecuteTime": {
     "end_time": "2019-08-14T21:04:15.522830Z",
     "start_time": "2019-08-14T21:04:15.517207Z"
    }
   },
   "outputs": [],
   "source": [
    "def start():\n",
    "    def count():\n",
    "        global c\n",
    "        c+=1\n",
    "        w.config(text=str(c))\n",
    "        w.after(100,count)\n",
    "    count()"
   ]
  },
  {
   "cell_type": "code",
   "execution_count": 35,
   "metadata": {
    "ExecuteTime": {
     "end_time": "2019-08-14T21:04:16.454041Z",
     "start_time": "2019-08-14T21:04:16.442349Z"
    }
   },
   "outputs": [],
   "source": [
    "w = tk.Label(root, justify=\"center\")\n",
    "w.pack()"
   ]
  },
  {
   "cell_type": "markdown",
   "metadata": {},
   "source": [
    "Possíveis opções para `justify` são: `left`, `right`, `center`"
   ]
  },
  {
   "cell_type": "code",
   "execution_count": 36,
   "metadata": {
    "ExecuteTime": {
     "end_time": "2019-08-14T21:04:20.225158Z",
     "start_time": "2019-08-14T21:04:20.221818Z"
    }
   },
   "outputs": [],
   "source": [
    "start()"
   ]
  },
  {
   "cell_type": "code",
   "execution_count": 37,
   "metadata": {
    "ExecuteTime": {
     "end_time": "2019-08-14T21:04:22.811204Z",
     "start_time": "2019-08-14T21:04:22.806905Z"
    }
   },
   "outputs": [],
   "source": [
    "b = tk.Button(root, text=\"Pare\", command = stop)\n",
    "b.pack()"
   ]
  },
  {
   "cell_type": "code",
   "execution_count": 38,
   "metadata": {
    "ExecuteTime": {
     "end_time": "2019-08-14T21:04:26.300833Z",
     "start_time": "2019-08-14T21:04:24.279683Z"
    }
   },
   "outputs": [],
   "source": [
    "root.mainloop()"
   ]
  },
  {
   "cell_type": "markdown",
   "metadata": {},
   "source": [
    "## O uso de imagens como `Label`"
   ]
  },
  {
   "cell_type": "code",
   "execution_count": 39,
   "metadata": {
    "ExecuteTime": {
     "end_time": "2019-08-14T21:05:56.111060Z",
     "start_time": "2019-08-14T21:05:56.107119Z"
    }
   },
   "outputs": [],
   "source": [
    "import tkinter as tk"
   ]
  },
  {
   "cell_type": "code",
   "execution_count": 40,
   "metadata": {
    "ExecuteTime": {
     "end_time": "2019-08-14T21:05:56.735425Z",
     "start_time": "2019-08-14T21:05:56.711233Z"
    }
   },
   "outputs": [],
   "source": [
    "root = tk.Tk()"
   ]
  },
  {
   "cell_type": "code",
   "execution_count": 42,
   "metadata": {
    "ExecuteTime": {
     "end_time": "2019-08-14T21:06:50.470822Z",
     "start_time": "2019-08-14T21:06:50.443566Z"
    }
   },
   "outputs": [],
   "source": [
    "logo = tk.PhotoImage(file=\"Figs/tk.png\")"
   ]
  },
  {
   "cell_type": "markdown",
   "metadata": {
    "lang": "pt"
   },
   "source": [
    "Alguns formatos não são suportados pelo PhotoImage, os surportados são somente: PGM, PPM, GIF, PNG"
   ]
  },
  {
   "cell_type": "code",
   "execution_count": 44,
   "metadata": {
    "ExecuteTime": {
     "end_time": "2019-08-14T21:07:56.000781Z",
     "start_time": "2019-08-14T21:07:55.982390Z"
    }
   },
   "outputs": [],
   "source": [
    "w = tk.Label(root,\n",
    "         image=logo)\n",
    "w.pack()"
   ]
  },
  {
   "cell_type": "code",
   "execution_count": 45,
   "metadata": {
    "ExecuteTime": {
     "end_time": "2019-08-14T21:08:01.182038Z",
     "start_time": "2019-08-14T21:07:58.790171Z"
    }
   },
   "outputs": [],
   "source": [
    "root.mainloop()"
   ]
  },
  {
   "cell_type": "markdown",
   "metadata": {
    "lang": "pt"
   },
   "source": [
    "## Aplicando cor e fonte diferente ao Label"
   ]
  },
  {
   "cell_type": "code",
   "execution_count": 54,
   "metadata": {
    "ExecuteTime": {
     "end_time": "2019-08-14T21:09:30.414508Z",
     "start_time": "2019-08-14T21:09:30.411992Z"
    }
   },
   "outputs": [],
   "source": [
    "import tkinter as tk"
   ]
  },
  {
   "cell_type": "code",
   "execution_count": 55,
   "metadata": {
    "ExecuteTime": {
     "end_time": "2019-08-14T21:09:31.011027Z",
     "start_time": "2019-08-14T21:09:30.976701Z"
    }
   },
   "outputs": [],
   "source": [
    "root = tk.Tk()"
   ]
  },
  {
   "cell_type": "code",
   "execution_count": 56,
   "metadata": {
    "ExecuteTime": {
     "end_time": "2019-08-14T21:09:31.379886Z",
     "start_time": "2019-08-14T21:09:31.375571Z"
    }
   },
   "outputs": [],
   "source": [
    "data = \"O Python é muito fácil\""
   ]
  },
  {
   "cell_type": "code",
   "execution_count": 57,
   "metadata": {
    "ExecuteTime": {
     "end_time": "2019-08-14T21:09:31.840481Z",
     "start_time": "2019-08-14T21:09:31.826693Z"
    }
   },
   "outputs": [],
   "source": [
    "w = tk.Label(root,\n",
    "         fg='red',\n",
    "         bg='yellow',\n",
    "         text=data,\n",
    "         font=(\"Helvetica\", 16)\n",
    ")\n",
    "w.pack()"
   ]
  },
  {
   "cell_type": "code",
   "execution_count": 58,
   "metadata": {
    "ExecuteTime": {
     "end_time": "2019-08-14T21:09:35.493534Z",
     "start_time": "2019-08-14T21:09:32.481154Z"
    }
   },
   "outputs": [],
   "source": [
    "root.mainloop()"
   ]
  },
  {
   "cell_type": "code",
   "execution_count": null,
   "metadata": {
    "collapsed": true
   },
   "outputs": [],
   "source": []
  }
 ],
 "metadata": {
  "kernelspec": {
   "display_name": "Python 3",
   "language": "python",
   "name": "python3"
  },
  "language_info": {
   "codemirror_mode": {
    "name": "ipython",
    "version": 3
   },
   "file_extension": ".py",
   "mimetype": "text/x-python",
   "name": "python",
   "nbconvert_exporter": "python",
   "pygments_lexer": "ipython3",
   "version": "3.6.8"
  },
  "latex_envs": {
   "LaTeX_envs_menu_present": true,
   "autoclose": false,
   "autocomplete": false,
   "bibliofile": "biblio.bib",
   "cite_by": "apalike",
   "current_citInitial": 1,
   "eqLabelWithNumbers": true,
   "eqNumInitial": 1,
   "hotkeys": {
    "equation": "Ctrl-E",
    "itemize": "Ctrl-I"
   },
   "labels_anchors": false,
   "latex_user_defs": false,
   "report_style_numbering": false,
   "user_envs_cfg": false
  },
  "nbTranslate": {
   "displayLangs": [
    "pt",
    "en"
   ],
   "hotkey": "alt-t",
   "langInMainMenu": true,
   "sourceLang": "en",
   "targetLang": "pt",
   "useGoogleTranslate": true
  },
  "toc": {
   "base_numbering": 1,
   "nav_menu": {},
   "number_sections": true,
   "sideBar": true,
   "skip_h1_title": false,
   "title_cell": "Table of Contents",
   "title_sidebar": "Contents",
   "toc_cell": false,
   "toc_position": {},
   "toc_section_display": true,
   "toc_window_display": false
  }
 },
 "nbformat": 4,
 "nbformat_minor": 2
}
