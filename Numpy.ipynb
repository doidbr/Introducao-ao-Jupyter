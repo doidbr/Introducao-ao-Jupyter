{
 "cells": [
  {
   "cell_type": "markdown",
   "metadata": {},
   "source": [
    "<img src=\"Figs/Cab_IF_Red_01.png\" alt=\"drawing\" width=\"80%\"/>\n",
    "\n",
    "\n",
    "<!--\n",
    "\n",
    "<img href=\"Figs/Cab_IF_Red_01.png\" style=\"width: 80%;\" /> doesn't work\n",
    "\n",
    "![Logotipo do IF](../Figs/Cab_IF_Red_01.png){ width=50% }\n",
    "\n",
    "<h1> <span style=\"color:blue\">Curso de Python</span> </h1> \n",
    "-->\n",
    "\n",
    "<p style=\"margin-bottom:1cm;\"> </p>\n",
    "\n",
    "\n",
    "<center> <font size=\"6\" color=\"blue\">Curso de Python</font> </center>\n",
    "\n",
    "\n",
    "<font size=\"4\" color=\"blue\">**Prof. :** Salviano A. Leão -- Instituto de Física - UFG-GO</font>\n"
   ]
  },
  {
   "cell_type": "markdown",
   "metadata": {},
   "source": [
    "Python Numérico (numpy): arrays\n",
    "================================\n",
    "\n",
    "Introdução a biblioteca Numpy\n",
    "------------------\n",
    "\n",
    "A biblioteca NumPy (leia como *NUMerical PYthon*) fornece acesso a\n",
    "\n",
    "- uma nova estrutura de dados chamada `array`s que permite:\n",
    "\n",
    "    - operações vetoriais e matriciais eficientes. Também fornece\n",
    "\n",
    "    - um número de operações de álgebra linear (tais como a resolução de sistemas de equações lineares, computação de autovetore e autovalores (Eigenvectors e Eigenvalues)).\n",
    "\n",
    "- [NumPy: creating and manipulating numerical data](http://www.scipy-lectures.org/intro/numpy/numpy.html)\n",
    "\n",
    "\n",
    "### História\n",
    "\n",
    "Algumas informações de segundo plano: Existem duas outras implementações que fornecem quase a mesma funcionalidade cda NumPy. Estes são chamados de \"numérico\" e \"numarray\":\n",
    "\n",
    "- Numeric foi a primeira provisão de um conjunto de métodos numéricos (semelhante ao Matlab) para Python. Ele evoluiu de um projeto de doutorado.\n",
    "\n",
    "- Numarray é uma re-implementação de Numeric com certas melhorias (mas para os nossos propósitos Numérico e Numarray se comportam praticamente idênticos).\n",
    "\n",
    "- No início de 2006, decidiu-se combinar os melhores aspectos de Numeric e Numarray no pacote Scientific Python (<span>`scipy`</span>) e fornecer um tipo de dados `array` Nome do módulo \"NumPy\".\n",
    "\n",
    "Usaremos nos seguintes materiais o pacote \"NumPy\" fornecido pelo (novo) SciPy. Se por alguma razão isso não funcionar para você, as chances são de que seu SciPy seja muito velho. Nesse caso, você encontrará que \"Numeric\" ou \"numarray\" está instalado e deve fornecer quase as mesmas capacidades. [5]\n",
    "\n",
    "### Matrizes (arrays)\n",
    "\n",
    "Introduzimos um novo tipo de dados (fornecido por NumPy) que é chamado de `array`. Uma matriz *surge* de forma muito semelhante a uma lista, mas uma matriz pode manter apenas elementos do mesmo tipo (enquanto uma lista pode misturar diferentes tipos de objetos). Isso significa que os *arrays* são mais eficientes para armazenar (porque não precisamos armazenar o tipo para cada elemento). Isso também torna as matrizes (*arrays*) como sendo a estrutura de dados a ser escolhida para cálculos numéricos onde muitas vezes lidamos com vetores e matrizes.\n",
    "\n",
    "\n",
    "A principal diferença com as listas é que as matrizes no numpy são de um tipo só ou seja, nas listas da para misturar string, inteiros, reais, complexos, etc, o que você bem entender; já nos vetores do numpy você só pode usar objetos de um mesmo tipo ou inteiros, ou reais ou complexos (sendo que cada um deles pode ser de diversas precisões, como se mostra na tabela embaixo) \n",
    "\n",
    "\n",
    "|          Tipo         |                                    Descrição                                    |\n",
    "|-----------------------|---------------------------------------------------------------------------------|\n",
    "| bool                  | verdadeiro ou Falso, 1 bit                                                      |\n",
    "| int8                  | Byte ($-128$ a $127$)                                                           |\n",
    "| int16                 | Inteiro ($-32768$ a $32767$)                                                    |\n",
    "| int32                 | Inteiro $\\left(2\\times10^{31}\\right.$ a $\\left.2\\times10^{31}-1\\right)$         |\n",
    "| int64                 | Inteiro $\\left(2\\times10^{63}\\right.$ a $\\left.2\\times10^{63}-1\\right)$         |\n",
    "| uint8                 | Byte ($0$ a $255$)                                                              |\n",
    "| uint16                | Inteiro ($0$ a $65535$)                                                         |\n",
    "| uint32                | Inteiro $\\left(0\\right.$ a $\\left.2\\times10^{32}-1\\right)$                      |\n",
    "| uint64                | Inteiro $\\left(0\\right.$ a $\\left.2\\times10^{64}-1\\right)$                      |\n",
    "| float16               | real de precisão média: bit de sinal, expoente de 5 bits e 10 bits de mantisa   |\n",
    "| float32               | real de precisão simples: bit de sinal, expoente de 8 bits e 23 bits de mantisa |\n",
    "| float64 ou float      | real de precisão dupla: bit de sinal, expoente de 11 bits e 52 bits de mantisa  |\n",
    "| complex64             | número complexo formado por 2 float32 - parte real e imaginaria                 |\n",
    "| complex128 ou complex | número complexo formado por 2 float64 - parte real e imaginaria                 |\n",
    "\n",
    "\n",
    "\n",
    "## Os objetos fundamentais NumPy\n",
    "\n",
    "Toda a funcionalidade da computação científica da NumPy e da SciPy é construída em torno de dois tipos básicos de objetos da NumPy. O primeiro objeto é uma matriz n-dimensional conhecida como ndarray, e o segundo objeto é uma função universal chamada ufunc. Além destes dois objetos, há um número de outros objetos construídos em cima deles.\n",
    "\n",
    "### O objeto ndarray\n",
    "\n",
    "O objeto ndarray é uma coleção homogênea de elementos que são indexados usando N inteiros, onde N é a dimensão da matriz. Existem dois atributos importantes de ndarray. O primeiro é o tipo de dados dos elementos da matriz, chamado dtype, eo segundo é a forma da matriz. O tipo de dados aqui pode ser qualquer tipo de dados suportado pelo Python. A forma dos arrays é uma N-tupla, ou seja, uma coleção de N elementos para a matriz N-dimensional, onde cada elemento da tupla define o número de elementos nessa dimensão da matriz.\n",
    "\n",
    "\n",
    "#### Operações com vetores no numpy\n",
    "\n",
    "Vejamos algumas das operações, elemento a elemento que podem ser feitas sobre vetores numpy. Se você vai usar algum desse métodos lembre-se que devemos escrever numpy.metodo onde método é alguma das operações que são descrita a seguir:\n",
    "\n",
    "**Operações sobre matrizes numpy**\n",
    "\n",
    "\n",
    "**Definição dos elementos da matriz**\n",
    "\n",
    "|         Método            |                                Resultado                                        |\n",
    "|:--------------------------|:--------------------------------------------------------------------------------|\n",
    "| zeros((N,M))              | vetor com zeros, M linhas, N colunas                                            |\n",
    "| ones((M,N))               | vetor com uns, $M\\times N$                                                      |\n",
    "| empty((M,N))              | vetor vazio (qualquer valor), $M\\times N$                                       |\n",
    "|                           |                                                                                 |\n",
    "| zeros_like(A)             | vetor com zeros, formato do A.                                                  |\n",
    "| ones_like(A)              | vetor com uns, formato do A.                                                    |\n",
    "| empty_like(A)             | vetor vazio, formato do A.                                                      |\n",
    "|                           |                                                                                 |\n",
    "| random.random((M,N))      | vetor com números aleatórios, $M\\times N$                                       |\n",
    "| identity(N,float)         | matriz identidade $N\\times N$, ponto flutuante                                  |\n",
    "| array([(1.5,2,3),(4,5,6)])| especifica os valores da matriz                                                 |\n",
    "| mgrid[1:3,2:5]            | grade retangular x=[1,2] e y=[2,3,4]                                            |\n",
    "|                           |                                                                                 |\n",
    "| fromfunction(f, (M,N))    | matriz calculada com função f(i,j), $M\\times N$                                 |\n",
    "| arange(I, F, P)           | vetor com inicio I, fim F, passo P                                              |\n",
    "| linspace(I,F,N)           | vetor com N números de I até F                                                  |\n",
    "\n",
    "**Operações sobre matrizes numpy**\n",
    "\n",
    "\n",
    "|         Método            |                                Resultado                                        |\n",
    "|:--------------------------|:--------------------------------------------------------------------------------|\n",
    "| A.sum()                   | soma dos itens                                                                  |\n",
    "| A.min()                   | valor mínimo                                                                    |\n",
    "| A.max()                   | valor máximo                                                                    |\n",
    "| A.mean()                  | média aritmética                                                                |\n",
    "| A.std()                   | desvio padrão                                                                   |\n",
    "| A.var()                   | variância                                                                       |\n",
    "| A.trace()                 | traço                                                                           |\n",
    "| A.size()                  | número de elementos                                                             |\n",
    "| A.shape()                 | formato                                                                         |\n",
    "| A.ptp()                   | pico-a-pico (máximo - mínimo)                                                   |\n",
    "| A.ravel()                 | versão 1D                                                                       |\n",
    "| A.transpose(), A.T        | matriz transposta                                                               |\n",
    "| A.resize(M,N)             | reforma ou trunca a matriz in situ                                              |\n",
    "| A.reshape(M,N)            | retorna matriz com novo formato                                                 |\n",
    "| A.clip(Amin,Amax)         | corta valores em Amin e Amax                                                    |\n",
    "| A.compress(condição)      | seleciona elementos baseado em condição                                         |\n",
    "| A.conjugate()             | complexo conjugado                                                              |\n",
    "| A.copy()                  | retorna copia                                                                   |\n",
    "| A.fill(valor)             | preenche com valor                                                              |\n",
    "\n",
    "\n",
    "\n",
    "**Definição dos elementos da matriz**\n",
    "\n",
    "|         Método            |                                Resultado                                        |\n",
    "|:--------------------------|:--------------------------------------------------------------------------------|\n",
    "| zeros((N,M))              | vetor com zeros, M linhas, N colunas                                            |\n",
    "| ones((M,N))               | vetor com uns, $M\\times N$                                                      |\n",
    "| empty((M,N))              | vetor vazio (qualquer valor), $M\\times N$                                       |\n",
    "|                           |                                                                                 |\n",
    "| zeros_like(A)             | vetor com zeros, formato do A.                                                  |\n",
    "| ones_like(A)              | vetor com uns, formato do A.                                                    |\n",
    "| empty_like(A)             | vetor vazio, formato do A.                                                      |\n",
    "|                           |                                                                                 |\n",
    "| random.random((M,N))      | vetor com números aleatórios, $M\\times N$                                       |\n",
    "| identity(N,float)         | matriz identidade $N\\times N$, ponto flutuante                                  |\n",
    "| array([(1.5,2,3),(4,5,6)])| especifica os valores da matriz                                                 |\n",
    "| mgrid[1:3,2:5]            | grade retangular x=[1,2] e y=[2,3,4]                                            |\n",
    "|                           |                                                                                 |\n",
    "| fromfunction(f, (M,N))    | matriz calculada com função f(i,j), $M\\times N$                                 |\n",
    "| arange(I, F, P)           | vetor com inicio I, fim F, passo P                                              |\n",
    "| linspace(I,F,N)           | vetor com N números de I até F                                                  |\n",
    "\n",
    "**Operações sobre matrizes numpy**\n",
    "\n",
    "\n",
    "|         Método            |                                Resultado                                        |\n",
    "|:--------------------------|:--------------------------------------------------------------------------------|\n",
    "| A.sum()                   | soma dos itens                                                                  |\n",
    "| A.min()                   | valor mínimo                                                                    |\n",
    "| A.max()                   | valor máximo                                                                    |\n",
    "| A.mean()                  | média aritmética                                                                |\n",
    "| A.std()                   | desvio padrão                                                                   |\n",
    "| A.var()                   | variância                                                                       |\n",
    "| A.trace()                 | traço                                                                           |\n",
    "| A.size()                  | número de elementos                                                             |\n",
    "| A.shape()                 | formato                                                                         |\n",
    "| A.ptp()                   | pico-a-pico (máximo - mínimo)                                                   |\n",
    "| A.ravel()                 | versão 1D                                                                       |\n",
    "| A.transpose(), A.T        | matriz transposta                                                               |\n",
    "| A.resize(M,N)             | reforma ou trunca a matriz in situ                                              |\n",
    "| A.reshape(M,N)            | retorna matriz com novo formato                                                 |\n",
    "| A.clip(Amin,Amax)         | corta valores em Amin e Amax                                                    |\n",
    "| A.compress(condição)      | seleciona elementos baseado em condição                                         |\n",
    "| A.conjugate()             | complexo conjugado                                                              |\n",
    "| A.copy()                  | retorna copia                                                                   |\n",
    "| A.fill(valor)             | preenche com valor                                                              |\n",
    "\n",
    "\n",
    "|         Método              |                                Resultado                                            |\n",
    "|:----------------------------|:------------------------------------------------------------------------------------|\n",
    "| C = A-B, C=A+B, C=A*B,      | operações elemento a elemento, por exemplo: $\\left(C_{ij}=A_{ij}-B_{ij}\\right)$     |     \n",
    "| C=A/B, `A**2`               | operações elemento a elemento                                                       |                 \n",
    "|                             |                                                                                     |                                                                                             \n",
    "| dot(A,B), mat(A)*mat(B)     | produto matricial                                                                   |                   \n",
    "| inner(A, B)                 | produto interno                                                                     |                   \n",
    "| outer(A, B)                 | produto externo                                                                     |                   \n",
    "| concatenate(arrays, axis=0) | concatena vetores                                                                   |                 \n",
    "| vstack(A,B)                 | empilha verticalmente vetores                                                       |                   \n",
    "| hstack(A,B)                 | empilha horizontalmente vetores                                                     |                   \n",
    "| vsplit(A,2)                 | parte verticalmente vetor                                                           |\n",
    "| hsplit(A,2)                 | parte horizontalmente vetor                                                         |                  \n",
    "|                             |                                                                                     |   \n",
    "| A[0]                        | primeiro elemento                                                                   |                   \n",
    "| A[i][j], A[i,j]             | convenção dos índices $A_{ij}$, (linha $i$, coluna $j$)                             |           \n",
    "| A[3][2]                     | $A_{32}$ $3^{\\underline{o}}$ elemento na $4^{\\underline{a}}$ linha                  |           \n",
    "| A[1]                        | $2^{\\underline{a}}$ linha                                                           |                   \n",
    "|                             |                                                                                     |              \n",
    "| x[2]                        | $3^{\\underline{o}}$ elemento                                                        |                   \n",
    "| x[-2]                       | penúltimo elemento (índice contando do fim)                                         |                   \n",
    "| x[2:5]                      | subvetor que vai do  $3^{\\underline{o}}$ até o $5^{\\underline{o}}$: $\\left[x[2],\\,x[3],\\,x[4]\\right]$ | \n",
    "| x[:5]                       | elementos desde x[0] até x[4]                                                       |                   \n",
    "| x[2:]                       | do terceiro elemento até o fim                                                      |                   \n",
    "| x[:]                        | todo o vetor                                                                        |                   \n",
    "| x[2:9:3]                    | do terceiro até o decimo elemento de, três em três: $\\left[ x[2],\\,x[5],\\,x[8]\\right]$                 |\n",
    "| x[numpy.where(x>7)]         | elementos em x maiores que 7                                                        |                 \n",
    "\n",
    "\n",
    "\n",
    "\n",
    "vejamos alguns exemplos, para definirmos uma matriz ou um vetor existem diversas forma: \n",
    "\n",
    "\n",
    "\n",
    "\n",
    "### Os atributos de uma matriz\n",
    "\n",
    "Além da forma e dtype, os outros atributos importantes de um array são os seguintes:\n",
    "\n",
    "- `size`\n",
    "- `itemsize`\n",
    "- `data`\n",
    "- `ndim`\n",
    "\n",
    "O `itemsize` é o comprimento de um elemento da matriz em bytes e o atributo `data` é um objeto de buffer Python que aponta para o início dos dados da matriz. Vamos entender o conceito de forma, tipo de dados e outros atributos com a ajuda do seguinte programa Python:"
   ]
  },
  {
   "cell_type": "code",
   "execution_count": 2,
   "metadata": {
    "ExecuteTime": {
     "end_time": "2018-05-23T19:59:12.728732Z",
     "start_time": "2018-05-23T19:59:12.722890Z"
    }
   },
   "outputs": [
    {
     "name": "stdout",
     "output_type": "stream",
     "text": [
      "x2d.shape =  (3, 3)\n",
      "x2d.dtype =  float64\n",
      "x2d.size =  9\n",
      "x2d.itemsize =  8\n",
      "x2d.ndim =  2\n",
      "x2d.data =  <memory at 0x7f0f40b2c480>\n"
     ]
    }
   ],
   "source": [
    "import numpy as np\n",
    "x2d = np.array( (\n",
    "                 (100,200,300.0),\n",
    "                 (111,222,333),\n",
    "                 (123,456,789) ) )\n",
    "print('x2d.shape = ',x2d.shape)\n",
    "print('x2d.dtype = ',x2d.dtype)\n",
    "print('x2d.size = ',x2d.size)\n",
    "print('x2d.itemsize = ',x2d.itemsize)\n",
    "print('x2d.ndim = ',x2d.ndim)\n",
    "print('x2d.data = ',x2d.data)"
   ]
  },
  {
   "cell_type": "code",
   "execution_count": 4,
   "metadata": {
    "ExecuteTime": {
     "end_time": "2018-05-23T20:10:32.794912Z",
     "start_time": "2018-05-23T20:10:32.786623Z"
    }
   },
   "outputs": [
    {
     "name": "stdout",
     "output_type": "stream",
     "text": [
      "[[-0.50636564 -0.8732973  -0.99975584]\n",
      " [-0.86455145  0.86895084 -0.00882117]\n",
      " [-0.45990349 -0.45205268 -0.44416668]]\n",
      "\n",
      "-0.5063656411097588 -0.8732972972139946 -0.9997558399011495\n",
      "-0.8645514486106083 0.8689508382163493 -0.9997558399011495\n",
      "-0.45990349068959124 -0.45205267588297 -0.9997558399011495\n"
     ]
    }
   ],
   "source": [
    "import math\n",
    "print(np.sin(x2d))\n",
    "print()\n",
    "for i in range(3):\n",
    "    print(math.sin(x2d[i,0]),math.sin(x2d[i,1]),math.sin(x2d[0,2]))"
   ]
  },
  {
   "cell_type": "code",
   "execution_count": 2,
   "metadata": {
    "ExecuteTime": {
     "end_time": "2018-06-04T12:12:03.845332Z",
     "start_time": "2018-06-04T12:12:03.842577Z"
    }
   },
   "outputs": [],
   "source": [
    "import numpy as np\n",
    "import math\n",
    "n=10000"
   ]
  },
  {
   "cell_type": "code",
   "execution_count": 5,
   "metadata": {
    "ExecuteTime": {
     "end_time": "2018-06-04T12:12:26.390028Z",
     "start_time": "2018-06-04T12:12:24.285345Z"
    }
   },
   "outputs": [
    {
     "name": "stdout",
     "output_type": "stream",
     "text": [
      "2.58 ms ± 596 µs per loop (mean ± std. dev. of 7 runs, 100 loops each)\n"
     ]
    }
   ],
   "source": [
    "%%timeit \n",
    "for x in range(n): \n",
    "    math.sin(x)"
   ]
  },
  {
   "cell_type": "code",
   "execution_count": 6,
   "metadata": {
    "ExecuteTime": {
     "end_time": "2018-06-04T12:14:53.422962Z",
     "start_time": "2018-06-04T12:14:49.867824Z"
    }
   },
   "outputs": [
    {
     "name": "stdout",
     "output_type": "stream",
     "text": [
      "434 µs ± 5.98 µs per loop (mean ± std. dev. of 7 runs, 1000 loops each)\n"
     ]
    }
   ],
   "source": [
    "%%timeit\n",
    "x=np.linspace(1,n,n)\n",
    "np.sin(x)"
   ]
  },
  {
   "cell_type": "code",
   "execution_count": 5,
   "metadata": {
    "ExecuteTime": {
     "end_time": "2018-05-23T20:10:56.168400Z",
     "start_time": "2018-05-23T20:10:56.160629Z"
    }
   },
   "outputs": [],
   "source": [
    "y2d=np.array( [\n",
    "                 (110,210,310),\n",
    "                 (101,202,303),\n",
    "                 (120,450,780) ] )"
   ]
  },
  {
   "cell_type": "code",
   "execution_count": 6,
   "metadata": {
    "ExecuteTime": {
     "end_time": "2018-05-23T20:11:06.948663Z",
     "start_time": "2018-05-23T20:11:06.934286Z"
    }
   },
   "outputs": [
    {
     "name": "stdout",
     "output_type": "stream",
     "text": [
      "[[ 210.  410.  610.]\n",
      " [ 212.  424.  636.]\n",
      " [ 243.  906. 1569.]]\n"
     ]
    },
    {
     "data": {
      "text/plain": [
       "numpy.ndarray"
      ]
     },
     "execution_count": 6,
     "metadata": {},
     "output_type": "execute_result"
    }
   ],
   "source": [
    "x = x2d+y2d\n",
    "print(x)\n",
    "type(x)"
   ]
  },
  {
   "cell_type": "code",
   "execution_count": 8,
   "metadata": {
    "ExecuteTime": {
     "end_time": "2018-05-23T20:12:04.594385Z",
     "start_time": "2018-05-23T20:12:04.587050Z"
    }
   },
   "outputs": [
    {
     "name": "stdout",
     "output_type": "stream",
     "text": [
      "[[ 67200. 196400. 325600.]\n",
      " [ 74592. 218004. 361416.]\n",
      " [154266. 472992. 791718.]]\n",
      "\n",
      "[[0. 0. 0.]\n",
      " [0. 0. 0.]\n",
      " [0. 0. 0.]]\n"
     ]
    }
   ],
   "source": [
    "m1 = np.dot(x2d,y2d)\n",
    "m2 = np.mat(x2d) * np.mat(y2d)\n",
    "c = m1 - m2\n",
    "print(m1)\n",
    "print()\n",
    "print(c)"
   ]
  },
  {
   "cell_type": "markdown",
   "metadata": {},
   "source": [
    "Vetores e matrizes (e matrizes com mais de dois índices) são todos chamados \"arrays\" em NumPy.\n",
    "\n",
    "#### Vectores (1d-arrays)\n",
    "\n",
    "A estrutura de dados que precisamos mais frequentemente é um vetor. Aqui estão alguns exemplos de como podemos gerar um:\n",
    "\n",
    "- Conversão de uma lista (ou tupla) em uma matriz usando <span>`numpy.array`</span>:"
   ]
  },
  {
   "cell_type": "code",
   "execution_count": 1,
   "metadata": {
    "ExecuteTime": {
     "end_time": "2018-05-28T19:25:05.305912Z",
     "start_time": "2018-05-28T19:25:04.763894Z"
    }
   },
   "outputs": [
    {
     "name": "stdout",
     "output_type": "stream",
     "text": [
      "x.dtype =  float64\n",
      "[0.  0.5 1.  1.5 2. ]\n"
     ]
    }
   ],
   "source": [
    "import numpy as np\n",
    "x = np.array([0, 0.5, 1, 1.5, 2])\n",
    "print('x.dtype = ',x.dtype)\n",
    "print(x)"
   ]
  },
  {
   "cell_type": "code",
   "execution_count": 11,
   "metadata": {
    "ExecuteTime": {
     "end_time": "2018-05-23T20:12:54.513613Z",
     "start_time": "2018-05-23T20:12:54.509970Z"
    }
   },
   "outputs": [
    {
     "name": "stdout",
     "output_type": "stream",
     "text": [
      "[1, 2, 4, 5, 8]\n",
      "[1 2 4 5 8]\n"
     ]
    }
   ],
   "source": [
    "# Lista\n",
    "L = [1, 2, 4, 5, 8]\n",
    "print(L)\n",
    "print(np.array(L))"
   ]
  },
  {
   "cell_type": "markdown",
   "metadata": {},
   "source": [
    "Criando linhas:"
   ]
  },
  {
   "cell_type": "code",
   "execution_count": 12,
   "metadata": {
    "ExecuteTime": {
     "end_time": "2018-05-23T20:16:32.186095Z",
     "start_time": "2018-05-23T20:16:32.174743Z"
    }
   },
   "outputs": [
    {
     "name": "stdout",
     "output_type": "stream",
     "text": [
      "x.dtype =  float64\n",
      "[[0. ]\n",
      " [0.5]\n",
      " [1. ]\n",
      " [1.5]\n",
      " [2. ]]\n"
     ]
    }
   ],
   "source": [
    "x = np.array([[0], [0.5], [1], [1.5], [2]])\n",
    "print('x.dtype = ',x.dtype)\n",
    "print(x)"
   ]
  },
  {
   "cell_type": "code",
   "execution_count": 13,
   "metadata": {
    "ExecuteTime": {
     "end_time": "2018-05-23T20:18:31.447476Z",
     "start_time": "2018-05-23T20:18:31.442352Z"
    }
   },
   "outputs": [
    {
     "name": "stdout",
     "output_type": "stream",
     "text": [
      "Help on built-in function array in module numpy.core.multiarray:\n",
      "\n",
      "array(...)\n",
      "    array(object, dtype=None, copy=True, order='K', subok=False, ndmin=0)\n",
      "    \n",
      "    Create an array.\n",
      "    \n",
      "    Parameters\n",
      "    ----------\n",
      "    object : array_like\n",
      "        An array, any object exposing the array interface, an object whose\n",
      "        __array__ method returns an array, or any (nested) sequence.\n",
      "    dtype : data-type, optional\n",
      "        The desired data-type for the array.  If not given, then the type will\n",
      "        be determined as the minimum type required to hold the objects in the\n",
      "        sequence.  This argument can only be used to 'upcast' the array.  For\n",
      "        downcasting, use the .astype(t) method.\n",
      "    copy : bool, optional\n",
      "        If true (default), then the object is copied.  Otherwise, a copy will\n",
      "        only be made if __array__ returns a copy, if obj is a nested sequence,\n",
      "        or if a copy is needed to satisfy any of the other requirements\n",
      "        (`dtype`, `order`, etc.).\n",
      "    order : {'K', 'A', 'C', 'F'}, optional\n",
      "        Specify the memory layout of the array. If object is not an array, the\n",
      "        newly created array will be in C order (row major) unless 'F' is\n",
      "        specified, in which case it will be in Fortran order (column major).\n",
      "        If object is an array the following holds.\n",
      "    \n",
      "        ===== ========= ===================================================\n",
      "        order  no copy                     copy=True\n",
      "        ===== ========= ===================================================\n",
      "        'K'   unchanged F & C order preserved, otherwise most similar order\n",
      "        'A'   unchanged F order if input is F and not C, otherwise C order\n",
      "        'C'   C order   C order\n",
      "        'F'   F order   F order\n",
      "        ===== ========= ===================================================\n",
      "    \n",
      "        When ``copy=False`` and a copy is made for other reasons, the result is\n",
      "        the same as if ``copy=True``, with some exceptions for `A`, see the\n",
      "        Notes section. The default order is 'K'.\n",
      "    subok : bool, optional\n",
      "        If True, then sub-classes will be passed-through, otherwise\n",
      "        the returned array will be forced to be a base-class array (default).\n",
      "    ndmin : int, optional\n",
      "        Specifies the minimum number of dimensions that the resulting\n",
      "        array should have.  Ones will be pre-pended to the shape as\n",
      "        needed to meet this requirement.\n",
      "    \n",
      "    Returns\n",
      "    -------\n",
      "    out : ndarray\n",
      "        An array object satisfying the specified requirements.\n",
      "    \n",
      "    See Also\n",
      "    --------\n",
      "    empty, empty_like, zeros, zeros_like, ones, ones_like, full, full_like\n",
      "    \n",
      "    Notes\n",
      "    -----\n",
      "    When order is 'A' and `object` is an array in neither 'C' nor 'F' order,\n",
      "    and a copy is forced by a change in dtype, then the order of the result is\n",
      "    not necessarily 'C' as expected. This is likely a bug.\n",
      "    \n",
      "    Examples\n",
      "    --------\n",
      "    >>> np.array([1, 2, 3])\n",
      "    array([1, 2, 3])\n",
      "    \n",
      "    Upcasting:\n",
      "    \n",
      "    >>> np.array([1, 2, 3.0])\n",
      "    array([ 1.,  2.,  3.])\n",
      "    \n",
      "    More than one dimension:\n",
      "    \n",
      "    >>> np.array([[1, 2], [3, 4]])\n",
      "    array([[1, 2],\n",
      "           [3, 4]])\n",
      "    \n",
      "    Minimum dimensions 2:\n",
      "    \n",
      "    >>> np.array([1, 2, 3], ndmin=2)\n",
      "    array([[1, 2, 3]])\n",
      "    \n",
      "    Type provided:\n",
      "    \n",
      "    >>> np.array([1, 2, 3], dtype=complex)\n",
      "    array([ 1.+0.j,  2.+0.j,  3.+0.j])\n",
      "    \n",
      "    Data-type consisting of more than one element:\n",
      "    \n",
      "    >>> x = np.array([(1,2),(3,4)],dtype=[('a','<i4'),('b','<i4')])\n",
      "    >>> x['a']\n",
      "    array([1, 3])\n",
      "    \n",
      "    Creating an array from sub-classes:\n",
      "    \n",
      "    >>> np.array(np.mat('1 2; 3 4'))\n",
      "    array([[1, 2],\n",
      "           [3, 4]])\n",
      "    \n",
      "    >>> np.array(np.mat('1 2; 3 4'), subok=True)\n",
      "    matrix([[1, 2],\n",
      "            [3, 4]])\n",
      "\n"
     ]
    }
   ],
   "source": [
    "# Para ver toda as possibilidades de array\n",
    "help(np.array)"
   ]
  },
  {
   "cell_type": "markdown",
   "metadata": {},
   "source": [
    "-   Criação de um vetor usando “Array RANGE”:"
   ]
  },
  {
   "cell_type": "code",
   "execution_count": 16,
   "metadata": {
    "ExecuteTime": {
     "end_time": "2018-05-23T20:22:29.777548Z",
     "start_time": "2018-05-23T20:22:29.773434Z"
    }
   },
   "outputs": [
    {
     "name": "stdout",
     "output_type": "stream",
     "text": [
      "[0.  0.5 1.  1.5 2.  2.5]\n"
     ]
    }
   ],
   "source": [
    "y0 = 0.0   # Ponto inicial\n",
    "yf = 2.5   # Ponto final\n",
    "Np = 6     # Número de pontos\n",
    "y = np.linspace(y0,yf,Np) \n",
    "print(y)"
   ]
  },
  {
   "cell_type": "code",
   "execution_count": 2,
   "metadata": {
    "ExecuteTime": {
     "end_time": "2018-05-28T19:25:17.092517Z",
     "start_time": "2018-05-28T19:25:17.088007Z"
    }
   },
   "outputs": [
    {
     "name": "stdout",
     "output_type": "stream",
     "text": [
      "[0.   0.25 0.5  0.75 1.   1.25 1.5  1.75 2.   2.25]\n"
     ]
    }
   ],
   "source": [
    "x0 = 0.0   # Ponto inicial\n",
    "xf = 2.5   # Ponto final\n",
    "passo = 0.25     # Passo \n",
    "x = np.arange(x0, xf, passo)\n",
    "print(x)"
   ]
  },
  {
   "cell_type": "markdown",
   "metadata": {},
   "source": [
    "Criando linhas:"
   ]
  },
  {
   "cell_type": "code",
   "execution_count": 3,
   "metadata": {
    "ExecuteTime": {
     "end_time": "2018-05-28T19:25:21.923347Z",
     "start_time": "2018-05-28T19:25:21.885486Z"
    }
   },
   "outputs": [
    {
     "data": {
      "text/plain": [
       "array([[0.  ],\n",
       "       [0.25],\n",
       "       [0.5 ],\n",
       "       [0.75],\n",
       "       [1.  ],\n",
       "       [1.25],\n",
       "       [1.5 ],\n",
       "       [1.75],\n",
       "       [2.  ],\n",
       "       [2.25]])"
      ]
     },
     "execution_count": 3,
     "metadata": {},
     "output_type": "execute_result"
    }
   ],
   "source": [
    "x = np.array([x])\n",
    "\n",
    "y=np.transpose(x)\n",
    "y"
   ]
  },
  {
   "cell_type": "markdown",
   "metadata": {},
   "source": [
    "-   Criação de vetores com zeros"
   ]
  },
  {
   "cell_type": "code",
   "execution_count": 5,
   "metadata": {
    "ExecuteTime": {
     "end_time": "2018-05-28T19:28:33.394523Z",
     "start_time": "2018-05-28T19:28:33.381083Z"
    }
   },
   "outputs": [
    {
     "name": "stdout",
     "output_type": "stream",
     "text": [
      "x =  [[0. 0. 0. 0.]\n",
      " [0. 0. 0. 0.]\n",
      " [0. 0. 0. 0.]\n",
      " [0. 0. 0. 0.]] \n",
      "\n",
      "y =  [[1. 1. 1. 1.]\n",
      " [1. 1. 1. 1.]\n",
      " [1. 1. 1. 1.]\n",
      " [1. 1. 1. 1.]] \n",
      "\n",
      "I =  [[1. 0. 0. 0.]\n",
      " [0. 1. 0. 0.]\n",
      " [0. 0. 1. 0.]\n",
      " [0. 0. 0. 1.]] \n",
      "\n",
      "I1 =  [[ 1.  0.  0. -7.]\n",
      " [ 0.  1.  0.  0.]\n",
      " [ 0.  0.  1.  0.]\n",
      " [ 5.  0.  0.  1.]] \n",
      "\n",
      "I1^t =  [[ 1.  0.  0.  5.]\n",
      " [ 0.  1.  0.  0.]\n",
      " [ 0.  0.  1.  0.]\n",
      " [-7.  0.  0.  1.]]\n"
     ]
    }
   ],
   "source": [
    "x = np.zeros((4,4))\n",
    "print('x = ',x,'\\n')\n",
    "y=np.ones((4,4))\n",
    "print('y = ',y,'\\n')\n",
    "I=np.identity(4)\n",
    "print('I = ', I,'\\n')\n",
    "I[0][3]= -7\n",
    "I[3,0] = 5  # Essa referência pode ter problema\n",
    "print('I1 = ', I,'\\n')\n",
    "print('I1^t = ', np.transpose(I))"
   ]
  },
  {
   "cell_type": "code",
   "execution_count": 10,
   "metadata": {
    "ExecuteTime": {
     "end_time": "2018-05-28T19:31:00.339976Z",
     "start_time": "2018-05-28T19:31:00.333575Z"
    }
   },
   "outputs": [
    {
     "data": {
      "text/plain": [
       "(-7.0, 5.0)"
      ]
     },
     "execution_count": 10,
     "metadata": {},
     "output_type": "execute_result"
    }
   ],
   "source": [
    "I[0,3], I[3,0]"
   ]
  },
  {
   "cell_type": "markdown",
   "metadata": {},
   "source": [
    "O tipo de referência abaixo vem da linguagem C."
   ]
  },
  {
   "cell_type": "code",
   "execution_count": 9,
   "metadata": {
    "ExecuteTime": {
     "end_time": "2018-05-28T19:30:46.012247Z",
     "start_time": "2018-05-28T19:30:46.006715Z"
    }
   },
   "outputs": [
    {
     "data": {
      "text/plain": [
       "(-7.0, 5.0)"
      ]
     },
     "execution_count": 9,
     "metadata": {},
     "output_type": "execute_result"
    }
   ],
   "source": [
    "I[0][3], I[3][0]"
   ]
  },
  {
   "cell_type": "markdown",
   "metadata": {},
   "source": [
    "Uma vez estabelecida a matriz, podemos definir e recuperar valores individuais. Por exemplo:"
   ]
  },
  {
   "cell_type": "code",
   "execution_count": 20,
   "metadata": {
    "ExecuteTime": {
     "end_time": "2018-05-28T19:35:31.599744Z",
     "start_time": "2018-05-28T19:35:31.594656Z"
    }
   },
   "outputs": [
    {
     "name": "stdout",
     "output_type": "stream",
     "text": [
      "[3.4 0.  4.  0.  0.  0.  0.  0. ]\n",
      "3.4\n",
      "[3.4 0.  4.  0.  0.  0.  0. ]\n"
     ]
    }
   ],
   "source": [
    "n=8\n",
    "x = np.zeros(n)\n",
    "x[0] = 3.4\n",
    "x[2] = 4\n",
    "print(x)\n",
    "print(x[0])\n",
    "print(x[0:-1])"
   ]
  },
  {
   "cell_type": "markdown",
   "metadata": {},
   "source": [
    "Essa característica de fatiamento foi herdada do fortran"
   ]
  },
  {
   "cell_type": "code",
   "execution_count": 23,
   "metadata": {
    "ExecuteTime": {
     "end_time": "2018-05-28T19:36:47.413339Z",
     "start_time": "2018-05-28T19:36:47.395514Z"
    }
   },
   "outputs": [],
   "source": [
    "x[1:n//2+1] = 5"
   ]
  },
  {
   "cell_type": "code",
   "execution_count": 25,
   "metadata": {
    "ExecuteTime": {
     "end_time": "2018-05-28T19:37:51.181847Z",
     "start_time": "2018-05-28T19:37:51.176729Z"
    }
   },
   "outputs": [
    {
     "name": "stdout",
     "output_type": "stream",
     "text": [
      "[3.4 5.  5.  5.  5.  0.  0.  0. ]\n"
     ]
    }
   ],
   "source": [
    "print(x)"
   ]
  },
  {
   "cell_type": "code",
   "execution_count": 27,
   "metadata": {
    "ExecuteTime": {
     "end_time": "2018-05-28T19:39:55.142205Z",
     "start_time": "2018-05-28T19:39:55.135101Z"
    }
   },
   "outputs": [
    {
     "name": "stdout",
     "output_type": "stream",
     "text": [
      "[3.4 7.  7.  7.  7.  0.  0.  0. ]\n"
     ]
    }
   ],
   "source": [
    "for i in range(1,n//2+1):\n",
    "    x[i] = 7\n",
    "print(x)"
   ]
  },
  {
   "cell_type": "markdown",
   "metadata": {},
   "source": [
    "## Diferença entre funções"
   ]
  },
  {
   "cell_type": "code",
   "execution_count": 28,
   "metadata": {
    "ExecuteTime": {
     "end_time": "2018-05-28T19:41:28.345844Z",
     "start_time": "2018-05-28T19:41:28.343259Z"
    }
   },
   "outputs": [],
   "source": [
    "import math"
   ]
  },
  {
   "cell_type": "code",
   "execution_count": 31,
   "metadata": {
    "ExecuteTime": {
     "end_time": "2018-05-28T19:42:10.110030Z",
     "start_time": "2018-05-28T19:42:10.106212Z"
    }
   },
   "outputs": [],
   "source": [
    "x[1:n//2+1] = math.sin(math.pi/3)"
   ]
  },
  {
   "cell_type": "code",
   "execution_count": 33,
   "metadata": {
    "ExecuteTime": {
     "end_time": "2018-05-28T19:43:29.180259Z",
     "start_time": "2018-05-28T19:43:29.176496Z"
    }
   },
   "outputs": [
    {
     "name": "stdout",
     "output_type": "stream",
     "text": [
      "[3.4       0.8660254 0.8660254 0.8660254 0.8660254 0.        0.\n",
      " 0.       ]\n"
     ]
    }
   ],
   "source": [
    "print(x)"
   ]
  },
  {
   "cell_type": "code",
   "execution_count": 53,
   "metadata": {
    "ExecuteTime": {
     "end_time": "2018-05-28T19:57:39.681932Z",
     "start_time": "2018-05-28T19:57:39.678202Z"
    }
   },
   "outputs": [],
   "source": [
    "# cosidere o vetor y\n",
    "n=9\n",
    "x = np.ones(n)\n",
    "#y = np.zeros(n)\n",
    "for i in range(n):\n",
    "    x[i] = ((math.pi)/(n-1))*i"
   ]
  },
  {
   "cell_type": "code",
   "execution_count": 54,
   "metadata": {
    "ExecuteTime": {
     "end_time": "2018-05-28T19:58:09.689709Z",
     "start_time": "2018-05-28T19:58:01.345241Z"
    }
   },
   "outputs": [
    {
     "name": "stdout",
     "output_type": "stream",
     "text": [
      "1.03 µs ± 6.89 ns per loop (mean ± std. dev. of 7 runs, 1000000 loops each)\n"
     ]
    }
   ],
   "source": [
    "%%timeit \n",
    "y = np.sin(x)"
   ]
  },
  {
   "cell_type": "code",
   "execution_count": 55,
   "metadata": {
    "ExecuteTime": {
     "end_time": "2018-05-28T19:58:12.521942Z",
     "start_time": "2018-05-28T19:58:12.514898Z"
    }
   },
   "outputs": [
    {
     "name": "stdout",
     "output_type": "stream",
     "text": [
      "[0.         0.39269908 0.78539816 1.17809725 1.57079633 1.96349541\n",
      " 2.35619449 2.74889357 3.14159265] [0.00000000e+00 3.82683432e-01 7.07106781e-01 9.23879533e-01\n",
      " 1.00000000e+00 9.23879533e-01 7.07106781e-01 3.82683432e-01\n",
      " 1.22464680e-16]\n"
     ]
    }
   ],
   "source": [
    "print(x,y)"
   ]
  },
  {
   "cell_type": "code",
   "execution_count": 56,
   "metadata": {
    "ExecuteTime": {
     "end_time": "2018-05-28T19:58:13.431597Z",
     "start_time": "2018-05-28T19:58:13.424670Z"
    }
   },
   "outputs": [
    {
     "ename": "TypeError",
     "evalue": "only size-1 arrays can be converted to Python scalars",
     "output_type": "error",
     "traceback": [
      "\u001b[0;31m---------------------------------------------------------------------------\u001b[0m",
      "\u001b[0;31mTypeError\u001b[0m                                 Traceback (most recent call last)",
      "\u001b[0;32m<ipython-input-56-3156dfa4ab9b>\u001b[0m in \u001b[0;36m<module>\u001b[0;34m()\u001b[0m\n\u001b[0;32m----> 1\u001b[0;31m \u001b[0my\u001b[0m \u001b[0;34m=\u001b[0m \u001b[0mmath\u001b[0m\u001b[0;34m.\u001b[0m\u001b[0msin\u001b[0m\u001b[0;34m(\u001b[0m\u001b[0mx\u001b[0m\u001b[0;34m)\u001b[0m\u001b[0;34m\u001b[0m\u001b[0m\n\u001b[0m",
      "\u001b[0;31mTypeError\u001b[0m: only size-1 arrays can be converted to Python scalars"
     ]
    }
   ],
   "source": [
    "y = math.sin(x)"
   ]
  },
  {
   "cell_type": "markdown",
   "metadata": {
    "ExecuteTime": {
     "end_time": "2018-05-28T19:53:31.481867Z",
     "start_time": "2018-05-28T19:53:31.477326Z"
    }
   },
   "source": [
    "Para usa a math, deve-se implementar um loop"
   ]
  },
  {
   "cell_type": "code",
   "execution_count": 57,
   "metadata": {
    "ExecuteTime": {
     "end_time": "2018-05-28T19:58:37.159503Z",
     "start_time": "2018-05-28T19:58:37.155287Z"
    }
   },
   "outputs": [],
   "source": [
    "y =np.zeros(n)"
   ]
  },
  {
   "cell_type": "code",
   "execution_count": 58,
   "metadata": {
    "ExecuteTime": {
     "end_time": "2018-05-28T19:58:52.020966Z",
     "start_time": "2018-05-28T19:58:49.315551Z"
    }
   },
   "outputs": [
    {
     "name": "stdout",
     "output_type": "stream",
     "text": [
      "3.28 µs ± 60.7 ns per loop (mean ± std. dev. of 7 runs, 100000 loops each)\n"
     ]
    }
   ],
   "source": [
    "%%timeit\n",
    "for i in range(n):\n",
    "    y[i] = math.sin(x[i])"
   ]
  },
  {
   "cell_type": "code",
   "execution_count": 59,
   "metadata": {
    "ExecuteTime": {
     "end_time": "2018-05-28T19:59:01.529326Z",
     "start_time": "2018-05-28T19:59:01.523948Z"
    }
   },
   "outputs": [
    {
     "name": "stdout",
     "output_type": "stream",
     "text": [
      "[0.00000000e+00 3.82683432e-01 7.07106781e-01 9.23879533e-01\n",
      " 1.00000000e+00 9.23879533e-01 7.07106781e-01 3.82683432e-01\n",
      " 1.22464680e-16]\n"
     ]
    }
   ],
   "source": [
    "print(y)"
   ]
  },
  {
   "cell_type": "markdown",
   "metadata": {},
   "source": [
    "Observe que uma vez que temos um vetor podemos realizar cálculos em cada elemento no vetor com uma única declaração:"
   ]
  },
  {
   "cell_type": "code",
   "execution_count": 60,
   "metadata": {
    "ExecuteTime": {
     "end_time": "2018-05-28T20:01:22.036723Z",
     "start_time": "2018-05-28T20:01:22.022181Z"
    }
   },
   "outputs": [
    {
     "name": "stdout",
     "output_type": "stream",
     "text": [
      "[0.  0.5 1.  1.5 2. ]\n",
      "[10.  10.5 11.  11.5 12. ]\n",
      "[0.   0.25 1.   2.25 4.  ]\n",
      "[0.         0.47942554 0.84147098 0.99749499 0.90929743]\n"
     ]
    }
   ],
   "source": [
    "x = np.arange(0, 2.5, 0.5)\n",
    "print(x)\n",
    "print(x + 10)\n",
    "print(x ** 2)\n",
    "print(np.sin(x))"
   ]
  },
  {
   "cell_type": "markdown",
   "metadata": {},
   "source": [
    "As funções intrínsecas da numpy conseguem atuar sobre os elementos dos arrays enquanto da da math não. Observe que "
   ]
  },
  {
   "cell_type": "code",
   "execution_count": 64,
   "metadata": {
    "ExecuteTime": {
     "end_time": "2018-05-28T20:03:23.034971Z",
     "start_time": "2018-05-28T20:03:23.028292Z"
    }
   },
   "outputs": [
    {
     "ename": "TypeError",
     "evalue": "only size-1 arrays can be converted to Python scalars",
     "output_type": "error",
     "traceback": [
      "\u001b[0;31m---------------------------------------------------------------------------\u001b[0m",
      "\u001b[0;31mTypeError\u001b[0m                                 Traceback (most recent call last)",
      "\u001b[0;32m<ipython-input-64-c0149680fe3c>\u001b[0m in \u001b[0;36m<module>\u001b[0;34m()\u001b[0m\n\u001b[1;32m      1\u001b[0m \u001b[0;32mimport\u001b[0m \u001b[0mmath\u001b[0m\u001b[0;34m\u001b[0m\u001b[0m\n\u001b[0;32m----> 2\u001b[0;31m \u001b[0mprint\u001b[0m\u001b[0;34m(\u001b[0m\u001b[0mmath\u001b[0m\u001b[0;34m.\u001b[0m\u001b[0msin\u001b[0m\u001b[0;34m(\u001b[0m\u001b[0mx\u001b[0m\u001b[0;34m)\u001b[0m\u001b[0;34m)\u001b[0m\u001b[0;34m\u001b[0m\u001b[0m\n\u001b[0m",
      "\u001b[0;31mTypeError\u001b[0m: only size-1 arrays can be converted to Python scalars"
     ]
    }
   ],
   "source": [
    "import math \n",
    "print(math.sin(x))"
   ]
  },
  {
   "cell_type": "code",
   "execution_count": 69,
   "metadata": {
    "ExecuteTime": {
     "end_time": "2018-05-28T20:05:01.081867Z",
     "start_time": "2018-05-28T20:05:01.078497Z"
    }
   },
   "outputs": [
    {
     "name": "stdout",
     "output_type": "stream",
     "text": [
      "[0 1 2 3 4 5 6 7 8]\n"
     ]
    }
   ],
   "source": [
    "x=np.arange(9)\n",
    "print(x)"
   ]
  },
  {
   "cell_type": "code",
   "execution_count": 70,
   "metadata": {
    "ExecuteTime": {
     "end_time": "2018-05-28T20:05:13.520958Z",
     "start_time": "2018-05-28T20:05:13.482313Z"
    }
   },
   "outputs": [],
   "source": [
    "np.reshape?"
   ]
  },
  {
   "cell_type": "code",
   "execution_count": 72,
   "metadata": {
    "ExecuteTime": {
     "end_time": "2018-05-28T20:06:40.522623Z",
     "start_time": "2018-05-28T20:06:40.518569Z"
    }
   },
   "outputs": [
    {
     "name": "stdout",
     "output_type": "stream",
     "text": [
      "[[0 1 2]\n",
      " [3 4 5]\n",
      " [6 7 8]]\n"
     ]
    }
   ],
   "source": [
    "y=x.reshape(3,3)\n",
    "print(y)"
   ]
  },
  {
   "cell_type": "code",
   "execution_count": 73,
   "metadata": {
    "ExecuteTime": {
     "end_time": "2018-05-28T20:06:52.064954Z",
     "start_time": "2018-05-28T20:06:52.059543Z"
    }
   },
   "outputs": [
    {
     "data": {
      "text/plain": [
       "array([[-3, -2, -1],\n",
       "       [ 0,  1,  2],\n",
       "       [ 3,  4,  5]])"
      ]
     },
     "execution_count": 73,
     "metadata": {},
     "output_type": "execute_result"
    }
   ],
   "source": [
    "x=np.arange(-3,6,1).reshape((3,3))\n",
    "x"
   ]
  },
  {
   "cell_type": "code",
   "execution_count": 74,
   "metadata": {
    "ExecuteTime": {
     "end_time": "2018-05-28T20:07:00.378277Z",
     "start_time": "2018-05-28T20:07:00.371418Z"
    }
   },
   "outputs": [
    {
     "data": {
      "text/plain": [
       "array([[2.00855369e+01, 7.38905610e+00, 2.71828183e+00],\n",
       "       [1.00000000e+00, 3.67879441e-01, 1.35335283e-01],\n",
       "       [4.97870684e-02, 1.83156389e-02, 6.73794700e-03]])"
      ]
     },
     "execution_count": 74,
     "metadata": {},
     "output_type": "execute_result"
    }
   ],
   "source": [
    "np.exp(-x)"
   ]
  },
  {
   "cell_type": "code",
   "execution_count": 75,
   "metadata": {
    "ExecuteTime": {
     "end_time": "2018-05-28T20:07:06.755277Z",
     "start_time": "2018-05-28T20:07:06.748189Z"
    }
   },
   "outputs": [
    {
     "ename": "TypeError",
     "evalue": "only size-1 arrays can be converted to Python scalars",
     "output_type": "error",
     "traceback": [
      "\u001b[0;31m---------------------------------------------------------------------------\u001b[0m",
      "\u001b[0;31mTypeError\u001b[0m                                 Traceback (most recent call last)",
      "\u001b[0;32m<ipython-input-75-a34a19879c5e>\u001b[0m in \u001b[0;36m<module>\u001b[0;34m()\u001b[0m\n\u001b[0;32m----> 1\u001b[0;31m \u001b[0mmath\u001b[0m\u001b[0;34m.\u001b[0m\u001b[0mexp\u001b[0m\u001b[0;34m(\u001b[0m\u001b[0;34m-\u001b[0m\u001b[0mx\u001b[0m\u001b[0;34m)\u001b[0m\u001b[0;34m\u001b[0m\u001b[0m\n\u001b[0m",
      "\u001b[0;31mTypeError\u001b[0m: only size-1 arrays can be converted to Python scalars"
     ]
    }
   ],
   "source": [
    "math.exp(-x)"
   ]
  },
  {
   "cell_type": "code",
   "execution_count": 76,
   "metadata": {
    "ExecuteTime": {
     "end_time": "2018-05-28T20:07:14.218769Z",
     "start_time": "2018-05-28T20:07:14.213951Z"
    }
   },
   "outputs": [
    {
     "data": {
      "text/plain": [
       "20.085536923187668"
      ]
     },
     "execution_count": 76,
     "metadata": {},
     "output_type": "execute_result"
    }
   ],
   "source": [
    "math.exp(-x[0,0])"
   ]
  },
  {
   "cell_type": "markdown",
   "metadata": {},
   "source": [
    "#### Matrizes (arrays-2d)\n",
    "\n",
    "Aqui estão duas maneiras de criar uma matriz 2d:\n",
    "\n",
    "- Por converter uma lista de listas (ou tuplas) em uma matriz:"
   ]
  },
  {
   "cell_type": "code",
   "execution_count": 79,
   "metadata": {
    "ExecuteTime": {
     "end_time": "2018-05-28T20:08:14.592839Z",
     "start_time": "2018-05-28T20:08:14.589338Z"
    }
   },
   "outputs": [
    {
     "name": "stdout",
     "output_type": "stream",
     "text": [
      "<class 'list'>\n"
     ]
    }
   ],
   "source": [
    "L=[1, 3, 5, 8, 9.0, 7]\n",
    "print(type(L))"
   ]
  },
  {
   "cell_type": "code",
   "execution_count": 81,
   "metadata": {
    "ExecuteTime": {
     "end_time": "2018-05-28T20:09:36.961573Z",
     "start_time": "2018-05-28T20:09:36.957933Z"
    }
   },
   "outputs": [
    {
     "name": "stdout",
     "output_type": "stream",
     "text": [
      "[1. 3. 5. 8. 9. 7.]\n"
     ]
    }
   ],
   "source": [
    "y = np.array(L)\n",
    "print(y)"
   ]
  },
  {
   "cell_type": "code",
   "execution_count": 83,
   "metadata": {
    "ExecuteTime": {
     "end_time": "2018-05-28T20:09:54.401492Z",
     "start_time": "2018-05-28T20:09:54.396673Z"
    }
   },
   "outputs": [
    {
     "name": "stdout",
     "output_type": "stream",
     "text": [
      "[1.0, 3.0, 5.0, 8.0, 9.0, 7.0]\n"
     ]
    }
   ],
   "source": [
    "x = list(y)\n",
    "print(x)"
   ]
  },
  {
   "cell_type": "code",
   "execution_count": null,
   "metadata": {},
   "outputs": [],
   "source": [
    "x = np.array(([1, 2, 3], [4, 5, 6], [9, 7, 8]))\n",
    "x"
   ]
  },
  {
   "cell_type": "markdown",
   "metadata": {},
   "source": [
    "-   Usando o método <span> `zeros` </span> para criar uma matriz com 5 linhas e 4 colunas"
   ]
  },
  {
   "cell_type": "code",
   "execution_count": 84,
   "metadata": {
    "ExecuteTime": {
     "end_time": "2018-05-28T20:10:50.834796Z",
     "start_time": "2018-05-28T20:10:50.830320Z"
    }
   },
   "outputs": [
    {
     "data": {
      "text/plain": [
       "array([[0., 0., 0., 0.],\n",
       "       [0., 0., 0., 0.],\n",
       "       [0., 0., 0., 0.],\n",
       "       [0., 0., 0., 0.],\n",
       "       [0., 0., 0., 0.]])"
      ]
     },
     "execution_count": 84,
     "metadata": {},
     "output_type": "execute_result"
    }
   ],
   "source": [
    "x = np.zeros((5, 4))\n",
    "x"
   ]
  },
  {
   "cell_type": "markdown",
   "metadata": {},
   "source": [
    "A \"forma\" de uma matriz pode ser consultada como este (aqui temos 2 linhas e 3 colunas):"
   ]
  },
  {
   "cell_type": "code",
   "execution_count": 85,
   "metadata": {
    "ExecuteTime": {
     "end_time": "2018-05-28T20:11:15.717905Z",
     "start_time": "2018-05-28T20:11:15.708975Z"
    }
   },
   "outputs": [
    {
     "name": "stdout",
     "output_type": "stream",
     "text": [
      "[[1 2 3]\n",
      " [4 5 6]]\n"
     ]
    },
    {
     "data": {
      "text/plain": [
       "(2, 3)"
      ]
     },
     "execution_count": 85,
     "metadata": {},
     "output_type": "execute_result"
    }
   ],
   "source": [
    "x=np.array([[1, 2, 3], [4, 5, 6]])\n",
    "print(x)\n",
    "x.shape"
   ]
  },
  {
   "cell_type": "markdown",
   "metadata": {},
   "source": [
    "Elementos individuais podem ser acessados e definidos usando esta sintaxe:"
   ]
  },
  {
   "cell_type": "code",
   "execution_count": 7,
   "metadata": {
    "ExecuteTime": {
     "end_time": "2018-06-04T12:30:53.714173Z",
     "start_time": "2018-06-04T12:30:53.683589Z"
    }
   },
   "outputs": [
    {
     "name": "stdout",
     "output_type": "stream",
     "text": [
      "[[1 2 3]\n",
      " [4 5 6]]\n"
     ]
    },
    {
     "data": {
      "text/plain": [
       "1"
      ]
     },
     "execution_count": 7,
     "metadata": {},
     "output_type": "execute_result"
    }
   ],
   "source": [
    "x=np.array([[1, 2, 3], [4, 5, 6]])\n",
    "print(x)\n",
    "x[0, 0] "
   ]
  },
  {
   "cell_type": "code",
   "execution_count": 87,
   "metadata": {
    "ExecuteTime": {
     "end_time": "2018-05-28T20:11:24.573441Z",
     "start_time": "2018-05-28T20:11:24.562612Z"
    }
   },
   "outputs": [
    {
     "data": {
      "text/plain": [
       "2"
      ]
     },
     "execution_count": 87,
     "metadata": {},
     "output_type": "execute_result"
    }
   ],
   "source": [
    "x[0, 1]"
   ]
  },
  {
   "cell_type": "code",
   "execution_count": 88,
   "metadata": {
    "ExecuteTime": {
     "end_time": "2018-05-28T20:11:25.438479Z",
     "start_time": "2018-05-28T20:11:25.434599Z"
    }
   },
   "outputs": [
    {
     "data": {
      "text/plain": [
       "2"
      ]
     },
     "execution_count": 88,
     "metadata": {},
     "output_type": "execute_result"
    }
   ],
   "source": [
    "x[0][1]"
   ]
  },
  {
   "cell_type": "code",
   "execution_count": 89,
   "metadata": {
    "ExecuteTime": {
     "end_time": "2018-05-28T20:11:26.188166Z",
     "start_time": "2018-05-28T20:11:26.180749Z"
    }
   },
   "outputs": [
    {
     "data": {
      "text/plain": [
       "3"
      ]
     },
     "execution_count": 89,
     "metadata": {},
     "output_type": "execute_result"
    }
   ],
   "source": [
    "x[0, 2]"
   ]
  },
  {
   "cell_type": "code",
   "execution_count": 90,
   "metadata": {
    "ExecuteTime": {
     "end_time": "2018-05-28T20:11:26.866699Z",
     "start_time": "2018-05-28T20:11:26.861768Z"
    }
   },
   "outputs": [
    {
     "data": {
      "text/plain": [
       "4"
      ]
     },
     "execution_count": 90,
     "metadata": {},
     "output_type": "execute_result"
    }
   ],
   "source": [
    "x[1, 0]"
   ]
  },
  {
   "cell_type": "code",
   "execution_count": 8,
   "metadata": {
    "ExecuteTime": {
     "end_time": "2018-06-04T12:30:59.620894Z",
     "start_time": "2018-06-04T12:30:59.612832Z"
    }
   },
   "outputs": [
    {
     "data": {
      "text/plain": [
       "array([1, 4])"
      ]
     },
     "execution_count": 8,
     "metadata": {},
     "output_type": "execute_result"
    }
   ],
   "source": [
    "x[:, 0]"
   ]
  },
  {
   "cell_type": "code",
   "execution_count": 9,
   "metadata": {
    "ExecuteTime": {
     "end_time": "2018-06-04T12:31:04.410009Z",
     "start_time": "2018-06-04T12:31:04.405621Z"
    }
   },
   "outputs": [
    {
     "data": {
      "text/plain": [
       "array([1, 2, 3])"
      ]
     },
     "execution_count": 9,
     "metadata": {},
     "output_type": "execute_result"
    }
   ],
   "source": [
    "x[0,:]"
   ]
  },
  {
   "cell_type": "markdown",
   "metadata": {},
   "source": [
    "### Converter uma matriz em uma lista ou tupla\n",
    "\n",
    "Para criar uma matriz e converte-la para uma lista ou tupla, podemos usar as funções padrão <span>`list(s)`</span> e <span>`tuple(s)` </span> que tomam uma sequência <span>`s`</span> como argumento de entrada e retornar uma lista e tupla, respectivamente:"
   ]
  },
  {
   "cell_type": "code",
   "execution_count": 10,
   "metadata": {
    "ExecuteTime": {
     "end_time": "2018-06-04T12:33:32.426113Z",
     "start_time": "2018-06-04T12:33:32.419231Z"
    }
   },
   "outputs": [
    {
     "data": {
      "text/plain": [
       "array([ 1,  4, 10])"
      ]
     },
     "execution_count": 10,
     "metadata": {},
     "output_type": "execute_result"
    }
   ],
   "source": [
    "a = np.array([1, 4, 10])\n",
    "m = np.array([[1, 2, 3], [4, 5, 6], [9, 7, 8]])\n",
    "a"
   ]
  },
  {
   "cell_type": "code",
   "execution_count": 11,
   "metadata": {
    "ExecuteTime": {
     "end_time": "2018-06-04T12:34:51.440752Z",
     "start_time": "2018-06-04T12:34:51.436808Z"
    }
   },
   "outputs": [
    {
     "data": {
      "text/plain": [
       "array([[1, 2, 3],\n",
       "       [4, 5, 6],\n",
       "       [9, 7, 8]])"
      ]
     },
     "execution_count": 11,
     "metadata": {},
     "output_type": "execute_result"
    }
   ],
   "source": [
    "m"
   ]
  },
  {
   "cell_type": "code",
   "execution_count": null,
   "metadata": {},
   "outputs": [],
   "source": [
    "np.random.test"
   ]
  },
  {
   "cell_type": "code",
   "execution_count": 102,
   "metadata": {
    "ExecuteTime": {
     "end_time": "2018-05-28T20:14:34.826498Z",
     "start_time": "2018-05-28T20:14:34.822646Z"
    }
   },
   "outputs": [
    {
     "name": "stdout",
     "output_type": "stream",
     "text": [
      "[1, 4, 10]\n",
      "<class 'list'>\n"
     ]
    }
   ],
   "source": [
    "x=list(a)\n",
    "print(x)\n",
    "print(type(x))"
   ]
  },
  {
   "cell_type": "code",
   "execution_count": 106,
   "metadata": {
    "ExecuteTime": {
     "end_time": "2018-05-28T20:17:50.179718Z",
     "start_time": "2018-05-28T20:17:50.173292Z"
    }
   },
   "outputs": [
    {
     "name": "stdout",
     "output_type": "stream",
     "text": [
      "[array([1, 2, 3, 4, 5, 6, 9, 7, 8])]\n",
      "<class 'list'>\n",
      "1\n",
      "[1 2 3 4 5 6 9 7 8]\n",
      "2\n"
     ]
    }
   ],
   "source": [
    "y=list(m.reshape((1,9)))\n",
    "print(y)\n",
    "print(type(y))\n",
    "print(len(y))\n",
    "print(y[0])\n",
    "print(y[0][1])"
   ]
  },
  {
   "cell_type": "code",
   "execution_count": 111,
   "metadata": {
    "ExecuteTime": {
     "end_time": "2018-05-28T20:19:17.721951Z",
     "start_time": "2018-05-28T20:19:17.715106Z"
    }
   },
   "outputs": [
    {
     "name": "stdout",
     "output_type": "stream",
     "text": [
      "9\n",
      "[1, 2, 3, 4, 5, 6, 9, 7, 8]\n"
     ]
    }
   ],
   "source": [
    "z = list(m.reshape((1,9))[0])\n",
    "print(len(z))\n",
    "print (z)"
   ]
  },
  {
   "cell_type": "code",
   "execution_count": null,
   "metadata": {},
   "outputs": [],
   "source": [
    "b = np.array(x)\n",
    "b"
   ]
  },
  {
   "cell_type": "code",
   "execution_count": 112,
   "metadata": {
    "ExecuteTime": {
     "end_time": "2018-05-28T20:20:05.613496Z",
     "start_time": "2018-05-28T20:20:05.609302Z"
    }
   },
   "outputs": [
    {
     "data": {
      "text/plain": [
       "(1, 4, 10)"
      ]
     },
     "execution_count": 112,
     "metadata": {},
     "output_type": "execute_result"
    }
   ],
   "source": [
    "y=tuple(a)\n",
    "y"
   ]
  },
  {
   "cell_type": "code",
   "execution_count": 113,
   "metadata": {
    "ExecuteTime": {
     "end_time": "2018-05-28T20:20:08.406904Z",
     "start_time": "2018-05-28T20:20:08.401798Z"
    }
   },
   "outputs": [
    {
     "data": {
      "text/plain": [
       "array([ 1,  4, 10])"
      ]
     },
     "execution_count": 113,
     "metadata": {},
     "output_type": "execute_result"
    }
   ],
   "source": [
    "b=np.array(y)\n",
    "b"
   ]
  },
  {
   "cell_type": "markdown",
   "metadata": {},
   "source": [
    "### Operações especiais em arrays (alteração de forma e conversão)\n",
    "\n",
    "\n",
    "Para alterar a forma de um array, temos muitos métodos, como `ravel`, `reshape`, `resize` e atribuir novo valor ao atributo de forma. Os métodos `ravel` e `reshape`,  retornam o argumento (o objeto que chama) com a forma modificada, enquanto o `resize` e a atribuição modificam a matriz real. O método `ravel` transforma a matriz e um vetor, ou seja, uma matriz em uma matriz na linguagem em linguagem C. Ele retorna o argumento como se fosse uma matriz unidimensional, com cada linha sequencialmente organizadas uma a uma.\n",
    "\n",
    "\n",
    "Vamos discutir o impacto desses métodos com a ajuda do próximo programa. Este programa executa operações de manipulação de forma (`reshape`) em um array bidimensional. A primeira impressão no programa exibirá a matriz original. A função `ravel` mostrará a matriz achatada. A função de impressão após a função `ravel` exibirá a matriz original novamente, como a função `ravel` não altera a matriz original. Agora, a função de `reshape` irá mudar a forma da matriz da forma original (6,3), que tem seis linhas e três colunas, para (3,6), que tem três linhas e seis colunas. Assim, a função de impressão após a função de redimensionamento exibirá a matriz em sua nova forma."
   ]
  },
  {
   "cell_type": "code",
   "execution_count": 114,
   "metadata": {
    "ExecuteTime": {
     "end_time": "2018-05-28T20:20:20.125256Z",
     "start_time": "2018-05-28T20:20:20.113190Z"
    }
   },
   "outputs": [
    {
     "name": "stdout",
     "output_type": "stream",
     "text": [
      "Matriz original =  [[100 200 300]\n",
      " [111 222 333]\n",
      " [123 456 789]\n",
      " [125 457 791]\n",
      " [127 459 793]\n",
      " [129 461 795]]\n",
      "x2d.ravel =  [100 200 300 111 222 333 123 456 789 125 457 791 127 459 793 129 461 795]\n",
      "Após ravel =  [[100 200 300]\n",
      " [111 222 333]\n",
      " [123 456 789]\n",
      " [125 457 791]\n",
      " [127 459 793]\n",
      " [129 461 795]]\n",
      "resize para (3,6) =  [[100 200 300 111 222 333]\n",
      " [123 456 789 125 457 791]\n",
      " [127 459 793 129 461 795]]\n",
      "reshape para (6,3) =  [[100 200 300 111 222 333]\n",
      " [123 456 789 125 457 791]\n",
      " [127 459 793 129 461 795]]\n",
      "Note que reshape não muda a matriz\n",
      "Mat (6,3) =  [[100 200 300]\n",
      " [111 222 333]\n",
      " [123 456 789]\n",
      " [125 457 791]\n",
      " [127 459 793]\n",
      " [129 461 795]]\n",
      "shape para (9,2) =  [[100 200]\n",
      " [300 111]\n",
      " [222 333]\n",
      " [123 456]\n",
      " [789 125]\n",
      " [457 791]\n",
      " [127 459]\n",
      " [793 129]\n",
      " [461 795]]\n"
     ]
    }
   ],
   "source": [
    "import numpy as np\n",
    "x2d = np.array(( (100,200,300),\n",
    "(111,222,333),\n",
    "(123,456,789),\n",
    "(125,457,791),\n",
    "(127,459,793),\n",
    "(129,461,795) ))\n",
    "print('Matriz original = ',x2d)\n",
    "x2d.ravel()\n",
    "print('x2d.ravel = ', x2d.ravel())\n",
    "print('Após ravel = ', x2d)\n",
    "x2d.resize((3,6))\n",
    "print('resize para (3,6) = ',x2d)\n",
    "x2d.reshape(6,3)\n",
    "print('reshape para (6,3) = ',x2d)\n",
    "print('Note que reshape não muda a matriz')\n",
    "Mat=x2d.reshape(6,3)\n",
    "print('Mat (6,3) = ',Mat)\n",
    "x2d.shape = (9,2)\n",
    "print('shape para (9,2) = ',x2d)"
   ]
  },
  {
   "cell_type": "code",
   "execution_count": 115,
   "metadata": {
    "ExecuteTime": {
     "end_time": "2018-05-28T20:20:26.717690Z",
     "start_time": "2018-05-28T20:20:26.712210Z"
    }
   },
   "outputs": [
    {
     "data": {
      "text/plain": [
       "array([[0, 1, 2],\n",
       "       [3, 4, 5],\n",
       "       [6, 7, 8]])"
      ]
     },
     "execution_count": 115,
     "metadata": {},
     "output_type": "execute_result"
    }
   ],
   "source": [
    "a = np.arange(9).reshape(3,3)\n",
    "a"
   ]
  },
  {
   "cell_type": "code",
   "execution_count": 118,
   "metadata": {
    "ExecuteTime": {
     "end_time": "2018-05-28T20:22:06.547121Z",
     "start_time": "2018-05-28T20:22:06.542150Z"
    }
   },
   "outputs": [
    {
     "data": {
      "text/plain": [
       "array([[-6.5305278e+15,  4.5833670e-41,  3.5969273e-37,  0.0000000e+00,\n",
       "         0.0000000e+00],\n",
       "       [ 0.0000000e+00,  0.0000000e+00,  0.0000000e+00,  0.0000000e+00,\n",
       "         0.0000000e+00],\n",
       "       [ 0.0000000e+00,  0.0000000e+00,  0.0000000e+00,  0.0000000e+00,\n",
       "         0.0000000e+00],\n",
       "       [ 0.0000000e+00,  0.0000000e+00,  0.0000000e+00,  0.0000000e+00,\n",
       "         0.0000000e+00],\n",
       "       [ 0.0000000e+00,  0.0000000e+00,  0.0000000e+00,  0.0000000e+00,\n",
       "         1.5694543e-43]], dtype=float32)"
      ]
     },
     "execution_count": 118,
     "metadata": {},
     "output_type": "execute_result"
    }
   ],
   "source": [
    "a = np.ndarray((5, 5), dtype=np.float32)\n",
    "a"
   ]
  },
  {
   "cell_type": "code",
   "execution_count": 126,
   "metadata": {
    "ExecuteTime": {
     "end_time": "2018-05-28T20:25:57.531475Z",
     "start_time": "2018-05-28T20:25:57.526926Z"
    }
   },
   "outputs": [
    {
     "data": {
      "text/plain": [
       "array([[39848, 55737, 32708,     0, 39848],\n",
       "       [55737, 32708,     0,    96,   164],\n",
       "       [    0,     0,  7176, 43679, 32708],\n",
       "       [    0, 26997, 29806, 13873,  2601],\n",
       "       [ 2657,     0, 32708,     0,    64]], dtype=uint16)"
      ]
     },
     "execution_count": 126,
     "metadata": {},
     "output_type": "execute_result"
    }
   ],
   "source": [
    "a = np.ndarray((5, 5), dtype=np.uint16)\n",
    "a"
   ]
  },
  {
   "cell_type": "code",
   "execution_count": 132,
   "metadata": {
    "ExecuteTime": {
     "end_time": "2018-05-28T20:30:05.418414Z",
     "start_time": "2018-05-28T20:30:05.414047Z"
    }
   },
   "outputs": [],
   "source": [
    "nlac = 2 # Número de linhas a serem acrescentadas acima\n",
    "nce = 1 # Número de colunas a serem acrescentadas a esquerda\n",
    "nlab = 2 # Número de linhas a serem acrescentadas abaixo\n",
    "ncd = 1 # Número de colunas a serem acrescentadas a esquerda"
   ]
  },
  {
   "cell_type": "code",
   "execution_count": 133,
   "metadata": {
    "ExecuteTime": {
     "end_time": "2018-05-28T20:30:06.191734Z",
     "start_time": "2018-05-28T20:30:06.185429Z"
    }
   },
   "outputs": [
    {
     "data": {
      "text/plain": [
       "array([[    5,     5,     5,     5,     5,     5,     5,     3],\n",
       "       [    5,     5,     5,     5,     5,     5,     5,     3],\n",
       "       [    5,     5, 39848, 55737, 32708,     0, 39848,     3],\n",
       "       [    5,     5, 55737, 32708,     0,    96,   164,     3],\n",
       "       [    5,     5,     0,     0,  7176, 43679, 32708,     3],\n",
       "       [    5,     5,     0, 26997, 29806, 13873,  2601,     3],\n",
       "       [    5,     5,  2657,     0, 32708,     0,    64,     3],\n",
       "       [    5,     5,     3,     3,     3,     3,     3,     3]],\n",
       "      dtype=uint16)"
      ]
     },
     "execution_count": 133,
     "metadata": {},
     "output_type": "execute_result"
    }
   ],
   "source": [
    "np.pad(a, ((nlac, nce), (nlab,ncd)), mode='constant',  constant_values=(5,3))"
   ]
  },
  {
   "cell_type": "code",
   "execution_count": 121,
   "metadata": {
    "ExecuteTime": {
     "end_time": "2018-05-28T20:23:13.547292Z",
     "start_time": "2018-05-28T20:23:13.516603Z"
    }
   },
   "outputs": [],
   "source": [
    "? np.pad"
   ]
  },
  {
   "cell_type": "markdown",
   "metadata": {},
   "source": [
    "Se usarmos np.resize pode-se especificar o tamanho"
   ]
  },
  {
   "cell_type": "code",
   "execution_count": 134,
   "metadata": {
    "ExecuteTime": {
     "end_time": "2018-05-28T20:30:18.260739Z",
     "start_time": "2018-05-28T20:30:18.255801Z"
    }
   },
   "outputs": [
    {
     "data": {
      "text/plain": [
       "array([[5, 5, 5, 5, 5],\n",
       "       [5, 5, 5, 5, 5],\n",
       "       [5, 5, 5, 5, 5],\n",
       "       [5, 5, 5, 5, 5],\n",
       "       [5, 5, 5, 5, 5]], dtype=uint16)"
      ]
     },
     "execution_count": 134,
     "metadata": {},
     "output_type": "execute_result"
    }
   ],
   "source": [
    "a.fill(5)\n",
    "a"
   ]
  },
  {
   "cell_type": "code",
   "execution_count": null,
   "metadata": {},
   "outputs": [],
   "source": [
    "x = np.array([[1, 2, 3], [4, 5, 6], [9, 7, 8]])\n",
    "x.resize((3,4))\n",
    "x"
   ]
  },
  {
   "cell_type": "code",
   "execution_count": null,
   "metadata": {},
   "outputs": [],
   "source": [
    "import numpy as np\n",
    " \n",
    "print ('\\n---- De uma lista python para um vetor numpy -----')\n",
    "lista = []\n",
    "lista.append(1.0+1j)\n",
    "lista.append(2.0+5j)\n",
    "lista.append(3.0-3j)\n",
    "a = np.array(lista, dtype=np.complex)\n",
    "print (lista, a, a.dtype, a.shape)\n",
    " \n",
    "print ('\\n-------- Usando array --------')\n",
    "a = np.array([23, 5, 14])\n",
    "print (a, a.dtype, a.shape)\n",
    " \n",
    "a = np.array([True, False, True])\n",
    "print (a, a.dtype, a.shape)\n",
    " \n",
    "a = np.array([[1.0, 3.0, 5.0], [7.0, 9.0, 11.0], [13.0, 15.0, 17.0]], dtype=np.float32)\n",
    "print (a, a.dtype, a.shape)\n",
    " \n",
    "print ('\\n-------- Usando arange ----------')\n",
    "a = np.arange(5,dtype=np.float16)\n",
    "print (a, a.dtype, a.shape)\n",
    " \n",
    "a = np.arange(15,dtype=np.float16).reshape(3,5)\n",
    "print (a, a.dtype, a.shape)\n",
    " \n",
    "a = np.arange(1.0, 10.0, 2.0, dtype=np.float)\n",
    "print (a, a.dtype, a.shape)\n",
    " \n",
    "print ('\\n----------- Usando zeros, ones e empty --------------')\n",
    "a = np.zeros( 5, dtype=np.int32 )\n",
    "print (a, a.dtype, a.shape)\n",
    " \n",
    "a = np.ones( 5, dtype=np.complex )\n",
    "print (a, a.dtype, a.shape)\n",
    " \n",
    "a = np.empty( 16, dtype=np.float32 ).reshape(4,4)\n",
    "print (a, a.dtype, a.shape)\n",
    " \n",
    "print ('\\n------ Modificando um elemento da matriz -------')\n",
    "np.set_printoptions(precision=1)\n",
    "a[3,3] = 1.0\n",
    "a[2,1] = 9.0\n",
    "print (a)"
   ]
  },
  {
   "cell_type": "markdown",
   "metadata": {},
   "source": [
    "Agora vamos ilustrar algumas operações sobre os vetores:"
   ]
  },
  {
   "cell_type": "code",
   "execution_count": null,
   "metadata": {},
   "outputs": [],
   "source": [
    "import numpy as np\n",
    " \n",
    "#De uma lista python para um vetor numpy\n",
    "print ('Converte de uma lista para array')\n",
    "lista = []\n",
    "lista.append(1.0+1j)\n",
    "lista.append(2.0+5j)\n",
    "lista.append(3.0-3j)\n",
    "a = np.array(lista, dtype=np.complex)\n",
    "print (lista, a, a.dtype, a.shape)\n",
    " \n",
    "#Usando array\n",
    "print ('\\nUsando Array')\n",
    "a = np.array([23, 5, 14])\n",
    "print (a, a.dtype, a.shape)\n",
    " \n",
    "a = np.array([True, False, True])\n",
    "print (a, a.dtype, a.shape)\n",
    " \n",
    "a = np.array([[1.0, 3.0, 5.0], [7.0, 9.0, 11.0], [13.0, 15.0, 17.0]], dtype=np.float32)\n",
    "print (a, a.dtype, a.shape)\n",
    " \n",
    "#Usando arange\n",
    "print ('\\nUsando Arange')\n",
    "a = np.arange(5,dtype=np.float16)\n",
    "print (a, a.dtype, a.shape)\n",
    " \n",
    "a = np.arange(15,dtype=np.float16).reshape(3,5)\n",
    "print (a, a.dtype, a.shape)\n",
    " \n",
    "a = np.arange(1.0, 10.0, 2.0, dtype=np.float)\n",
    "print (a, a.dtype, a.shape)\n",
    " \n",
    "#Usando linspace\n",
    "print ('\\nUsando linspace: gera dados desde inicio ate fim,')\n",
    "print ('igualmente espaciados, incluindo extremos')\n",
    "a = np.linspace(0,10,11)\n",
    "print (a)\n",
    "a = np.linspace(0,10,41)\n",
    "print (a)\n",
    " \n",
    "#usando zeros, ones e empty\n",
    "print ('\\nUsando Zeros')\n",
    "a = np.zeros( 5, dtype=np.int32 )\n",
    "print (a, a.dtype, a.shape)\n",
    " \n",
    "print ('\\nUsando Ones')\n",
    "a = np.ones( 5, dtype=np.complex )\n",
    "print (a, a.dtype, a.shape)\n",
    " \n",
    "print ('\\nUsando Empty')\n",
    "a = np.empty( 16, dtype=np.float32 ).reshape(4,4)\n",
    "print (a, a.dtype, a.shape)\n",
    " \n",
    "np.set_printoptions(precision=2)\n",
    "print ('\\nmodificando um elemento da matriz')\n",
    "a[3,3] = 1.0\n",
    "a[2,1] = 9.0\n",
    "print (a)"
   ]
  },
  {
   "cell_type": "markdown",
   "metadata": {},
   "source": [
    "## Classes associadas aos arrays\n",
    "\n",
    "Há um número de classes e subclasses associadas com a classe ndarray. Essas classes são projetadas para oferecer suporte a funcionalidade aprimorada específica. Nos parágrafos seguintes, estaremos discutindo essas classes e subclasses.\n",
    "\n",
    "### A Sub-classe Matriz\n",
    "\n",
    "A classe matriz é uma subclasse Python de ndarrays. Uma matriz pode ser criada a partir de outras matrizes ou sequências de caracteres ou qualquer outro objeto que pode ser convertido em um ndarray. A sub-classe da matriz tem operadores especialmente sobregravados, como `*` para a multiplicação da matriz e `**` para a potência da matriz. Várias funções são fornecidas na classe de matriz para executar várias atividades, como classificar elementos, calcular a transposição, encontrar a soma de elementos de matriz, conversão de uma matriz em uma lista e outras estruturas de dados e tipos de dados. Considere o seguinte programa, que define duas matrizes com três linhas e três colunas cada. Por fim, o programa exibe a saída da multiplicação matricial:"
   ]
  },
  {
   "cell_type": "code",
   "execution_count": null,
   "metadata": {},
   "outputs": [],
   "source": [
    "import numpy as np\n",
    "a = np.matrix('1 2 3; 4 5 6; 7 8 9')\n",
    "print('A matriz a = ', a)\n",
    "b = np.matrix('4 5 6; 7 8 9; 10 11 12')\n",
    "print('A matriz b = ', b)\n",
    "print('A matriz a*b = ', a*b)"
   ]
  },
  {
   "cell_type": "markdown",
   "metadata": {},
   "source": [
    "### Máscara de Matriz \n",
    "\n",
    "NumPy tem um módulo chamado numpy.ma para criar máscaras para matrizes. Uma matriz mascarada é uma matriz normal que possui algumas entradas inválidas, em falta ou indesejáveis. Tem dois componentes: os ndarrays originais e uma máscara. Uma máscara é uma matriz de valores booleanos usados para determinar se os valores de matriz são válidos ou não. Um valor verdadeiro na máscara reflete que o valor correspondente na matriz é inválido. As entradas mascaradas ou inválidas não serão usadas em qualquer computação adicional em matrizes mascaradas. O próximo programa demonstra o conceito de matrizes mascaradas. Suponha que a matriz original x tem as taxas de pulso de pessoas diferentes e tem duas entradas inválidas. Para mascarar essas entradas inválidas, o valor correspondente é definido como 1 (verdadeiro) na máscara. No final, calculamos a média dos arrays originais e mascarados. Sem mascaramento, a média é 61,1, por causa de dois valores negativos; Após mascaramento, a média dos restantes oito valores é 94,5:"
   ]
  },
  {
   "cell_type": "code",
   "execution_count": null,
   "metadata": {},
   "outputs": [],
   "source": [
    "import numpy as np\n",
    "import numpy.ma as ma\n",
    "x = np.array([72, 79, 85, 90, 150, -135, 120, -10, 60, 100])\n",
    "mx = ma.masked_array(x, mask=[1, 0, 0, 0, 0, 1, 0, 1, 0, 0])\n",
    "mx2 = ma.masked_array(x,mask=x<61)\n",
    "print(mx)\n",
    "print('A média é: ', x.mean())\n",
    "print(mx2)\n",
    "print('A média com a máscara 1 é: ', mx.mean())\n",
    "print('A média com a máscara 2 é: ', mx2.mean())"
   ]
  },
  {
   "cell_type": "markdown",
   "metadata": {},
   "source": [
    "## linspace, funções de matriz e plotagem\n",
    "\n",
    "O comando **linspace** faz uma matriz linear de pontos de um início para um valor final, conforme iluistrado a seguir"
   ]
  },
  {
   "cell_type": "code",
   "execution_count": null,
   "metadata": {},
   "outputs": [],
   "source": [
    "np.linspace(0,1)"
   ]
  },
  {
   "cell_type": "markdown",
   "metadata": {},
   "source": [
    "Se você fornecer um terceiro argumento, ele toma isso como o número de pontos no espaço. Se você não fornecer o argumento, ele considera um **espaço linear com 50 pontos igualmente espaçados**. Por exemplo,"
   ]
  },
  {
   "cell_type": "code",
   "execution_count": null,
   "metadata": {},
   "outputs": [],
   "source": [
    "np.linspace(0,1,11)"
   ]
  },
  {
   "cell_type": "code",
   "execution_count": null,
   "metadata": {},
   "outputs": [],
   "source": [
    "x0 = 0\n",
    "xf = 1\n",
    "n  = 11\n",
    "# gera um array x com espaçamento dx= (xf-x0)/(n-1) e n pontos.\n",
    "x  = np.linspace(x0,xf,n)\n",
    "x"
   ]
  },
  {
   "cell_type": "markdown",
   "metadata": {},
   "source": [
    "**linspace** é uma maneira muito fácil de gerar coordenadas para fazer gráficos. Funções na biblioteca numpy (todas importadas para o notebook IPython) podem atuar em um vetor inteiro (ou mesmo em uma matriz) de pontos ao mesmo tempo. Portanto, considere por exemplo que desejamos fazer o gráfico da função *sen(x)* em função de *x* no intervalo de 0 à *2*pi*, para isso, criamos um vetor *x* contendo as coordenadas e um vetor *y* contendo o valor da função *sen(x)* nos respectivos pontos, ou seja"
   ]
  },
  {
   "cell_type": "code",
   "execution_count": 12,
   "metadata": {
    "ExecuteTime": {
     "end_time": "2018-06-04T12:37:46.913333Z",
     "start_time": "2018-06-04T12:37:46.909605Z"
    }
   },
   "outputs": [],
   "source": [
    "import numpy as np\n",
    "n = 101                      # Número de pontos do vetor\n",
    "x=np.linspace(0,2*np.pi,n)   # Vetor das coordenadas \n",
    "y=np.sin(x)                  # Vetor da função "
   ]
  },
  {
   "cell_type": "markdown",
   "metadata": {},
   "source": [
    "A seguir, a título de exemplo, vamos fazer um gráfico dessa, função usando biblioteca matplotlib, a qual será explora no próximo tópico [Visualização de dados](#15-Visualizacao-de-dados.ipynb)"
   ]
  },
  {
   "cell_type": "code",
   "execution_count": 13,
   "metadata": {
    "ExecuteTime": {
     "end_time": "2018-06-04T12:39:04.484197Z",
     "start_time": "2018-06-04T12:39:03.703213Z"
    }
   },
   "outputs": [
    {
     "data": {
      "text/plain": [
       "[<matplotlib.lines.Line2D at 0x7fe65aebd6d8>]"
      ]
     },
     "execution_count": 13,
     "metadata": {},
     "output_type": "execute_result"
    },
    {
     "data": {
      "image/png": "[encoded data removed]",
      "text/plain": [
       "<Figure size 432x288 with 1 Axes>"
      ]
     },
     "metadata": {},
     "output_type": "display_data"
    }
   ],
   "source": [
    "%matplotlib inline\n",
    "import matplotlib.pyplot as plt     # Para fazer os gráficos das funções\n",
    "plt.plot(x, y) "
   ]
  },
  {
   "cell_type": "markdown",
   "metadata": {},
   "source": [
    "### Operações de Álgebra Linear Padrão"
   ]
  },
  {
   "cell_type": "markdown",
   "metadata": {},
   "source": [
    "## Matrizes especiais (numpy.matlib)\n",
    "\n",
    "A numpy oferece as seguintes matrizes especiais [numpy.matlib](https://docs.scipy.org/doc/numpy/reference/routines.matlib.html), e esse módulo contém todas as funções no espaço para criar matrizes, com as seguintes funções de substituição que retornam matrizes em vez de ndarrays.\n",
    "\n",
    "Funções que também estão no namespace numpy e as matrizes de retorno:\n",
    "\n",
    "- *mat(dados [, dtype])* Interpretar a entrada como uma matriz.\n",
    "- *matrix*  Retorna uma matriz de um objeto tipo matriz, ou de uma sequência de dados.\n",
    "- *asmatrix(data [, dtype])* Interpreta a entrada como uma matriz.\n",
    "- *bmat(obj [, ldict, gdict])* Cria um objeto matriz a partir de uma sequência de caracteres, sequência aninhada ou matriz.\n",
    "\n",
    "Funções de substituição na matlib: \n",
    "\n",
    "- *empty(shape [, dtype, order])* Retorna uma nova matriz de dada forma e tipo, sem inicializar entradas.\n",
    "- *zeros (shape [, dtype, order])* Retorna uma matriz de dado forma e tipo, preenchido com zeros.\n",
    "- *ones(shape [, dtype, order])* Retorna uma matriz toda preenchida com o valor 1.\n",
    "- *eye(n [, M, k, dtype])* Retorna uma matriz com uns na diagonal e zeros em outro lugar.\n",
    "- *identity (n [, dtype])* Retorna a matriz de identidade quadrada de determinado tamanho.\n",
    "- *repmat(a, m, n)* Repita uma matriz 0-D para 2-D ou matriz MxN vezes.\n",
    "- *rand(*args)* Retorna uma matriz de valores aleatórios com forma dada.\n",
    "- *randn(*args)* Retorna uma matriz aleatória com dados da distribuição \"normal padrão\"."
   ]
  },
  {
   "cell_type": "code",
   "execution_count": null,
   "metadata": {},
   "outputs": [],
   "source": [
    "import numpy as np\n",
    "import numpy.matlib\n",
    "import numpy.random\n",
    "n = 4                          # uma das dimensões da matriz quadrada\n",
    "A = numpy.random.rand(n, n)    # gera uma matriz aleatória de n por n \n",
    "x = numpy.random.rand(n)       # gera um vetor aleatório de n elementos\n",
    "print(\"A = \", A)\n",
    "print(\"x = \", x)\n",
    "print(\"Matriz de zeros\", np.matlib.zeros((n,n)))\n",
    "print(\"Matriz de uns\", np.matlib.ones((n,n)))\n",
    "print(\"Matriz diagonal 1\", np.matlib.eye(n))\n",
    "print(\"Matriz de identidade\", np.matlib.identity(n))\n",
    "print(\"Matriz de aleatória com distribuição normal\", np.random.randn(n,n))"
   ]
  },
  {
   "cell_type": "markdown",
   "metadata": {},
   "source": [
    "Vejam que não é necessário explicitar *import numpy.matlib*, ou seja, "
   ]
  },
  {
   "cell_type": "code",
   "execution_count": null,
   "metadata": {},
   "outputs": [],
   "source": [
    "import numpy as np\n",
    "n = 3                       # uma das dimensões da matriz quadrada\n",
    "A = np.random.rand(n,n)     # gera uma matriz aleatória de n por n \n",
    "x = np.random.rand(n)       # gera um vetor aleatório de n elementos\n",
    "print(\"A = \", A)\n",
    "print(\"x = \", x)\n",
    "print(\"Matriz de zeros\", np.zeros((n,n)))\n",
    "print(\"Matriz de uns\", np.ones((n,n)))\n",
    "print(\"Matriz diagonal 1\", np.eye(n))\n",
    "print(\"Matriz de identidade\", np.identity(n))\n",
    "print(\"Matriz de aleatória com distribuição normal\", np.random.randn(n,n))"
   ]
  },
  {
   "cell_type": "markdown",
   "metadata": {},
   "source": [
    "## Operaçoes matriciais\n",
    "\n",
    "As matrizes são objetos sensíveis quando multiplicadas por escalares"
   ]
  },
  {
   "cell_type": "code",
   "execution_count": null,
   "metadata": {},
   "outputs": [],
   "source": [
    "0.125*np.matlib.identity(3,'d')"
   ]
  },
  {
   "cell_type": "code",
   "execution_count": null,
   "metadata": {},
   "outputs": [],
   "source": [
    "? np.matlib.identity"
   ]
  },
  {
   "cell_type": "markdown",
   "metadata": {},
   "source": [
    "assim como a adição de duas matrizes, desde que elas tenham as mesmas dimensões"
   ]
  },
  {
   "cell_type": "code",
   "execution_count": null,
   "metadata": {},
   "outputs": [],
   "source": [
    "np.matlib.identity(2,'d') + np.array([[1,1],[1,2]])"
   ]
  },
  {
   "cell_type": "markdown",
   "metadata": {},
   "source": [
    "Algo que confunde os usuários do Matlab/Scilab/Octave é que o operador vezes (*) dá multiplicação elemento por elemento ao invés de multiplicação matricial, assim:"
   ]
  },
  {
   "cell_type": "code",
   "execution_count": null,
   "metadata": {},
   "outputs": [],
   "source": [
    " np.identity(3)*np.ones((3,3))"
   ]
  },
  {
   "cell_type": "code",
   "execution_count": null,
   "metadata": {},
   "outputs": [],
   "source": [
    "np.dot(np.identity(3),np.ones((3,3)))"
   ]
  },
  {
   "cell_type": "markdown",
   "metadata": {},
   "source": [
    "entretanto, note a diferença"
   ]
  },
  {
   "cell_type": "code",
   "execution_count": null,
   "metadata": {},
   "outputs": [],
   "source": [
    "np.matlib.identity(4)"
   ]
  },
  {
   "cell_type": "code",
   "execution_count": null,
   "metadata": {},
   "outputs": [],
   "source": [
    "A=np.array([[1, 2, 0], [0,1,0], [0,0,1]])\n",
    "B=np.array([[1, 1, 1], [1,1,1], [1,1,1]])\n",
    "C=A*B\n",
    "C"
   ]
  },
  {
   "cell_type": "code",
   "execution_count": null,
   "metadata": {},
   "outputs": [],
   "source": [
    "C=np.mat(A)*np.mat(B)\n",
    "print(\"C=\",C)\n",
    "D=np.dot(A,B)\n",
    "print(\"D=\",D)"
   ]
  },
  {
   "cell_type": "code",
   "execution_count": null,
   "metadata": {},
   "outputs": [],
   "source": [
    " np.matlib.identity(4)*np.matlib.ones((4,4))"
   ]
  },
  {
   "cell_type": "markdown",
   "metadata": {},
   "source": [
    "a qual comportam-se como uma multiplicação matricial.\n",
    "\n",
    "\n",
    "Existem as funções **det** (essa pertence a biblioteca numpy.linalg), **inverse** e **transpose** que fornecem respectivamente o determinate, a inversa e a transposta de uma dada matriz. A função *transpose* pode ser abreviado com \".T\" no final de um objeto de matriz, assim:"
   ]
  },
  {
   "cell_type": "code",
   "execution_count": null,
   "metadata": {},
   "outputs": [],
   "source": [
    "import numpy as np\n",
    "n = 3                       # uma das dimensões da matriz quadrada\n",
    "np.set_printoptions(precision=3)\n",
    "A = np.random.randn(n,n)    # gera uma matriz aleatória de n por n \n",
    "print(\"A = \", A)\n",
    "print(\"Transposta de A^{-1} =\", np.transpose(A))\n",
    "print(\"Transposta de A = \",A.T)\n",
    "print(\"Determinante de A = \", np.linalg.det(A))\n",
    "print(\"Inversa de A = \", np.linalg.inv(A))"
   ]
  },
  {
   "cell_type": "code",
   "execution_count": null,
   "metadata": {},
   "outputs": [],
   "source": [
    "np.linalg.inv(A)*np.mat(A)"
   ]
  },
  {
   "cell_type": "code",
   "execution_count": null,
   "metadata": {},
   "outputs": [],
   "source": [
    "? np.linalg.inv"
   ]
  },
  {
   "cell_type": "markdown",
   "metadata": {},
   "source": [
    "Há também uma função **diag()** que leva uma lista ou um vetor e coloca-lo ao longo da diagonal de uma matriz quadrada."
   ]
  },
  {
   "cell_type": "code",
   "execution_count": null,
   "metadata": {},
   "outputs": [],
   "source": [
    "np.diag([1,2,3,4,5])"
   ]
  },
  {
   "cell_type": "markdown",
   "metadata": {},
   "source": [
    "#### Multiplicação de matrizes\n",
    "\n",
    "Duas matrizes podem ser multiplicadas da maneira usual de álgebra linear usando <span>`numpy.matrix multiply`</span>. Aqui está um exemplo:"
   ]
  },
  {
   "cell_type": "code",
   "execution_count": null,
   "metadata": {},
   "outputs": [],
   "source": [
    "import numpy as np\n",
    "import numpy.random       \n",
    "A = numpy.random.rand(5, 5)    # gera uma matriz aleatória de 5 por 5 \n",
    "x = numpy.random.rand(5)       # gera um vetor aleatório de 5 elementos\n",
    "b = np.dot(A, x)               # multiplica a matriz A pelo vetor x \n",
    "print(\"O sistema linear é A * x = b\")\n",
    "print(\"A = \", A)\n",
    "print(\"x = \", x, \"  b = \",b)"
   ]
  },
  {
   "cell_type": "markdown",
   "metadata": {},
   "source": [
    "#### Solução de sistemas de equações lineares\n",
    "\n",
    "Para resolver um sistema de equações *A***x** = **b** que é dado em forma de matriz (*isto é* *A* é uma matriz e **x** e **b** são vetores, onde *A* e **b** são conhecidos e queremos encontrar o vetor desconhecido **x**), podemos usar o pacote de álgebra linear (<span>`linalg`</span>) de <span>`Numpy`</span>:"
   ]
  },
  {
   "cell_type": "code",
   "execution_count": null,
   "metadata": {},
   "outputs": [],
   "source": [
    "import numpy.linalg as LA\n",
    "x = LA.solve(A, b)\n",
    "print(x)\n",
    "dir(LA)"
   ]
  },
  {
   "cell_type": "code",
   "execution_count": null,
   "metadata": {},
   "outputs": [],
   "source": [
    "? np.linalg.solve"
   ]
  },
  {
   "cell_type": "code",
   "execution_count": null,
   "metadata": {},
   "outputs": [],
   "source": [
    "# Solve the system of equations ``3 * x0 + x1 = 9`` and ``x0 + 2 * x1 = 8``:\n",
    "\n",
    "a = np.array([[3,1], [1,2]])\n",
    "b = np.array([9,8])\n",
    "x = np.linalg.solve(a, b)\n",
    "print(x)\n",
    "# solução array([ 2.,  3.])\n",
    "\n",
    "#Check that the solution is correct:\n",
    "\n",
    "np.allclose(np.dot(a, x), b)"
   ]
  },
  {
   "cell_type": "markdown",
   "metadata": {},
   "source": [
    "#### Cálculo de autovetores e autovalores\n",
    "\n",
    "Aqui está um pequeno exemplo que calcula os autovetores e os autovalores da matriz de identidade (<span>`eye`</span>):"
   ]
  },
  {
   "cell_type": "code",
   "execution_count": null,
   "metadata": {},
   "outputs": [],
   "source": [
    "import numpy\n",
    "import numpy.linalg as LA\n",
    "A = numpy.eye(3)     #'eye'->I->1 (Todos os elementos da diagonal principal são 1, e os outros 0)\n",
    "A= numpy.random.rand(3, 3) \n",
    "print(A)"
   ]
  },
  {
   "cell_type": "code",
   "execution_count": null,
   "metadata": {},
   "outputs": [],
   "source": [
    "evalues, evectors = LA.eig(A)\n",
    "print(evalues)"
   ]
  },
  {
   "cell_type": "code",
   "execution_count": null,
   "metadata": {},
   "outputs": [],
   "source": [
    "print(evectors)"
   ]
  },
  {
   "cell_type": "markdown",
   "metadata": {},
   "source": [
    "Observe que cada um desses comandos fornece sua própria documentação. Por exemplo, <span> `help(LA.eig)` </span> irá dizer-lhe tudo sobre a função de autovetor e autovalor (depois de ter importado `numpy.linalg` como `LA`)."
   ]
  },
  {
   "cell_type": "markdown",
   "metadata": {},
   "source": [
    "#### Ajuste polinômial de curvas (fitting)\n",
    "\n",
    "Vamos supor que temos dados x-y para os quais desejamos ajustar por uma curva (minimizando o menor desvio quadrático para ajustar via os dados).\n",
    "\n",
    "\n",
    "A numpy fornece a rotina <span>`polyfit(x, y, n)`</span> (que é semelhante à função `polyfit` do Matlab que toma uma lista <span>`x`</span> de valores x dos dados, uma lista <y> de valores y dos mesmos dados e uma ordem desejada do polinômio a que será usada para ajustar os dados via mínimos-quadrados, tanto quanto possível.\n"
   ]
  },
  {
   "cell_type": "code",
   "execution_count": null,
   "metadata": {},
   "outputs": [],
   "source": [
    "%matplotlib inline\n",
    "import numpy\n",
    "\n",
    "# Curva demo para o ajuste \"fitting\": xdata e ydata são os dados de entrada\n",
    "xdata = numpy.array([0.0 , 1.0 , 2.0 , 3.0 , 4.0 , 5.0])\n",
    "ydata = numpy.array([0.0 , 0.8 , 0.9 , 0.1 , -0.8 , -1.0])\n",
    "# Agora para ajustar via um polinômio de terceiro grau (ordem = 3)\n",
    "z = numpy.polyfit(xdata, ydata, 3)\n",
    "# z é um array dos coeficientes, o mais alto primeiro, isto é, \n",
    "#                 X^3            X^2          X             0\n",
    "# z = array ([ 0.08703704 , -0.81349206 , 1.69312169 , -0.03968254])\n",
    "# É conveniente usar os objetos ‘poly1d‘ para tratar com polinômios: \n",
    "p = numpy.poly1d(z) # cria uma função polinômial p a partir dos coeficientes\n",
    "                    # e então p poderá ser calculado para todos os valores de x.\n",
    "\n",
    "# cria um gráfico \"plot\"\n",
    "xs = [0.1 * i for i in range (50)]\n",
    "ys = [p ( x ) for x in xs]   # calcula p(x) para todos os x na lista xs\n",
    "\n",
    "import pylab\n",
    "pylab.plot(xdata, ydata, 'o', label='Dados')\n",
    "pylab.plot(xs, ys, label='Curve ajustada')\n",
    "pylab.ylabel('y')\n",
    "pylab.xlabel('x')\n",
    "pylab.legend()"
   ]
  },
  {
   "cell_type": "code",
   "execution_count": null,
   "metadata": {},
   "outputs": [],
   "source": [
    "help(pylab.plot)"
   ]
  },
  {
   "cell_type": "markdown",
   "metadata": {},
   "source": [
    "Isto mostra a curva ajustada (linha contínua) juntamente com os pontos de dados precisos calculados."
   ]
  },
  {
   "cell_type": "markdown",
   "metadata": {},
   "source": [
    "## Números aleátorios\n",
    "\n",
    " Por números aleatórios entendemos números que pertence a uma série de número os quais se caraterizam por não apresentam nenhum tipo de correlação entre eles, por exemplo, dado o $n-esimo$ elemento de uma dada série, os números prévios a ele não permitem determinar este de forma precisa. Obviamente esta definição é bem simples e minimalista já que a área da matemática que trata do problema é ampla.\n",
    "\n",
    "No caso dos computadores a forma comum de gerar um número aleatórios é utilizando uma função matemática que gera um número *pseudoaleatórios*. Esses números são pseudoaleatórios porque a função (algoritmo) que gera eles são funções periódicas (não harmônicas), a função só consegue gerar $2^k-1$ números (onde é tipicamente $k=32$ ou $64$) totalmente aleatórios, não é infinita, assim se você gerar mais números do que o período ($2^k-1$) você gerará números que são os mesmo já previamente gerados (assim correlacionados).\n",
    "\n",
    "Como os geradores de números aleatórios são funções (algoritmos) você tem que dar um valor chamado semente (seed) para ele devolver o número aleatório (tipo você tem que dar o $x$ para ter o $f(x)$, no caso dos geradores $x$ é um inteiro e $f(x)$ é um float), por sorte você sempre tem que dar o mesmo número durante o uso do gerador dentro do seu programa já que o gerador gera o número aleatório e uma nova semente, se você chama o gerador com a mesma semente inicial ele reconhece e utiliza aquela que tinha gerado.\n",
    "\n",
    "O algoritmo utilizado no numpy para gerar números aleatórios é o algoritmo Mersenne Twister. Para demostrar seu uso o seguente programa vari gerar um conjunto de 20 números aleatórios distribuídos de forma uniforme: "
   ]
  },
  {
   "cell_type": "code",
   "execution_count": null,
   "metadata": {},
   "outputs": [],
   "source": [
    "import numpy as np\n",
    " \n",
    "xi       = 0.0\n",
    "xf       = 1.0\n",
    "numDados = 2\n",
    "semente  = 938284\n",
    " \n",
    "#iniciando o gerador\n",
    "conjAleaNum = np.random.RandomState(seed=semente)\n",
    " \n",
    "#gerando os números\n",
    "print ('números gerados com a semente ', semente, \":\")\n",
    "a = conjAleaNum.uniform(low=xi, high=xf, size=numDados)\n",
    "print (a, \"\\n\")\n",
    " \n",
    "print ('outros números gerados sem modificar a semente ', semente, \":\")\n",
    "b = conjAleaNum.uniform(low=xi, high=xf, size=numDados)\n",
    "print (b, \"\\n\")\n",
    " \n",
    "print ('outros números gerados modificando a semente para ', semente, \":\")\n",
    "conjAleaNum = np.random.RandomState(seed=semente)\n",
    "c = conjAleaNum.uniform(low=xi, high=xf, size=2*numDados)\n",
    "print (c, \"\\n\")\n",
    " \n",
    "print ('o dobro de números gerados modificando a semente para ', semente, \":\")\n",
    "conjAleaNum = np.random.RandomState(seed=semente)\n",
    "d = conjAleaNum.uniform(low=0.0, high=xf, size=2*numDados)\n",
    "print (d)\n",
    "\n",
    "semente  = 738285\n",
    "\n",
    "print ('\\n o dobro de números gerados modificando a semente para ', semente, \":\")\n",
    "conjAleaNum = np.random.RandomState(seed=semente)\n",
    "d = conjAleaNum.uniform(low=0.0, high=xf, size=2*numDados)\n",
    "print (d)"
   ]
  },
  {
   "cell_type": "markdown",
   "metadata": {},
   "source": [
    "Neste exemplo devemos prestar atenção nos seguintes detalhes, na linha 12 foi criado uma variável (objeto) chamado conjAleaNum (), essa variável é o conjunto conjunto dos números aleatórios que foi inicializado com a semente semente. Na linha 16 retiramos numDados elementos do conjunto (10 no exemplo) que estejam no intervalo $[low=xi, high=xf)$ - inclui $xi$ mas não $xf$ - e são armazenados no vetor a. Na linha 20 são retirados outros numDados elementos do conjunto e na linha 25 se repete o mesmo procedimento, contudo observe que na linha 24 se reinicio o conjunto de números aleatorios ao chamar a função np.random.RandomState(seed=semente). A prova disto é que no resultado o primeiro grupo de numDados é diferente do II grupo mas igual ao terceiro. Melhor ainda, para mostrar que conjAleaNum é uma secuencia contínua de dados, na linha 29 se reinicia a sequencia e se extra 2 vezes conjAleaNum e o conjunto resultante é a união dos I e II grupo que foram retirados."
   ]
  },
  {
   "cell_type": "markdown",
   "metadata": {},
   "source": [
    "## Tipo de distribuições\n",
    "\n",
    "No exemplo acima vemos que os números são retirados de forma a estarem uniformemente distribuídos, o que significa isso? Para entender teremos que fazer um gráfico de N=100 valores sorteados os quais serão colhidos de uma distribuição uniforme entre -1 e 1. "
   ]
  },
  {
   "cell_type": "markdown",
   "metadata": {},
   "source": [
    "O código acima gerou 1000 pontos entre -1 e 1, a pergunta agora é qual é a probabilidade de encotrar um número entre 0.1 e 0.2? Para responder isso devemos dividir o intervalo $[-1,1)$ em pequenos intevalinhos de tamanho 0.1 e contar quantos números caim nesse no intervalo que queremos (no caso entre 0.1 e 0.2), afortunadamente isto é relativamente simples utilizando matplotlib, basta utilizar a função hist e pedir que seja feito 20 intervalos ($(1.0 - (-1.0))/0.1 = 20$): "
   ]
  },
  {
   "cell_type": "code",
   "execution_count": null,
   "metadata": {},
   "outputs": [],
   "source": [
    "import numpy as np\n",
    "import matplotlib as mpl\n",
    "import matplotlib.pyplot as plt\n",
    "%matplotlib inline\n",
    " \n",
    "xi       = -1.0\n",
    "xf       = 1.0\n",
    "numDados = 1000\n",
    "semente  = 4727\n",
    " \n",
    "#iniciando o gerador\n",
    "conjAleaNum = np.random.RandomState(seed=semente)\n",
    " \n",
    "#gera os número\n",
    "y = conjAleaNum.uniform(low=xi, high=xf, size=numDados)\n",
    " \n",
    "#cria numDados entre 0 e numDados igualmente espaçados\n",
    "x = np.linspace(1, numDados, numDados)\n",
    " \n",
    "#cria o gráfico\n",
    "plt.plot(x, y, '-')\n",
    "plt.show()"
   ]
  },
  {
   "cell_type": "code",
   "execution_count": null,
   "metadata": {},
   "outputs": [],
   "source": [
    "import numpy as np\n",
    "import matplotlib as mpl\n",
    "import matplotlib.pyplot as plt\n",
    " \n",
    "xi       = -1.0\n",
    "xf       = 1.0\n",
    "numDados = 1000\n",
    "semente  = 4727\n",
    " \n",
    "#iniciando o gerador\n",
    "conjAleaNum = np.random.RandomState(seed=semente)\n",
    " \n",
    "#gera os número\n",
    "y = conjAleaNum.uniform(low=xi, high=xf, size=numDados)\n",
    " \n",
    "#cria numDados entre 0 e numDados igualmente espaçados\n",
    "x = np.linspace(1, numDados, numDados)\n",
    " \n",
    "plt.hist(y, bins=30)\n",
    "plt.show()"
   ]
  },
  {
   "cell_type": "markdown",
   "metadata": {},
   "source": [
    "Da figura vemos que algo perto de 40 dos 1000 números estão entre 0.1 e 0.2, mas note que quase todos estão dentro dessa faixa, de fato, se nos aumentamos para $1\\times10^6$ a quantidade de número teremos as figura abaixo "
   ]
  },
  {
   "cell_type": "code",
   "execution_count": null,
   "metadata": {},
   "outputs": [],
   "source": [
    "#Basta alterar o valor do número de dados\n",
    "numDados=int(1e6)\n",
    "\n",
    "#iniciando o gerador\n",
    "conjAleaNum = np.random.RandomState(seed=semente)\n",
    " \n",
    "#gera os número\n",
    "y = conjAleaNum.uniform(low=xi, high=xf, size=numDados)\n",
    " \n",
    "#cria numDados entre 0 e numDados igualmente espaçados\n",
    "x = np.linspace(1, numDados, numDados)\n",
    " \n",
    "plt.hist(y, bins=50)\n",
    "plt.show()"
   ]
  },
  {
   "cell_type": "markdown",
   "metadata": {},
   "source": [
    "De onde vemos que os números se distribuem uniformemente no intervalo isto é, temos a mesma probabilidade de encontrar um número em qualquer seção do intervalo.\n",
    "\n",
    "A outra distribuição muito utilizada em física é a distribuição gaussiana ou normal que tem a forma funcional: \\[ p(x) = \\frac{1}{\\sqrt{ 2 \\pi \\sigma^2 }} e^{ - \\frac{ (x - \\mu)^2 } {2 \\sigma^2} } \\nonumber \\] onde $\\sigma$ é a largura da gaussiana e $\\mu$ onde ela está centrada. O script a seguir mostra como implementar com numpy a geração de pontos que respeitem o comportamento gaussiano: "
   ]
  },
  {
   "cell_type": "code",
   "execution_count": null,
   "metadata": {},
   "outputs": [],
   "source": [
    "import numpy as np\n",
    "import matplotlib as mpl\n",
    "import matplotlib.pyplot as plt\n",
    " \n",
    "centro   = 0.0\n",
    "largura  = 1.0\n",
    "numDados = 1000\n",
    "semente  = 4727\n",
    " \n",
    "#iniciando o gerador\n",
    "conjAleaNum = np.random.RandomState(seed=semente)\n",
    " \n",
    "#gera os número\n",
    "y = conjAleaNum.normal(loc=centro, scale=largura, size=numDados)\n",
    " \n",
    "#cria numDados entre 0 e numDados igualmente espaçados\n",
    "x = np.linspace(1, numDados, numDados)\n",
    " \n",
    "plt.hist(y, bins=20)\n",
    "plt.show()"
   ]
  },
  {
   "cell_type": "markdown",
   "metadata": {},
   "source": [
    "Aumentando a quantidade de dados a ser gerada para um milhão e colocando o bins=100 o resultado é "
   ]
  },
  {
   "cell_type": "code",
   "execution_count": null,
   "metadata": {},
   "outputs": [],
   "source": [
    "import numpy as np\n",
    "import matplotlib as mpl\n",
    "import matplotlib.pyplot as plt\n",
    " \n",
    "centro   = 0.0\n",
    "largura  = 1.0\n",
    "numDados = int(1e6)\n",
    "semente  = 4727\n",
    " \n",
    "#iniciando o gerador\n",
    "conjAleaNum = np.random.RandomState(seed=semente)\n",
    " \n",
    "#gera os número\n",
    "y = conjAleaNum.normal(loc=centro, scale=largura, size=numDados)\n",
    " \n",
    "#cria numDados entre 0 e numDados igualmente espaçados\n",
    "x = np.linspace(1, numDados, numDados)\n",
    "\n",
    "# Aumentou-se a quantidade de bins=100\n",
    "plt.hist(y, bins=100)\n",
    "plt.show()"
   ]
  },
  {
   "cell_type": "markdown",
   "metadata": {},
   "source": [
    "Além dessas duas distribuições a numpy define varias outras, como a poisson pode ser visto no [site do numpy seção de números aleatórios](https://docs.scipy.org/doc/numpy/reference/generated/numpy.random.RandomState.html#numpy.random.RandomState)  <https://docs.scipy.org/doc/numpy/reference/routines.random.html>. "
   ]
  },
  {
   "cell_type": "markdown",
   "metadata": {},
   "source": [
    "Mínimo quadrados [via scipy](https://python4mpia.github.io/fitting_data/least-squares-fitting.html)"
   ]
  },
  {
   "cell_type": "code",
   "execution_count": null,
   "metadata": {},
   "outputs": [],
   "source": [
    "import numpy,math\n",
    "import scipy.optimize as optimization\n",
    "import matplotlib.pyplot as plt\n",
    "\n",
    "# Chose a model that will create bimodality.\n",
    "def func(x, a, b):\n",
    "    return a + b*b*x  # Term b*b will create bimodality.\n",
    "\n",
    "# Create toy data for curve_fit.\n",
    "xdata = numpy.array([0.0,1.0,2.0,3.0,4.0,5.0])\n",
    "ydata = numpy.array([0.1,0.9,2.2,2.8,3.9,5.1])\n",
    "sigma = numpy.array([1.0,1.0,1.0,1.0,1.0,1.0])\n",
    "\n",
    "# Compute chi-square manifold.\n",
    "Steps = 101  # grid size\n",
    "Chi2Manifold = numpy.zeros([Steps,Steps])  # allocate grid\n",
    "amin = -7.0  # minimal value of a covered by grid\n",
    "amax = +5.0  # maximal value of a covered by grid\n",
    "bmin = -4.0  # minimal value of b covered by grid\n",
    "bmax = +4.0  # maximal value of b covered by grid\n",
    "for s1 in range(Steps):\n",
    "    for s2 in range(Steps):\n",
    "        # Current values of (a,b) at grid position (s1,s2).\n",
    "        a = amin + (amax - amin)*float(s1)/(Steps-1)\n",
    "        b = bmin + (bmax - bmin)*float(s2)/(Steps-1)\n",
    "        # Evaluate chi-squared.\n",
    "        chi2 = 0.0\n",
    "        for n in range(len(xdata)):\n",
    "            residual = (ydata[n] - func(xdata[n], a, b))/sigma[n]\n",
    "            chi2 = chi2 + residual*residual\n",
    "        Chi2Manifold[Steps-1-s2,s1] = chi2  # write result to grid.\n",
    "\n",
    "# Plot grid.\n",
    "plt.figure(1, figsize=(8,4.5))\n",
    "plt.subplots_adjust(left=0.09, bottom=0.09, top=0.97, right=0.99)\n",
    "# Plot chi-square manifold.\n",
    "image = plt.imshow(Chi2Manifold, vmax=50.0,\n",
    "              extent=[amin, amax, bmin, bmax])\n",
    "# Plot where curve-fit is going to for a couple of initial guesses.\n",
    "for a_initial in -6.0, -4.0, -2.0, 0.0, 2.0, 4.0:\n",
    "    # Initial guess.\n",
    "    x0   = numpy.array([a_initial, -3.5])\n",
    "    #xFit = optimization.leastsq(func, x0, xdata, ydata, x0, sigma)[0]\n",
    "    xFit = optimization.curve_fit(func, xdata, ydata, x0, sigma)[0]\n",
    "    plt.plot([x0[0], xFit[0]], [x0[1], xFit[1]], 'o-', ms=4,\n",
    "                 markeredgewidth=0, lw=2, color='orange')\n",
    "plt.colorbar(image)  # make colorbar\n",
    "plt.xlim(amin, amax)\n",
    "plt.ylim(bmin, bmax)\n",
    "plt.xlabel(r'$a$', fontsize=24)\n",
    "plt.ylabel(r'$b$', fontsize=24)\n",
    "plt.savefig('demo-robustness-curve-fit.png')\n",
    "plt.show()"
   ]
  },
  {
   "cell_type": "code",
   "execution_count": null,
   "metadata": {},
   "outputs": [],
   "source": [
    "? optimization.leastsq"
   ]
  },
  {
   "cell_type": "markdown",
   "metadata": {},
   "source": [
    "## Exercícios\n",
    "\n",
    "1. Escreva um programa que realize o produto de duas matrizes: $C = AB$. O programa deve perguntar para o usuário o número de linhas e colunas de cada matriz. Deve checar, utilizando o dado anterior, se o produto pode ser realizado efetivamente. Deve ler do teclado cada uma das matrizes e realizar seu produto segundo a equação $c_{ij} = \\sum_{k=1}^{q} a_{ik}b_{kj}$. Como exemplo teste seu programa utilizando\n",
    "\n",
    "    $$\\displaystyle{ \\left[\\begin{array}{c c c} 1 & 2 & 4 \\\\ 2 & 6 & 0 \\end{array}\\right] \\; \\left[\\begin{array}{c c c c} 4 & 1 & 4 & 3 \\\\ 0 & -1 & 3 & 1 \\\\ 2 & 7 & 5 & 2 \\end{array}\\right] = \\left[\\begin{array}{c c c c} 12 & 27 & 30 & 13 \\\\ 8 & -4 & 26 & 12 \\end{array}\\right] }$$\n",
    "    \n",
    "2. Existe um teorema matemática que permite calcular as novas coordenadas de um vetor após ter sido realizada uma rotação em torno de um vetor unitário $\\vec u$. Esse teorema diz que: Se $\\vec u = a\\hat i+b\\hat j+c\\hat k$ é um vetor unitário, então a matriz canônica $R_{\\vec u , \\theta}$ da rotação pelo ângulo $\\theta$ em torno do eixo pela origem com orientação $\\vec u$ é dada por\n",
    "\n",
    "    $$\\displaystyle{ R_{\\vec u , \\theta} = \\left[\\begin{array}{c c c} a^2\\left(1-\\cos\\theta\\right)+\\cos\\theta & ab\\left(1-\\cos\\theta\\right)-c\\sin\\theta & ac\\left(1-\\cos\\theta\\right)+b\\sin\\theta \\\\ ab\\left(1-\\cos\\theta\\right)+c\\sin\\theta & b^2\\left(1-\\cos\\theta\\right)+\\cos\\theta & bc \\left(1-\\cos\\theta\\right)-a\\sin\\theta \\\\ ac\\left(1-\\cos\\theta\\right)-b\\sin\\theta & bc \\left(1-\\cos\\theta\\right)+a\\sin\\theta & c^2\\left(1-\\cos\\theta\\right)+\\cos\\theta \\end{array}\\right] }$$\n",
    "    Dessa forma dado um vetor $\\vec r$ o novo vetor que se obtêm apôs a rotação de $\\theta$ em torno de $\\vec u$ é o vetor $\\vec r'$ dado por: $\\vec r' = R_{\\vec u , \\theta} \\vec r$. De posse desse teorema, construa um programa que:\n",
    "\n",
    "    1. Pergunte a coordenada de um ponto, no espaço $(x,y,z)$, que permita traçar uma reta desde a origem, suporemos que o vetor unitário está sobre essa reta\n",
    "    2. Pergunte as coordenadas do vetor que quer ser rotado\n",
    "    3. Pergunte o ângulo de rotação, em graus (a matriz de rotação é em radianos)\n",
    "    4. Como resultado o programa deve devolver o novo vetor resultante da rotação\n",
    "\n",
    "    Como teste considere o ponto de referencia para o vetor unitário $(1,1,1)$, uma rotação de $120^\\circ$ e o vetor a ser rotado é $\\vec r = \\hat i - \\hat j$. O resultado dessa operação é o novo vetor $\\vec r' = \\hat j - \\hat k$. \n"
   ]
  },
  {
   "cell_type": "markdown",
   "metadata": {},
   "source": [
    "### Mais exemplos da numpy …\n",
    "\n",
    "- …podem ser encontrados aqui: <http://www.scipy.org/Numpy_Example_List>\n",
    "\n",
    "- [NumPy: creating and manipulating numerical data](http://www.scipy-lectures.org/intro/numpy/numpy.html)\n",
    "\n",
    "- [100 numpy exercises](https://github.com/rougier/numpy-100)\n",
    "\n",
    "### Numpy para usuários Matlab \n",
    "\n",
    "Existe uma página web dedicada que explica Numpy a partir da perspectiva de um (experiente) usuário Matlab em https://docs.scipy.org/doc/numpy-dev/user/numpy-for-matlab-users.html."
   ]
  },
  {
   "cell_type": "code",
   "execution_count": null,
   "metadata": {},
   "outputs": [],
   "source": []
  }
 ],
 "metadata": {
  "kernelspec": {
   "display_name": "Python 3",
   "language": "python",
   "name": "python3"
  },
  "language_info": {
   "codemirror_mode": {
    "name": "ipython",
    "version": 3
   },
   "file_extension": ".py",
   "mimetype": "text/x-python",
   "name": "python",
   "nbconvert_exporter": "python",
   "pygments_lexer": "ipython3",
   "version": "3.6.8"
  },
  "latex_envs": {
   "LaTeX_envs_menu_present": true,
   "autoclose": false,
   "autocomplete": false,
   "bibliofile": "biblio.bib",
   "cite_by": "apalike",
   "current_citInitial": 1,
   "eqLabelWithNumbers": true,
   "eqNumInitial": 1,
   "hotkeys": {
    "equation": "Ctrl-E",
    "itemize": "Ctrl-I"
   },
   "labels_anchors": false,
   "latex_user_defs": false,
   "report_style_numbering": false,
   "user_envs_cfg": false
  },
  "nbTranslate": {
   "displayLangs": [
    "pt",
    "en"
   ],
   "hotkey": "alt-t",
   "langInMainMenu": true,
   "sourceLang": "en",
   "targetLang": "pt",
   "useGoogleTranslate": true
  },
  "toc": {
   "base_numbering": 1,
   "nav_menu": {},
   "number_sections": true,
   "sideBar": true,
   "skip_h1_title": false,
   "title_cell": "Table of Contents",
   "title_sidebar": "Contents",
   "toc_cell": false,
   "toc_position": {},
   "toc_section_display": "block",
   "toc_window_display": false
  },
  "varInspector": {
   "cols": {
    "lenName": 16,
    "lenType": 16,
    "lenVar": 40
   },
   "kernels_config": {
    "python": {
     "delete_cmd_postfix": "",
     "delete_cmd_prefix": "del ",
     "library": "var_list.py",
     "varRefreshCmd": "print(var_dic_list())"
    },
    "r": {
     "delete_cmd_postfix": ") ",
     "delete_cmd_prefix": "rm(",
     "library": "var_list.r",
     "varRefreshCmd": "cat(var_dic_list()) "
    }
   },
   "types_to_exclude": [
    "module",
    "function",
    "builtin_function_or_method",
    "instance",
    "_Feature"
   ],
   "window_display": false
  }
 },
 "nbformat": 4,
 "nbformat_minor": 1
}
