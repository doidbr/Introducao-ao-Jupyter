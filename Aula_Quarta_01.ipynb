{
 "cells": [
  {
   "cell_type": "markdown",
   "metadata": {},
   "source": [
    "<img src=\"../Figs/Cab_IF_Red_01.png\" alt=\"drawing\" width=\"80%\"/>\n",
    "\n",
    "\n",
    "<!--\n",
    "\n",
    "<img href=\"Figs/Cab_IF_Red_01.png\" style=\"width: 80%;\" /> doesn't work\n",
    "\n",
    "![Logotipo do IF](../Figs/Cab_IF_Red_01.png){ width=50% }\n",
    "\n",
    "<h1> <span style=\"color:blue\">Curso de Python</span> </h1> \n",
    "-->\n",
    "\n",
    "<p style=\"margin-bottom:1cm;\"> </p>\n",
    "\n",
    "\n",
    "<center> <font size=\"6\" color=\"blue\">Curso de Python</font> </center>\n",
    "\n",
    "\n",
    "<font size=\"4\" color=\"blue\">**Prof. :** Salviano A. Leão -- Instituto de Física - UFG-GO</font>\n",
    "\n"
   ]
  },
  {
   "cell_type": "markdown",
   "metadata": {},
   "source": [
    "# Introspecção"
   ]
  },
  {
   "cell_type": "markdown",
   "metadata": {},
   "source": [
    "## Sumário  <a name=\"sumario\"></a>\n",
    "\n",
    "* [Introdução](#Introducao)\n",
    "* [Função dir()](#func-dir)\n",
    "* [Nomes Mágicos](#Nomes-magicos)\n",
    "* [Função type](#func-type)\n",
    "* [Função isinstance](#func-isinstance)\n",
    "* [Função help](#func-help)\n",
    "* [Documentação docstrings](#docstrings)\n",
    "* [Números Reais](#Numeros-reais)"
   ]
  },
  {
   "cell_type": "markdown",
   "metadata": {},
   "source": [
    "## Introdução <a name=\"Introducao\"></a>\n",
    "\n",
    "Um código Python pode fazer e responder perguntas sobre si mesmo e os objetos que está manipulando."
   ]
  },
  {
   "cell_type": "markdown",
   "metadata": {},
   "source": [
    "# Um pouco mais sobre as funções do python"
   ]
  },
  {
   "cell_type": "markdown",
   "metadata": {},
   "source": [
    "## Função dir() <a name=\"func-dir\"></a>\n",
    "\n",
    "\n",
    "<span>`dir()`</span> é uma função interna (*builtin*) a qual retorna uma lista de todos os nomes pertencentes ao mesmo *namespace*.\n",
    "\n",
    "-   Se nenhum argumento é passado para a função dir (isto é, <span>`dir()`</span>), ela inspeciona o namespace no qual ela foi chamada.\n",
    "\n",
    "-   Se <span>`dir`</span> é dado com um argumento (isto é, <span>`dir(<object>)`</span>, então ela inspeciona o  namespace do objeto o qual foi passado para ela.\n",
    "\n",
    "Por exemplo:"
   ]
  },
  {
   "cell_type": "code",
   "execution_count": null,
   "metadata": {},
   "outputs": [],
   "source": [
    "frutas = ['banana', 'manga', 'uva', 'pera', 'abacate', 'abacaxi']\n",
    "dir(frutas)"
   ]
  },
  {
   "cell_type": "code",
   "execution_count": null,
   "metadata": {},
   "outputs": [],
   "source": [
    "dir()"
   ]
  },
  {
   "cell_type": "code",
   "execution_count": null,
   "metadata": {},
   "outputs": [],
   "source": [
    "nome = \"Pedro\"\n",
    "dir(nome)"
   ]
  },
  {
   "cell_type": "markdown",
   "metadata": {},
   "source": [
    "## Nomes Mágicos <a name=\"Nomes-magicos\"></a>\n",
    "\n",
    "\n",
    "Você encontrará muitos nomes que começam e terminam com um sublinhado duplo (por exemplo, <span>`__nome__`</span>). Estes são chamados nomes mágicos. Funções com nomes mágicos fornecem a implementação de funcionalidades particulares do python.\n",
    "\n",
    "Por exemplo, a aplicação do <span>`str`</span> para um objeto <span>`a`</span>, isto é, <span>`str(a)`</span> resultará internamente na chamada do método <span>`a.__str__()`</span>. Este método <span>`__str__` </span> geralmente precisa retornar uma string. A idéia é que o método <span>`__str__()`</span> deve ser definido para todos os objetos (incluindo aqueles que derivam de novas classes que um programador pode criar) para que todos os objetos (independentemente de seu tipo ou classe) possam ser impressos usando a função <span>`str()`</span>. A conversão real de algum objeto <span>`x`</span> para a string é então feita através do método específico do objeto <span>`x.__str__()`</span>.\n",
    "\n",
    "Pode-se demonstrar isso criando uma classe <span>`meu_int`</span> que herda da classe base inteira do Python e substitui o método <span>`__str__`</span>. (Esse exemplo irá exigir mais conhecimento do Python do que o fornecido até este ponto no texto para poder entender todo o exemplo, entretanto ainda assim ele será útil no momento)."
   ]
  },
  {
   "cell_type": "code",
   "execution_count": 1,
   "metadata": {
    "ExecuteTime": {
     "end_time": "2019-08-14T11:21:12.102901Z",
     "start_time": "2019-08-14T11:21:12.096966Z"
    }
   },
   "outputs": [
    {
     "name": "stdout",
     "output_type": "stream",
     "text": [
      "a * b =  12\n",
      "Tipo de a =  <class '__main__.meu_int'> str(a) =  meu_int: 3\n",
      "Tipo de b =  <class 'int'> str(b) =  4\n"
     ]
    }
   ],
   "source": [
    "class meu_int(int): \n",
    "    \"\"\"Herdado dos inteiros (int)\"\"\" \n",
    "    def __str__(self): \n",
    "        \"\"\"Ajusta a representação str do meu_int\"\"\" \n",
    "        return \"meu_int: %s\" % (int.__str__(self))\n",
    " \n",
    "a = meu_int(3)\n",
    "b = int(4)            # equivalente a b = 4\n",
    "print(\"a * b = \", a * b)\n",
    "print(\"Tipo de a = \", type(a), \"str(a) = \", str(a))\n",
    "print(\"Tipo de b = \", type(b), \"str(b) = \", str(b))"
   ]
  },
  {
   "cell_type": "markdown",
   "metadata": {},
   "source": [
    "### Leitura recomendada\n",
    "\n",
    "Veja também a documentação do Python →[Python documentation, Data Model](http://docs.python.org/reference/datamodel.html)\n",
    "\n",
    "## Função type <a name=\"func-type\"></a>\n",
    "\n",
    "A função <span>`type(<object>)`</span> retorna o tipo de um objeto:"
   ]
  },
  {
   "cell_type": "code",
   "execution_count": null,
   "metadata": {},
   "outputs": [],
   "source": [
    "type(1)"
   ]
  },
  {
   "cell_type": "code",
   "execution_count": null,
   "metadata": {
    "scrolled": true
   },
   "outputs": [],
   "source": [
    "type(1.0)"
   ]
  },
  {
   "cell_type": "code",
   "execution_count": null,
   "metadata": {
    "scrolled": true
   },
   "outputs": [],
   "source": [
    "type(\"Python\")"
   ]
  },
  {
   "cell_type": "code",
   "execution_count": null,
   "metadata": {},
   "outputs": [],
   "source": [
    "import math\n",
    "type(math)"
   ]
  },
  {
   "cell_type": "code",
   "execution_count": null,
   "metadata": {},
   "outputs": [],
   "source": [
    "type(math.sin)"
   ]
  },
  {
   "cell_type": "code",
   "execution_count": null,
   "metadata": {},
   "outputs": [],
   "source": [
    "dir(math)"
   ]
  },
  {
   "cell_type": "markdown",
   "metadata": {},
   "source": [
    "## Função isinstance <a name=\"func-isinstance\"></a>\n",
    "\n",
    "\n",
    "<span>`isinstance(<object>, <typespec>)`</span> retorna True se o objeto fornecido  é uma instância de um dado tipo, ou  qualquer uma de suas \"superclasses\". Use <span>`help(isinstance`</span>) para obter uma sintaxe completa da função."
   ]
  },
  {
   "cell_type": "code",
   "execution_count": null,
   "metadata": {},
   "outputs": [],
   "source": [
    "isinstance(2,int)"
   ]
  },
  {
   "cell_type": "code",
   "execution_count": null,
   "metadata": {},
   "outputs": [],
   "source": [
    "isinstance(2.,int)"
   ]
  },
  {
   "cell_type": "code",
   "execution_count": null,
   "metadata": {},
   "outputs": [],
   "source": [
    "isinstance(a,int)    # a é uma instância do meu_int"
   ]
  },
  {
   "cell_type": "code",
   "execution_count": null,
   "metadata": {},
   "outputs": [],
   "source": [
    "type(a)"
   ]
  },
  {
   "cell_type": "markdown",
   "metadata": {},
   "source": [
    "## Função help <a name=\"func-help\"></a>\n",
    "\n",
    "-   A função <span>`help(<object>)`</span> irá reportar a *docstring* (atrituto mágico com o nome <span>`__doc__`</span>) do objeto que é fornecido, algumas vezes complementado com informações adicionais. No caso das funções, <span>`help`</span> também mostrará a lista dos argumentos que a função aceita (mas ela não retorna nenhum valor).\n",
    "\n",
    "-   <span>`help()`</span> inicia um ambiente de ajuda interativo. \n",
    "\n",
    "-   É muito comun usar o comando <span>`help`</span> muitas vezes para lembrar-se da sintaxe e da semântica de alguns comandos. \n",
    "\n",
    "<!-- -->"
   ]
  },
  {
   "cell_type": "code",
   "execution_count": null,
   "metadata": {},
   "outputs": [],
   "source": [
    "help(isinstance)"
   ]
  },
  {
   "cell_type": "code",
   "execution_count": null,
   "metadata": {},
   "outputs": [],
   "source": [
    "import math\n",
    "help(math.sin)"
   ]
  },
  {
   "cell_type": "code",
   "execution_count": null,
   "metadata": {},
   "outputs": [],
   "source": [
    "help(math.log)"
   ]
  },
  {
   "cell_type": "code",
   "execution_count": null,
   "metadata": {},
   "outputs": [],
   "source": [
    "help(math)"
   ]
  },
  {
   "cell_type": "markdown",
   "metadata": {},
   "source": [
    "A função <span>`help`</span> precisa de receber o nome de um objeto (que deve existir no espaço de nome atual). Por exemplo, py<span> help(math.sqrt)</span> não funcionará se o módulo <span>`math`</span> não tiver sido importado antes."
   ]
  },
  {
   "cell_type": "code",
   "execution_count": null,
   "metadata": {},
   "outputs": [],
   "source": [
    "help(math.sqrt)"
   ]
  },
  {
   "cell_type": "code",
   "execution_count": null,
   "metadata": {},
   "outputs": [],
   "source": [
    "import math\n",
    "help(math.sqrt)"
   ]
  },
  {
   "cell_type": "markdown",
   "metadata": {},
   "source": [
    "Em vez de importar o módulo, também poderíamos ter dado a *string* de <span>`math.sqrt`</span> à função de ajuda, isto é:"
   ]
  },
  {
   "cell_type": "code",
   "execution_count": null,
   "metadata": {
    "scrolled": true
   },
   "outputs": [],
   "source": [
    "help('math.sqrt')"
   ]
  },
  {
   "cell_type": "markdown",
   "metadata": {},
   "source": [
    "<Span>`help`</span> é uma função que fornece informações sobre o objeto que é passado como argumento. A maioria das coisas em Python (classes, funções, módulos, etc.) são objetos e, portanto, podem ser passadas para o `help`. Há, no entanto, algumas coisas sobre as quais você gostaria de pedir ajuda, que não são objetos Python existentes. Em tais casos, muitas vezes é possível passar uma string contendo o nome da coisa ou conceito para ajudar, por exemplo\n",
    "\n",
    "- <span>`help('modules')`</span> irá gerar uma lista de todos os módulos que podem ser importados no interpretador atual. Observe que `help(modules)` (note a ausência de aspas) resultará em um NameError (a menos que você seja azarado o suficiente para ter uma variável chamada modules nesse no mesmo namespace, nesse caso você vai obter ajuda sobre como essa variável é referida.\n",
    "\n",
    "- <span>`help('algum_modulo')`</span>, onde `algum_modulo` é um módulo que ainda não foi importado (e por isso ainda não é um objeto), fornecerá as informações de ajuda desse módulo.\n",
    "\n",
    "- <span> `help('alguma_palavra_chave')`</span>: Por exemplo <span>`and`</span>, <span>`if`</span> ou <span>`print`</span> (*isto é,* <span>`help('and')`</span>, <span>`help('if')`</span> and <span>`help('print')`</span> ). Estas são palavras especiais reconhecidas pelo Python: elas não são objetos e, portanto, não podem ser passadas como argumentos para o `help`. Passando o nome da palavra-chave como uma string para o `help` funciona, mas somente se você tiver a documentação HTML do Python instalada e o intérpretador tiver sido informado sobre sua localização definindo a variável de ambiente PYTHONDOCS.\n",
    "\n",
    "\n",
    "\n",
    "## Documentação docstrings <a name=\"docstrings\"></a>\n",
    "\n",
    "\n",
    "O comando <span>`help(<object>)`</span> acessa as strings de documentação dos objetos.\n",
    "\n",
    "Qualquer string literal que surge como primeiro item na definição de uma classe, função, método ou módulo é considerada como sendo sua \"*docstring*\".\n",
    "\n",
    "O <span>`help`</span> inclui a docstring na informação que ele mostra sobre o objeto. \n",
    "\n",
    "Além disso, o docstring pode mostrar algumas outras informações, por exemplo, no caso de funções, ele mostra as assinaturas das funções.\n",
    "\n",
    "\n",
    "A docstring é armazenada no atributo <span>`__doc__`</span> do objeto."
   ]
  },
  {
   "cell_type": "code",
   "execution_count": null,
   "metadata": {
    "scrolled": true
   },
   "outputs": [],
   "source": [
    "help(math.sin)"
   ]
  },
  {
   "cell_type": "code",
   "execution_count": null,
   "metadata": {
    "scrolled": true
   },
   "outputs": [],
   "source": [
    "print(math.sin.__doc__)"
   ]
  },
  {
   "cell_type": "markdown",
   "metadata": {},
   "source": [
    "Para funções definidas pelo usuário, classes, tipos, módulos, ...), uma deverá sempre fornecer um docstring.\n",
    "\n",
    "Documentando uma função fornecida pelo usuário:"
   ]
  },
  {
   "cell_type": "code",
   "execution_count": null,
   "metadata": {},
   "outputs": [],
   "source": [
    "def power2e3(x):\n",
    "    \"\"\"Retorna a tupla (x**2, x**3)\"\"\"\n",
    "    return x**2 ,x**3\n",
    "\n",
    "power2e3(2)"
   ]
  },
  {
   "cell_type": "code",
   "execution_count": null,
   "metadata": {},
   "outputs": [],
   "source": [
    "power2e3(4.5)"
   ]
  },
  {
   "cell_type": "code",
   "execution_count": null,
   "metadata": {},
   "outputs": [],
   "source": [
    "power2e3(0+1j)"
   ]
  },
  {
   "cell_type": "code",
   "execution_count": null,
   "metadata": {},
   "outputs": [],
   "source": [
    "help(power2e3)"
   ]
  },
  {
   "cell_type": "code",
   "execution_count": null,
   "metadata": {
    "scrolled": true
   },
   "outputs": [],
   "source": [
    "print(power2e3.__doc__)"
   ]
  },
  {
   "cell_type": "code",
   "execution_count": 2,
   "metadata": {
    "ExecuteTime": {
     "end_time": "2019-08-14T11:25:33.636004Z",
     "start_time": "2019-08-14T11:25:33.623584Z"
    }
   },
   "outputs": [
    {
     "data": {
      "text/plain": [
       "False"
      ]
     },
     "execution_count": 2,
     "metadata": {},
     "output_type": "execute_result"
    }
   ],
   "source": [
    "(0.1+0.1+0.1) == 0.3"
   ]
  },
  {
   "cell_type": "code",
   "execution_count": 4,
   "metadata": {
    "ExecuteTime": {
     "end_time": "2019-08-14T11:25:55.684961Z",
     "start_time": "2019-08-14T11:25:55.680980Z"
    }
   },
   "outputs": [
    {
     "data": {
      "text/plain": [
       "490909346529772655309577195498627564297521551249944956511154911718710525472171585646009788403733195227718357156513187851316791861042471890280751482410896345225310546445986192853894181098439730703830718994140625"
      ]
     },
     "execution_count": 4,
     "metadata": {},
     "output_type": "execute_result"
    }
   ],
   "source": [
    "25**150"
   ]
  },
  {
   "cell_type": "markdown",
   "metadata": {},
   "source": [
    "# Raízes\n",
    "\n",
    "Um problema que surge muito nas diversas áreas do conhecimento é o de encontrar as raízes de uma equação da forma $f(x)=0$. No caso em que $f(x)$ é uma função polinomial de ordem $n$, ou uma outra forma, esta deixa de ser uma tarefa simples. Quando temos uma função $f(x)$ do tipo\n",
    "$$ f(x) = e^{x} - 6x =0 $$\n",
    "esta é chamada de uma equação transcendental pois, não um meio de isolar a variável $x$.\n",
    "\n",
    "A seguir usaremos a matplotlib para fazer um gráfico da função"
   ]
  },
  {
   "cell_type": "code",
   "execution_count": null,
   "metadata": {},
   "outputs": [],
   "source": [
    "# permite que se mostre os gráficos nesse ambiente\n",
    "%matplotlib inline"
   ]
  },
  {
   "cell_type": "code",
   "execution_count": null,
   "metadata": {
    "scrolled": false
   },
   "outputs": [],
   "source": [
    "# Fazendo o gráfico da função\n",
    "import numpy as np                  # obtém acesso aos rápidos arrays da numpy \n",
    "import matplotlib.pyplot as plt     # Para fazer os gráficos das funções\n",
    "\n",
    "# Definindo a função\n",
    "def f(x):\n",
    "    return np.exp(x) - 6*x\n",
    "\n",
    "x0 = -6     # Valor inicial de x\n",
    "xf = 6      # Valor final de x\n",
    "dx = 0.01   # Passo da discretização dx = (xf - x0)/(np-1)\n",
    "\n",
    "x = np.arange(x0, xf, dx)           # cria um vetor de dados x-data\n",
    "y = f(x)                            # calcula o vetor de dados y-data\n",
    "y1 = np.exp(x)\n",
    "y2 = 6*x\n",
    "\n",
    "largura = 10  # Largura da figura\n",
    "altura  = 5   # Altura da figura\n",
    "plt.figure(figsize =(largura, altura))     # Define o tamanho do gráfico\n",
    "plt.grid()                       # Habilita a grade \n",
    "plt.xlabel('x')\n",
    "plt.ylabel('y')\n",
    "plt.title('Função transcendental')\n",
    "plt.plot(x, y, label=\"exp(x)-6x\")   # Faz o gráfico\n",
    "plt.plot(x, y1, label=\"exp(x)\")     # Faz o gráfico\n",
    "plt.plot(x, y2, label=\"6x\")         # Faz o gráfico\n",
    "plt.legend(loc=\"upper left\")        # Habilita as legendas\n",
    "plt.show()"
   ]
  },
  {
   "cell_type": "markdown",
   "metadata": {},
   "source": [
    "Para avaliar uma funão será sempre necessário fazer um gráfico do seu comportamento e para isso usaremos a seguinte função assim definida:"
   ]
  },
  {
   "cell_type": "code",
   "execution_count": null,
   "metadata": {},
   "outputs": [],
   "source": [
    "def grafico(f,x0,xf,dx):\n",
    "    \"\"\" Faz o gráfico da função f no intervalo [x0,xf] com:\n",
    "    x0    Valor inicial de x\n",
    "    xf    Valor final de x\n",
    "    dx    Passo da discretização dx = (xf - x0)/(np-1)    \n",
    "    \"\"\"\n",
    "    x = np.arange(x0, xf, dx)           # cria um vetor de dados x-data\n",
    "    y = f(x)                            # calcula o vetor de dados y-data\n",
    "\n",
    "    largura = 10  # Largura da figura\n",
    "    altura  = 5   # Altura da figura\n",
    "    plt.figure(figsize =(largura, altura))     # Define o tamanho do gráfico\n",
    "\n",
    "    plt.grid()                       # Habilita a grade \n",
    "    plt.xlabel('x')\n",
    "    plt.ylabel('y')\n",
    "    #plt.title('Função transcendental')\n",
    "    plt.plot(x, y, label=\"f(x)\")   # Faz o gráfico\n",
    "    plt.legend(loc=\"upper left\")   # Habilita as legendas\n",
    "    plt.show()\n",
    "    return"
   ]
  },
  {
   "cell_type": "markdown",
   "metadata": {},
   "source": [
    "O problema de calcular as raízes como foi visto anteriormente pode ser dividido em duas etapas:\n",
    "\n",
    "- Encontrar os intervalos que contém uma raiz;\n",
    "- Dado o intervalo encontrar a raiz\n",
    "\n",
    "Como, determinar essa raíz?"
   ]
  },
  {
   "cell_type": "markdown",
   "metadata": {},
   "source": [
    "## Método da bisseção\n",
    "\n",
    "O método da bisseção foi um dos primeiros métodos para achar raízes de funções \"complicadas\".\n",
    "Ele é bastante simples, e esta simplicidade é também o seu poder.\n",
    "\n",
    "Suponha que $f$ seja uma função contínua, e que $f(a)$ e $f(b)$ tenham sinais opostos.\n",
    "O **Teorema do valor intermediário** garante que existe uma raiz de $f$ no segmento $[a,b]$.\n",
    "Mais ainda, a _prova_ deste teorema é construtiva e nos dá um algoritmo para achar esta raiz:\n",
    "\n",
    "- Considere $m = (a+b)/2$ o ponto médio de $[a,b]$, e calcule $f(m)$.\n",
    "- Pode ser (com muita sorte) que $f(m) = 0$. Neste caso, acabou.\n",
    "- Senão, $f(m)$ será positivo ou negativo, e como $f(a)$ e $f(b)$ têm sinais contrários, então\n",
    "    - ou $f(a)$ e $f(m)$ têm sinais contrários\n",
    "    - ou $f(b)$ e $f(m)$ têm sinais contrários\n",
    "- Assim, podemos continuar buscando uma raíz na metade \"certa\" do intervalo original."
   ]
  },
  {
   "cell_type": "code",
   "execution_count": null,
   "metadata": {},
   "outputs": [],
   "source": [
    "def Bissecao(f, a, b, nmax, prec):\n",
    "    \"\"\" Método da bisseção para uma função f no intervalo [a,b]. \"\"\"\n",
    "    # Verificar se no intervalo dado há uma raiz\n",
    "    fa = f(a)\n",
    "    fb = f(b)\n",
    "    if fa*fb > 0.0 : \n",
    "        return print(\"Não há raiz no intervalo\")\n",
    "    else: \n",
    "        m =(a+b)/2.0\n",
    "        fm = f(m)\n",
    "        d = b - a\n",
    "        cont = 0\n",
    "        while (abs(d) > prec ) and (cont < nmax) :\n",
    "            cont = cont + 1\n",
    "            if fa * fm < 0:\n",
    "                b = m\n",
    "                m =(a + b)/2\n",
    "                fm =f(m)\n",
    "                d = b - a\n",
    "            else:\n",
    "                a = m\n",
    "                m =(a + b)/2\n",
    "                fm =f(m)\n",
    "                d = b - a\n",
    "        return m, cont\n",
    "\n",
    "Bissecao(f, 2, 4, 100, 1.0e-8)"
   ]
  },
  {
   "cell_type": "code",
   "execution_count": null,
   "metadata": {},
   "outputs": [],
   "source": [
    "def Bissecao1(f, a, b, nmax, prec):\n",
    "    \"\"\" Método da bisseção para encontrar a raiz de uma função f no intervalo [a,b]. \"\"\"\n",
    "    # Verificar se no intervalo dado há uma raiz\n",
    "    fa = f(a)\n",
    "    fb = f(b)\n",
    "    if fa*fb > 0.0 : \n",
    "        return print(\"Não há raiz no intervalo\")\n",
    "    else: \n",
    "        m =(a+b)/2.0\n",
    "        fm = f(m)\n",
    "        d = b - a\n",
    "        cont = 0\n",
    "        while (abs(d) > prec ):\n",
    "            cont = cont + 1\n",
    "            if (cont > nmax) : return print(\"Não achamos uma raiz nas iterações dadas\") \n",
    "            if fa * fm < 0:\n",
    "                b = m\n",
    "                m =(a + b)/2\n",
    "                fm =f(m)\n",
    "                d = b - a\n",
    "            else:\n",
    "                a = m\n",
    "                m =(a + b)/2\n",
    "                fm =f(m)\n",
    "                d = b - a\n",
    "        return m, cont\n",
    "\n",
    "Bissecao1(f, 2, 4, 30, 1.0e-8)"
   ]
  },
  {
   "cell_type": "markdown",
   "metadata": {},
   "source": [
    "## Implementando a bisseção\n",
    "\n",
    "Como vamos usar um computador, temos que levar em consideração que:\n",
    "\n",
    "- As contas no computador podem não dar zero para uma raiz, por erro de precisão;\n",
    "- E mesmo assim, em geral este método nunca termina, pois só obtemos a raiz pelo limite dos intervalos encaixados.\n",
    "\n",
    "Portanto, e de forma bastante razoável, temos que limitar as nossas espectativas.\n",
    "Uma forma interessante é pedir que a raiz seja calculada com uma certa precisão, digamos $10^{-6}$.\n",
    "Neste caso, nós podemos **garantir** que esta precisão será atingida,\n",
    "e portanto a resposta que o nosso método fornece não é apenas \"um chute\", mas ela é **certificada** pelo erro que a acompanha."
   ]
  },
  {
   "cell_type": "code",
   "execution_count": null,
   "metadata": {},
   "outputs": [],
   "source": [
    "def bissecao(f,a,b,prec):\n",
    "    \"\"\" Método da bisseção para encontrar a raiz de uma função f no intervalo [a,b]\n",
    "    recursivamente . \"\"\"\n",
    "    m = (a+b)/2\n",
    "    # Se já há precisão suficiente, retornamos o ponto médio do intervalo\n",
    "    if abs(b - a) < prec: return m\n",
    "    # Se f(m) == 0, achamos uma raiz exata!\n",
    "    if f(m) == 0 : return m   # Numca fazer essa comparação\n",
    "\n",
    "    # Senão, vamos por recorrência\n",
    "    if f(m)*f(a) < 0: return bissecao(f,a,m,prec)\n",
    "    else: return bissecao(f,m,b,prec)"
   ]
  },
  {
   "cell_type": "code",
   "execution_count": null,
   "metadata": {},
   "outputs": [],
   "source": [
    "help(bissecao)"
   ]
  },
  {
   "cell_type": "code",
   "execution_count": null,
   "metadata": {},
   "outputs": [],
   "source": [
    "bissecao(f,0.0, 0.5,0.0000001)"
   ]
  },
  {
   "cell_type": "code",
   "execution_count": null,
   "metadata": {},
   "outputs": [],
   "source": [
    "bissecao(f,2.0, 3.0,0.0000001)"
   ]
  },
  {
   "cell_type": "code",
   "execution_count": null,
   "metadata": {},
   "outputs": [],
   "source": [
    "f(_) # aqui _ significa o resultado da última saída"
   ]
  },
  {
   "cell_type": "code",
   "execution_count": null,
   "metadata": {},
   "outputs": [],
   "source": [
    "x0 = -10\n",
    "xf = 10\n",
    "dx = 0.5\n",
    "x = x0\n",
    "while x <= xf :\n",
    "    fa = f(x)\n",
    "    fb = f(x+dx)\n",
    "    if fa * fb < 0:\n",
    "        print(\"Há uma raiz no intervalo\",x, x+dx)\n",
    "        raiz = bissecao(f,x,x+dx,1.0e-6)\n",
    "        print(\"A raiz é: \", raiz)\n",
    "    x = x+dx"
   ]
  },
  {
   "cell_type": "markdown",
   "metadata": {},
   "source": [
    "## Teste\n",
    "\n",
    "Uma das tarefas mais importantes ao se escrever um programa é ter certeza de que ele funciona corretamente.\n",
    "Pode-se fazer isso de duas formas bastante complementares:\n",
    "\n",
    "- Testando uma quantidade de casos interessantes e conhecidos.\n",
    "- Provando (formalmente) que certas partes sempre irão dar o resultado correto.\n",
    "\n",
    "A primeira maneira é mais simples, e já é capaz de nos dar uma certa confiança na qualidade do nosso programa.\n",
    "A segunda requer uma formalização maior do problema original e da nossa linguagem de programação.\n",
    "Vamos tentar desenvolver as duas em paralelo.\n",
    "\n",
    "Um exemplo de teste: o cosseno tem uma raiz, $\\pi/2$, no intervalo [0,3]."
   ]
  },
  {
   "cell_type": "code",
   "execution_count": null,
   "metadata": {},
   "outputs": [],
   "source": [
    "from math import cos\n",
    "bissecao(cos,0,3, 1e-6)"
   ]
  },
  {
   "cell_type": "code",
   "execution_count": null,
   "metadata": {},
   "outputs": [],
   "source": [
    "from math import pi\n",
    "pi/2 - _"
   ]
  },
  {
   "cell_type": "markdown",
   "metadata": {},
   "source": [
    "Nossa função `bissecao` é muito poderosa: ela aplica o método da bisseção a qualquer função que você possa programar em Python!\n",
    "Por exemplo:"
   ]
  },
  {
   "cell_type": "code",
   "execution_count": null,
   "metadata": {},
   "outputs": [],
   "source": [
    "def Quad2(x):\n",
    "    return 2**x - x**2"
   ]
  },
  {
   "cell_type": "markdown",
   "metadata": {},
   "source": [
    "Vamos definir uma função que faz o gráfico da função passada no intervalo desejado."
   ]
  },
  {
   "cell_type": "code",
   "execution_count": null,
   "metadata": {},
   "outputs": [],
   "source": [
    "grafico(Quad2,-2,3,0.01)"
   ]
  },
  {
   "cell_type": "code",
   "execution_count": null,
   "metadata": {},
   "outputs": [],
   "source": [
    "bissecao(Quad2, -1, 0, 1e-6)"
   ]
  },
  {
   "cell_type": "code",
   "execution_count": null,
   "metadata": {},
   "outputs": [],
   "source": [
    "bissecao(Quad2, 1.5, 2.5, 1e-6)"
   ]
  },
  {
   "cell_type": "code",
   "execution_count": null,
   "metadata": {},
   "outputs": [],
   "source": [
    "def f1(x):\n",
    "    return  x*np.log(x*x+1) -1\n",
    "\n",
    "grafico(f1,-1,3,0.01)"
   ]
  },
  {
   "cell_type": "markdown",
   "metadata": {},
   "source": [
    "# Uma digressão sobre nomenclatura\n",
    "\n",
    "Vamos, ao longo do curso, tratar de funções de dois tipos:\n",
    "- As funções matemáticas, como seno, exponencial, polinômios, etc.\n",
    "- As funções do seu programa em Python.\n",
    "\n",
    "O simples fato de os nomes serem os mesmos já pode levar a confusão.\n",
    "Mas, principalmente, a maior parte das funções-programas que nós veremos durante o curso irão trabalhar com funções-contas.\n",
    "Assim, à imagem do método da bisseção, teremos muitas vezes funções da forma\n",
    "\n",
    "``` def metodoX(f, a, b, c, ...):\n",
    "    contas...\n",
    "    contas...\n",
    "    return\n",
    "```\n",
    "\n",
    "que irá aplicar o método X à função `f`, uma função-programa que _calcula_ a função matemática muitas vezes também chamada $f$.\n",
    "\n",
    "Para tentar diminuir a ambigüidade, sempre que necessário iremos usar uma palavra computacional, tal como\n",
    "\n",
    "- procedimento, método, rotina, algoritmo\n",
    "\n",
    "para indicar que se trata de um programa em Python, e iremos reservar a palavra função (às vezes incrementada do adjetivo \"matemática\") para as funções abstratas da Matemática."
   ]
  },
  {
   "cell_type": "markdown",
   "metadata": {},
   "source": [
    "Antes de continuar testando, vamos tentar provar que o nosso programa está certo.\n",
    "\n",
    "- A hipótese básica sobre a aritmética do computador é que ele sempre retorna \"o número representável mais próximo do valor real da conta\". Ou seja, se tivermos números $a$ e $b$ e pedirmos para o computador calcular `c = a+b`, ele retornará o número que \"ele conhece\" que está mais próximo de $a+b$.\n",
    "- No caso de \"empate\", ou seja, haver dois números `x` e `y = next_real(x)` que são equidistantes do resultado $a+b$, o computador pode retornar `x` ou `y`.\n",
    "\n",
    "Apenas com isso, não podemos ainda garantir que o nosso programa está correto. Quais outras hipóteses você precisa adicionar para garantir o bom funcionamento do seu algoritmo?"
   ]
  },
  {
   "cell_type": "code",
   "execution_count": null,
   "metadata": {},
   "outputs": [],
   "source": []
  }
 ],
 "metadata": {
  "kernelspec": {
   "display_name": "Python 3",
   "language": "python",
   "name": "python3"
  },
  "language_info": {
   "codemirror_mode": {
    "name": "ipython",
    "version": 3
   },
   "file_extension": ".py",
   "mimetype": "text/x-python",
   "name": "python",
   "nbconvert_exporter": "python",
   "pygments_lexer": "ipython3",
   "version": "3.6.8"
  },
  "latex_envs": {
   "LaTeX_envs_menu_present": true,
   "autoclose": false,
   "autocomplete": true,
   "bibliofile": "biblio.bib",
   "cite_by": "apalike",
   "current_citInitial": 1,
   "eqLabelWithNumbers": true,
   "eqNumInitial": 1,
   "hotkeys": {
    "equation": "Ctrl-E",
    "itemize": "Ctrl-I"
   },
   "labels_anchors": false,
   "latex_user_defs": false,
   "report_style_numbering": false,
   "user_envs_cfg": false
  },
  "nbTranslate": {
   "displayLangs": [
    "pt",
    "en"
   ],
   "hotkey": "alt-t",
   "langInMainMenu": true,
   "sourceLang": "en",
   "targetLang": "pt",
   "useGoogleTranslate": true
  },
  "toc": {
   "base_numbering": 1,
   "nav_menu": {},
   "number_sections": true,
   "sideBar": true,
   "skip_h1_title": false,
   "title_cell": "Table of Contents",
   "title_sidebar": "Contents",
   "toc_cell": false,
   "toc_position": {},
   "toc_section_display": "block",
   "toc_window_display": false
  },
  "varInspector": {
   "cols": {
    "lenName": 16,
    "lenType": 16,
    "lenVar": 40
   },
   "kernels_config": {
    "python": {
     "delete_cmd_postfix": "",
     "delete_cmd_prefix": "del ",
     "library": "var_list.py",
     "varRefreshCmd": "print(var_dic_list())"
    },
    "r": {
     "delete_cmd_postfix": ") ",
     "delete_cmd_prefix": "rm(",
     "library": "var_list.r",
     "varRefreshCmd": "cat(var_dic_list()) "
    }
   },
   "types_to_exclude": [
    "module",
    "function",
    "builtin_function_or_method",
    "instance",
    "_Feature"
   ],
   "window_display": false
  }
 },
 "nbformat": 4,
 "nbformat_minor": 1
}
